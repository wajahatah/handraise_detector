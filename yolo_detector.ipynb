{
 "cells": [
  {
   "cell_type": "code",
   "execution_count": 1,
   "metadata": {},
   "outputs": [
    {
     "name": "stdout",
     "output_type": "stream",
     "text": [
      "Train and validation split completed.\n",
      "Train images saved in: C:/Users/LAMBDA THETA/Downloads/train/train/final\\train/images\n",
      "Validation images saved in: C:/Users/LAMBDA THETA/Downloads/train/train/final\\val/images\n",
      "Train annotations saved in: C:/Users/LAMBDA THETA/Downloads/train/train/final\\train/labels\n",
      "Validation annotations saved in: C:/Users/LAMBDA THETA/Downloads/train/train/final\\val/labels\n"
     ]
    }
   ],
   "source": [
    "import os\n",
    "import shutil\n",
    "import random\n",
    "\n",
    "# Directories\n",
    "frames_dir = \"C:/Users/LAMBDA THETA/Downloads/train/train/ann_images\"  # Path to the folder containing frames\n",
    "annotations_dir = \"C:/Users/LAMBDA THETA/Downloads/train/train/labels\"  # Path to the folder containing annotation files\n",
    "output_dir = \"C:/Users/LAMBDA THETA/Downloads/train/train/final\"  # Path to save train/val splits\n",
    "\n",
    "# Ensure reproducibility\n",
    "random.seed(42)\n",
    "\n",
    "# Create train and validation directories\n",
    "train_frames_dir = os.path.join(output_dir, \"train/images\")\n",
    "val_frames_dir = os.path.join(output_dir, \"val/images\")\n",
    "train_annotations_dir = os.path.join(output_dir, \"train/labels\")\n",
    "val_annotations_dir = os.path.join(output_dir, \"val/labels\")\n",
    "\n",
    "os.makedirs(train_frames_dir, exist_ok=True)\n",
    "os.makedirs(val_frames_dir, exist_ok=True)\n",
    "os.makedirs(train_annotations_dir, exist_ok=True)\n",
    "os.makedirs(val_annotations_dir, exist_ok=True)\n",
    "\n",
    "# Get all frame and annotation filenames\n",
    "frame_files = sorted([f for f in os.listdir(frames_dir) if f.lower().endswith(('.jpg', '.png', '.jpeg'))])\n",
    "annotation_files = sorted([f for f in os.listdir(annotations_dir) if f.lower().endswith('.txt')])\n",
    "\n",
    "# Ensure matching files\n",
    "assert len(frame_files) == len(annotation_files), \"Mismatch between frames and annotation files.\"\n",
    "assert all(os.path.splitext(f)[0] == os.path.splitext(a)[0] for f, a in zip(frame_files, annotation_files)), \\\n",
    "    \"Frame and annotation file names do not match.\"\n",
    "\n",
    "# Shuffle and split into train and validation sets\n",
    "data = list(zip(frame_files, annotation_files))\n",
    "random.shuffle(data)\n",
    "split_idx = int(0.8 * len(data))\n",
    "train_data = data[:split_idx]\n",
    "val_data = data[split_idx:]\n",
    "\n",
    "# Copy files to train and validation directories\n",
    "for frame_file, annotation_file in train_data:\n",
    "    shutil.copy(os.path.join(frames_dir, frame_file), os.path.join(train_frames_dir, frame_file))\n",
    "    shutil.copy(os.path.join(annotations_dir, annotation_file), os.path.join(train_annotations_dir, annotation_file))\n",
    "\n",
    "for frame_file, annotation_file in val_data:\n",
    "    shutil.copy(os.path.join(frames_dir, frame_file), os.path.join(val_frames_dir, frame_file))\n",
    "    shutil.copy(os.path.join(annotations_dir, annotation_file), os.path.join(val_annotations_dir, annotation_file))\n",
    "\n",
    "print(f\"Train and validation split completed.\")\n",
    "print(f\"Train images saved in: {train_frames_dir}\")\n",
    "print(f\"Validation images saved in: {val_frames_dir}\")\n",
    "print(f\"Train annotations saved in: {train_annotations_dir}\")\n",
    "print(f\"Validation annotations saved in: {val_annotations_dir}\")\n"
   ]
  },
  {
   "cell_type": "code",
   "execution_count": 12,
   "metadata": {},
   "outputs": [
    {
     "name": "stdout",
     "output_type": "stream",
     "text": [
      "\n",
      "0: 384x640 2 persons, 15.0ms\n",
      "Speed: 1.0ms preprocess, 15.0ms inference, 1.0ms postprocess per image at shape (1, 3, 384, 640)\n",
      "\n",
      "0: 96x128 (no detections), 10.0ms\n",
      "Speed: 0.0ms preprocess, 10.0ms inference, 0.0ms postprocess per image at shape (1, 3, 96, 128)\n",
      "predictions: [ultralytics.engine.results.Results object with attributes:\n",
      "\n",
      "boxes: ultralytics.engine.results.Boxes object\n",
      "keypoints: None\n",
      "masks: None\n",
      "names: {0: 'Hand_Raised'}\n",
      "obb: None\n",
      "orig_img: array([[[  0, 255,   0],\n",
      "        [  0, 255,   0],\n",
      "        [  0, 255,   0],\n",
      "        ...,\n",
      "        [  5,   0,   1],\n",
      "        [  3,   0,   1],\n",
      "        [  2,   0,   0]],\n",
      "\n",
      "       [[  0, 255,   0],\n",
      "        [  0, 255,   0],\n",
      "        [  0, 255,   0],\n",
      "        ...,\n",
      "        [224, 219, 220],\n",
      "        [232, 229, 230],\n",
      "        [236, 233, 234]],\n",
      "\n",
      "       [[  0, 255,   0],\n",
      "        [  0, 255,   0],\n",
      "        [  0, 255,   0],\n",
      "        ...,\n",
      "        [238, 233, 234],\n",
      "        [250, 247, 248],\n",
      "        [254, 251, 252]],\n",
      "\n",
      "       ...,\n",
      "\n",
      "       [[128, 121, 106],\n",
      "        [128, 121, 106],\n",
      "        [127, 120, 105],\n",
      "        ...,\n",
      "        [104, 110, 105],\n",
      "        [107, 111, 106],\n",
      "        [107, 111, 106]],\n",
      "\n",
      "       [[121, 117, 113],\n",
      "        [120, 116, 112],\n",
      "        [120, 116, 112],\n",
      "        ...,\n",
      "        [ 99, 105, 100],\n",
      "        [102, 106, 101],\n",
      "        [102, 106, 101]],\n",
      "\n",
      "       [[118, 114, 110],\n",
      "        [118, 114, 110],\n",
      "        [118, 114, 110],\n",
      "        ...,\n",
      "        [104, 110, 105],\n",
      "        [107, 111, 106],\n",
      "        [108, 112, 107]]], dtype=uint8)\n",
      "orig_shape: (720, 1280)\n",
      "path: 'image0.jpg'\n",
      "probs: None\n",
      "save_dir: 'runs\\\\detect\\\\predict'\n",
      "speed: {'preprocess': 0.0, 'inference': 10.003328323364258, 'postprocess': 0.0}]\n",
      "\n",
      "0: 384x640 2 persons, 14.0ms\n",
      "Speed: 1.0ms preprocess, 14.0ms inference, 1.0ms postprocess per image at shape (1, 3, 384, 640)\n",
      "\n",
      "0: 96x128 (no detections), 8.1ms\n",
      "Speed: 1.0ms preprocess, 8.1ms inference, 0.0ms postprocess per image at shape (1, 3, 96, 128)\n",
      "predictions: [ultralytics.engine.results.Results object with attributes:\n",
      "\n",
      "boxes: ultralytics.engine.results.Boxes object\n",
      "keypoints: None\n",
      "masks: None\n",
      "names: {0: 'Hand_Raised'}\n",
      "obb: None\n",
      "orig_img: array([[[  0, 255,   0],\n",
      "        [  0, 255,   0],\n",
      "        [  0, 255,   0],\n",
      "        ...,\n",
      "        [  5,   0,   1],\n",
      "        [  3,   0,   1],\n",
      "        [  2,   0,   0]],\n",
      "\n",
      "       [[  0, 255,   0],\n",
      "        [  0, 255,   0],\n",
      "        [  0, 255,   0],\n",
      "        ...,\n",
      "        [224, 219, 220],\n",
      "        [232, 229, 230],\n",
      "        [236, 233, 234]],\n",
      "\n",
      "       [[  0, 255,   0],\n",
      "        [  0, 255,   0],\n",
      "        [  0, 255,   0],\n",
      "        ...,\n",
      "        [238, 233, 234],\n",
      "        [250, 247, 248],\n",
      "        [254, 251, 252]],\n",
      "\n",
      "       ...,\n",
      "\n",
      "       [[128, 121, 106],\n",
      "        [128, 121, 106],\n",
      "        [127, 120, 105],\n",
      "        ...,\n",
      "        [105, 111, 106],\n",
      "        [108, 112, 107],\n",
      "        [108, 112, 107]],\n",
      "\n",
      "       [[121, 117, 113],\n",
      "        [120, 116, 112],\n",
      "        [120, 116, 112],\n",
      "        ...,\n",
      "        [100, 106, 101],\n",
      "        [104, 108, 103],\n",
      "        [104, 108, 103]],\n",
      "\n",
      "       [[118, 114, 110],\n",
      "        [118, 114, 110],\n",
      "        [118, 114, 110],\n",
      "        ...,\n",
      "        [105, 111, 106],\n",
      "        [108, 112, 107],\n",
      "        [109, 113, 108]]], dtype=uint8)\n",
      "orig_shape: (720, 1280)\n",
      "path: 'image0.jpg'\n",
      "probs: None\n",
      "save_dir: 'runs\\\\detect\\\\predict'\n",
      "speed: {'preprocess': 0.9996891021728516, 'inference': 8.106470108032227, 'postprocess': 0.0}]\n",
      "\n",
      "0: 384x640 2 persons, 15.0ms\n",
      "Speed: 0.0ms preprocess, 15.0ms inference, 1.0ms postprocess per image at shape (1, 3, 384, 640)\n",
      "\n",
      "0: 96x128 (no detections), 7.0ms\n",
      "Speed: 1.0ms preprocess, 7.0ms inference, 0.0ms postprocess per image at shape (1, 3, 96, 128)\n",
      "predictions: [ultralytics.engine.results.Results object with attributes:\n",
      "\n",
      "boxes: ultralytics.engine.results.Boxes object\n",
      "keypoints: None\n",
      "masks: None\n",
      "names: {0: 'Hand_Raised'}\n",
      "obb: None\n",
      "orig_img: array([[[  0, 255,   0],\n",
      "        [  0, 255,   0],\n",
      "        [  0, 255,   0],\n",
      "        ...,\n",
      "        [  5,   0,   1],\n",
      "        [  3,   0,   1],\n",
      "        [  2,   0,   0]],\n",
      "\n",
      "       [[  0, 255,   0],\n",
      "        [  0, 255,   0],\n",
      "        [  0, 255,   0],\n",
      "        ...,\n",
      "        [224, 219, 220],\n",
      "        [232, 229, 230],\n",
      "        [236, 233, 234]],\n",
      "\n",
      "       [[  0, 255,   0],\n",
      "        [  0, 255,   0],\n",
      "        [  0, 255,   0],\n",
      "        ...,\n",
      "        [238, 233, 234],\n",
      "        [250, 247, 248],\n",
      "        [254, 251, 252]],\n",
      "\n",
      "       ...,\n",
      "\n",
      "       [[128, 122, 105],\n",
      "        [128, 122, 105],\n",
      "        [127, 121, 104],\n",
      "        ...,\n",
      "        [103, 112, 106],\n",
      "        [106, 112, 107],\n",
      "        [106, 112, 107]],\n",
      "\n",
      "       [[123, 120, 114],\n",
      "        [122, 119, 113],\n",
      "        [122, 119, 113],\n",
      "        ...,\n",
      "        [100, 109, 103],\n",
      "        [103, 109, 104],\n",
      "        [103, 109, 104]],\n",
      "\n",
      "       [[118, 115, 109],\n",
      "        [118, 115, 109],\n",
      "        [118, 115, 109],\n",
      "        ...,\n",
      "        [103, 112, 106],\n",
      "        [106, 112, 107],\n",
      "        [107, 113, 108]]], dtype=uint8)\n",
      "orig_shape: (720, 1280)\n",
      "path: 'image0.jpg'\n",
      "probs: None\n",
      "save_dir: 'runs\\\\detect\\\\predict'\n",
      "speed: {'preprocess': 1.0004043579101562, 'inference': 6.999969482421875, 'postprocess': 0.0}]\n",
      "\n",
      "0: 384x640 2 persons, 16.0ms\n",
      "Speed: 0.0ms preprocess, 16.0ms inference, 1.0ms postprocess per image at shape (1, 3, 384, 640)\n",
      "\n",
      "0: 96x128 (no detections), 8.0ms\n",
      "Speed: 1.0ms preprocess, 8.0ms inference, 0.0ms postprocess per image at shape (1, 3, 96, 128)\n",
      "predictions: [ultralytics.engine.results.Results object with attributes:\n",
      "\n",
      "boxes: ultralytics.engine.results.Boxes object\n",
      "keypoints: None\n",
      "masks: None\n",
      "names: {0: 'Hand_Raised'}\n",
      "obb: None\n",
      "orig_img: array([[[  0, 255,   0],\n",
      "        [  0, 255,   0],\n",
      "        [  0, 255,   0],\n",
      "        ...,\n",
      "        [  5,   0,   1],\n",
      "        [  3,   0,   1],\n",
      "        [  2,   0,   0]],\n",
      "\n",
      "       [[  0, 255,   0],\n",
      "        [  0, 255,   0],\n",
      "        [  0, 255,   0],\n",
      "        ...,\n",
      "        [224, 219, 220],\n",
      "        [232, 229, 230],\n",
      "        [236, 233, 234]],\n",
      "\n",
      "       [[  0, 255,   0],\n",
      "        [  0, 255,   0],\n",
      "        [  0, 255,   0],\n",
      "        ...,\n",
      "        [238, 233, 234],\n",
      "        [250, 247, 248],\n",
      "        [254, 251, 252]],\n",
      "\n",
      "       ...,\n",
      "\n",
      "       [[128, 122, 105],\n",
      "        [128, 122, 105],\n",
      "        [127, 121, 104],\n",
      "        ...,\n",
      "        [105, 111, 106],\n",
      "        [108, 112, 107],\n",
      "        [108, 112, 107]],\n",
      "\n",
      "       [[123, 120, 114],\n",
      "        [122, 119, 113],\n",
      "        [122, 119, 113],\n",
      "        ...,\n",
      "        [102, 108, 103],\n",
      "        [105, 109, 104],\n",
      "        [105, 109, 104]],\n",
      "\n",
      "       [[118, 115, 109],\n",
      "        [118, 115, 109],\n",
      "        [118, 115, 109],\n",
      "        ...,\n",
      "        [105, 111, 106],\n",
      "        [108, 112, 107],\n",
      "        [109, 113, 108]]], dtype=uint8)\n",
      "orig_shape: (720, 1280)\n",
      "path: 'image0.jpg'\n",
      "probs: None\n",
      "save_dir: 'runs\\\\detect\\\\predict'\n",
      "speed: {'preprocess': 1.0056495666503906, 'inference': 7.993221282958984, 'postprocess': 0.0}]\n",
      "\n",
      "0: 384x640 2 persons, 14.0ms\n",
      "Speed: 0.0ms preprocess, 14.0ms inference, 1.0ms postprocess per image at shape (1, 3, 384, 640)\n",
      "\n",
      "0: 96x128 (no detections), 8.1ms\n",
      "Speed: 0.0ms preprocess, 8.1ms inference, 0.0ms postprocess per image at shape (1, 3, 96, 128)\n",
      "predictions: [ultralytics.engine.results.Results object with attributes:\n",
      "\n",
      "boxes: ultralytics.engine.results.Boxes object\n",
      "keypoints: None\n",
      "masks: None\n",
      "names: {0: 'Hand_Raised'}\n",
      "obb: None\n",
      "orig_img: array([[[  0, 255,   0],\n",
      "        [  0, 255,   0],\n",
      "        [  0, 255,   0],\n",
      "        ...,\n",
      "        [  5,   0,   1],\n",
      "        [  3,   0,   1],\n",
      "        [  2,   0,   0]],\n",
      "\n",
      "       [[  0, 255,   0],\n",
      "        [  0, 255,   0],\n",
      "        [  0, 255,   0],\n",
      "        ...,\n",
      "        [224, 219, 220],\n",
      "        [232, 229, 230],\n",
      "        [236, 233, 234]],\n",
      "\n",
      "       [[  0, 255,   0],\n",
      "        [  0, 255,   0],\n",
      "        [  0, 255,   0],\n",
      "        ...,\n",
      "        [238, 233, 234],\n",
      "        [250, 247, 248],\n",
      "        [254, 251, 252]],\n",
      "\n",
      "       ...,\n",
      "\n",
      "       [[128, 122, 105],\n",
      "        [128, 122, 105],\n",
      "        [127, 121, 104],\n",
      "        ...,\n",
      "        [105, 111, 106],\n",
      "        [108, 112, 107],\n",
      "        [108, 112, 107]],\n",
      "\n",
      "       [[123, 120, 114],\n",
      "        [122, 119, 113],\n",
      "        [122, 119, 113],\n",
      "        ...,\n",
      "        [102, 108, 103],\n",
      "        [105, 109, 104],\n",
      "        [105, 109, 104]],\n",
      "\n",
      "       [[118, 115, 109],\n",
      "        [118, 115, 109],\n",
      "        [118, 115, 109],\n",
      "        ...,\n",
      "        [105, 111, 106],\n",
      "        [108, 112, 107],\n",
      "        [109, 113, 108]]], dtype=uint8)\n",
      "orig_shape: (720, 1280)\n",
      "path: 'image0.jpg'\n",
      "probs: None\n",
      "save_dir: 'runs\\\\detect\\\\predict'\n",
      "speed: {'preprocess': 0.0, 'inference': 8.113622665405273, 'postprocess': 0.0}]\n",
      "\n",
      "0: 384x640 2 persons, 14.7ms\n",
      "Speed: 0.0ms preprocess, 14.7ms inference, 1.1ms postprocess per image at shape (1, 3, 384, 640)\n",
      "\n",
      "0: 96x128 (no detections), 7.1ms\n",
      "Speed: 0.9ms preprocess, 7.1ms inference, 0.0ms postprocess per image at shape (1, 3, 96, 128)\n",
      "predictions: [ultralytics.engine.results.Results object with attributes:\n",
      "\n",
      "boxes: ultralytics.engine.results.Boxes object\n",
      "keypoints: None\n",
      "masks: None\n",
      "names: {0: 'Hand_Raised'}\n",
      "obb: None\n",
      "orig_img: array([[[  0, 255,   0],\n",
      "        [  0, 255,   0],\n",
      "        [  0, 255,   0],\n",
      "        ...,\n",
      "        [  5,   0,   1],\n",
      "        [  3,   0,   1],\n",
      "        [  2,   0,   0]],\n",
      "\n",
      "       [[  0, 255,   0],\n",
      "        [  0, 255,   0],\n",
      "        [  0, 255,   0],\n",
      "        ...,\n",
      "        [224, 219, 220],\n",
      "        [232, 229, 230],\n",
      "        [236, 233, 234]],\n",
      "\n",
      "       [[  0, 255,   0],\n",
      "        [  0, 255,   0],\n",
      "        [  0, 255,   0],\n",
      "        ...,\n",
      "        [238, 233, 234],\n",
      "        [250, 247, 248],\n",
      "        [254, 251, 252]],\n",
      "\n",
      "       ...,\n",
      "\n",
      "       [[126, 123, 103],\n",
      "        [126, 123, 103],\n",
      "        [126, 123, 103],\n",
      "        ...,\n",
      "        [105, 111, 106],\n",
      "        [108, 112, 107],\n",
      "        [108, 112, 107]],\n",
      "\n",
      "       [[121, 121, 112],\n",
      "        [121, 121, 112],\n",
      "        [120, 120, 111],\n",
      "        ...,\n",
      "        [102, 108, 103],\n",
      "        [105, 109, 104],\n",
      "        [105, 109, 104]],\n",
      "\n",
      "       [[116, 116, 107],\n",
      "        [116, 116, 107],\n",
      "        [116, 116, 107],\n",
      "        ...,\n",
      "        [105, 111, 106],\n",
      "        [108, 112, 107],\n",
      "        [109, 113, 108]]], dtype=uint8)\n",
      "orig_shape: (720, 1280)\n",
      "path: 'image0.jpg'\n",
      "probs: None\n",
      "save_dir: 'runs\\\\detect\\\\predict'\n",
      "speed: {'preprocess': 0.9467601776123047, 'inference': 7.071495056152344, 'postprocess': 0.0}]\n",
      "\n",
      "0: 384x640 2 persons, 19.0ms\n",
      "Speed: 1.0ms preprocess, 19.0ms inference, 2.0ms postprocess per image at shape (1, 3, 384, 640)\n",
      "\n",
      "0: 96x128 (no detections), 8.1ms\n",
      "Speed: 0.0ms preprocess, 8.1ms inference, 0.0ms postprocess per image at shape (1, 3, 96, 128)\n",
      "predictions: [ultralytics.engine.results.Results object with attributes:\n",
      "\n",
      "boxes: ultralytics.engine.results.Boxes object\n",
      "keypoints: None\n",
      "masks: None\n",
      "names: {0: 'Hand_Raised'}\n",
      "obb: None\n",
      "orig_img: array([[[  0, 255,   0],\n",
      "        [  0, 255,   0],\n",
      "        [  0, 255,   0],\n",
      "        ...,\n",
      "        [  5,   0,   1],\n",
      "        [  3,   0,   1],\n",
      "        [  2,   0,   0]],\n",
      "\n",
      "       [[  0, 255,   0],\n",
      "        [  0, 255,   0],\n",
      "        [  0, 255,   0],\n",
      "        ...,\n",
      "        [224, 219, 220],\n",
      "        [232, 229, 230],\n",
      "        [236, 233, 234]],\n",
      "\n",
      "       [[  0, 255,   0],\n",
      "        [  0, 255,   0],\n",
      "        [  0, 255,   0],\n",
      "        ...,\n",
      "        [238, 233, 234],\n",
      "        [250, 247, 248],\n",
      "        [254, 251, 252]],\n",
      "\n",
      "       ...,\n",
      "\n",
      "       [[126, 123, 103],\n",
      "        [126, 123, 103],\n",
      "        [126, 123, 103],\n",
      "        ...,\n",
      "        [105, 111, 106],\n",
      "        [108, 112, 107],\n",
      "        [108, 112, 107]],\n",
      "\n",
      "       [[121, 121, 112],\n",
      "        [121, 121, 112],\n",
      "        [120, 120, 111],\n",
      "        ...,\n",
      "        [102, 108, 103],\n",
      "        [105, 109, 104],\n",
      "        [105, 109, 104]],\n",
      "\n",
      "       [[116, 116, 107],\n",
      "        [116, 116, 107],\n",
      "        [116, 116, 107],\n",
      "        ...,\n",
      "        [105, 111, 106],\n",
      "        [108, 112, 107],\n",
      "        [109, 113, 108]]], dtype=uint8)\n",
      "orig_shape: (720, 1280)\n",
      "path: 'image0.jpg'\n",
      "probs: None\n",
      "save_dir: 'runs\\\\detect\\\\predict'\n",
      "speed: {'preprocess': 0.0, 'inference': 8.06736946105957, 'postprocess': 0.0}]\n",
      "\n",
      "0: 384x640 2 persons, 20.0ms\n",
      "Speed: 1.0ms preprocess, 20.0ms inference, 1.0ms postprocess per image at shape (1, 3, 384, 640)\n",
      "\n",
      "0: 96x128 (no detections), 7.0ms\n",
      "Speed: 1.0ms preprocess, 7.0ms inference, 0.0ms postprocess per image at shape (1, 3, 96, 128)\n",
      "predictions: [ultralytics.engine.results.Results object with attributes:\n",
      "\n",
      "boxes: ultralytics.engine.results.Boxes object\n",
      "keypoints: None\n",
      "masks: None\n",
      "names: {0: 'Hand_Raised'}\n",
      "obb: None\n",
      "orig_img: array([[[  0, 255,   0],\n",
      "        [  0, 255,   0],\n",
      "        [  0, 255,   0],\n",
      "        ...,\n",
      "        [  5,   0,   1],\n",
      "        [  3,   0,   1],\n",
      "        [  2,   0,   0]],\n",
      "\n",
      "       [[  0, 255,   0],\n",
      "        [  0, 255,   0],\n",
      "        [  0, 255,   0],\n",
      "        ...,\n",
      "        [224, 219, 220],\n",
      "        [232, 229, 230],\n",
      "        [236, 233, 234]],\n",
      "\n",
      "       [[  0, 255,   0],\n",
      "        [  0, 255,   0],\n",
      "        [  0, 255,   0],\n",
      "        ...,\n",
      "        [238, 233, 234],\n",
      "        [250, 247, 248],\n",
      "        [254, 251, 252]],\n",
      "\n",
      "       ...,\n",
      "\n",
      "       [[126, 123, 103],\n",
      "        [126, 123, 103],\n",
      "        [126, 123, 103],\n",
      "        ...,\n",
      "        [105, 111, 106],\n",
      "        [108, 112, 107],\n",
      "        [108, 112, 107]],\n",
      "\n",
      "       [[121, 121, 112],\n",
      "        [121, 121, 112],\n",
      "        [120, 120, 111],\n",
      "        ...,\n",
      "        [102, 108, 103],\n",
      "        [105, 109, 104],\n",
      "        [105, 109, 104]],\n",
      "\n",
      "       [[116, 116, 107],\n",
      "        [116, 116, 107],\n",
      "        [116, 116, 107],\n",
      "        ...,\n",
      "        [105, 111, 106],\n",
      "        [108, 112, 107],\n",
      "        [109, 113, 108]]], dtype=uint8)\n",
      "orig_shape: (720, 1280)\n",
      "path: 'image0.jpg'\n",
      "probs: None\n",
      "save_dir: 'runs\\\\detect\\\\predict'\n",
      "speed: {'preprocess': 1.0001659393310547, 'inference': 6.999731063842773, 'postprocess': 0.0}]\n",
      "\n",
      "0: 384x640 2 persons, 20.0ms\n",
      "Speed: 1.0ms preprocess, 20.0ms inference, 1.0ms postprocess per image at shape (1, 3, 384, 640)\n",
      "\n",
      "0: 96x128 (no detections), 7.0ms\n",
      "Speed: 1.0ms preprocess, 7.0ms inference, 1.0ms postprocess per image at shape (1, 3, 96, 128)\n",
      "predictions: [ultralytics.engine.results.Results object with attributes:\n",
      "\n",
      "boxes: ultralytics.engine.results.Boxes object\n",
      "keypoints: None\n",
      "masks: None\n",
      "names: {0: 'Hand_Raised'}\n",
      "obb: None\n",
      "orig_img: array([[[  0, 255,   0],\n",
      "        [  0, 255,   0],\n",
      "        [  0, 255,   0],\n",
      "        ...,\n",
      "        [  5,   0,   1],\n",
      "        [  3,   0,   1],\n",
      "        [  2,   0,   0]],\n",
      "\n",
      "       [[  0, 255,   0],\n",
      "        [  0, 255,   0],\n",
      "        [  0, 255,   0],\n",
      "        ...,\n",
      "        [224, 219, 220],\n",
      "        [232, 229, 230],\n",
      "        [236, 233, 234]],\n",
      "\n",
      "       [[  0, 255,   0],\n",
      "        [  0, 255,   0],\n",
      "        [  0, 255,   0],\n",
      "        ...,\n",
      "        [238, 233, 234],\n",
      "        [250, 247, 248],\n",
      "        [254, 251, 252]],\n",
      "\n",
      "       ...,\n",
      "\n",
      "       [[126, 123, 103],\n",
      "        [126, 123, 103],\n",
      "        [126, 123, 103],\n",
      "        ...,\n",
      "        [105, 111, 106],\n",
      "        [108, 112, 107],\n",
      "        [108, 112, 107]],\n",
      "\n",
      "       [[121, 121, 112],\n",
      "        [121, 121, 112],\n",
      "        [120, 120, 111],\n",
      "        ...,\n",
      "        [102, 108, 103],\n",
      "        [105, 109, 104],\n",
      "        [105, 109, 104]],\n",
      "\n",
      "       [[116, 116, 107],\n",
      "        [116, 116, 107],\n",
      "        [116, 116, 107],\n",
      "        ...,\n",
      "        [105, 111, 106],\n",
      "        [108, 112, 107],\n",
      "        [109, 113, 108]]], dtype=uint8)\n",
      "orig_shape: (720, 1280)\n",
      "path: 'image0.jpg'\n",
      "probs: None\n",
      "save_dir: 'runs\\\\detect\\\\predict'\n",
      "speed: {'preprocess': 1.0190010070800781, 'inference': 7.01451301574707, 'postprocess': 1.0004043579101562}]\n",
      "\n",
      "0: 384x640 2 persons, 21.0ms\n",
      "Speed: 1.0ms preprocess, 21.0ms inference, 1.0ms postprocess per image at shape (1, 3, 384, 640)\n",
      "\n",
      "0: 96x128 (no detections), 7.0ms\n",
      "Speed: 1.0ms preprocess, 7.0ms inference, 0.0ms postprocess per image at shape (1, 3, 96, 128)\n",
      "predictions: [ultralytics.engine.results.Results object with attributes:\n",
      "\n",
      "boxes: ultralytics.engine.results.Boxes object\n",
      "keypoints: None\n",
      "masks: None\n",
      "names: {0: 'Hand_Raised'}\n",
      "obb: None\n",
      "orig_img: array([[[  0, 255,   0],\n",
      "        [  0, 255,   0],\n",
      "        [  0, 255,   0],\n",
      "        ...,\n",
      "        [  5,   0,   1],\n",
      "        [  3,   0,   1],\n",
      "        [  2,   0,   0]],\n",
      "\n",
      "       [[  0, 255,   0],\n",
      "        [  0, 255,   0],\n",
      "        [  0, 255,   0],\n",
      "        ...,\n",
      "        [224, 219, 220],\n",
      "        [232, 229, 230],\n",
      "        [236, 233, 234]],\n",
      "\n",
      "       [[  0, 255,   0],\n",
      "        [  0, 255,   0],\n",
      "        [  0, 255,   0],\n",
      "        ...,\n",
      "        [238, 233, 234],\n",
      "        [250, 247, 248],\n",
      "        [254, 251, 252]],\n",
      "\n",
      "       ...,\n",
      "\n",
      "       [[126, 123, 103],\n",
      "        [126, 123, 103],\n",
      "        [126, 123, 103],\n",
      "        ...,\n",
      "        [107, 111, 106],\n",
      "        [106, 112, 107],\n",
      "        [106, 112, 107]],\n",
      "\n",
      "       [[121, 121, 112],\n",
      "        [121, 121, 112],\n",
      "        [120, 120, 111],\n",
      "        ...,\n",
      "        [104, 108, 103],\n",
      "        [103, 109, 104],\n",
      "        [103, 109, 104]],\n",
      "\n",
      "       [[116, 116, 107],\n",
      "        [116, 116, 107],\n",
      "        [116, 116, 107],\n",
      "        ...,\n",
      "        [107, 111, 106],\n",
      "        [106, 112, 107],\n",
      "        [107, 113, 108]]], dtype=uint8)\n",
      "orig_shape: (720, 1280)\n",
      "path: 'image0.jpg'\n",
      "probs: None\n",
      "save_dir: 'runs\\\\detect\\\\predict'\n",
      "speed: {'preprocess': 0.9975433349609375, 'inference': 6.999492645263672, 'postprocess': 0.0}]\n",
      "\n",
      "0: 384x640 2 persons, 20.5ms\n",
      "Speed: 1.0ms preprocess, 20.5ms inference, 1.0ms postprocess per image at shape (1, 3, 384, 640)\n",
      "\n",
      "0: 96x128 (no detections), 7.0ms\n",
      "Speed: 0.0ms preprocess, 7.0ms inference, 0.0ms postprocess per image at shape (1, 3, 96, 128)\n",
      "predictions: [ultralytics.engine.results.Results object with attributes:\n",
      "\n",
      "boxes: ultralytics.engine.results.Boxes object\n",
      "keypoints: None\n",
      "masks: None\n",
      "names: {0: 'Hand_Raised'}\n",
      "obb: None\n",
      "orig_img: array([[[  0, 255,   0],\n",
      "        [  0, 255,   0],\n",
      "        [  0, 255,   0],\n",
      "        ...,\n",
      "        [  5,   0,   1],\n",
      "        [  3,   0,   1],\n",
      "        [  2,   0,   0]],\n",
      "\n",
      "       [[  0, 255,   0],\n",
      "        [  0, 255,   0],\n",
      "        [  0, 255,   0],\n",
      "        ...,\n",
      "        [224, 219, 220],\n",
      "        [232, 229, 230],\n",
      "        [236, 233, 234]],\n",
      "\n",
      "       [[  0, 255,   0],\n",
      "        [  0, 255,   0],\n",
      "        [  0, 255,   0],\n",
      "        ...,\n",
      "        [238, 233, 234],\n",
      "        [250, 247, 248],\n",
      "        [254, 251, 252]],\n",
      "\n",
      "       ...,\n",
      "\n",
      "       [[128, 123, 103],\n",
      "        [128, 123, 103],\n",
      "        [128, 123, 103],\n",
      "        ...,\n",
      "        [107, 111, 106],\n",
      "        [104, 113, 107],\n",
      "        [104, 113, 107]],\n",
      "\n",
      "       [[123, 122, 111],\n",
      "        [123, 122, 111],\n",
      "        [122, 121, 110],\n",
      "        ...,\n",
      "        [104, 108, 103],\n",
      "        [101, 110, 104],\n",
      "        [101, 110, 104]],\n",
      "\n",
      "       [[122, 121, 110],\n",
      "        [121, 120, 109],\n",
      "        [121, 120, 109],\n",
      "        ...,\n",
      "        [107, 111, 106],\n",
      "        [104, 113, 107],\n",
      "        [105, 114, 108]]], dtype=uint8)\n",
      "orig_shape: (720, 1280)\n",
      "path: 'image0.jpg'\n",
      "probs: None\n",
      "save_dir: 'runs\\\\detect\\\\predict'\n",
      "speed: {'preprocess': 0.0, 'inference': 6.999492645263672, 'postprocess': 0.0}]\n",
      "\n",
      "0: 384x640 2 persons, 21.0ms\n",
      "Speed: 1.0ms preprocess, 21.0ms inference, 1.0ms postprocess per image at shape (1, 3, 384, 640)\n",
      "\n",
      "0: 96x128 (no detections), 7.0ms\n",
      "Speed: 0.0ms preprocess, 7.0ms inference, 0.0ms postprocess per image at shape (1, 3, 96, 128)\n",
      "predictions: [ultralytics.engine.results.Results object with attributes:\n",
      "\n",
      "boxes: ultralytics.engine.results.Boxes object\n",
      "keypoints: None\n",
      "masks: None\n",
      "names: {0: 'Hand_Raised'}\n",
      "obb: None\n",
      "orig_img: array([[[  0, 255,   0],\n",
      "        [  0, 255,   0],\n",
      "        [  0, 255,   0],\n",
      "        ...,\n",
      "        [  5,   0,   1],\n",
      "        [  3,   0,   1],\n",
      "        [  2,   0,   0]],\n",
      "\n",
      "       [[  0, 255,   0],\n",
      "        [  0, 255,   0],\n",
      "        [  0, 255,   0],\n",
      "        ...,\n",
      "        [224, 219, 220],\n",
      "        [232, 229, 230],\n",
      "        [236, 233, 234]],\n",
      "\n",
      "       [[  0, 255,   0],\n",
      "        [  0, 255,   0],\n",
      "        [  0, 255,   0],\n",
      "        ...,\n",
      "        [238, 233, 234],\n",
      "        [250, 247, 248],\n",
      "        [254, 251, 252]],\n",
      "\n",
      "       ...,\n",
      "\n",
      "       [[128, 122, 105],\n",
      "        [128, 122, 105],\n",
      "        [128, 122, 105],\n",
      "        ...,\n",
      "        [107, 111, 106],\n",
      "        [104, 113, 107],\n",
      "        [104, 113, 107]],\n",
      "\n",
      "       [[123, 121, 112],\n",
      "        [123, 121, 112],\n",
      "        [122, 120, 111],\n",
      "        ...,\n",
      "        [104, 108, 103],\n",
      "        [101, 110, 104],\n",
      "        [101, 110, 104]],\n",
      "\n",
      "       [[122, 120, 111],\n",
      "        [121, 119, 110],\n",
      "        [121, 119, 110],\n",
      "        ...,\n",
      "        [107, 111, 106],\n",
      "        [104, 113, 107],\n",
      "        [105, 114, 108]]], dtype=uint8)\n",
      "orig_shape: (720, 1280)\n",
      "path: 'image0.jpg'\n",
      "probs: None\n",
      "save_dir: 'runs\\\\detect\\\\predict'\n",
      "speed: {'preprocess': 0.0, 'inference': 7.012128829956055, 'postprocess': 0.0}]\n",
      "\n",
      "0: 384x640 2 persons, 21.0ms\n",
      "Speed: 1.0ms preprocess, 21.0ms inference, 1.0ms postprocess per image at shape (1, 3, 384, 640)\n",
      "\n",
      "0: 96x128 (no detections), 11.1ms\n",
      "Speed: 0.0ms preprocess, 11.1ms inference, 0.0ms postprocess per image at shape (1, 3, 96, 128)\n",
      "predictions: [ultralytics.engine.results.Results object with attributes:\n",
      "\n",
      "boxes: ultralytics.engine.results.Boxes object\n",
      "keypoints: None\n",
      "masks: None\n",
      "names: {0: 'Hand_Raised'}\n",
      "obb: None\n",
      "orig_img: array([[[  0, 255,   0],\n",
      "        [  0, 255,   0],\n",
      "        [  0, 255,   0],\n",
      "        ...,\n",
      "        [  5,   0,   1],\n",
      "        [  3,   0,   1],\n",
      "        [  2,   0,   0]],\n",
      "\n",
      "       [[  0, 255,   0],\n",
      "        [  0, 255,   0],\n",
      "        [  0, 255,   0],\n",
      "        ...,\n",
      "        [224, 219, 220],\n",
      "        [232, 229, 230],\n",
      "        [236, 233, 234]],\n",
      "\n",
      "       [[  0, 255,   0],\n",
      "        [  0, 255,   0],\n",
      "        [  0, 255,   0],\n",
      "        ...,\n",
      "        [238, 233, 234],\n",
      "        [250, 247, 248],\n",
      "        [254, 251, 252]],\n",
      "\n",
      "       ...,\n",
      "\n",
      "       [[128, 122, 105],\n",
      "        [128, 122, 105],\n",
      "        [128, 122, 105],\n",
      "        ...,\n",
      "        [107, 111, 106],\n",
      "        [104, 113, 107],\n",
      "        [104, 113, 107]],\n",
      "\n",
      "       [[123, 120, 114],\n",
      "        [123, 120, 114],\n",
      "        [122, 119, 113],\n",
      "        ...,\n",
      "        [104, 108, 103],\n",
      "        [101, 110, 104],\n",
      "        [101, 110, 104]],\n",
      "\n",
      "       [[122, 119, 113],\n",
      "        [121, 118, 112],\n",
      "        [121, 118, 112],\n",
      "        ...,\n",
      "        [107, 111, 106],\n",
      "        [104, 113, 107],\n",
      "        [105, 114, 108]]], dtype=uint8)\n",
      "orig_shape: (720, 1280)\n",
      "path: 'image0.jpg'\n",
      "probs: None\n",
      "save_dir: 'runs\\\\detect\\\\predict'\n",
      "speed: {'preprocess': 0.0, 'inference': 11.070728302001953, 'postprocess': 0.0}]\n",
      "\n",
      "0: 384x640 2 persons, 20.8ms\n",
      "Speed: 1.1ms preprocess, 20.8ms inference, 1.0ms postprocess per image at shape (1, 3, 384, 640)\n",
      "\n",
      "0: 96x128 (no detections), 7.0ms\n",
      "Speed: 1.0ms preprocess, 7.0ms inference, 0.0ms postprocess per image at shape (1, 3, 96, 128)\n",
      "predictions: [ultralytics.engine.results.Results object with attributes:\n",
      "\n",
      "boxes: ultralytics.engine.results.Boxes object\n",
      "keypoints: None\n",
      "masks: None\n",
      "names: {0: 'Hand_Raised'}\n",
      "obb: None\n",
      "orig_img: array([[[  0, 255,   0],\n",
      "        [  0, 255,   0],\n",
      "        [  0, 255,   0],\n",
      "        ...,\n",
      "        [  3,   0,   1],\n",
      "        [  5,   0,   1],\n",
      "        [  4,   0,   0]],\n",
      "\n",
      "       [[  0, 255,   0],\n",
      "        [  0, 255,   0],\n",
      "        [  0, 255,   0],\n",
      "        ...,\n",
      "        [222, 219, 220],\n",
      "        [234, 229, 230],\n",
      "        [238, 233, 234]],\n",
      "\n",
      "       [[  0, 255,   0],\n",
      "        [  0, 255,   0],\n",
      "        [  0, 255,   0],\n",
      "        ...,\n",
      "        [236, 233, 234],\n",
      "        [252, 247, 248],\n",
      "        [255, 251, 252]],\n",
      "\n",
      "       ...,\n",
      "\n",
      "       [[128, 122, 105],\n",
      "        [128, 122, 105],\n",
      "        [128, 122, 105],\n",
      "        ...,\n",
      "        [107, 111, 106],\n",
      "        [104, 113, 107],\n",
      "        [104, 113, 107]],\n",
      "\n",
      "       [[123, 120, 114],\n",
      "        [123, 120, 114],\n",
      "        [122, 119, 113],\n",
      "        ...,\n",
      "        [104, 108, 103],\n",
      "        [101, 110, 104],\n",
      "        [101, 110, 104]],\n",
      "\n",
      "       [[122, 119, 113],\n",
      "        [121, 118, 112],\n",
      "        [121, 118, 112],\n",
      "        ...,\n",
      "        [107, 111, 106],\n",
      "        [104, 113, 107],\n",
      "        [105, 114, 108]]], dtype=uint8)\n",
      "orig_shape: (720, 1280)\n",
      "path: 'image0.jpg'\n",
      "probs: None\n",
      "save_dir: 'runs\\\\detect\\\\predict'\n",
      "speed: {'preprocess': 0.9891986846923828, 'inference': 7.000207901000977, 'postprocess': 0.0}]\n",
      "\n",
      "0: 384x640 2 persons, 20.0ms\n",
      "Speed: 1.0ms preprocess, 20.0ms inference, 1.0ms postprocess per image at shape (1, 3, 384, 640)\n",
      "\n",
      "0: 96x128 (no detections), 9.1ms\n",
      "Speed: 0.0ms preprocess, 9.1ms inference, 1.0ms postprocess per image at shape (1, 3, 96, 128)\n",
      "predictions: [ultralytics.engine.results.Results object with attributes:\n",
      "\n",
      "boxes: ultralytics.engine.results.Boxes object\n",
      "keypoints: None\n",
      "masks: None\n",
      "names: {0: 'Hand_Raised'}\n",
      "obb: None\n",
      "orig_img: array([[[  0, 255,   0],\n",
      "        [  0, 255,   0],\n",
      "        [  0, 255,   0],\n",
      "        ...,\n",
      "        [  3,   0,   1],\n",
      "        [  5,   0,   1],\n",
      "        [  4,   0,   0]],\n",
      "\n",
      "       [[  0, 255,   0],\n",
      "        [  0, 255,   0],\n",
      "        [  0, 255,   0],\n",
      "        ...,\n",
      "        [222, 219, 220],\n",
      "        [234, 229, 230],\n",
      "        [238, 233, 234]],\n",
      "\n",
      "       [[  0, 255,   0],\n",
      "        [  0, 255,   0],\n",
      "        [  0, 255,   0],\n",
      "        ...,\n",
      "        [236, 233, 234],\n",
      "        [252, 247, 248],\n",
      "        [255, 251, 252]],\n",
      "\n",
      "       ...,\n",
      "\n",
      "       [[128, 122, 105],\n",
      "        [128, 122, 105],\n",
      "        [128, 122, 105],\n",
      "        ...,\n",
      "        [106, 110, 105],\n",
      "        [103, 112, 106],\n",
      "        [103, 112, 106]],\n",
      "\n",
      "       [[123, 120, 114],\n",
      "        [123, 120, 114],\n",
      "        [122, 119, 113],\n",
      "        ...,\n",
      "        [104, 108, 103],\n",
      "        [101, 110, 104],\n",
      "        [101, 110, 104]],\n",
      "\n",
      "       [[122, 119, 113],\n",
      "        [121, 118, 112],\n",
      "        [121, 118, 112],\n",
      "        ...,\n",
      "        [106, 110, 105],\n",
      "        [103, 112, 106],\n",
      "        [104, 113, 107]]], dtype=uint8)\n",
      "orig_shape: (720, 1280)\n",
      "path: 'image0.jpg'\n",
      "probs: None\n",
      "save_dir: 'runs\\\\detect\\\\predict'\n",
      "speed: {'preprocess': 0.0, 'inference': 9.099483489990234, 'postprocess': 0.9891986846923828}]\n",
      "\n",
      "0: 384x640 2 persons, 22.0ms\n",
      "Speed: 1.0ms preprocess, 22.0ms inference, 1.0ms postprocess per image at shape (1, 3, 384, 640)\n",
      "\n",
      "0: 96x128 (no detections), 9.0ms\n",
      "Speed: 0.0ms preprocess, 9.0ms inference, 0.0ms postprocess per image at shape (1, 3, 96, 128)\n",
      "predictions: [ultralytics.engine.results.Results object with attributes:\n",
      "\n",
      "boxes: ultralytics.engine.results.Boxes object\n",
      "keypoints: None\n",
      "masks: None\n",
      "names: {0: 'Hand_Raised'}\n",
      "obb: None\n",
      "orig_img: array([[[  0, 255,   0],\n",
      "        [  0, 255,   0],\n",
      "        [  0, 255,   0],\n",
      "        ...,\n",
      "        [  3,   0,   1],\n",
      "        [  5,   0,   1],\n",
      "        [  4,   0,   0]],\n",
      "\n",
      "       [[  0, 255,   0],\n",
      "        [  0, 255,   0],\n",
      "        [  0, 255,   0],\n",
      "        ...,\n",
      "        [222, 219, 220],\n",
      "        [234, 229, 230],\n",
      "        [238, 233, 234]],\n",
      "\n",
      "       [[  0, 255,   0],\n",
      "        [  0, 255,   0],\n",
      "        [  0, 255,   0],\n",
      "        ...,\n",
      "        [236, 233, 234],\n",
      "        [252, 247, 248],\n",
      "        [255, 251, 252]],\n",
      "\n",
      "       ...,\n",
      "\n",
      "       [[128, 122, 105],\n",
      "        [128, 122, 105],\n",
      "        [128, 122, 105],\n",
      "        ...,\n",
      "        [106, 110, 105],\n",
      "        [103, 112, 106],\n",
      "        [103, 112, 106]],\n",
      "\n",
      "       [[123, 120, 114],\n",
      "        [123, 120, 114],\n",
      "        [122, 119, 113],\n",
      "        ...,\n",
      "        [104, 108, 103],\n",
      "        [101, 110, 104],\n",
      "        [101, 110, 104]],\n",
      "\n",
      "       [[122, 119, 113],\n",
      "        [121, 118, 112],\n",
      "        [121, 118, 112],\n",
      "        ...,\n",
      "        [106, 110, 105],\n",
      "        [103, 112, 106],\n",
      "        [104, 113, 107]]], dtype=uint8)\n",
      "orig_shape: (720, 1280)\n",
      "path: 'image0.jpg'\n",
      "probs: None\n",
      "save_dir: 'runs\\\\detect\\\\predict'\n",
      "speed: {'preprocess': 0.0, 'inference': 8.998394012451172, 'postprocess': 0.0}]\n",
      "\n",
      "0: 384x640 2 persons, 23.0ms\n",
      "Speed: 1.0ms preprocess, 23.0ms inference, 1.0ms postprocess per image at shape (1, 3, 384, 640)\n",
      "\n",
      "0: 96x128 (no detections), 8.1ms\n",
      "Speed: 0.0ms preprocess, 8.1ms inference, 0.0ms postprocess per image at shape (1, 3, 96, 128)\n",
      "predictions: [ultralytics.engine.results.Results object with attributes:\n",
      "\n",
      "boxes: ultralytics.engine.results.Boxes object\n",
      "keypoints: None\n",
      "masks: None\n",
      "names: {0: 'Hand_Raised'}\n",
      "obb: None\n",
      "orig_img: array([[[  0, 255,   0],\n",
      "        [  0, 255,   0],\n",
      "        [  0, 255,   0],\n",
      "        ...,\n",
      "        [  3,   0,   1],\n",
      "        [  5,   0,   1],\n",
      "        [  4,   0,   0]],\n",
      "\n",
      "       [[  0, 255,   0],\n",
      "        [  0, 255,   0],\n",
      "        [  0, 255,   0],\n",
      "        ...,\n",
      "        [222, 219, 220],\n",
      "        [234, 229, 230],\n",
      "        [238, 233, 234]],\n",
      "\n",
      "       [[  0, 255,   0],\n",
      "        [  0, 255,   0],\n",
      "        [  0, 255,   0],\n",
      "        ...,\n",
      "        [236, 233, 234],\n",
      "        [252, 247, 248],\n",
      "        [255, 251, 252]],\n",
      "\n",
      "       ...,\n",
      "\n",
      "       [[128, 122, 105],\n",
      "        [128, 122, 105],\n",
      "        [128, 122, 105],\n",
      "        ...,\n",
      "        [106, 110, 105],\n",
      "        [103, 112, 106],\n",
      "        [103, 112, 106]],\n",
      "\n",
      "       [[123, 120, 114],\n",
      "        [123, 120, 114],\n",
      "        [122, 119, 113],\n",
      "        ...,\n",
      "        [104, 108, 103],\n",
      "        [101, 110, 104],\n",
      "        [101, 110, 104]],\n",
      "\n",
      "       [[122, 119, 113],\n",
      "        [121, 118, 112],\n",
      "        [121, 118, 112],\n",
      "        ...,\n",
      "        [106, 110, 105],\n",
      "        [103, 112, 106],\n",
      "        [104, 113, 107]]], dtype=uint8)\n",
      "orig_shape: (720, 1280)\n",
      "path: 'image0.jpg'\n",
      "probs: None\n",
      "save_dir: 'runs\\\\detect\\\\predict'\n",
      "speed: {'preprocess': 0.0, 'inference': 8.078336715698242, 'postprocess': 0.0}]\n",
      "\n",
      "0: 384x640 2 persons, 25.9ms\n",
      "Speed: 0.9ms preprocess, 25.9ms inference, 2.0ms postprocess per image at shape (1, 3, 384, 640)\n",
      "\n",
      "0: 96x128 (no detections), 7.0ms\n",
      "Speed: 1.0ms preprocess, 7.0ms inference, 0.0ms postprocess per image at shape (1, 3, 96, 128)\n",
      "predictions: [ultralytics.engine.results.Results object with attributes:\n",
      "\n",
      "boxes: ultralytics.engine.results.Boxes object\n",
      "keypoints: None\n",
      "masks: None\n",
      "names: {0: 'Hand_Raised'}\n",
      "obb: None\n",
      "orig_img: array([[[  0, 255,   0],\n",
      "        [  0, 255,   0],\n",
      "        [  0, 255,   0],\n",
      "        ...,\n",
      "        [  3,   0,   1],\n",
      "        [  5,   0,   1],\n",
      "        [  4,   0,   0]],\n",
      "\n",
      "       [[  0, 255,   0],\n",
      "        [  0, 255,   0],\n",
      "        [  0, 255,   0],\n",
      "        ...,\n",
      "        [222, 219, 220],\n",
      "        [234, 229, 230],\n",
      "        [238, 233, 234]],\n",
      "\n",
      "       [[  0, 255,   0],\n",
      "        [  0, 255,   0],\n",
      "        [  0, 255,   0],\n",
      "        ...,\n",
      "        [236, 233, 234],\n",
      "        [252, 247, 248],\n",
      "        [255, 251, 252]],\n",
      "\n",
      "       ...,\n",
      "\n",
      "       [[128, 122, 105],\n",
      "        [128, 122, 105],\n",
      "        [128, 122, 105],\n",
      "        ...,\n",
      "        [106, 110, 105],\n",
      "        [103, 112, 106],\n",
      "        [103, 112, 106]],\n",
      "\n",
      "       [[123, 120, 114],\n",
      "        [123, 120, 114],\n",
      "        [123, 120, 114],\n",
      "        ...,\n",
      "        [104, 108, 103],\n",
      "        [101, 110, 104],\n",
      "        [101, 110, 104]],\n",
      "\n",
      "       [[122, 119, 113],\n",
      "        [122, 119, 113],\n",
      "        [121, 118, 112],\n",
      "        ...,\n",
      "        [106, 110, 105],\n",
      "        [103, 112, 106],\n",
      "        [104, 113, 107]]], dtype=uint8)\n",
      "orig_shape: (720, 1280)\n",
      "path: 'image0.jpg'\n",
      "probs: None\n",
      "save_dir: 'runs\\\\detect\\\\predict'\n",
      "speed: {'preprocess': 1.0297298431396484, 'inference': 6.957054138183594, 'postprocess': 0.0}]\n",
      "\n",
      "0: 384x640 2 persons, 23.1ms\n",
      "Speed: 1.0ms preprocess, 23.1ms inference, 1.0ms postprocess per image at shape (1, 3, 384, 640)\n",
      "\n",
      "0: 96x128 (no detections), 7.0ms\n",
      "Speed: 0.0ms preprocess, 7.0ms inference, 0.0ms postprocess per image at shape (1, 3, 96, 128)\n",
      "predictions: [ultralytics.engine.results.Results object with attributes:\n",
      "\n",
      "boxes: ultralytics.engine.results.Boxes object\n",
      "keypoints: None\n",
      "masks: None\n",
      "names: {0: 'Hand_Raised'}\n",
      "obb: None\n",
      "orig_img: array([[[  0, 255,   0],\n",
      "        [  0, 255,   0],\n",
      "        [  0, 255,   0],\n",
      "        ...,\n",
      "        [  3,   0,   1],\n",
      "        [  5,   0,   1],\n",
      "        [  4,   0,   0]],\n",
      "\n",
      "       [[  0, 255,   0],\n",
      "        [  0, 255,   0],\n",
      "        [  0, 255,   0],\n",
      "        ...,\n",
      "        [222, 219, 220],\n",
      "        [234, 229, 230],\n",
      "        [238, 233, 234]],\n",
      "\n",
      "       [[  0, 255,   0],\n",
      "        [  0, 255,   0],\n",
      "        [  0, 255,   0],\n",
      "        ...,\n",
      "        [236, 233, 234],\n",
      "        [252, 247, 248],\n",
      "        [255, 251, 252]],\n",
      "\n",
      "       ...,\n",
      "\n",
      "       [[128, 122, 105],\n",
      "        [128, 122, 105],\n",
      "        [128, 122, 105],\n",
      "        ...,\n",
      "        [106, 110, 105],\n",
      "        [103, 112, 106],\n",
      "        [103, 112, 106]],\n",
      "\n",
      "       [[123, 120, 114],\n",
      "        [123, 120, 114],\n",
      "        [123, 120, 114],\n",
      "        ...,\n",
      "        [104, 108, 103],\n",
      "        [101, 110, 104],\n",
      "        [101, 110, 104]],\n",
      "\n",
      "       [[122, 119, 113],\n",
      "        [122, 119, 113],\n",
      "        [121, 118, 112],\n",
      "        ...,\n",
      "        [106, 110, 105],\n",
      "        [103, 112, 106],\n",
      "        [104, 113, 107]]], dtype=uint8)\n",
      "orig_shape: (720, 1280)\n",
      "path: 'image0.jpg'\n",
      "probs: None\n",
      "save_dir: 'runs\\\\detect\\\\predict'\n",
      "speed: {'preprocess': 0.0, 'inference': 7.001638412475586, 'postprocess': 0.0}]\n",
      "\n",
      "0: 384x640 2 persons, 23.5ms\n",
      "Speed: 1.0ms preprocess, 23.5ms inference, 2.0ms postprocess per image at shape (1, 3, 384, 640)\n",
      "\n",
      "0: 96x128 (no detections), 7.0ms\n",
      "Speed: 1.0ms preprocess, 7.0ms inference, 1.0ms postprocess per image at shape (1, 3, 96, 128)\n",
      "predictions: [ultralytics.engine.results.Results object with attributes:\n",
      "\n",
      "boxes: ultralytics.engine.results.Boxes object\n",
      "keypoints: None\n",
      "masks: None\n",
      "names: {0: 'Hand_Raised'}\n",
      "obb: None\n",
      "orig_img: array([[[  0, 255,   0],\n",
      "        [  0, 255,   0],\n",
      "        [  0, 255,   0],\n",
      "        ...,\n",
      "        [  4,   1,   2],\n",
      "        [  5,   0,   1],\n",
      "        [  5,   0,   1]],\n",
      "\n",
      "       [[  0, 255,   0],\n",
      "        [  0, 255,   0],\n",
      "        [  0, 255,   0],\n",
      "        ...,\n",
      "        [222, 219, 220],\n",
      "        [232, 227, 228],\n",
      "        [238, 233, 234]],\n",
      "\n",
      "       [[  0, 255,   0],\n",
      "        [  0, 255,   0],\n",
      "        [  0, 255,   0],\n",
      "        ...,\n",
      "        [238, 235, 236],\n",
      "        [252, 247, 248],\n",
      "        [255, 252, 253]],\n",
      "\n",
      "       ...,\n",
      "\n",
      "       [[130, 119, 108],\n",
      "        [131, 120, 109],\n",
      "        [131, 120, 109],\n",
      "        ...,\n",
      "        [103, 109, 104],\n",
      "        [106, 110, 105],\n",
      "        [107, 111, 106]],\n",
      "\n",
      "       [[125, 119, 114],\n",
      "        [125, 119, 114],\n",
      "        [124, 118, 113],\n",
      "        ...,\n",
      "        [103, 109, 104],\n",
      "        [106, 110, 105],\n",
      "        [107, 111, 106]],\n",
      "\n",
      "       [[125, 119, 114],\n",
      "        [124, 118, 113],\n",
      "        [122, 116, 111],\n",
      "        ...,\n",
      "        [103, 109, 104],\n",
      "        [106, 110, 105],\n",
      "        [107, 111, 106]]], dtype=uint8)\n",
      "orig_shape: (720, 1280)\n",
      "path: 'image0.jpg'\n",
      "probs: None\n",
      "save_dir: 'runs\\\\detect\\\\predict'\n",
      "speed: {'preprocess': 1.0004043579101562, 'inference': 7.007360458374023, 'postprocess': 0.9920597076416016}]\n",
      "\n",
      "0: 384x640 2 persons, 24.0ms\n",
      "Speed: 1.0ms preprocess, 24.0ms inference, 1.0ms postprocess per image at shape (1, 3, 384, 640)\n",
      "\n",
      "0: 96x128 (no detections), 7.0ms\n",
      "Speed: 0.0ms preprocess, 7.0ms inference, 0.0ms postprocess per image at shape (1, 3, 96, 128)\n",
      "predictions: [ultralytics.engine.results.Results object with attributes:\n",
      "\n",
      "boxes: ultralytics.engine.results.Boxes object\n",
      "keypoints: None\n",
      "masks: None\n",
      "names: {0: 'Hand_Raised'}\n",
      "obb: None\n",
      "orig_img: array([[[  0, 255,   0],\n",
      "        [  0, 255,   0],\n",
      "        [  0, 255,   0],\n",
      "        ...,\n",
      "        [  4,   1,   2],\n",
      "        [  5,   0,   1],\n",
      "        [  5,   0,   1]],\n",
      "\n",
      "       [[  0, 255,   0],\n",
      "        [  0, 255,   0],\n",
      "        [  0, 255,   0],\n",
      "        ...,\n",
      "        [222, 219, 220],\n",
      "        [232, 227, 228],\n",
      "        [238, 233, 234]],\n",
      "\n",
      "       [[  0, 255,   0],\n",
      "        [  0, 255,   0],\n",
      "        [  0, 255,   0],\n",
      "        ...,\n",
      "        [238, 235, 236],\n",
      "        [252, 247, 248],\n",
      "        [255, 252, 253]],\n",
      "\n",
      "       ...,\n",
      "\n",
      "       [[130, 119, 108],\n",
      "        [131, 120, 109],\n",
      "        [131, 120, 109],\n",
      "        ...,\n",
      "        [103, 109, 104],\n",
      "        [106, 110, 105],\n",
      "        [107, 111, 106]],\n",
      "\n",
      "       [[125, 119, 114],\n",
      "        [125, 119, 114],\n",
      "        [124, 118, 113],\n",
      "        ...,\n",
      "        [103, 109, 104],\n",
      "        [106, 110, 105],\n",
      "        [107, 111, 106]],\n",
      "\n",
      "       [[125, 119, 114],\n",
      "        [124, 118, 113],\n",
      "        [122, 116, 111],\n",
      "        ...,\n",
      "        [103, 109, 104],\n",
      "        [106, 110, 105],\n",
      "        [107, 111, 106]]], dtype=uint8)\n",
      "orig_shape: (720, 1280)\n",
      "path: 'image0.jpg'\n",
      "probs: None\n",
      "save_dir: 'runs\\\\detect\\\\predict'\n",
      "speed: {'preprocess': 0.0, 'inference': 6.987810134887695, 'postprocess': 0.0}]\n",
      "\n",
      "0: 384x640 2 persons, 22.1ms\n",
      "Speed: 1.0ms preprocess, 22.1ms inference, 1.0ms postprocess per image at shape (1, 3, 384, 640)\n",
      "\n",
      "0: 96x128 (no detections), 7.6ms\n",
      "Speed: 0.0ms preprocess, 7.6ms inference, 0.0ms postprocess per image at shape (1, 3, 96, 128)\n",
      "predictions: [ultralytics.engine.results.Results object with attributes:\n",
      "\n",
      "boxes: ultralytics.engine.results.Boxes object\n",
      "keypoints: None\n",
      "masks: None\n",
      "names: {0: 'Hand_Raised'}\n",
      "obb: None\n",
      "orig_img: array([[[  0, 255,   0],\n",
      "        [  0, 255,   0],\n",
      "        [  0, 255,   0],\n",
      "        ...,\n",
      "        [  4,   1,   2],\n",
      "        [  5,   0,   1],\n",
      "        [  5,   0,   1]],\n",
      "\n",
      "       [[  0, 255,   0],\n",
      "        [  0, 255,   0],\n",
      "        [  0, 255,   0],\n",
      "        ...,\n",
      "        [222, 219, 220],\n",
      "        [232, 227, 228],\n",
      "        [238, 233, 234]],\n",
      "\n",
      "       [[  0, 255,   0],\n",
      "        [  0, 255,   0],\n",
      "        [  0, 255,   0],\n",
      "        ...,\n",
      "        [238, 235, 236],\n",
      "        [252, 247, 248],\n",
      "        [255, 252, 253]],\n",
      "\n",
      "       ...,\n",
      "\n",
      "       [[130, 119, 108],\n",
      "        [131, 120, 109],\n",
      "        [131, 120, 109],\n",
      "        ...,\n",
      "        [103, 109, 104],\n",
      "        [106, 110, 105],\n",
      "        [107, 111, 106]],\n",
      "\n",
      "       [[125, 119, 114],\n",
      "        [125, 119, 114],\n",
      "        [124, 118, 113],\n",
      "        ...,\n",
      "        [103, 109, 104],\n",
      "        [106, 110, 105],\n",
      "        [107, 111, 106]],\n",
      "\n",
      "       [[125, 119, 114],\n",
      "        [124, 118, 113],\n",
      "        [122, 116, 111],\n",
      "        ...,\n",
      "        [103, 109, 104],\n",
      "        [106, 110, 105],\n",
      "        [107, 111, 106]]], dtype=uint8)\n",
      "orig_shape: (720, 1280)\n",
      "path: 'image0.jpg'\n",
      "probs: None\n",
      "save_dir: 'runs\\\\detect\\\\predict'\n",
      "speed: {'preprocess': 0.0, 'inference': 7.591724395751953, 'postprocess': 0.0}]\n",
      "\n",
      "0: 384x640 2 persons, 23.0ms\n",
      "Speed: 1.0ms preprocess, 23.0ms inference, 1.0ms postprocess per image at shape (1, 3, 384, 640)\n",
      "\n",
      "0: 96x128 (no detections), 6.8ms\n",
      "Speed: 1.2ms preprocess, 6.8ms inference, 0.0ms postprocess per image at shape (1, 3, 96, 128)\n",
      "predictions: [ultralytics.engine.results.Results object with attributes:\n",
      "\n",
      "boxes: ultralytics.engine.results.Boxes object\n",
      "keypoints: None\n",
      "masks: None\n",
      "names: {0: 'Hand_Raised'}\n",
      "obb: None\n",
      "orig_img: array([[[  0, 255,   0],\n",
      "        [  0, 255,   0],\n",
      "        [  0, 255,   0],\n",
      "        ...,\n",
      "        [  4,   1,   2],\n",
      "        [  5,   0,   1],\n",
      "        [  5,   0,   1]],\n",
      "\n",
      "       [[  0, 255,   0],\n",
      "        [  0, 255,   0],\n",
      "        [  0, 255,   0],\n",
      "        ...,\n",
      "        [222, 219, 220],\n",
      "        [232, 227, 228],\n",
      "        [238, 233, 234]],\n",
      "\n",
      "       [[  0, 255,   0],\n",
      "        [  0, 255,   0],\n",
      "        [  0, 255,   0],\n",
      "        ...,\n",
      "        [238, 235, 236],\n",
      "        [252, 247, 248],\n",
      "        [255, 252, 253]],\n",
      "\n",
      "       ...,\n",
      "\n",
      "       [[130, 119, 108],\n",
      "        [131, 120, 109],\n",
      "        [131, 120, 109],\n",
      "        ...,\n",
      "        [103, 109, 104],\n",
      "        [106, 110, 105],\n",
      "        [107, 111, 106]],\n",
      "\n",
      "       [[125, 119, 114],\n",
      "        [125, 119, 114],\n",
      "        [124, 118, 113],\n",
      "        ...,\n",
      "        [103, 109, 104],\n",
      "        [106, 110, 105],\n",
      "        [107, 111, 106]],\n",
      "\n",
      "       [[125, 119, 114],\n",
      "        [124, 118, 113],\n",
      "        [122, 116, 111],\n",
      "        ...,\n",
      "        [103, 109, 104],\n",
      "        [106, 110, 105],\n",
      "        [107, 111, 106]]], dtype=uint8)\n",
      "orig_shape: (720, 1280)\n",
      "path: 'image0.jpg'\n",
      "probs: None\n",
      "save_dir: 'runs\\\\detect\\\\predict'\n",
      "speed: {'preprocess': 1.1582374572753906, 'inference': 6.83903694152832, 'postprocess': 0.0}]\n",
      "\n",
      "0: 384x640 2 persons, 22.0ms\n",
      "Speed: 1.0ms preprocess, 22.0ms inference, 1.0ms postprocess per image at shape (1, 3, 384, 640)\n",
      "\n",
      "0: 96x128 (no detections), 8.0ms\n",
      "Speed: 0.0ms preprocess, 8.0ms inference, 0.0ms postprocess per image at shape (1, 3, 96, 128)\n",
      "predictions: [ultralytics.engine.results.Results object with attributes:\n",
      "\n",
      "boxes: ultralytics.engine.results.Boxes object\n",
      "keypoints: None\n",
      "masks: None\n",
      "names: {0: 'Hand_Raised'}\n",
      "obb: None\n",
      "orig_img: array([[[  0, 255,   0],\n",
      "        [  0, 255,   0],\n",
      "        [  0, 255,   0],\n",
      "        ...,\n",
      "        [  4,   1,   2],\n",
      "        [  5,   0,   1],\n",
      "        [  5,   0,   1]],\n",
      "\n",
      "       [[  0, 255,   0],\n",
      "        [  0, 255,   0],\n",
      "        [  0, 255,   0],\n",
      "        ...,\n",
      "        [222, 219, 220],\n",
      "        [232, 227, 228],\n",
      "        [238, 233, 234]],\n",
      "\n",
      "       [[  0, 255,   0],\n",
      "        [  0, 255,   0],\n",
      "        [  0, 255,   0],\n",
      "        ...,\n",
      "        [238, 235, 236],\n",
      "        [252, 247, 248],\n",
      "        [255, 252, 253]],\n",
      "\n",
      "       ...,\n",
      "\n",
      "       [[130, 119, 108],\n",
      "        [131, 120, 109],\n",
      "        [131, 120, 109],\n",
      "        ...,\n",
      "        [103, 109, 104],\n",
      "        [106, 110, 105],\n",
      "        [107, 111, 106]],\n",
      "\n",
      "       [[125, 119, 114],\n",
      "        [125, 119, 114],\n",
      "        [124, 118, 113],\n",
      "        ...,\n",
      "        [103, 109, 104],\n",
      "        [106, 110, 105],\n",
      "        [107, 111, 106]],\n",
      "\n",
      "       [[125, 119, 114],\n",
      "        [124, 118, 113],\n",
      "        [122, 116, 111],\n",
      "        ...,\n",
      "        [103, 109, 104],\n",
      "        [106, 110, 105],\n",
      "        [107, 111, 106]]], dtype=uint8)\n",
      "orig_shape: (720, 1280)\n",
      "path: 'image0.jpg'\n",
      "probs: None\n",
      "save_dir: 'runs\\\\detect\\\\predict'\n",
      "speed: {'preprocess': 0.0, 'inference': 7.999420166015625, 'postprocess': 0.0}]\n",
      "\n",
      "0: 384x640 2 persons, 22.0ms\n",
      "Speed: 1.0ms preprocess, 22.0ms inference, 1.0ms postprocess per image at shape (1, 3, 384, 640)\n",
      "\n",
      "0: 96x128 (no detections), 7.0ms\n",
      "Speed: 0.0ms preprocess, 7.0ms inference, 1.0ms postprocess per image at shape (1, 3, 96, 128)\n",
      "predictions: [ultralytics.engine.results.Results object with attributes:\n",
      "\n",
      "boxes: ultralytics.engine.results.Boxes object\n",
      "keypoints: None\n",
      "masks: None\n",
      "names: {0: 'Hand_Raised'}\n",
      "obb: None\n",
      "orig_img: array([[[  0, 255,   0],\n",
      "        [  0, 255,   0],\n",
      "        [  0, 255,   0],\n",
      "        ...,\n",
      "        [  4,   1,   2],\n",
      "        [  5,   0,   1],\n",
      "        [  5,   0,   1]],\n",
      "\n",
      "       [[  0, 255,   0],\n",
      "        [  0, 255,   0],\n",
      "        [  0, 255,   0],\n",
      "        ...,\n",
      "        [222, 219, 220],\n",
      "        [232, 227, 228],\n",
      "        [238, 233, 234]],\n",
      "\n",
      "       [[  0, 255,   0],\n",
      "        [  0, 255,   0],\n",
      "        [  0, 255,   0],\n",
      "        ...,\n",
      "        [238, 235, 236],\n",
      "        [252, 247, 248],\n",
      "        [255, 252, 253]],\n",
      "\n",
      "       ...,\n",
      "\n",
      "       [[130, 119, 108],\n",
      "        [131, 120, 109],\n",
      "        [131, 120, 109],\n",
      "        ...,\n",
      "        [102, 108, 103],\n",
      "        [104, 108, 103],\n",
      "        [105, 109, 104]],\n",
      "\n",
      "       [[125, 119, 114],\n",
      "        [125, 119, 114],\n",
      "        [124, 118, 113],\n",
      "        ...,\n",
      "        [103, 109, 104],\n",
      "        [105, 109, 104],\n",
      "        [105, 109, 104]],\n",
      "\n",
      "       [[125, 119, 114],\n",
      "        [124, 118, 113],\n",
      "        [122, 116, 111],\n",
      "        ...,\n",
      "        [103, 109, 104],\n",
      "        [105, 109, 104],\n",
      "        [106, 110, 105]]], dtype=uint8)\n",
      "orig_shape: (720, 1280)\n",
      "path: 'image0.jpg'\n",
      "probs: None\n",
      "save_dir: 'runs\\\\detect\\\\predict'\n",
      "speed: {'preprocess': 0.0, 'inference': 6.989717483520508, 'postprocess': 0.9999275207519531}]\n",
      "\n",
      "0: 384x640 2 persons, 21.0ms\n",
      "Speed: 0.0ms preprocess, 21.0ms inference, 2.0ms postprocess per image at shape (1, 3, 384, 640)\n",
      "\n",
      "0: 96x128 (no detections), 9.0ms\n",
      "Speed: 0.0ms preprocess, 9.0ms inference, 0.0ms postprocess per image at shape (1, 3, 96, 128)\n",
      "predictions: [ultralytics.engine.results.Results object with attributes:\n",
      "\n",
      "boxes: ultralytics.engine.results.Boxes object\n",
      "keypoints: None\n",
      "masks: None\n",
      "names: {0: 'Hand_Raised'}\n",
      "obb: None\n",
      "orig_img: array([[[  0, 255,   0],\n",
      "        [  0, 255,   0],\n",
      "        [  0, 255,   0],\n",
      "        ...,\n",
      "        [  4,   1,   2],\n",
      "        [  5,   0,   1],\n",
      "        [  5,   0,   1]],\n",
      "\n",
      "       [[  0, 255,   0],\n",
      "        [  0, 255,   0],\n",
      "        [  0, 255,   0],\n",
      "        ...,\n",
      "        [222, 219, 220],\n",
      "        [232, 227, 228],\n",
      "        [238, 233, 234]],\n",
      "\n",
      "       [[  0, 255,   0],\n",
      "        [  0, 255,   0],\n",
      "        [  0, 255,   0],\n",
      "        ...,\n",
      "        [238, 235, 236],\n",
      "        [252, 247, 248],\n",
      "        [255, 252, 253]],\n",
      "\n",
      "       ...,\n",
      "\n",
      "       [[130, 119, 108],\n",
      "        [131, 120, 109],\n",
      "        [131, 120, 109],\n",
      "        ...,\n",
      "        [102, 108, 103],\n",
      "        [104, 108, 103],\n",
      "        [105, 109, 104]],\n",
      "\n",
      "       [[125, 119, 114],\n",
      "        [125, 119, 114],\n",
      "        [124, 118, 113],\n",
      "        ...,\n",
      "        [103, 109, 104],\n",
      "        [105, 109, 104],\n",
      "        [105, 109, 104]],\n",
      "\n",
      "       [[125, 119, 114],\n",
      "        [124, 118, 113],\n",
      "        [122, 116, 111],\n",
      "        ...,\n",
      "        [103, 109, 104],\n",
      "        [105, 109, 104],\n",
      "        [106, 110, 105]]], dtype=uint8)\n",
      "orig_shape: (720, 1280)\n",
      "path: 'image0.jpg'\n",
      "probs: None\n",
      "save_dir: 'runs\\\\detect\\\\predict'\n",
      "speed: {'preprocess': 0.0, 'inference': 9.014606475830078, 'postprocess': 0.0}]\n",
      "\n",
      "0: 384x640 2 persons, 22.5ms\n",
      "Speed: 1.0ms preprocess, 22.5ms inference, 1.9ms postprocess per image at shape (1, 3, 384, 640)\n",
      "\n",
      "0: 96x128 (no detections), 9.0ms\n",
      "Speed: 0.0ms preprocess, 9.0ms inference, 0.0ms postprocess per image at shape (1, 3, 96, 128)\n",
      "predictions: [ultralytics.engine.results.Results object with attributes:\n",
      "\n",
      "boxes: ultralytics.engine.results.Boxes object\n",
      "keypoints: None\n",
      "masks: None\n",
      "names: {0: 'Hand_Raised'}\n",
      "obb: None\n",
      "orig_img: array([[[  0, 255,   0],\n",
      "        [  0, 255,   0],\n",
      "        [  0, 255,   0],\n",
      "        ...,\n",
      "        [  4,   1,   2],\n",
      "        [  5,   0,   1],\n",
      "        [  5,   0,   1]],\n",
      "\n",
      "       [[  0, 255,   0],\n",
      "        [  0, 255,   0],\n",
      "        [  0, 255,   0],\n",
      "        ...,\n",
      "        [222, 219, 220],\n",
      "        [232, 227, 228],\n",
      "        [238, 233, 234]],\n",
      "\n",
      "       [[  0, 255,   0],\n",
      "        [  0, 255,   0],\n",
      "        [  0, 255,   0],\n",
      "        ...,\n",
      "        [238, 235, 236],\n",
      "        [252, 247, 248],\n",
      "        [255, 252, 253]],\n",
      "\n",
      "       ...,\n",
      "\n",
      "       [[130, 119, 108],\n",
      "        [131, 120, 109],\n",
      "        [131, 120, 109],\n",
      "        ...,\n",
      "        [102, 108, 103],\n",
      "        [104, 108, 103],\n",
      "        [105, 109, 104]],\n",
      "\n",
      "       [[125, 119, 114],\n",
      "        [125, 119, 114],\n",
      "        [124, 118, 113],\n",
      "        ...,\n",
      "        [103, 109, 104],\n",
      "        [105, 109, 104],\n",
      "        [105, 109, 104]],\n",
      "\n",
      "       [[125, 119, 114],\n",
      "        [124, 118, 113],\n",
      "        [122, 116, 111],\n",
      "        ...,\n",
      "        [103, 109, 104],\n",
      "        [105, 109, 104],\n",
      "        [106, 110, 105]]], dtype=uint8)\n",
      "orig_shape: (720, 1280)\n",
      "path: 'image0.jpg'\n",
      "probs: None\n",
      "save_dir: 'runs\\\\detect\\\\predict'\n",
      "speed: {'preprocess': 0.0, 'inference': 8.999109268188477, 'postprocess': 0.0}]\n",
      "\n",
      "0: 384x640 2 persons, 24.0ms\n",
      "Speed: 1.0ms preprocess, 24.0ms inference, 2.0ms postprocess per image at shape (1, 3, 384, 640)\n",
      "\n",
      "0: 96x128 (no detections), 6.9ms\n",
      "Speed: 1.0ms preprocess, 6.9ms inference, 0.0ms postprocess per image at shape (1, 3, 96, 128)\n",
      "predictions: [ultralytics.engine.results.Results object with attributes:\n",
      "\n",
      "boxes: ultralytics.engine.results.Boxes object\n",
      "keypoints: None\n",
      "masks: None\n",
      "names: {0: 'Hand_Raised'}\n",
      "obb: None\n",
      "orig_img: array([[[  0, 255,   0],\n",
      "        [  0, 255,   0],\n",
      "        [  0, 255,   0],\n",
      "        ...,\n",
      "        [  4,   1,   2],\n",
      "        [  6,   1,   2],\n",
      "        [  6,   1,   2]],\n",
      "\n",
      "       [[  0, 255,   0],\n",
      "        [  0, 255,   0],\n",
      "        [  0, 255,   0],\n",
      "        ...,\n",
      "        [222, 219, 220],\n",
      "        [232, 227, 228],\n",
      "        [238, 233, 234]],\n",
      "\n",
      "       [[  0, 255,   0],\n",
      "        [  0, 255,   0],\n",
      "        [  0, 255,   0],\n",
      "        ...,\n",
      "        [238, 235, 236],\n",
      "        [253, 248, 249],\n",
      "        [255, 254, 255]],\n",
      "\n",
      "       ...,\n",
      "\n",
      "       [[128, 120, 110],\n",
      "        [129, 121, 111],\n",
      "        [129, 121, 111],\n",
      "        ...,\n",
      "        [102, 108, 103],\n",
      "        [104, 108, 103],\n",
      "        [105, 109, 104]],\n",
      "\n",
      "       [[123, 120, 114],\n",
      "        [123, 120, 114],\n",
      "        [122, 119, 113],\n",
      "        ...,\n",
      "        [103, 109, 104],\n",
      "        [105, 109, 104],\n",
      "        [105, 109, 104]],\n",
      "\n",
      "       [[123, 120, 114],\n",
      "        [122, 119, 113],\n",
      "        [120, 117, 111],\n",
      "        ...,\n",
      "        [103, 109, 104],\n",
      "        [105, 109, 104],\n",
      "        [106, 110, 105]]], dtype=uint8)\n",
      "orig_shape: (720, 1280)\n",
      "path: 'image0.jpg'\n",
      "probs: None\n",
      "save_dir: 'runs\\\\detect\\\\predict'\n",
      "speed: {'preprocess': 1.0139942169189453, 'inference': 6.947517395019531, 'postprocess': 0.0}]\n",
      "\n",
      "0: 384x640 2 persons, 23.6ms\n",
      "Speed: 1.0ms preprocess, 23.6ms inference, 1.0ms postprocess per image at shape (1, 3, 384, 640)\n",
      "\n",
      "0: 96x128 (no detections), 8.0ms\n",
      "Speed: 0.0ms preprocess, 8.0ms inference, 0.0ms postprocess per image at shape (1, 3, 96, 128)\n",
      "predictions: [ultralytics.engine.results.Results object with attributes:\n",
      "\n",
      "boxes: ultralytics.engine.results.Boxes object\n",
      "keypoints: None\n",
      "masks: None\n",
      "names: {0: 'Hand_Raised'}\n",
      "obb: None\n",
      "orig_img: array([[[  0, 255,   0],\n",
      "        [  0, 255,   0],\n",
      "        [  0, 255,   0],\n",
      "        ...,\n",
      "        [  4,   1,   2],\n",
      "        [  6,   1,   2],\n",
      "        [  6,   1,   2]],\n",
      "\n",
      "       [[  0, 255,   0],\n",
      "        [  0, 255,   0],\n",
      "        [  0, 255,   0],\n",
      "        ...,\n",
      "        [220, 217, 218],\n",
      "        [232, 227, 228],\n",
      "        [238, 233, 234]],\n",
      "\n",
      "       [[  0, 255,   0],\n",
      "        [  0, 255,   0],\n",
      "        [  0, 255,   0],\n",
      "        ...,\n",
      "        [238, 235, 236],\n",
      "        [253, 248, 249],\n",
      "        [255, 255, 255]],\n",
      "\n",
      "       ...,\n",
      "\n",
      "       [[130, 119, 108],\n",
      "        [129, 118, 107],\n",
      "        [130, 119, 108],\n",
      "        ...,\n",
      "        [102, 108, 103],\n",
      "        [104, 108, 103],\n",
      "        [105, 109, 104]],\n",
      "\n",
      "       [[124, 118, 113],\n",
      "        [125, 119, 114],\n",
      "        [125, 119, 114],\n",
      "        ...,\n",
      "        [103, 109, 104],\n",
      "        [105, 109, 104],\n",
      "        [105, 109, 104]],\n",
      "\n",
      "       [[124, 118, 113],\n",
      "        [125, 119, 114],\n",
      "        [125, 119, 114],\n",
      "        ...,\n",
      "        [103, 109, 104],\n",
      "        [105, 109, 104],\n",
      "        [106, 110, 105]]], dtype=uint8)\n",
      "orig_shape: (720, 1280)\n",
      "path: 'image0.jpg'\n",
      "probs: None\n",
      "save_dir: 'runs\\\\detect\\\\predict'\n",
      "speed: {'preprocess': 0.0, 'inference': 8.039474487304688, 'postprocess': 0.0}]\n",
      "\n",
      "0: 384x640 2 persons, 22.0ms\n",
      "Speed: 1.0ms preprocess, 22.0ms inference, 1.0ms postprocess per image at shape (1, 3, 384, 640)\n",
      "\n",
      "0: 96x128 (no detections), 7.0ms\n",
      "Speed: 0.0ms preprocess, 7.0ms inference, 0.0ms postprocess per image at shape (1, 3, 96, 128)\n",
      "predictions: [ultralytics.engine.results.Results object with attributes:\n",
      "\n",
      "boxes: ultralytics.engine.results.Boxes object\n",
      "keypoints: None\n",
      "masks: None\n",
      "names: {0: 'Hand_Raised'}\n",
      "obb: None\n",
      "orig_img: array([[[  0, 255,   0],\n",
      "        [  0, 255,   0],\n",
      "        [  0, 255,   0],\n",
      "        ...,\n",
      "        [  3,   0,   1],\n",
      "        [  6,   1,   2],\n",
      "        [  6,   1,   2]],\n",
      "\n",
      "       [[  0, 255,   0],\n",
      "        [  0, 255,   0],\n",
      "        [  0, 255,   0],\n",
      "        ...,\n",
      "        [218, 215, 216],\n",
      "        [229, 224, 225],\n",
      "        [240, 235, 236]],\n",
      "\n",
      "       [[  0, 255,   0],\n",
      "        [  0, 255,   0],\n",
      "        [  0, 255,   0],\n",
      "        ...,\n",
      "        [237, 234, 235],\n",
      "        [253, 248, 249],\n",
      "        [255, 255, 255]],\n",
      "\n",
      "       ...,\n",
      "\n",
      "       [[127, 119, 109],\n",
      "        [128, 120, 110],\n",
      "        [128, 120, 110],\n",
      "        ...,\n",
      "        [102, 108, 103],\n",
      "        [104, 108, 103],\n",
      "        [105, 109, 104]],\n",
      "\n",
      "       [[123, 117, 112],\n",
      "        [124, 118, 113],\n",
      "        [124, 118, 113],\n",
      "        ...,\n",
      "        [103, 109, 104],\n",
      "        [105, 109, 104],\n",
      "        [105, 109, 104]],\n",
      "\n",
      "       [[123, 117, 112],\n",
      "        [124, 118, 113],\n",
      "        [124, 118, 113],\n",
      "        ...,\n",
      "        [104, 110, 105],\n",
      "        [105, 109, 104],\n",
      "        [104, 108, 103]]], dtype=uint8)\n",
      "orig_shape: (720, 1280)\n",
      "path: 'image0.jpg'\n",
      "probs: None\n",
      "save_dir: 'runs\\\\detect\\\\predict'\n",
      "speed: {'preprocess': 0.0, 'inference': 6.998777389526367, 'postprocess': 0.0}]\n",
      "\n",
      "0: 384x640 2 persons, 20.5ms\n",
      "Speed: 1.0ms preprocess, 20.5ms inference, 2.0ms postprocess per image at shape (1, 3, 384, 640)\n",
      "\n",
      "0: 96x128 (no detections), 8.0ms\n",
      "Speed: 0.0ms preprocess, 8.0ms inference, 0.0ms postprocess per image at shape (1, 3, 96, 128)\n",
      "predictions: [ultralytics.engine.results.Results object with attributes:\n",
      "\n",
      "boxes: ultralytics.engine.results.Boxes object\n",
      "keypoints: None\n",
      "masks: None\n",
      "names: {0: 'Hand_Raised'}\n",
      "obb: None\n",
      "orig_img: array([[[  0, 255,   0],\n",
      "        [  0, 255,   0],\n",
      "        [  0, 255,   0],\n",
      "        ...,\n",
      "        [  3,   0,   1],\n",
      "        [  6,   1,   2],\n",
      "        [  6,   1,   2]],\n",
      "\n",
      "       [[  0, 255,   0],\n",
      "        [  0, 255,   0],\n",
      "        [  0, 255,   0],\n",
      "        ...,\n",
      "        [218, 215, 216],\n",
      "        [229, 224, 225],\n",
      "        [240, 235, 236]],\n",
      "\n",
      "       [[  0, 255,   0],\n",
      "        [  0, 255,   0],\n",
      "        [  0, 255,   0],\n",
      "        ...,\n",
      "        [237, 234, 235],\n",
      "        [253, 248, 249],\n",
      "        [255, 255, 255]],\n",
      "\n",
      "       ...,\n",
      "\n",
      "       [[127, 119, 109],\n",
      "        [128, 120, 110],\n",
      "        [128, 120, 110],\n",
      "        ...,\n",
      "        [102, 108, 103],\n",
      "        [104, 108, 103],\n",
      "        [105, 109, 104]],\n",
      "\n",
      "       [[123, 117, 112],\n",
      "        [124, 118, 113],\n",
      "        [124, 118, 113],\n",
      "        ...,\n",
      "        [103, 109, 104],\n",
      "        [105, 109, 104],\n",
      "        [105, 109, 104]],\n",
      "\n",
      "       [[123, 117, 112],\n",
      "        [124, 118, 113],\n",
      "        [124, 118, 113],\n",
      "        ...,\n",
      "        [104, 110, 105],\n",
      "        [105, 109, 104],\n",
      "        [104, 108, 103]]], dtype=uint8)\n",
      "orig_shape: (720, 1280)\n",
      "path: 'image0.jpg'\n",
      "probs: None\n",
      "save_dir: 'runs\\\\detect\\\\predict'\n",
      "speed: {'preprocess': 0.0, 'inference': 7.999181747436523, 'postprocess': 0.0}]\n",
      "\n",
      "0: 384x640 2 persons, 21.0ms\n",
      "Speed: 0.0ms preprocess, 21.0ms inference, 1.0ms postprocess per image at shape (1, 3, 384, 640)\n",
      "\n",
      "0: 96x128 (no detections), 10.0ms\n",
      "Speed: 0.0ms preprocess, 10.0ms inference, 0.0ms postprocess per image at shape (1, 3, 96, 128)\n",
      "predictions: [ultralytics.engine.results.Results object with attributes:\n",
      "\n",
      "boxes: ultralytics.engine.results.Boxes object\n",
      "keypoints: None\n",
      "masks: None\n",
      "names: {0: 'Hand_Raised'}\n",
      "obb: None\n",
      "orig_img: array([[[  0, 255,   0],\n",
      "        [  0, 255,   0],\n",
      "        [  0, 255,   0],\n",
      "        ...,\n",
      "        [  2,   0,   0],\n",
      "        [  5,   0,   1],\n",
      "        [  6,   1,   2]],\n",
      "\n",
      "       [[  0, 255,   0],\n",
      "        [  0, 255,   0],\n",
      "        [  0, 255,   0],\n",
      "        ...,\n",
      "        [217, 214, 215],\n",
      "        [228, 223, 224],\n",
      "        [240, 235, 236]],\n",
      "\n",
      "       [[  0, 255,   0],\n",
      "        [  0, 255,   0],\n",
      "        [  0, 255,   0],\n",
      "        ...,\n",
      "        [236, 233, 234],\n",
      "        [252, 247, 248],\n",
      "        [255, 255, 255]],\n",
      "\n",
      "       ...,\n",
      "\n",
      "       [[127, 119, 107],\n",
      "        [128, 120, 108],\n",
      "        [128, 120, 108],\n",
      "        ...,\n",
      "        [102, 108, 103],\n",
      "        [104, 108, 103],\n",
      "        [105, 109, 104]],\n",
      "\n",
      "       [[123, 118, 110],\n",
      "        [124, 119, 111],\n",
      "        [124, 119, 111],\n",
      "        ...,\n",
      "        [103, 109, 104],\n",
      "        [105, 109, 104],\n",
      "        [105, 109, 104]],\n",
      "\n",
      "       [[123, 118, 110],\n",
      "        [124, 119, 111],\n",
      "        [124, 119, 111],\n",
      "        ...,\n",
      "        [104, 110, 105],\n",
      "        [105, 109, 104],\n",
      "        [104, 108, 103]]], dtype=uint8)\n",
      "orig_shape: (720, 1280)\n",
      "path: 'image0.jpg'\n",
      "probs: None\n",
      "save_dir: 'runs\\\\detect\\\\predict'\n",
      "speed: {'preprocess': 0.0, 'inference': 10.01429557800293, 'postprocess': 0.0}]\n",
      "\n",
      "0: 384x640 2 persons, 25.0ms\n",
      "Speed: 1.0ms preprocess, 25.0ms inference, 1.0ms postprocess per image at shape (1, 3, 384, 640)\n",
      "\n",
      "0: 96x128 (no detections), 7.0ms\n",
      "Speed: 1.0ms preprocess, 7.0ms inference, 0.0ms postprocess per image at shape (1, 3, 96, 128)\n",
      "predictions: [ultralytics.engine.results.Results object with attributes:\n",
      "\n",
      "boxes: ultralytics.engine.results.Boxes object\n",
      "keypoints: None\n",
      "masks: None\n",
      "names: {0: 'Hand_Raised'}\n",
      "obb: None\n",
      "orig_img: array([[[  0, 255,   0],\n",
      "        [  0, 255,   0],\n",
      "        [  0, 255,   0],\n",
      "        ...,\n",
      "        [  2,   0,   0],\n",
      "        [  5,   0,   1],\n",
      "        [  7,   2,   3]],\n",
      "\n",
      "       [[  0, 255,   0],\n",
      "        [  0, 255,   0],\n",
      "        [  0, 255,   0],\n",
      "        ...,\n",
      "        [217, 214, 215],\n",
      "        [228, 223, 224],\n",
      "        [241, 236, 237]],\n",
      "\n",
      "       [[  0, 255,   0],\n",
      "        [  0, 255,   0],\n",
      "        [  0, 255,   0],\n",
      "        ...,\n",
      "        [236, 233, 234],\n",
      "        [252, 247, 248],\n",
      "        [255, 255, 255]],\n",
      "\n",
      "       ...,\n",
      "\n",
      "       [[127, 119, 109],\n",
      "        [128, 120, 110],\n",
      "        [128, 120, 110],\n",
      "        ...,\n",
      "        [102, 108, 103],\n",
      "        [104, 108, 103],\n",
      "        [105, 109, 104]],\n",
      "\n",
      "       [[123, 117, 112],\n",
      "        [124, 118, 113],\n",
      "        [124, 118, 113],\n",
      "        ...,\n",
      "        [103, 109, 104],\n",
      "        [105, 109, 104],\n",
      "        [105, 109, 104]],\n",
      "\n",
      "       [[123, 117, 112],\n",
      "        [124, 118, 113],\n",
      "        [124, 118, 113],\n",
      "        ...,\n",
      "        [104, 110, 105],\n",
      "        [105, 109, 104],\n",
      "        [104, 108, 103]]], dtype=uint8)\n",
      "orig_shape: (720, 1280)\n",
      "path: 'image0.jpg'\n",
      "probs: None\n",
      "save_dir: 'runs\\\\detect\\\\predict'\n",
      "speed: {'preprocess': 0.9987354278564453, 'inference': 6.999731063842773, 'postprocess': 0.0}]\n",
      "\n",
      "0: 384x640 2 persons, 24.8ms\n",
      "Speed: 1.0ms preprocess, 24.8ms inference, 1.0ms postprocess per image at shape (1, 3, 384, 640)\n",
      "\n",
      "0: 96x128 (no detections), 9.0ms\n",
      "Speed: 0.0ms preprocess, 9.0ms inference, 1.0ms postprocess per image at shape (1, 3, 96, 128)\n",
      "predictions: [ultralytics.engine.results.Results object with attributes:\n",
      "\n",
      "boxes: ultralytics.engine.results.Boxes object\n",
      "keypoints: None\n",
      "masks: None\n",
      "names: {0: 'Hand_Raised'}\n",
      "obb: None\n",
      "orig_img: array([[[  0, 255,   0],\n",
      "        [  0, 255,   0],\n",
      "        [  0, 255,   0],\n",
      "        ...,\n",
      "        [  2,   0,   0],\n",
      "        [  5,   0,   1],\n",
      "        [  6,   1,   2]],\n",
      "\n",
      "       [[  0, 255,   0],\n",
      "        [  0, 255,   0],\n",
      "        [  0, 255,   0],\n",
      "        ...,\n",
      "        [217, 214, 215],\n",
      "        [228, 223, 224],\n",
      "        [240, 235, 236]],\n",
      "\n",
      "       [[  0, 255,   0],\n",
      "        [  0, 255,   0],\n",
      "        [  0, 255,   0],\n",
      "        ...,\n",
      "        [236, 233, 234],\n",
      "        [252, 247, 248],\n",
      "        [255, 255, 255]],\n",
      "\n",
      "       ...,\n",
      "\n",
      "       [[127, 119, 109],\n",
      "        [128, 120, 110],\n",
      "        [128, 120, 110],\n",
      "        ...,\n",
      "        [102, 108, 103],\n",
      "        [104, 108, 103],\n",
      "        [105, 109, 104]],\n",
      "\n",
      "       [[123, 117, 112],\n",
      "        [124, 118, 113],\n",
      "        [124, 118, 113],\n",
      "        ...,\n",
      "        [103, 109, 104],\n",
      "        [105, 109, 104],\n",
      "        [105, 109, 104]],\n",
      "\n",
      "       [[123, 117, 112],\n",
      "        [124, 118, 113],\n",
      "        [124, 118, 113],\n",
      "        ...,\n",
      "        [104, 110, 105],\n",
      "        [105, 109, 104],\n",
      "        [104, 108, 103]]], dtype=uint8)\n",
      "orig_shape: (720, 1280)\n",
      "path: 'image0.jpg'\n",
      "probs: None\n",
      "save_dir: 'runs\\\\detect\\\\predict'\n",
      "speed: {'preprocess': 0.0, 'inference': 8.990049362182617, 'postprocess': 1.0006427764892578}]\n",
      "\n",
      "0: 384x640 2 persons, 24.9ms\n",
      "Speed: 1.0ms preprocess, 24.9ms inference, 1.0ms postprocess per image at shape (1, 3, 384, 640)\n",
      "\n",
      "0: 96x128 (no detections), 7.5ms\n",
      "Speed: 0.0ms preprocess, 7.5ms inference, 0.0ms postprocess per image at shape (1, 3, 96, 128)\n",
      "predictions: [ultralytics.engine.results.Results object with attributes:\n",
      "\n",
      "boxes: ultralytics.engine.results.Boxes object\n",
      "keypoints: None\n",
      "masks: None\n",
      "names: {0: 'Hand_Raised'}\n",
      "obb: None\n",
      "orig_img: array([[[  0, 255,   0],\n",
      "        [  0, 255,   0],\n",
      "        [  0, 255,   0],\n",
      "        ...,\n",
      "        [  3,   0,   1],\n",
      "        [  6,   1,   2],\n",
      "        [  6,   1,   2]],\n",
      "\n",
      "       [[  0, 255,   0],\n",
      "        [  0, 255,   0],\n",
      "        [  0, 255,   0],\n",
      "        ...,\n",
      "        [218, 215, 216],\n",
      "        [229, 224, 225],\n",
      "        [240, 235, 236]],\n",
      "\n",
      "       [[  0, 255,   0],\n",
      "        [  0, 255,   0],\n",
      "        [  0, 255,   0],\n",
      "        ...,\n",
      "        [237, 234, 235],\n",
      "        [253, 248, 249],\n",
      "        [255, 255, 255]],\n",
      "\n",
      "       ...,\n",
      "\n",
      "       [[127, 119, 109],\n",
      "        [128, 120, 110],\n",
      "        [128, 120, 110],\n",
      "        ...,\n",
      "        [102, 108, 103],\n",
      "        [104, 108, 103],\n",
      "        [105, 109, 104]],\n",
      "\n",
      "       [[123, 117, 112],\n",
      "        [124, 118, 113],\n",
      "        [124, 118, 113],\n",
      "        ...,\n",
      "        [103, 109, 104],\n",
      "        [105, 109, 104],\n",
      "        [105, 109, 104]],\n",
      "\n",
      "       [[123, 117, 112],\n",
      "        [124, 118, 113],\n",
      "        [124, 118, 113],\n",
      "        ...,\n",
      "        [104, 110, 105],\n",
      "        [105, 109, 104],\n",
      "        [104, 108, 103]]], dtype=uint8)\n",
      "orig_shape: (720, 1280)\n",
      "path: 'image0.jpg'\n",
      "probs: None\n",
      "save_dir: 'runs\\\\detect\\\\predict'\n",
      "speed: {'preprocess': 0.0, 'inference': 7.518768310546875, 'postprocess': 0.0}]\n",
      "\n",
      "0: 384x640 2 persons, 21.4ms\n",
      "Speed: 1.0ms preprocess, 21.4ms inference, 2.0ms postprocess per image at shape (1, 3, 384, 640)\n",
      "\n",
      "0: 96x128 (no detections), 7.0ms\n",
      "Speed: 0.0ms preprocess, 7.0ms inference, 0.0ms postprocess per image at shape (1, 3, 96, 128)\n",
      "predictions: [ultralytics.engine.results.Results object with attributes:\n",
      "\n",
      "boxes: ultralytics.engine.results.Boxes object\n",
      "keypoints: None\n",
      "masks: None\n",
      "names: {0: 'Hand_Raised'}\n",
      "obb: None\n",
      "orig_img: array([[[  0, 255,   0],\n",
      "        [  0, 255,   0],\n",
      "        [  0, 255,   0],\n",
      "        ...,\n",
      "        [  2,   0,   0],\n",
      "        [  5,   0,   1],\n",
      "        [  6,   1,   2]],\n",
      "\n",
      "       [[  0, 255,   0],\n",
      "        [  0, 255,   0],\n",
      "        [  0, 255,   0],\n",
      "        ...,\n",
      "        [217, 214, 215],\n",
      "        [228, 223, 224],\n",
      "        [240, 235, 236]],\n",
      "\n",
      "       [[  0, 255,   0],\n",
      "        [  0, 255,   0],\n",
      "        [  0, 255,   0],\n",
      "        ...,\n",
      "        [236, 233, 234],\n",
      "        [252, 247, 248],\n",
      "        [255, 255, 255]],\n",
      "\n",
      "       ...,\n",
      "\n",
      "       [[128, 120, 110],\n",
      "        [129, 121, 111],\n",
      "        [129, 121, 111],\n",
      "        ...,\n",
      "        [102, 108, 103],\n",
      "        [104, 108, 103],\n",
      "        [105, 109, 104]],\n",
      "\n",
      "       [[123, 117, 112],\n",
      "        [124, 118, 113],\n",
      "        [124, 118, 113],\n",
      "        ...,\n",
      "        [103, 109, 104],\n",
      "        [105, 109, 104],\n",
      "        [105, 109, 104]],\n",
      "\n",
      "       [[123, 117, 112],\n",
      "        [124, 118, 113],\n",
      "        [124, 118, 113],\n",
      "        ...,\n",
      "        [104, 110, 105],\n",
      "        [105, 109, 104],\n",
      "        [104, 108, 103]]], dtype=uint8)\n",
      "orig_shape: (720, 1280)\n",
      "path: 'image0.jpg'\n",
      "probs: None\n",
      "save_dir: 'runs\\\\detect\\\\predict'\n",
      "speed: {'preprocess': 0.0, 'inference': 7.0037841796875, 'postprocess': 0.0}]\n",
      "\n",
      "0: 384x640 2 persons, 22.0ms\n",
      "Speed: 0.0ms preprocess, 22.0ms inference, 1.0ms postprocess per image at shape (1, 3, 384, 640)\n",
      "\n",
      "0: 96x128 (no detections), 8.0ms\n",
      "Speed: 0.0ms preprocess, 8.0ms inference, 0.0ms postprocess per image at shape (1, 3, 96, 128)\n",
      "predictions: [ultralytics.engine.results.Results object with attributes:\n",
      "\n",
      "boxes: ultralytics.engine.results.Boxes object\n",
      "keypoints: None\n",
      "masks: None\n",
      "names: {0: 'Hand_Raised'}\n",
      "obb: None\n",
      "orig_img: array([[[  0, 255,   0],\n",
      "        [  0, 255,   0],\n",
      "        [  0, 255,   0],\n",
      "        ...,\n",
      "        [  2,   0,   0],\n",
      "        [  5,   0,   1],\n",
      "        [  7,   2,   3]],\n",
      "\n",
      "       [[  0, 255,   0],\n",
      "        [  0, 255,   0],\n",
      "        [  0, 255,   0],\n",
      "        ...,\n",
      "        [217, 214, 215],\n",
      "        [228, 223, 224],\n",
      "        [241, 236, 237]],\n",
      "\n",
      "       [[  0, 255,   0],\n",
      "        [  0, 255,   0],\n",
      "        [  0, 255,   0],\n",
      "        ...,\n",
      "        [236, 233, 234],\n",
      "        [252, 247, 248],\n",
      "        [255, 255, 255]],\n",
      "\n",
      "       ...,\n",
      "\n",
      "       [[128, 120, 108],\n",
      "        [129, 121, 109],\n",
      "        [129, 121, 109],\n",
      "        ...,\n",
      "        [102, 108, 103],\n",
      "        [104, 108, 103],\n",
      "        [105, 109, 104]],\n",
      "\n",
      "       [[122, 117, 109],\n",
      "        [123, 118, 110],\n",
      "        [123, 118, 110],\n",
      "        ...,\n",
      "        [103, 109, 104],\n",
      "        [105, 109, 104],\n",
      "        [105, 109, 104]],\n",
      "\n",
      "       [[123, 118, 110],\n",
      "        [124, 119, 111],\n",
      "        [124, 119, 111],\n",
      "        ...,\n",
      "        [104, 110, 105],\n",
      "        [105, 109, 104],\n",
      "        [104, 108, 103]]], dtype=uint8)\n",
      "orig_shape: (720, 1280)\n",
      "path: 'image0.jpg'\n",
      "probs: None\n",
      "save_dir: 'runs\\\\detect\\\\predict'\n",
      "speed: {'preprocess': 0.0, 'inference': 8.000612258911133, 'postprocess': 0.0}]\n",
      "\n",
      "0: 384x640 2 persons, 21.0ms\n",
      "Speed: 1.0ms preprocess, 21.0ms inference, 1.0ms postprocess per image at shape (1, 3, 384, 640)\n",
      "\n",
      "0: 96x128 (no detections), 7.0ms\n",
      "Speed: 0.0ms preprocess, 7.0ms inference, 1.0ms postprocess per image at shape (1, 3, 96, 128)\n",
      "predictions: [ultralytics.engine.results.Results object with attributes:\n",
      "\n",
      "boxes: ultralytics.engine.results.Boxes object\n",
      "keypoints: None\n",
      "masks: None\n",
      "names: {0: 'Hand_Raised'}\n",
      "obb: None\n",
      "orig_img: array([[[  0, 255,   0],\n",
      "        [  0, 255,   0],\n",
      "        [  0, 255,   0],\n",
      "        ...,\n",
      "        [  2,   0,   0],\n",
      "        [  5,   0,   1],\n",
      "        [  7,   2,   3]],\n",
      "\n",
      "       [[  0, 255,   0],\n",
      "        [  0, 255,   0],\n",
      "        [  0, 255,   0],\n",
      "        ...,\n",
      "        [217, 214, 215],\n",
      "        [228, 223, 224],\n",
      "        [241, 236, 237]],\n",
      "\n",
      "       [[  0, 255,   0],\n",
      "        [  0, 255,   0],\n",
      "        [  0, 255,   0],\n",
      "        ...,\n",
      "        [236, 233, 234],\n",
      "        [252, 247, 248],\n",
      "        [255, 255, 255]],\n",
      "\n",
      "       ...,\n",
      "\n",
      "       [[128, 120, 108],\n",
      "        [129, 121, 109],\n",
      "        [129, 121, 109],\n",
      "        ...,\n",
      "        [102, 108, 103],\n",
      "        [104, 108, 103],\n",
      "        [105, 109, 104]],\n",
      "\n",
      "       [[123, 118, 110],\n",
      "        [124, 119, 111],\n",
      "        [124, 119, 111],\n",
      "        ...,\n",
      "        [103, 109, 104],\n",
      "        [105, 109, 104],\n",
      "        [105, 109, 104]],\n",
      "\n",
      "       [[123, 118, 110],\n",
      "        [124, 119, 111],\n",
      "        [124, 119, 111],\n",
      "        ...,\n",
      "        [104, 110, 105],\n",
      "        [105, 109, 104],\n",
      "        [104, 108, 103]]], dtype=uint8)\n",
      "orig_shape: (720, 1280)\n",
      "path: 'image0.jpg'\n",
      "probs: None\n",
      "save_dir: 'runs\\\\detect\\\\predict'\n",
      "speed: {'preprocess': 0.0, 'inference': 7.009744644165039, 'postprocess': 0.9903907775878906}]\n",
      "\n",
      "0: 384x640 2 persons, 20.5ms\n",
      "Speed: 0.0ms preprocess, 20.5ms inference, 1.0ms postprocess per image at shape (1, 3, 384, 640)\n",
      "\n",
      "0: 96x128 (no detections), 14.0ms\n",
      "Speed: 0.0ms preprocess, 14.0ms inference, 0.0ms postprocess per image at shape (1, 3, 96, 128)\n",
      "predictions: [ultralytics.engine.results.Results object with attributes:\n",
      "\n",
      "boxes: ultralytics.engine.results.Boxes object\n",
      "keypoints: None\n",
      "masks: None\n",
      "names: {0: 'Hand_Raised'}\n",
      "obb: None\n",
      "orig_img: array([[[  0, 255,   0],\n",
      "        [  0, 255,   0],\n",
      "        [  0, 255,   0],\n",
      "        ...,\n",
      "        [  3,   0,   1],\n",
      "        [  6,   1,   2],\n",
      "        [  6,   1,   2]],\n",
      "\n",
      "       [[  0, 255,   0],\n",
      "        [  0, 255,   0],\n",
      "        [  0, 255,   0],\n",
      "        ...,\n",
      "        [218, 215, 216],\n",
      "        [229, 224, 225],\n",
      "        [240, 235, 236]],\n",
      "\n",
      "       [[  0, 255,   0],\n",
      "        [  0, 255,   0],\n",
      "        [  0, 255,   0],\n",
      "        ...,\n",
      "        [237, 234, 235],\n",
      "        [253, 248, 249],\n",
      "        [255, 255, 255]],\n",
      "\n",
      "       ...,\n",
      "\n",
      "       [[127, 119, 107],\n",
      "        [128, 120, 108],\n",
      "        [128, 120, 108],\n",
      "        ...,\n",
      "        [102, 108, 103],\n",
      "        [104, 108, 103],\n",
      "        [105, 109, 104]],\n",
      "\n",
      "       [[123, 118, 110],\n",
      "        [124, 119, 111],\n",
      "        [124, 119, 111],\n",
      "        ...,\n",
      "        [103, 109, 104],\n",
      "        [105, 109, 104],\n",
      "        [105, 109, 104]],\n",
      "\n",
      "       [[123, 118, 110],\n",
      "        [124, 119, 111],\n",
      "        [124, 119, 111],\n",
      "        ...,\n",
      "        [104, 110, 105],\n",
      "        [105, 109, 104],\n",
      "        [104, 108, 103]]], dtype=uint8)\n",
      "orig_shape: (720, 1280)\n",
      "path: 'image0.jpg'\n",
      "probs: None\n",
      "save_dir: 'runs\\\\detect\\\\predict'\n",
      "speed: {'preprocess': 0.0, 'inference': 13.968706130981445, 'postprocess': 0.0}]\n",
      "\n",
      "0: 384x640 2 persons, 21.0ms\n",
      "Speed: 1.0ms preprocess, 21.0ms inference, 1.0ms postprocess per image at shape (1, 3, 384, 640)\n",
      "\n",
      "0: 96x128 (no detections), 7.0ms\n",
      "Speed: 1.0ms preprocess, 7.0ms inference, 0.0ms postprocess per image at shape (1, 3, 96, 128)\n",
      "predictions: [ultralytics.engine.results.Results object with attributes:\n",
      "\n",
      "boxes: ultralytics.engine.results.Boxes object\n",
      "keypoints: None\n",
      "masks: None\n",
      "names: {0: 'Hand_Raised'}\n",
      "obb: None\n",
      "orig_img: array([[[  0, 255,   0],\n",
      "        [  0, 255,   0],\n",
      "        [  0, 255,   0],\n",
      "        ...,\n",
      "        [  3,   0,   1],\n",
      "        [  6,   1,   2],\n",
      "        [  7,   2,   3]],\n",
      "\n",
      "       [[  0, 255,   0],\n",
      "        [  0, 255,   0],\n",
      "        [  0, 255,   0],\n",
      "        ...,\n",
      "        [218, 215, 216],\n",
      "        [229, 224, 225],\n",
      "        [241, 236, 237]],\n",
      "\n",
      "       [[  0, 255,   0],\n",
      "        [  0, 255,   0],\n",
      "        [  0, 255,   0],\n",
      "        ...,\n",
      "        [237, 234, 235],\n",
      "        [253, 248, 249],\n",
      "        [255, 255, 255]],\n",
      "\n",
      "       ...,\n",
      "\n",
      "       [[127, 119, 107],\n",
      "        [128, 120, 108],\n",
      "        [128, 120, 108],\n",
      "        ...,\n",
      "        [100, 106, 101],\n",
      "        [105, 109, 104],\n",
      "        [107, 111, 106]],\n",
      "\n",
      "       [[123, 118, 110],\n",
      "        [124, 119, 111],\n",
      "        [124, 119, 111],\n",
      "        ...,\n",
      "        [102, 108, 103],\n",
      "        [106, 110, 105],\n",
      "        [107, 111, 106]],\n",
      "\n",
      "       [[123, 118, 110],\n",
      "        [124, 119, 111],\n",
      "        [124, 119, 111],\n",
      "        ...,\n",
      "        [103, 109, 104],\n",
      "        [106, 110, 105],\n",
      "        [106, 110, 105]]], dtype=uint8)\n",
      "orig_shape: (720, 1280)\n",
      "path: 'image0.jpg'\n",
      "probs: None\n",
      "save_dir: 'runs\\\\detect\\\\predict'\n",
      "speed: {'preprocess': 1.009225845336914, 'inference': 6.988286972045898, 'postprocess': 0.0}]\n",
      "\n",
      "0: 384x640 2 persons, 24.1ms\n",
      "Speed: 0.0ms preprocess, 24.1ms inference, 1.0ms postprocess per image at shape (1, 3, 384, 640)\n",
      "\n",
      "0: 96x128 (no detections), 6.7ms\n",
      "Speed: 1.0ms preprocess, 6.7ms inference, 0.0ms postprocess per image at shape (1, 3, 96, 128)\n",
      "predictions: [ultralytics.engine.results.Results object with attributes:\n",
      "\n",
      "boxes: ultralytics.engine.results.Boxes object\n",
      "keypoints: None\n",
      "masks: None\n",
      "names: {0: 'Hand_Raised'}\n",
      "obb: None\n",
      "orig_img: array([[[  0, 255,   0],\n",
      "        [  0, 255,   0],\n",
      "        [  0, 255,   0],\n",
      "        ...,\n",
      "        [  2,   0,   0],\n",
      "        [  5,   0,   1],\n",
      "        [  7,   2,   3]],\n",
      "\n",
      "       [[  0, 255,   0],\n",
      "        [  0, 255,   0],\n",
      "        [  0, 255,   0],\n",
      "        ...,\n",
      "        [217, 214, 215],\n",
      "        [228, 223, 224],\n",
      "        [241, 236, 237]],\n",
      "\n",
      "       [[  0, 255,   0],\n",
      "        [  0, 255,   0],\n",
      "        [  0, 255,   0],\n",
      "        ...,\n",
      "        [236, 233, 234],\n",
      "        [252, 247, 248],\n",
      "        [255, 255, 255]],\n",
      "\n",
      "       ...,\n",
      "\n",
      "       [[127, 119, 107],\n",
      "        [128, 120, 108],\n",
      "        [128, 120, 108],\n",
      "        ...,\n",
      "        [100, 106, 101],\n",
      "        [105, 109, 104],\n",
      "        [107, 111, 106]],\n",
      "\n",
      "       [[123, 118, 110],\n",
      "        [124, 119, 111],\n",
      "        [124, 119, 111],\n",
      "        ...,\n",
      "        [102, 108, 103],\n",
      "        [106, 110, 105],\n",
      "        [107, 111, 106]],\n",
      "\n",
      "       [[123, 118, 110],\n",
      "        [124, 119, 111],\n",
      "        [124, 119, 111],\n",
      "        ...,\n",
      "        [103, 109, 104],\n",
      "        [106, 110, 105],\n",
      "        [106, 110, 105]]], dtype=uint8)\n",
      "orig_shape: (720, 1280)\n",
      "path: 'image0.jpg'\n",
      "probs: None\n",
      "save_dir: 'runs\\\\detect\\\\predict'\n",
      "speed: {'preprocess': 0.9925365447998047, 'inference': 6.69407844543457, 'postprocess': 0.0}]\n",
      "\n",
      "0: 384x640 2 persons, 22.9ms\n",
      "Speed: 1.0ms preprocess, 22.9ms inference, 1.1ms postprocess per image at shape (1, 3, 384, 640)\n",
      "\n",
      "0: 96x128 (no detections), 9.1ms\n",
      "Speed: 0.0ms preprocess, 9.1ms inference, 0.0ms postprocess per image at shape (1, 3, 96, 128)\n",
      "predictions: [ultralytics.engine.results.Results object with attributes:\n",
      "\n",
      "boxes: ultralytics.engine.results.Boxes object\n",
      "keypoints: None\n",
      "masks: None\n",
      "names: {0: 'Hand_Raised'}\n",
      "obb: None\n",
      "orig_img: array([[[  0, 255,   0],\n",
      "        [  0, 255,   0],\n",
      "        [  0, 255,   0],\n",
      "        ...,\n",
      "        [  3,   0,   1],\n",
      "        [  6,   1,   2],\n",
      "        [  6,   1,   2]],\n",
      "\n",
      "       [[  0, 255,   0],\n",
      "        [  0, 255,   0],\n",
      "        [  0, 255,   0],\n",
      "        ...,\n",
      "        [216, 213, 214],\n",
      "        [227, 222, 223],\n",
      "        [239, 234, 235]],\n",
      "\n",
      "       [[  0, 255,   0],\n",
      "        [  0, 255,   0],\n",
      "        [  0, 255,   0],\n",
      "        ...,\n",
      "        [234, 231, 232],\n",
      "        [250, 245, 246],\n",
      "        [255, 254, 255]],\n",
      "\n",
      "       ...,\n",
      "\n",
      "       [[127, 120, 105],\n",
      "        [128, 121, 106],\n",
      "        [128, 121, 106],\n",
      "        ...,\n",
      "        [100, 106, 101],\n",
      "        [105, 109, 104],\n",
      "        [107, 111, 106]],\n",
      "\n",
      "       [[123, 118, 110],\n",
      "        [124, 119, 111],\n",
      "        [124, 119, 111],\n",
      "        ...,\n",
      "        [102, 108, 103],\n",
      "        [106, 110, 105],\n",
      "        [107, 111, 106]],\n",
      "\n",
      "       [[124, 119, 111],\n",
      "        [125, 120, 112],\n",
      "        [125, 120, 112],\n",
      "        ...,\n",
      "        [103, 109, 104],\n",
      "        [106, 110, 105],\n",
      "        [106, 110, 105]]], dtype=uint8)\n",
      "orig_shape: (720, 1280)\n",
      "path: 'image0.jpg'\n",
      "probs: None\n",
      "save_dir: 'runs\\\\detect\\\\predict'\n",
      "speed: {'preprocess': 0.0, 'inference': 9.084939956665039, 'postprocess': 0.0}]\n",
      "\n",
      "0: 384x640 2 persons, 23.0ms\n",
      "Speed: 1.0ms preprocess, 23.0ms inference, 1.0ms postprocess per image at shape (1, 3, 384, 640)\n",
      "\n",
      "0: 96x128 (no detections), 7.1ms\n",
      "Speed: 1.0ms preprocess, 7.1ms inference, 0.0ms postprocess per image at shape (1, 3, 96, 128)\n",
      "predictions: [ultralytics.engine.results.Results object with attributes:\n",
      "\n",
      "boxes: ultralytics.engine.results.Boxes object\n",
      "keypoints: None\n",
      "masks: None\n",
      "names: {0: 'Hand_Raised'}\n",
      "obb: None\n",
      "orig_img: array([[[  0, 255,   0],\n",
      "        [  0, 255,   0],\n",
      "        [  0, 255,   0],\n",
      "        ...,\n",
      "        [  3,   0,   1],\n",
      "        [  6,   1,   2],\n",
      "        [  6,   1,   2]],\n",
      "\n",
      "       [[  0, 255,   0],\n",
      "        [  0, 255,   0],\n",
      "        [  0, 255,   0],\n",
      "        ...,\n",
      "        [216, 213, 214],\n",
      "        [227, 222, 223],\n",
      "        [239, 234, 235]],\n",
      "\n",
      "       [[  0, 255,   0],\n",
      "        [  0, 255,   0],\n",
      "        [  0, 255,   0],\n",
      "        ...,\n",
      "        [234, 231, 232],\n",
      "        [250, 245, 246],\n",
      "        [255, 254, 255]],\n",
      "\n",
      "       ...,\n",
      "\n",
      "       [[127, 120, 105],\n",
      "        [128, 121, 106],\n",
      "        [128, 121, 106],\n",
      "        ...,\n",
      "        [100, 106, 101],\n",
      "        [105, 109, 104],\n",
      "        [107, 111, 106]],\n",
      "\n",
      "       [[123, 118, 110],\n",
      "        [124, 119, 111],\n",
      "        [124, 119, 111],\n",
      "        ...,\n",
      "        [102, 108, 103],\n",
      "        [106, 110, 105],\n",
      "        [107, 111, 106]],\n",
      "\n",
      "       [[124, 119, 111],\n",
      "        [125, 120, 112],\n",
      "        [125, 120, 112],\n",
      "        ...,\n",
      "        [103, 109, 104],\n",
      "        [106, 110, 105],\n",
      "        [106, 110, 105]]], dtype=uint8)\n",
      "orig_shape: (720, 1280)\n",
      "path: 'image0.jpg'\n",
      "probs: None\n",
      "save_dir: 'runs\\\\detect\\\\predict'\n",
      "speed: {'preprocess': 1.0082721710205078, 'inference': 7.084846496582031, 'postprocess': 0.0}]\n",
      "\n",
      "0: 384x640 2 persons, 23.0ms\n",
      "Speed: 1.0ms preprocess, 23.0ms inference, 1.0ms postprocess per image at shape (1, 3, 384, 640)\n",
      "\n",
      "0: 96x128 (no detections), 8.0ms\n",
      "Speed: 0.0ms preprocess, 8.0ms inference, 0.0ms postprocess per image at shape (1, 3, 96, 128)\n",
      "predictions: [ultralytics.engine.results.Results object with attributes:\n",
      "\n",
      "boxes: ultralytics.engine.results.Boxes object\n",
      "keypoints: None\n",
      "masks: None\n",
      "names: {0: 'Hand_Raised'}\n",
      "obb: None\n",
      "orig_img: array([[[  0, 255,   0],\n",
      "        [  0, 255,   0],\n",
      "        [  0, 255,   0],\n",
      "        ...,\n",
      "        [  3,   0,   1],\n",
      "        [  6,   1,   2],\n",
      "        [  6,   1,   2]],\n",
      "\n",
      "       [[  0, 255,   0],\n",
      "        [  0, 255,   0],\n",
      "        [  0, 255,   0],\n",
      "        ...,\n",
      "        [216, 213, 214],\n",
      "        [227, 222, 223],\n",
      "        [239, 234, 235]],\n",
      "\n",
      "       [[  0, 255,   0],\n",
      "        [  0, 255,   0],\n",
      "        [  0, 255,   0],\n",
      "        ...,\n",
      "        [234, 231, 232],\n",
      "        [250, 245, 246],\n",
      "        [255, 254, 255]],\n",
      "\n",
      "       ...,\n",
      "\n",
      "       [[128, 119, 103],\n",
      "        [129, 120, 104],\n",
      "        [129, 120, 104],\n",
      "        ...,\n",
      "        [100, 106, 101],\n",
      "        [105, 109, 104],\n",
      "        [107, 111, 106]],\n",
      "\n",
      "       [[126, 120, 110],\n",
      "        [127, 121, 111],\n",
      "        [127, 121, 111],\n",
      "        ...,\n",
      "        [102, 108, 103],\n",
      "        [106, 110, 105],\n",
      "        [107, 111, 106]],\n",
      "\n",
      "       [[126, 120, 110],\n",
      "        [127, 121, 111],\n",
      "        [127, 121, 111],\n",
      "        ...,\n",
      "        [103, 109, 104],\n",
      "        [106, 110, 105],\n",
      "        [106, 110, 105]]], dtype=uint8)\n",
      "orig_shape: (720, 1280)\n",
      "path: 'image0.jpg'\n",
      "probs: None\n",
      "save_dir: 'runs\\\\detect\\\\predict'\n",
      "speed: {'preprocess': 0.0, 'inference': 8.00633430480957, 'postprocess': 0.0}]\n",
      "\n",
      "0: 384x640 2 persons, 23.0ms\n",
      "Speed: 1.0ms preprocess, 23.0ms inference, 2.0ms postprocess per image at shape (1, 3, 384, 640)\n",
      "\n",
      "0: 96x128 (no detections), 7.0ms\n",
      "Speed: 1.0ms preprocess, 7.0ms inference, 0.0ms postprocess per image at shape (1, 3, 96, 128)\n",
      "predictions: [ultralytics.engine.results.Results object with attributes:\n",
      "\n",
      "boxes: ultralytics.engine.results.Boxes object\n",
      "keypoints: None\n",
      "masks: None\n",
      "names: {0: 'Hand_Raised'}\n",
      "obb: None\n",
      "orig_img: array([[[  0, 255,   0],\n",
      "        [  0, 255,   0],\n",
      "        [  0, 255,   0],\n",
      "        ...,\n",
      "        [  3,   0,   1],\n",
      "        [  6,   1,   2],\n",
      "        [  6,   1,   2]],\n",
      "\n",
      "       [[  0, 255,   0],\n",
      "        [  0, 255,   0],\n",
      "        [  0, 255,   0],\n",
      "        ...,\n",
      "        [216, 213, 214],\n",
      "        [227, 222, 223],\n",
      "        [239, 234, 235]],\n",
      "\n",
      "       [[  0, 255,   0],\n",
      "        [  0, 255,   0],\n",
      "        [  0, 255,   0],\n",
      "        ...,\n",
      "        [234, 231, 232],\n",
      "        [250, 245, 246],\n",
      "        [255, 254, 255]],\n",
      "\n",
      "       ...,\n",
      "\n",
      "       [[128, 119, 103],\n",
      "        [129, 120, 104],\n",
      "        [129, 120, 104],\n",
      "        ...,\n",
      "        [100, 106, 101],\n",
      "        [105, 109, 104],\n",
      "        [107, 111, 106]],\n",
      "\n",
      "       [[126, 120, 110],\n",
      "        [127, 121, 111],\n",
      "        [127, 121, 111],\n",
      "        ...,\n",
      "        [102, 108, 103],\n",
      "        [106, 110, 105],\n",
      "        [107, 111, 106]],\n",
      "\n",
      "       [[126, 120, 110],\n",
      "        [127, 121, 111],\n",
      "        [127, 121, 111],\n",
      "        ...,\n",
      "        [103, 109, 104],\n",
      "        [106, 110, 105],\n",
      "        [106, 110, 105]]], dtype=uint8)\n",
      "orig_shape: (720, 1280)\n",
      "path: 'image0.jpg'\n",
      "probs: None\n",
      "save_dir: 'runs\\\\detect\\\\predict'\n",
      "speed: {'preprocess': 0.9996891021728516, 'inference': 6.998538970947266, 'postprocess': 0.0}]\n",
      "\n",
      "0: 384x640 2 persons, 22.0ms\n",
      "Speed: 1.0ms preprocess, 22.0ms inference, 1.0ms postprocess per image at shape (1, 3, 384, 640)\n",
      "\n",
      "0: 96x128 (no detections), 7.0ms\n",
      "Speed: 0.0ms preprocess, 7.0ms inference, 0.0ms postprocess per image at shape (1, 3, 96, 128)\n",
      "predictions: [ultralytics.engine.results.Results object with attributes:\n",
      "\n",
      "boxes: ultralytics.engine.results.Boxes object\n",
      "keypoints: None\n",
      "masks: None\n",
      "names: {0: 'Hand_Raised'}\n",
      "obb: None\n",
      "orig_img: array([[[  0, 255,   0],\n",
      "        [  0, 255,   0],\n",
      "        [  0, 255,   0],\n",
      "        ...,\n",
      "        [  3,   0,   1],\n",
      "        [  6,   1,   2],\n",
      "        [  6,   1,   2]],\n",
      "\n",
      "       [[  0, 255,   0],\n",
      "        [  0, 255,   0],\n",
      "        [  0, 255,   0],\n",
      "        ...,\n",
      "        [216, 213, 214],\n",
      "        [227, 222, 223],\n",
      "        [239, 234, 235]],\n",
      "\n",
      "       [[  0, 255,   0],\n",
      "        [  0, 255,   0],\n",
      "        [  0, 255,   0],\n",
      "        ...,\n",
      "        [234, 231, 232],\n",
      "        [250, 245, 246],\n",
      "        [255, 254, 255]],\n",
      "\n",
      "       ...,\n",
      "\n",
      "       [[129, 120, 104],\n",
      "        [130, 121, 105],\n",
      "        [130, 121, 105],\n",
      "        ...,\n",
      "        [100, 106, 101],\n",
      "        [105, 109, 104],\n",
      "        [107, 111, 106]],\n",
      "\n",
      "       [[126, 120, 110],\n",
      "        [127, 121, 111],\n",
      "        [127, 121, 111],\n",
      "        ...,\n",
      "        [102, 108, 103],\n",
      "        [106, 110, 105],\n",
      "        [107, 111, 106]],\n",
      "\n",
      "       [[125, 119, 109],\n",
      "        [126, 120, 110],\n",
      "        [126, 120, 110],\n",
      "        ...,\n",
      "        [103, 109, 104],\n",
      "        [106, 110, 105],\n",
      "        [106, 110, 105]]], dtype=uint8)\n",
      "orig_shape: (720, 1280)\n",
      "path: 'image0.jpg'\n",
      "probs: None\n",
      "save_dir: 'runs\\\\detect\\\\predict'\n",
      "speed: {'preprocess': 0.0, 'inference': 6.995201110839844, 'postprocess': 0.0}]\n",
      "\n",
      "0: 384x640 2 persons, 22.0ms\n",
      "Speed: 0.0ms preprocess, 22.0ms inference, 2.0ms postprocess per image at shape (1, 3, 384, 640)\n",
      "\n",
      "0: 96x128 (no detections), 7.0ms\n",
      "Speed: 1.0ms preprocess, 7.0ms inference, 0.0ms postprocess per image at shape (1, 3, 96, 128)\n",
      "predictions: [ultralytics.engine.results.Results object with attributes:\n",
      "\n",
      "boxes: ultralytics.engine.results.Boxes object\n",
      "keypoints: None\n",
      "masks: None\n",
      "names: {0: 'Hand_Raised'}\n",
      "obb: None\n",
      "orig_img: array([[[  0, 255,   0],\n",
      "        [  0, 255,   0],\n",
      "        [  0, 255,   0],\n",
      "        ...,\n",
      "        [  3,   0,   1],\n",
      "        [  6,   1,   2],\n",
      "        [  6,   1,   2]],\n",
      "\n",
      "       [[  0, 255,   0],\n",
      "        [  0, 255,   0],\n",
      "        [  0, 255,   0],\n",
      "        ...,\n",
      "        [216, 213, 214],\n",
      "        [227, 222, 223],\n",
      "        [239, 234, 235]],\n",
      "\n",
      "       [[  0, 255,   0],\n",
      "        [  0, 255,   0],\n",
      "        [  0, 255,   0],\n",
      "        ...,\n",
      "        [234, 231, 232],\n",
      "        [250, 245, 246],\n",
      "        [255, 254, 255]],\n",
      "\n",
      "       ...,\n",
      "\n",
      "       [[128, 119, 103],\n",
      "        [129, 120, 104],\n",
      "        [129, 120, 104],\n",
      "        ...,\n",
      "        [100, 106, 101],\n",
      "        [105, 109, 104],\n",
      "        [107, 111, 106]],\n",
      "\n",
      "       [[126, 120, 110],\n",
      "        [127, 121, 111],\n",
      "        [127, 121, 111],\n",
      "        ...,\n",
      "        [102, 108, 103],\n",
      "        [106, 110, 105],\n",
      "        [107, 111, 106]],\n",
      "\n",
      "       [[125, 119, 109],\n",
      "        [126, 120, 110],\n",
      "        [126, 120, 110],\n",
      "        ...,\n",
      "        [103, 109, 104],\n",
      "        [106, 110, 105],\n",
      "        [106, 110, 105]]], dtype=uint8)\n",
      "orig_shape: (720, 1280)\n",
      "path: 'image0.jpg'\n",
      "probs: None\n",
      "save_dir: 'runs\\\\detect\\\\predict'\n",
      "speed: {'preprocess': 0.9665489196777344, 'inference': 7.02667236328125, 'postprocess': 0.0}]\n",
      "\n",
      "0: 384x640 2 persons, 20.7ms\n",
      "Speed: 1.0ms preprocess, 20.7ms inference, 1.0ms postprocess per image at shape (1, 3, 384, 640)\n",
      "\n",
      "0: 96x128 (no detections), 14.0ms\n",
      "Speed: 0.0ms preprocess, 14.0ms inference, 0.0ms postprocess per image at shape (1, 3, 96, 128)\n",
      "predictions: [ultralytics.engine.results.Results object with attributes:\n",
      "\n",
      "boxes: ultralytics.engine.results.Boxes object\n",
      "keypoints: None\n",
      "masks: None\n",
      "names: {0: 'Hand_Raised'}\n",
      "obb: None\n",
      "orig_img: array([[[  0, 255,   0],\n",
      "        [  0, 255,   0],\n",
      "        [  0, 255,   0],\n",
      "        ...,\n",
      "        [  3,   0,   1],\n",
      "        [  6,   1,   2],\n",
      "        [  6,   1,   2]],\n",
      "\n",
      "       [[  0, 255,   0],\n",
      "        [  0, 255,   0],\n",
      "        [  0, 255,   0],\n",
      "        ...,\n",
      "        [216, 213, 214],\n",
      "        [227, 222, 223],\n",
      "        [239, 234, 235]],\n",
      "\n",
      "       [[  0, 255,   0],\n",
      "        [  0, 255,   0],\n",
      "        [  0, 255,   0],\n",
      "        ...,\n",
      "        [234, 231, 232],\n",
      "        [250, 245, 246],\n",
      "        [255, 254, 255]],\n",
      "\n",
      "       ...,\n",
      "\n",
      "       [[129, 120, 104],\n",
      "        [130, 121, 105],\n",
      "        [130, 121, 105],\n",
      "        ...,\n",
      "        [100, 106, 101],\n",
      "        [105, 109, 104],\n",
      "        [107, 111, 106]],\n",
      "\n",
      "       [[126, 120, 110],\n",
      "        [127, 121, 111],\n",
      "        [127, 121, 111],\n",
      "        ...,\n",
      "        [102, 108, 103],\n",
      "        [106, 110, 105],\n",
      "        [107, 111, 106]],\n",
      "\n",
      "       [[125, 119, 109],\n",
      "        [126, 120, 110],\n",
      "        [126, 120, 110],\n",
      "        ...,\n",
      "        [103, 109, 104],\n",
      "        [106, 110, 105],\n",
      "        [106, 110, 105]]], dtype=uint8)\n",
      "orig_shape: (720, 1280)\n",
      "path: 'image0.jpg'\n",
      "probs: None\n",
      "save_dir: 'runs\\\\detect\\\\predict'\n",
      "speed: {'preprocess': 0.0, 'inference': 14.018774032592773, 'postprocess': 0.0}]\n",
      "\n",
      "0: 384x640 2 persons, 21.0ms\n",
      "Speed: 1.0ms preprocess, 21.0ms inference, 1.0ms postprocess per image at shape (1, 3, 384, 640)\n",
      "\n",
      "0: 96x128 (no detections), 7.0ms\n",
      "Speed: 0.0ms preprocess, 7.0ms inference, 0.0ms postprocess per image at shape (1, 3, 96, 128)\n",
      "predictions: [ultralytics.engine.results.Results object with attributes:\n",
      "\n",
      "boxes: ultralytics.engine.results.Boxes object\n",
      "keypoints: None\n",
      "masks: None\n",
      "names: {0: 'Hand_Raised'}\n",
      "obb: None\n",
      "orig_img: array([[[  0, 255,   0],\n",
      "        [  0, 255,   0],\n",
      "        [  0, 255,   0],\n",
      "        ...,\n",
      "        [  3,   0,   1],\n",
      "        [  6,   1,   2],\n",
      "        [  6,   1,   2]],\n",
      "\n",
      "       [[  0, 255,   0],\n",
      "        [  0, 255,   0],\n",
      "        [  0, 255,   0],\n",
      "        ...,\n",
      "        [216, 213, 214],\n",
      "        [227, 222, 223],\n",
      "        [239, 234, 235]],\n",
      "\n",
      "       [[  0, 255,   0],\n",
      "        [  0, 255,   0],\n",
      "        [  0, 255,   0],\n",
      "        ...,\n",
      "        [234, 231, 232],\n",
      "        [250, 245, 246],\n",
      "        [255, 254, 255]],\n",
      "\n",
      "       ...,\n",
      "\n",
      "       [[128, 119, 103],\n",
      "        [129, 120, 104],\n",
      "        [129, 120, 104],\n",
      "        ...,\n",
      "        [100, 106, 101],\n",
      "        [105, 109, 104],\n",
      "        [107, 111, 106]],\n",
      "\n",
      "       [[126, 120, 110],\n",
      "        [127, 121, 111],\n",
      "        [127, 121, 111],\n",
      "        ...,\n",
      "        [102, 108, 103],\n",
      "        [106, 110, 105],\n",
      "        [107, 111, 106]],\n",
      "\n",
      "       [[125, 119, 109],\n",
      "        [126, 120, 110],\n",
      "        [126, 120, 110],\n",
      "        ...,\n",
      "        [103, 109, 104],\n",
      "        [106, 110, 105],\n",
      "        [106, 110, 105]]], dtype=uint8)\n",
      "orig_shape: (720, 1280)\n",
      "path: 'image0.jpg'\n",
      "probs: None\n",
      "save_dir: 'runs\\\\detect\\\\predict'\n",
      "speed: {'preprocess': 0.0, 'inference': 6.998777389526367, 'postprocess': 0.0}]\n",
      "\n",
      "0: 384x640 2 persons, 21.5ms\n",
      "Speed: 1.0ms preprocess, 21.5ms inference, 2.0ms postprocess per image at shape (1, 3, 384, 640)\n",
      "\n",
      "0: 96x128 (no detections), 7.0ms\n",
      "Speed: 0.0ms preprocess, 7.0ms inference, 0.0ms postprocess per image at shape (1, 3, 96, 128)\n",
      "predictions: [ultralytics.engine.results.Results object with attributes:\n",
      "\n",
      "boxes: ultralytics.engine.results.Boxes object\n",
      "keypoints: None\n",
      "masks: None\n",
      "names: {0: 'Hand_Raised'}\n",
      "obb: None\n",
      "orig_img: array([[[  0, 255,   0],\n",
      "        [  0, 255,   0],\n",
      "        [  0, 255,   0],\n",
      "        ...,\n",
      "        [  3,   0,   1],\n",
      "        [  6,   1,   2],\n",
      "        [  6,   1,   2]],\n",
      "\n",
      "       [[  0, 255,   0],\n",
      "        [  0, 255,   0],\n",
      "        [  0, 255,   0],\n",
      "        ...,\n",
      "        [216, 213, 214],\n",
      "        [227, 222, 223],\n",
      "        [239, 234, 235]],\n",
      "\n",
      "       [[  0, 255,   0],\n",
      "        [  0, 255,   0],\n",
      "        [  0, 255,   0],\n",
      "        ...,\n",
      "        [234, 231, 232],\n",
      "        [250, 245, 246],\n",
      "        [255, 254, 255]],\n",
      "\n",
      "       ...,\n",
      "\n",
      "       [[129, 120, 104],\n",
      "        [130, 121, 105],\n",
      "        [130, 121, 105],\n",
      "        ...,\n",
      "        [100, 106, 101],\n",
      "        [105, 109, 104],\n",
      "        [107, 111, 106]],\n",
      "\n",
      "       [[126, 120, 110],\n",
      "        [127, 121, 111],\n",
      "        [127, 121, 111],\n",
      "        ...,\n",
      "        [102, 108, 103],\n",
      "        [106, 110, 105],\n",
      "        [107, 111, 106]],\n",
      "\n",
      "       [[125, 119, 109],\n",
      "        [126, 120, 110],\n",
      "        [126, 120, 110],\n",
      "        ...,\n",
      "        [103, 109, 104],\n",
      "        [106, 110, 105],\n",
      "        [106, 110, 105]]], dtype=uint8)\n",
      "orig_shape: (720, 1280)\n",
      "path: 'image0.jpg'\n",
      "probs: None\n",
      "save_dir: 'runs\\\\detect\\\\predict'\n",
      "speed: {'preprocess': 0.0, 'inference': 7.000207901000977, 'postprocess': 0.0}]\n",
      "\n",
      "0: 384x640 2 persons, 21.0ms\n",
      "Speed: 1.0ms preprocess, 21.0ms inference, 1.0ms postprocess per image at shape (1, 3, 384, 640)\n",
      "\n",
      "0: 96x128 (no detections), 7.0ms\n",
      "Speed: 0.0ms preprocess, 7.0ms inference, 0.0ms postprocess per image at shape (1, 3, 96, 128)\n",
      "predictions: [ultralytics.engine.results.Results object with attributes:\n",
      "\n",
      "boxes: ultralytics.engine.results.Boxes object\n",
      "keypoints: None\n",
      "masks: None\n",
      "names: {0: 'Hand_Raised'}\n",
      "obb: None\n",
      "orig_img: array([[[  0, 255,   0],\n",
      "        [  0, 255,   0],\n",
      "        [  0, 255,   0],\n",
      "        ...,\n",
      "        [  3,   0,   1],\n",
      "        [  6,   1,   2],\n",
      "        [  6,   1,   2]],\n",
      "\n",
      "       [[  0, 255,   0],\n",
      "        [  0, 255,   0],\n",
      "        [  0, 255,   0],\n",
      "        ...,\n",
      "        [216, 213, 214],\n",
      "        [227, 222, 223],\n",
      "        [239, 234, 235]],\n",
      "\n",
      "       [[  0, 255,   0],\n",
      "        [  0, 255,   0],\n",
      "        [  0, 255,   0],\n",
      "        ...,\n",
      "        [234, 231, 232],\n",
      "        [250, 245, 246],\n",
      "        [255, 254, 255]],\n",
      "\n",
      "       ...,\n",
      "\n",
      "       [[128, 119, 103],\n",
      "        [129, 120, 104],\n",
      "        [129, 120, 104],\n",
      "        ...,\n",
      "        [100, 106, 101],\n",
      "        [105, 109, 104],\n",
      "        [107, 111, 106]],\n",
      "\n",
      "       [[126, 120, 110],\n",
      "        [127, 121, 111],\n",
      "        [127, 121, 111],\n",
      "        ...,\n",
      "        [102, 108, 103],\n",
      "        [106, 110, 105],\n",
      "        [107, 111, 106]],\n",
      "\n",
      "       [[125, 119, 109],\n",
      "        [126, 120, 110],\n",
      "        [126, 120, 110],\n",
      "        ...,\n",
      "        [103, 109, 104],\n",
      "        [106, 110, 105],\n",
      "        [106, 110, 105]]], dtype=uint8)\n",
      "orig_shape: (720, 1280)\n",
      "path: 'image0.jpg'\n",
      "probs: None\n",
      "save_dir: 'runs\\\\detect\\\\predict'\n",
      "speed: {'preprocess': 0.0, 'inference': 7.00068473815918, 'postprocess': 0.0}]\n",
      "\n",
      "0: 384x640 2 persons, 21.0ms\n",
      "Speed: 1.0ms preprocess, 21.0ms inference, 2.0ms postprocess per image at shape (1, 3, 384, 640)\n",
      "\n",
      "0: 96x128 (no detections), 6.0ms\n",
      "Speed: 0.0ms preprocess, 6.0ms inference, 1.0ms postprocess per image at shape (1, 3, 96, 128)\n",
      "predictions: [ultralytics.engine.results.Results object with attributes:\n",
      "\n",
      "boxes: ultralytics.engine.results.Boxes object\n",
      "keypoints: None\n",
      "masks: None\n",
      "names: {0: 'Hand_Raised'}\n",
      "obb: None\n",
      "orig_img: array([[[  0, 255,   0],\n",
      "        [  0, 255,   0],\n",
      "        [  0, 255,   0],\n",
      "        ...,\n",
      "        [  3,   0,   1],\n",
      "        [  6,   1,   2],\n",
      "        [  6,   1,   2]],\n",
      "\n",
      "       [[  0, 255,   0],\n",
      "        [  0, 255,   0],\n",
      "        [  0, 255,   0],\n",
      "        ...,\n",
      "        [216, 213, 214],\n",
      "        [227, 222, 223],\n",
      "        [239, 234, 235]],\n",
      "\n",
      "       [[  0, 255,   0],\n",
      "        [  0, 255,   0],\n",
      "        [  0, 255,   0],\n",
      "        ...,\n",
      "        [234, 231, 232],\n",
      "        [250, 245, 246],\n",
      "        [255, 254, 255]],\n",
      "\n",
      "       ...,\n",
      "\n",
      "       [[129, 120, 104],\n",
      "        [130, 121, 105],\n",
      "        [130, 121, 105],\n",
      "        ...,\n",
      "        [100, 106, 101],\n",
      "        [105, 109, 104],\n",
      "        [107, 111, 106]],\n",
      "\n",
      "       [[126, 120, 110],\n",
      "        [127, 121, 111],\n",
      "        [127, 121, 111],\n",
      "        ...,\n",
      "        [102, 108, 103],\n",
      "        [106, 110, 105],\n",
      "        [107, 111, 106]],\n",
      "\n",
      "       [[125, 119, 109],\n",
      "        [126, 120, 110],\n",
      "        [126, 120, 110],\n",
      "        ...,\n",
      "        [103, 109, 104],\n",
      "        [106, 110, 105],\n",
      "        [106, 110, 105]]], dtype=uint8)\n",
      "orig_shape: (720, 1280)\n",
      "path: 'image0.jpg'\n",
      "probs: None\n",
      "save_dir: 'runs\\\\detect\\\\predict'\n",
      "speed: {'preprocess': 0.0, 'inference': 6.006002426147461, 'postprocess': 1.0013580322265625}]\n",
      "\n",
      "0: 384x640 2 persons, 20.0ms\n",
      "Speed: 1.0ms preprocess, 20.0ms inference, 1.0ms postprocess per image at shape (1, 3, 384, 640)\n",
      "\n",
      "0: 96x128 (no detections), 7.0ms\n",
      "Speed: 1.0ms preprocess, 7.0ms inference, 0.0ms postprocess per image at shape (1, 3, 96, 128)\n",
      "predictions: [ultralytics.engine.results.Results object with attributes:\n",
      "\n",
      "boxes: ultralytics.engine.results.Boxes object\n",
      "keypoints: None\n",
      "masks: None\n",
      "names: {0: 'Hand_Raised'}\n",
      "obb: None\n",
      "orig_img: array([[[  0, 255,   0],\n",
      "        [  0, 255,   0],\n",
      "        [  0, 255,   0],\n",
      "        ...,\n",
      "        [  3,   0,   1],\n",
      "        [  6,   1,   2],\n",
      "        [  6,   1,   2]],\n",
      "\n",
      "       [[  0, 255,   0],\n",
      "        [  0, 255,   0],\n",
      "        [  0, 255,   0],\n",
      "        ...,\n",
      "        [216, 213, 214],\n",
      "        [227, 222, 223],\n",
      "        [239, 234, 235]],\n",
      "\n",
      "       [[  0, 255,   0],\n",
      "        [  0, 255,   0],\n",
      "        [  0, 255,   0],\n",
      "        ...,\n",
      "        [234, 231, 232],\n",
      "        [250, 245, 246],\n",
      "        [255, 254, 255]],\n",
      "\n",
      "       ...,\n",
      "\n",
      "       [[128, 119, 103],\n",
      "        [129, 120, 104],\n",
      "        [129, 120, 104],\n",
      "        ...,\n",
      "        [100, 106, 101],\n",
      "        [105, 109, 104],\n",
      "        [107, 111, 106]],\n",
      "\n",
      "       [[126, 120, 110],\n",
      "        [127, 121, 111],\n",
      "        [127, 121, 111],\n",
      "        ...,\n",
      "        [102, 108, 103],\n",
      "        [106, 110, 105],\n",
      "        [107, 111, 106]],\n",
      "\n",
      "       [[125, 119, 109],\n",
      "        [126, 120, 110],\n",
      "        [126, 120, 110],\n",
      "        ...,\n",
      "        [103, 109, 104],\n",
      "        [106, 110, 105],\n",
      "        [106, 110, 105]]], dtype=uint8)\n",
      "orig_shape: (720, 1280)\n",
      "path: 'image0.jpg'\n",
      "probs: None\n",
      "save_dir: 'runs\\\\detect\\\\predict'\n",
      "speed: {'preprocess': 0.9982585906982422, 'inference': 7.002830505371094, 'postprocess': 0.0}]\n",
      "\n",
      "0: 384x640 2 persons, 23.5ms\n",
      "Speed: 1.0ms preprocess, 23.5ms inference, 2.0ms postprocess per image at shape (1, 3, 384, 640)\n",
      "\n",
      "0: 96x128 (no detections), 6.0ms\n",
      "Speed: 1.0ms preprocess, 6.0ms inference, 1.0ms postprocess per image at shape (1, 3, 96, 128)\n",
      "predictions: [ultralytics.engine.results.Results object with attributes:\n",
      "\n",
      "boxes: ultralytics.engine.results.Boxes object\n",
      "keypoints: None\n",
      "masks: None\n",
      "names: {0: 'Hand_Raised'}\n",
      "obb: None\n",
      "orig_img: array([[[  0, 255,   0],\n",
      "        [  0, 255,   0],\n",
      "        [  0, 255,   0],\n",
      "        ...,\n",
      "        [  3,   0,   1],\n",
      "        [  6,   1,   2],\n",
      "        [  6,   1,   2]],\n",
      "\n",
      "       [[  0, 255,   0],\n",
      "        [  0, 255,   0],\n",
      "        [  0, 255,   0],\n",
      "        ...,\n",
      "        [216, 213, 214],\n",
      "        [227, 222, 223],\n",
      "        [239, 234, 235]],\n",
      "\n",
      "       [[  0, 255,   0],\n",
      "        [  0, 255,   0],\n",
      "        [  0, 255,   0],\n",
      "        ...,\n",
      "        [234, 231, 232],\n",
      "        [250, 245, 246],\n",
      "        [255, 254, 255]],\n",
      "\n",
      "       ...,\n",
      "\n",
      "       [[129, 120, 104],\n",
      "        [130, 121, 105],\n",
      "        [130, 121, 105],\n",
      "        ...,\n",
      "        [100, 106, 101],\n",
      "        [105, 109, 104],\n",
      "        [107, 111, 106]],\n",
      "\n",
      "       [[126, 120, 110],\n",
      "        [127, 121, 111],\n",
      "        [127, 121, 111],\n",
      "        ...,\n",
      "        [102, 108, 103],\n",
      "        [106, 110, 105],\n",
      "        [107, 111, 106]],\n",
      "\n",
      "       [[125, 119, 109],\n",
      "        [126, 120, 110],\n",
      "        [126, 120, 110],\n",
      "        ...,\n",
      "        [103, 109, 104],\n",
      "        [106, 110, 105],\n",
      "        [106, 110, 105]]], dtype=uint8)\n",
      "orig_shape: (720, 1280)\n",
      "path: 'image0.jpg'\n",
      "probs: None\n",
      "save_dir: 'runs\\\\detect\\\\predict'\n",
      "speed: {'preprocess': 1.001596450805664, 'inference': 5.996465682983398, 'postprocess': 1.0023117065429688}]\n",
      "\n",
      "0: 384x640 2 persons, 24.1ms\n",
      "Speed: 1.0ms preprocess, 24.1ms inference, 0.9ms postprocess per image at shape (1, 3, 384, 640)\n",
      "\n",
      "0: 96x128 (no detections), 7.5ms\n",
      "Speed: 0.0ms preprocess, 7.5ms inference, 0.0ms postprocess per image at shape (1, 3, 96, 128)\n",
      "predictions: [ultralytics.engine.results.Results object with attributes:\n",
      "\n",
      "boxes: ultralytics.engine.results.Boxes object\n",
      "keypoints: None\n",
      "masks: None\n",
      "names: {0: 'Hand_Raised'}\n",
      "obb: None\n",
      "orig_img: array([[[  0, 255,   0],\n",
      "        [  0, 255,   0],\n",
      "        [  0, 255,   0],\n",
      "        ...,\n",
      "        [  3,   0,   1],\n",
      "        [  6,   1,   2],\n",
      "        [  6,   1,   2]],\n",
      "\n",
      "       [[  0, 255,   0],\n",
      "        [  0, 255,   0],\n",
      "        [  0, 255,   0],\n",
      "        ...,\n",
      "        [216, 213, 214],\n",
      "        [227, 222, 223],\n",
      "        [239, 234, 235]],\n",
      "\n",
      "       [[  0, 255,   0],\n",
      "        [  0, 255,   0],\n",
      "        [  0, 255,   0],\n",
      "        ...,\n",
      "        [234, 231, 232],\n",
      "        [250, 245, 246],\n",
      "        [255, 254, 255]],\n",
      "\n",
      "       ...,\n",
      "\n",
      "       [[128, 119, 103],\n",
      "        [129, 120, 104],\n",
      "        [129, 120, 104],\n",
      "        ...,\n",
      "        [100, 106, 101],\n",
      "        [105, 109, 104],\n",
      "        [107, 111, 106]],\n",
      "\n",
      "       [[125, 119, 109],\n",
      "        [126, 120, 110],\n",
      "        [126, 120, 110],\n",
      "        ...,\n",
      "        [102, 108, 103],\n",
      "        [106, 110, 105],\n",
      "        [107, 111, 106]],\n",
      "\n",
      "       [[124, 118, 108],\n",
      "        [125, 119, 109],\n",
      "        [125, 119, 109],\n",
      "        ...,\n",
      "        [103, 109, 104],\n",
      "        [106, 110, 105],\n",
      "        [106, 110, 105]]], dtype=uint8)\n",
      "orig_shape: (720, 1280)\n",
      "path: 'image0.jpg'\n",
      "probs: None\n",
      "save_dir: 'runs\\\\detect\\\\predict'\n",
      "speed: {'preprocess': 0.0, 'inference': 7.522344589233398, 'postprocess': 0.0}]\n",
      "\n",
      "0: 384x640 2 persons, 30.0ms\n",
      "Speed: 0.0ms preprocess, 30.0ms inference, 1.0ms postprocess per image at shape (1, 3, 384, 640)\n",
      "\n",
      "0: 96x128 (no detections), 8.0ms\n",
      "Speed: 0.0ms preprocess, 8.0ms inference, 0.0ms postprocess per image at shape (1, 3, 96, 128)\n",
      "predictions: [ultralytics.engine.results.Results object with attributes:\n",
      "\n",
      "boxes: ultralytics.engine.results.Boxes object\n",
      "keypoints: None\n",
      "masks: None\n",
      "names: {0: 'Hand_Raised'}\n",
      "obb: None\n",
      "orig_img: array([[[  0, 255,   0],\n",
      "        [  0, 255,   0],\n",
      "        [  0, 255,   0],\n",
      "        ...,\n",
      "        [  5,   2,   3],\n",
      "        [  6,   1,   2],\n",
      "        [  5,   0,   1]],\n",
      "\n",
      "       [[  0, 255,   0],\n",
      "        [  0, 255,   0],\n",
      "        [  0, 255,   0],\n",
      "        ...,\n",
      "        [218, 215, 216],\n",
      "        [227, 222, 223],\n",
      "        [238, 233, 234]],\n",
      "\n",
      "       [[  0, 255,   0],\n",
      "        [  0, 255,   0],\n",
      "        [  0, 255,   0],\n",
      "        ...,\n",
      "        [237, 234, 235],\n",
      "        [250, 245, 246],\n",
      "        [255, 252, 253]],\n",
      "\n",
      "       ...,\n",
      "\n",
      "       [[124, 118, 101],\n",
      "        [124, 118, 101],\n",
      "        [124, 118, 101],\n",
      "        ...,\n",
      "        [ 99, 105, 100],\n",
      "        [101, 106,  99],\n",
      "        [101, 106,  99]],\n",
      "\n",
      "       [[122, 118, 108],\n",
      "        [122, 118, 108],\n",
      "        [122, 118, 108],\n",
      "        ...,\n",
      "        [102, 108, 103],\n",
      "        [104, 109, 102],\n",
      "        [104, 109, 102]],\n",
      "\n",
      "       [[121, 117, 107],\n",
      "        [121, 117, 107],\n",
      "        [122, 118, 108],\n",
      "        ...,\n",
      "        [100, 106, 101],\n",
      "        [102, 107, 100],\n",
      "        [102, 107, 100]]], dtype=uint8)\n",
      "orig_shape: (720, 1280)\n",
      "path: 'image0.jpg'\n",
      "probs: None\n",
      "save_dir: 'runs\\\\detect\\\\predict'\n",
      "speed: {'preprocess': 0.0, 'inference': 8.006811141967773, 'postprocess': 0.0}]\n",
      "\n",
      "0: 384x640 2 persons, 23.6ms\n",
      "Speed: 1.1ms preprocess, 23.6ms inference, 2.0ms postprocess per image at shape (1, 3, 384, 640)\n",
      "\n",
      "0: 96x128 (no detections), 8.0ms\n",
      "Speed: 0.0ms preprocess, 8.0ms inference, 0.0ms postprocess per image at shape (1, 3, 96, 128)\n",
      "predictions: [ultralytics.engine.results.Results object with attributes:\n",
      "\n",
      "boxes: ultralytics.engine.results.Boxes object\n",
      "keypoints: None\n",
      "masks: None\n",
      "names: {0: 'Hand_Raised'}\n",
      "obb: None\n",
      "orig_img: array([[[  0, 255,   0],\n",
      "        [  0, 255,   0],\n",
      "        [  0, 255,   0],\n",
      "        ...,\n",
      "        [  5,   2,   3],\n",
      "        [  6,   1,   2],\n",
      "        [  5,   0,   1]],\n",
      "\n",
      "       [[  0, 255,   0],\n",
      "        [  0, 255,   0],\n",
      "        [  0, 255,   0],\n",
      "        ...,\n",
      "        [218, 215, 216],\n",
      "        [227, 222, 223],\n",
      "        [238, 233, 234]],\n",
      "\n",
      "       [[  0, 255,   0],\n",
      "        [  0, 255,   0],\n",
      "        [  0, 255,   0],\n",
      "        ...,\n",
      "        [237, 234, 235],\n",
      "        [250, 245, 246],\n",
      "        [255, 252, 253]],\n",
      "\n",
      "       ...,\n",
      "\n",
      "       [[124, 118, 101],\n",
      "        [124, 118, 101],\n",
      "        [124, 118, 101],\n",
      "        ...,\n",
      "        [ 99, 105, 100],\n",
      "        [101, 106,  99],\n",
      "        [101, 106,  99]],\n",
      "\n",
      "       [[122, 118, 108],\n",
      "        [122, 118, 108],\n",
      "        [122, 118, 108],\n",
      "        ...,\n",
      "        [102, 108, 103],\n",
      "        [104, 109, 102],\n",
      "        [104, 109, 102]],\n",
      "\n",
      "       [[121, 117, 107],\n",
      "        [121, 117, 107],\n",
      "        [122, 118, 108],\n",
      "        ...,\n",
      "        [100, 106, 101],\n",
      "        [102, 107, 100],\n",
      "        [102, 107, 100]]], dtype=uint8)\n",
      "orig_shape: (720, 1280)\n",
      "path: 'image0.jpg'\n",
      "probs: None\n",
      "save_dir: 'runs\\\\detect\\\\predict'\n",
      "speed: {'preprocess': 0.0, 'inference': 7.998466491699219, 'postprocess': 0.0}]\n",
      "\n",
      "0: 384x640 2 persons, 21.1ms\n",
      "Speed: 1.0ms preprocess, 21.1ms inference, 2.0ms postprocess per image at shape (1, 3, 384, 640)\n",
      "\n",
      "0: 96x128 (no detections), 8.0ms\n",
      "Speed: 0.0ms preprocess, 8.0ms inference, 1.0ms postprocess per image at shape (1, 3, 96, 128)\n",
      "predictions: [ultralytics.engine.results.Results object with attributes:\n",
      "\n",
      "boxes: ultralytics.engine.results.Boxes object\n",
      "keypoints: None\n",
      "masks: None\n",
      "names: {0: 'Hand_Raised'}\n",
      "obb: None\n",
      "orig_img: array([[[  0, 255,   0],\n",
      "        [  0, 255,   0],\n",
      "        [  0, 255,   0],\n",
      "        ...,\n",
      "        [  5,   2,   3],\n",
      "        [  6,   1,   2],\n",
      "        [  5,   0,   1]],\n",
      "\n",
      "       [[  0, 255,   0],\n",
      "        [  0, 255,   0],\n",
      "        [  0, 255,   0],\n",
      "        ...,\n",
      "        [218, 215, 216],\n",
      "        [227, 222, 223],\n",
      "        [238, 233, 234]],\n",
      "\n",
      "       [[  0, 255,   0],\n",
      "        [  0, 255,   0],\n",
      "        [  0, 255,   0],\n",
      "        ...,\n",
      "        [237, 234, 235],\n",
      "        [250, 245, 246],\n",
      "        [255, 252, 253]],\n",
      "\n",
      "       ...,\n",
      "\n",
      "       [[121, 115,  98],\n",
      "        [122, 116,  99],\n",
      "        [122, 116,  99],\n",
      "        ...,\n",
      "        [100, 106, 101],\n",
      "        [104, 107, 105],\n",
      "        [104, 107, 105]],\n",
      "\n",
      "       [[120, 116, 106],\n",
      "        [120, 116, 106],\n",
      "        [120, 116, 106],\n",
      "        ...,\n",
      "        [102, 108, 103],\n",
      "        [105, 108, 106],\n",
      "        [105, 108, 106]],\n",
      "\n",
      "       [[121, 117, 107],\n",
      "        [121, 117, 107],\n",
      "        [120, 116, 106],\n",
      "        ...,\n",
      "        [100, 106, 101],\n",
      "        [104, 107, 105],\n",
      "        [104, 107, 105]]], dtype=uint8)\n",
      "orig_shape: (720, 1280)\n",
      "path: 'image0.jpg'\n",
      "probs: None\n",
      "save_dir: 'runs\\\\detect\\\\predict'\n",
      "speed: {'preprocess': 0.0, 'inference': 7.9936981201171875, 'postprocess': 0.9999275207519531}]\n",
      "\n",
      "0: 384x640 2 persons, 20.1ms\n",
      "Speed: 1.0ms preprocess, 20.1ms inference, 1.0ms postprocess per image at shape (1, 3, 384, 640)\n",
      "\n",
      "0: 96x128 (no detections), 7.7ms\n",
      "Speed: 0.9ms preprocess, 7.7ms inference, 0.0ms postprocess per image at shape (1, 3, 96, 128)\n",
      "predictions: [ultralytics.engine.results.Results object with attributes:\n",
      "\n",
      "boxes: ultralytics.engine.results.Boxes object\n",
      "keypoints: None\n",
      "masks: None\n",
      "names: {0: 'Hand_Raised'}\n",
      "obb: None\n",
      "orig_img: array([[[  0, 255,   0],\n",
      "        [  0, 255,   0],\n",
      "        [  0, 255,   0],\n",
      "        ...,\n",
      "        [  5,   2,   3],\n",
      "        [  6,   1,   2],\n",
      "        [  5,   0,   1]],\n",
      "\n",
      "       [[  0, 255,   0],\n",
      "        [  0, 255,   0],\n",
      "        [  0, 255,   0],\n",
      "        ...,\n",
      "        [218, 215, 216],\n",
      "        [227, 222, 223],\n",
      "        [238, 233, 234]],\n",
      "\n",
      "       [[  0, 255,   0],\n",
      "        [  0, 255,   0],\n",
      "        [  0, 255,   0],\n",
      "        ...,\n",
      "        [237, 234, 235],\n",
      "        [250, 245, 246],\n",
      "        [255, 252, 253]],\n",
      "\n",
      "       ...,\n",
      "\n",
      "       [[122, 116,  99],\n",
      "        [124, 118, 101],\n",
      "        [124, 118, 101],\n",
      "        ...,\n",
      "        [100, 107, 100],\n",
      "        [104, 108, 103],\n",
      "        [104, 108, 103]],\n",
      "\n",
      "       [[121, 117, 107],\n",
      "        [121, 117, 107],\n",
      "        [121, 117, 107],\n",
      "        ...,\n",
      "        [102, 109, 102],\n",
      "        [105, 109, 104],\n",
      "        [105, 109, 104]],\n",
      "\n",
      "       [[122, 118, 108],\n",
      "        [122, 118, 108],\n",
      "        [121, 117, 107],\n",
      "        ...,\n",
      "        [100, 107, 100],\n",
      "        [104, 108, 103],\n",
      "        [104, 108, 103]]], dtype=uint8)\n",
      "orig_shape: (720, 1280)\n",
      "path: 'image0.jpg'\n",
      "probs: None\n",
      "save_dir: 'runs\\\\detect\\\\predict'\n",
      "speed: {'preprocess': 0.9205341339111328, 'inference': 7.711887359619141, 'postprocess': 0.0}]\n",
      "\n",
      "0: 384x640 2 persons, 22.0ms\n",
      "Speed: 1.0ms preprocess, 22.0ms inference, 1.0ms postprocess per image at shape (1, 3, 384, 640)\n",
      "\n",
      "0: 96x128 (no detections), 7.0ms\n",
      "Speed: 0.0ms preprocess, 7.0ms inference, 0.0ms postprocess per image at shape (1, 3, 96, 128)\n",
      "predictions: [ultralytics.engine.results.Results object with attributes:\n",
      "\n",
      "boxes: ultralytics.engine.results.Boxes object\n",
      "keypoints: None\n",
      "masks: None\n",
      "names: {0: 'Hand_Raised'}\n",
      "obb: None\n",
      "orig_img: array([[[  0, 255,   0],\n",
      "        [  0, 255,   0],\n",
      "        [  0, 255,   0],\n",
      "        ...,\n",
      "        [  5,   2,   3],\n",
      "        [  6,   1,   2],\n",
      "        [  5,   0,   1]],\n",
      "\n",
      "       [[  0, 255,   0],\n",
      "        [  0, 255,   0],\n",
      "        [  0, 255,   0],\n",
      "        ...,\n",
      "        [218, 215, 216],\n",
      "        [227, 222, 223],\n",
      "        [238, 233, 234]],\n",
      "\n",
      "       [[  0, 255,   0],\n",
      "        [  0, 255,   0],\n",
      "        [  0, 255,   0],\n",
      "        ...,\n",
      "        [237, 234, 235],\n",
      "        [250, 245, 246],\n",
      "        [255, 252, 253]],\n",
      "\n",
      "       ...,\n",
      "\n",
      "       [[122, 116,  99],\n",
      "        [124, 118, 101],\n",
      "        [124, 118, 101],\n",
      "        ...,\n",
      "        [100, 106, 101],\n",
      "        [104, 107, 105],\n",
      "        [104, 107, 105]],\n",
      "\n",
      "       [[121, 117, 107],\n",
      "        [121, 117, 107],\n",
      "        [121, 117, 107],\n",
      "        ...,\n",
      "        [102, 108, 103],\n",
      "        [105, 108, 106],\n",
      "        [105, 108, 106]],\n",
      "\n",
      "       [[122, 118, 108],\n",
      "        [122, 118, 108],\n",
      "        [121, 117, 107],\n",
      "        ...,\n",
      "        [100, 106, 101],\n",
      "        [104, 107, 105],\n",
      "        [104, 107, 105]]], dtype=uint8)\n",
      "orig_shape: (720, 1280)\n",
      "path: 'image0.jpg'\n",
      "probs: None\n",
      "save_dir: 'runs\\\\detect\\\\predict'\n",
      "speed: {'preprocess': 0.0, 'inference': 7.016897201538086, 'postprocess': 0.0}]\n",
      "\n",
      "0: 384x640 2 persons, 22.0ms\n",
      "Speed: 1.0ms preprocess, 22.0ms inference, 1.0ms postprocess per image at shape (1, 3, 384, 640)\n",
      "\n",
      "0: 96x128 (no detections), 7.1ms\n",
      "Speed: 0.0ms preprocess, 7.1ms inference, 0.0ms postprocess per image at shape (1, 3, 96, 128)\n",
      "predictions: [ultralytics.engine.results.Results object with attributes:\n",
      "\n",
      "boxes: ultralytics.engine.results.Boxes object\n",
      "keypoints: None\n",
      "masks: None\n",
      "names: {0: 'Hand_Raised'}\n",
      "obb: None\n",
      "orig_img: array([[[  0, 255,   0],\n",
      "        [  0, 255,   0],\n",
      "        [  0, 255,   0],\n",
      "        ...,\n",
      "        [  5,   2,   3],\n",
      "        [  6,   1,   2],\n",
      "        [  5,   0,   1]],\n",
      "\n",
      "       [[  0, 255,   0],\n",
      "        [  0, 255,   0],\n",
      "        [  0, 255,   0],\n",
      "        ...,\n",
      "        [218, 215, 216],\n",
      "        [227, 222, 223],\n",
      "        [238, 233, 234]],\n",
      "\n",
      "       [[  0, 255,   0],\n",
      "        [  0, 255,   0],\n",
      "        [  0, 255,   0],\n",
      "        ...,\n",
      "        [237, 234, 235],\n",
      "        [250, 245, 246],\n",
      "        [255, 252, 253]],\n",
      "\n",
      "       ...,\n",
      "\n",
      "       [[122, 116,  99],\n",
      "        [124, 118, 101],\n",
      "        [124, 118, 101],\n",
      "        ...,\n",
      "        [100, 107, 100],\n",
      "        [104, 108, 103],\n",
      "        [104, 108, 103]],\n",
      "\n",
      "       [[121, 117, 107],\n",
      "        [121, 117, 107],\n",
      "        [121, 117, 107],\n",
      "        ...,\n",
      "        [102, 109, 102],\n",
      "        [105, 109, 104],\n",
      "        [105, 109, 104]],\n",
      "\n",
      "       [[122, 118, 108],\n",
      "        [122, 118, 108],\n",
      "        [121, 117, 107],\n",
      "        ...,\n",
      "        [100, 107, 100],\n",
      "        [104, 108, 103],\n",
      "        [104, 108, 103]]], dtype=uint8)\n",
      "orig_shape: (720, 1280)\n",
      "path: 'image0.jpg'\n",
      "probs: None\n",
      "save_dir: 'runs\\\\detect\\\\predict'\n",
      "speed: {'preprocess': 0.0, 'inference': 7.095813751220703, 'postprocess': 0.0}]\n",
      "\n",
      "0: 384x640 2 persons, 22.5ms\n",
      "Speed: 1.0ms preprocess, 22.5ms inference, 2.0ms postprocess per image at shape (1, 3, 384, 640)\n",
      "\n",
      "0: 96x128 (no detections), 6.0ms\n",
      "Speed: 1.0ms preprocess, 6.0ms inference, 1.0ms postprocess per image at shape (1, 3, 96, 128)\n",
      "predictions: [ultralytics.engine.results.Results object with attributes:\n",
      "\n",
      "boxes: ultralytics.engine.results.Boxes object\n",
      "keypoints: None\n",
      "masks: None\n",
      "names: {0: 'Hand_Raised'}\n",
      "obb: None\n",
      "orig_img: array([[[  0, 255,   0],\n",
      "        [  0, 255,   0],\n",
      "        [  0, 255,   0],\n",
      "        ...,\n",
      "        [  5,   2,   3],\n",
      "        [  6,   1,   2],\n",
      "        [  5,   0,   1]],\n",
      "\n",
      "       [[  0, 255,   0],\n",
      "        [  0, 255,   0],\n",
      "        [  0, 255,   0],\n",
      "        ...,\n",
      "        [218, 215, 216],\n",
      "        [227, 222, 223],\n",
      "        [238, 233, 234]],\n",
      "\n",
      "       [[  0, 255,   0],\n",
      "        [  0, 255,   0],\n",
      "        [  0, 255,   0],\n",
      "        ...,\n",
      "        [237, 234, 235],\n",
      "        [250, 245, 246],\n",
      "        [255, 252, 253]],\n",
      "\n",
      "       ...,\n",
      "\n",
      "       [[122, 116,  99],\n",
      "        [124, 118, 101],\n",
      "        [124, 118, 101],\n",
      "        ...,\n",
      "        [100, 106, 101],\n",
      "        [104, 107, 105],\n",
      "        [104, 107, 105]],\n",
      "\n",
      "       [[121, 117, 107],\n",
      "        [121, 117, 107],\n",
      "        [121, 117, 107],\n",
      "        ...,\n",
      "        [102, 108, 103],\n",
      "        [105, 108, 106],\n",
      "        [105, 108, 106]],\n",
      "\n",
      "       [[122, 118, 108],\n",
      "        [122, 118, 108],\n",
      "        [121, 117, 107],\n",
      "        ...,\n",
      "        [100, 106, 101],\n",
      "        [104, 107, 105],\n",
      "        [104, 107, 105]]], dtype=uint8)\n",
      "orig_shape: (720, 1280)\n",
      "path: 'image0.jpg'\n",
      "probs: None\n",
      "save_dir: 'runs\\\\detect\\\\predict'\n",
      "speed: {'preprocess': 1.0001659393310547, 'inference': 5.999326705932617, 'postprocess': 1.0008811950683594}]\n",
      "\n",
      "0: 384x640 2 persons, 21.0ms\n",
      "Speed: 1.0ms preprocess, 21.0ms inference, 2.0ms postprocess per image at shape (1, 3, 384, 640)\n",
      "\n",
      "0: 96x128 (no detections), 7.0ms\n",
      "Speed: 0.0ms preprocess, 7.0ms inference, 0.0ms postprocess per image at shape (1, 3, 96, 128)\n",
      "predictions: [ultralytics.engine.results.Results object with attributes:\n",
      "\n",
      "boxes: ultralytics.engine.results.Boxes object\n",
      "keypoints: None\n",
      "masks: None\n",
      "names: {0: 'Hand_Raised'}\n",
      "obb: None\n",
      "orig_img: array([[[  0, 255,   0],\n",
      "        [  0, 255,   0],\n",
      "        [  0, 255,   0],\n",
      "        ...,\n",
      "        [  5,   2,   3],\n",
      "        [  6,   1,   2],\n",
      "        [  5,   0,   1]],\n",
      "\n",
      "       [[  0, 255,   0],\n",
      "        [  0, 255,   0],\n",
      "        [  0, 255,   0],\n",
      "        ...,\n",
      "        [218, 215, 216],\n",
      "        [227, 222, 223],\n",
      "        [238, 233, 234]],\n",
      "\n",
      "       [[  0, 255,   0],\n",
      "        [  0, 255,   0],\n",
      "        [  0, 255,   0],\n",
      "        ...,\n",
      "        [237, 234, 235],\n",
      "        [250, 245, 246],\n",
      "        [255, 252, 253]],\n",
      "\n",
      "       ...,\n",
      "\n",
      "       [[122, 116,  99],\n",
      "        [124, 118, 101],\n",
      "        [124, 118, 101],\n",
      "        ...,\n",
      "        [100, 107, 100],\n",
      "        [104, 108, 103],\n",
      "        [104, 108, 103]],\n",
      "\n",
      "       [[121, 117, 107],\n",
      "        [121, 117, 107],\n",
      "        [121, 117, 107],\n",
      "        ...,\n",
      "        [102, 109, 102],\n",
      "        [105, 109, 104],\n",
      "        [105, 109, 104]],\n",
      "\n",
      "       [[122, 118, 108],\n",
      "        [122, 118, 108],\n",
      "        [121, 117, 107],\n",
      "        ...,\n",
      "        [100, 107, 100],\n",
      "        [104, 108, 103],\n",
      "        [104, 108, 103]]], dtype=uint8)\n",
      "orig_shape: (720, 1280)\n",
      "path: 'image0.jpg'\n",
      "probs: None\n",
      "save_dir: 'runs\\\\detect\\\\predict'\n",
      "speed: {'preprocess': 0.0, 'inference': 6.99925422668457, 'postprocess': 0.0}]\n",
      "\n",
      "0: 384x640 2 persons, 23.5ms\n",
      "Speed: 0.0ms preprocess, 23.5ms inference, 1.0ms postprocess per image at shape (1, 3, 384, 640)\n",
      "\n",
      "0: 96x128 (no detections), 7.0ms\n",
      "Speed: 0.0ms preprocess, 7.0ms inference, 1.0ms postprocess per image at shape (1, 3, 96, 128)\n",
      "predictions: [ultralytics.engine.results.Results object with attributes:\n",
      "\n",
      "boxes: ultralytics.engine.results.Boxes object\n",
      "keypoints: None\n",
      "masks: None\n",
      "names: {0: 'Hand_Raised'}\n",
      "obb: None\n",
      "orig_img: array([[[  0, 255,   0],\n",
      "        [  0, 255,   0],\n",
      "        [  0, 255,   0],\n",
      "        ...,\n",
      "        [  5,   2,   3],\n",
      "        [  6,   1,   2],\n",
      "        [  5,   0,   1]],\n",
      "\n",
      "       [[  0, 255,   0],\n",
      "        [  0, 255,   0],\n",
      "        [  0, 255,   0],\n",
      "        ...,\n",
      "        [218, 215, 216],\n",
      "        [227, 222, 223],\n",
      "        [238, 233, 234]],\n",
      "\n",
      "       [[  0, 255,   0],\n",
      "        [  0, 255,   0],\n",
      "        [  0, 255,   0],\n",
      "        ...,\n",
      "        [237, 234, 235],\n",
      "        [250, 245, 246],\n",
      "        [255, 252, 253]],\n",
      "\n",
      "       ...,\n",
      "\n",
      "       [[122, 116,  99],\n",
      "        [124, 118, 101],\n",
      "        [124, 118, 101],\n",
      "        ...,\n",
      "        [100, 107, 100],\n",
      "        [104, 108, 103],\n",
      "        [104, 108, 103]],\n",
      "\n",
      "       [[121, 117, 107],\n",
      "        [121, 117, 107],\n",
      "        [121, 117, 107],\n",
      "        ...,\n",
      "        [102, 109, 102],\n",
      "        [105, 109, 104],\n",
      "        [105, 109, 104]],\n",
      "\n",
      "       [[122, 118, 108],\n",
      "        [122, 118, 108],\n",
      "        [121, 117, 107],\n",
      "        ...,\n",
      "        [100, 107, 100],\n",
      "        [104, 108, 103],\n",
      "        [104, 108, 103]]], dtype=uint8)\n",
      "orig_shape: (720, 1280)\n",
      "path: 'image0.jpg'\n",
      "probs: None\n",
      "save_dir: 'runs\\\\detect\\\\predict'\n",
      "speed: {'preprocess': 0.0, 'inference': 7.001638412475586, 'postprocess': 0.9977817535400391}]\n",
      "\n",
      "0: 384x640 2 persons, 24.0ms\n",
      "Speed: 1.0ms preprocess, 24.0ms inference, 2.0ms postprocess per image at shape (1, 3, 384, 640)\n",
      "\n",
      "0: 96x128 (no detections), 7.0ms\n",
      "Speed: 0.0ms preprocess, 7.0ms inference, 0.0ms postprocess per image at shape (1, 3, 96, 128)\n",
      "predictions: [ultralytics.engine.results.Results object with attributes:\n",
      "\n",
      "boxes: ultralytics.engine.results.Boxes object\n",
      "keypoints: None\n",
      "masks: None\n",
      "names: {0: 'Hand_Raised'}\n",
      "obb: None\n",
      "orig_img: array([[[  0, 255,   0],\n",
      "        [  0, 255,   0],\n",
      "        [  0, 255,   0],\n",
      "        ...,\n",
      "        [  5,   2,   3],\n",
      "        [  4,   0,   0],\n",
      "        [  2,   0,   0]],\n",
      "\n",
      "       [[  0, 255,   0],\n",
      "        [  0, 255,   0],\n",
      "        [  0, 255,   0],\n",
      "        ...,\n",
      "        [218, 215, 216],\n",
      "        [228, 223, 224],\n",
      "        [235, 230, 231]],\n",
      "\n",
      "       [[  0, 255,   0],\n",
      "        [  0, 255,   0],\n",
      "        [  0, 255,   0],\n",
      "        ...,\n",
      "        [238, 235, 236],\n",
      "        [253, 248, 249],\n",
      "        [255, 251, 252]],\n",
      "\n",
      "       ...,\n",
      "\n",
      "       [[123, 121, 104],\n",
      "        [121, 119, 102],\n",
      "        [121, 119, 102],\n",
      "        ...,\n",
      "        [104, 111, 104],\n",
      "        [106, 110, 105],\n",
      "        [104, 108, 103]],\n",
      "\n",
      "       [[122, 119, 104],\n",
      "        [121, 118, 103],\n",
      "        [121, 118, 103],\n",
      "        ...,\n",
      "        [104, 111, 104],\n",
      "        [106, 110, 105],\n",
      "        [104, 108, 103]],\n",
      "\n",
      "       [[121, 118, 103],\n",
      "        [121, 118, 103],\n",
      "        [121, 118, 103],\n",
      "        ...,\n",
      "        [103, 110, 103],\n",
      "        [106, 110, 105],\n",
      "        [104, 108, 103]]], dtype=uint8)\n",
      "orig_shape: (720, 1280)\n",
      "path: 'image0.jpg'\n",
      "probs: None\n",
      "save_dir: 'runs\\\\detect\\\\predict'\n",
      "speed: {'preprocess': 0.0, 'inference': 7.004022598266602, 'postprocess': 0.0}]\n",
      "\n",
      "0: 384x640 2 persons, 23.7ms\n",
      "Speed: 1.0ms preprocess, 23.7ms inference, 1.0ms postprocess per image at shape (1, 3, 384, 640)\n",
      "\n",
      "0: 96x128 (no detections), 7.0ms\n",
      "Speed: 0.0ms preprocess, 7.0ms inference, 0.0ms postprocess per image at shape (1, 3, 96, 128)\n",
      "predictions: [ultralytics.engine.results.Results object with attributes:\n",
      "\n",
      "boxes: ultralytics.engine.results.Boxes object\n",
      "keypoints: None\n",
      "masks: None\n",
      "names: {0: 'Hand_Raised'}\n",
      "obb: None\n",
      "orig_img: array([[[  0, 255,   0],\n",
      "        [  0, 255,   0],\n",
      "        [  0, 255,   0],\n",
      "        ...,\n",
      "        [  5,   2,   3],\n",
      "        [  4,   0,   0],\n",
      "        [  2,   0,   0]],\n",
      "\n",
      "       [[  0, 255,   0],\n",
      "        [  0, 255,   0],\n",
      "        [  0, 255,   0],\n",
      "        ...,\n",
      "        [218, 215, 216],\n",
      "        [228, 223, 224],\n",
      "        [235, 230, 231]],\n",
      "\n",
      "       [[  0, 255,   0],\n",
      "        [  0, 255,   0],\n",
      "        [  0, 255,   0],\n",
      "        ...,\n",
      "        [238, 235, 236],\n",
      "        [253, 248, 249],\n",
      "        [255, 251, 252]],\n",
      "\n",
      "       ...,\n",
      "\n",
      "       [[123, 121, 104],\n",
      "        [121, 119, 102],\n",
      "        [121, 119, 102],\n",
      "        ...,\n",
      "        [104, 111, 104],\n",
      "        [106, 110, 105],\n",
      "        [104, 108, 103]],\n",
      "\n",
      "       [[122, 119, 104],\n",
      "        [121, 118, 103],\n",
      "        [121, 118, 103],\n",
      "        ...,\n",
      "        [104, 111, 104],\n",
      "        [106, 110, 105],\n",
      "        [104, 108, 103]],\n",
      "\n",
      "       [[121, 118, 103],\n",
      "        [121, 118, 103],\n",
      "        [121, 118, 103],\n",
      "        ...,\n",
      "        [103, 110, 103],\n",
      "        [106, 110, 105],\n",
      "        [104, 108, 103]]], dtype=uint8)\n",
      "orig_shape: (720, 1280)\n",
      "path: 'image0.jpg'\n",
      "probs: None\n",
      "save_dir: 'runs\\\\detect\\\\predict'\n",
      "speed: {'preprocess': 0.0, 'inference': 7.035493850708008, 'postprocess': 0.0}]\n",
      "\n",
      "0: 384x640 2 persons, 23.0ms\n",
      "Speed: 1.0ms preprocess, 23.0ms inference, 1.0ms postprocess per image at shape (1, 3, 384, 640)\n",
      "\n",
      "0: 96x128 (no detections), 7.0ms\n",
      "Speed: 0.0ms preprocess, 7.0ms inference, 0.0ms postprocess per image at shape (1, 3, 96, 128)\n",
      "predictions: [ultralytics.engine.results.Results object with attributes:\n",
      "\n",
      "boxes: ultralytics.engine.results.Boxes object\n",
      "keypoints: None\n",
      "masks: None\n",
      "names: {0: 'Hand_Raised'}\n",
      "obb: None\n",
      "orig_img: array([[[  0, 255,   0],\n",
      "        [  0, 255,   0],\n",
      "        [  0, 255,   0],\n",
      "        ...,\n",
      "        [  5,   2,   3],\n",
      "        [  4,   0,   0],\n",
      "        [  2,   0,   0]],\n",
      "\n",
      "       [[  0, 255,   0],\n",
      "        [  0, 255,   0],\n",
      "        [  0, 255,   0],\n",
      "        ...,\n",
      "        [218, 215, 216],\n",
      "        [228, 223, 224],\n",
      "        [235, 230, 231]],\n",
      "\n",
      "       [[  0, 255,   0],\n",
      "        [  0, 255,   0],\n",
      "        [  0, 255,   0],\n",
      "        ...,\n",
      "        [238, 235, 236],\n",
      "        [253, 248, 249],\n",
      "        [255, 251, 252]],\n",
      "\n",
      "       ...,\n",
      "\n",
      "       [[123, 121, 104],\n",
      "        [121, 119, 102],\n",
      "        [121, 119, 102],\n",
      "        ...,\n",
      "        [104, 111, 104],\n",
      "        [106, 110, 105],\n",
      "        [104, 108, 103]],\n",
      "\n",
      "       [[122, 119, 104],\n",
      "        [121, 118, 103],\n",
      "        [121, 118, 103],\n",
      "        ...,\n",
      "        [104, 111, 104],\n",
      "        [106, 110, 105],\n",
      "        [104, 108, 103]],\n",
      "\n",
      "       [[121, 118, 103],\n",
      "        [121, 118, 103],\n",
      "        [121, 118, 103],\n",
      "        ...,\n",
      "        [103, 110, 103],\n",
      "        [106, 110, 105],\n",
      "        [104, 108, 103]]], dtype=uint8)\n",
      "orig_shape: (720, 1280)\n",
      "path: 'image0.jpg'\n",
      "probs: None\n",
      "save_dir: 'runs\\\\detect\\\\predict'\n",
      "speed: {'preprocess': 0.0, 'inference': 6.969451904296875, 'postprocess': 0.0}]\n",
      "\n",
      "0: 384x640 2 persons, 21.5ms\n",
      "Speed: 1.0ms preprocess, 21.5ms inference, 1.0ms postprocess per image at shape (1, 3, 384, 640)\n",
      "\n",
      "0: 96x128 (no detections), 13.0ms\n",
      "Speed: 1.0ms preprocess, 13.0ms inference, 1.0ms postprocess per image at shape (1, 3, 96, 128)\n",
      "predictions: [ultralytics.engine.results.Results object with attributes:\n",
      "\n",
      "boxes: ultralytics.engine.results.Boxes object\n",
      "keypoints: None\n",
      "masks: None\n",
      "names: {0: 'Hand_Raised'}\n",
      "obb: None\n",
      "orig_img: array([[[  0, 255,   0],\n",
      "        [  0, 255,   0],\n",
      "        [  0, 255,   0],\n",
      "        ...,\n",
      "        [  3,   3,   1],\n",
      "        [  3,   0,   0],\n",
      "        [  2,   0,   0]],\n",
      "\n",
      "       [[  0, 255,   0],\n",
      "        [  0, 255,   0],\n",
      "        [  0, 255,   0],\n",
      "        ...,\n",
      "        [218, 218, 216],\n",
      "        [229, 226, 225],\n",
      "        [232, 229, 228]],\n",
      "\n",
      "       [[  0, 255,   0],\n",
      "        [  0, 255,   0],\n",
      "        [  0, 255,   0],\n",
      "        ...,\n",
      "        [238, 238, 236],\n",
      "        [252, 249, 248],\n",
      "        [252, 249, 248]],\n",
      "\n",
      "       ...,\n",
      "\n",
      "       [[125, 120, 105],\n",
      "        [123, 118, 103],\n",
      "        [123, 118, 103],\n",
      "        ...,\n",
      "        [104, 111, 104],\n",
      "        [107, 111, 106],\n",
      "        [105, 109, 104]],\n",
      "\n",
      "       [[118, 119, 106],\n",
      "        [117, 118, 105],\n",
      "        [117, 118, 105],\n",
      "        ...,\n",
      "        [104, 111, 104],\n",
      "        [107, 111, 106],\n",
      "        [105, 109, 104]],\n",
      "\n",
      "       [[117, 118, 105],\n",
      "        [117, 118, 105],\n",
      "        [117, 118, 105],\n",
      "        ...,\n",
      "        [103, 110, 103],\n",
      "        [107, 111, 106],\n",
      "        [105, 109, 104]]], dtype=uint8)\n",
      "orig_shape: (720, 1280)\n",
      "path: 'image0.jpg'\n",
      "probs: None\n",
      "save_dir: 'runs\\\\detect\\\\predict'\n",
      "speed: {'preprocess': 1.0006427764892578, 'inference': 13.007402420043945, 'postprocess': 0.9996891021728516}]\n",
      "\n",
      "0: 384x640 2 persons, 23.0ms\n",
      "Speed: 1.0ms preprocess, 23.0ms inference, 3.0ms postprocess per image at shape (1, 3, 384, 640)\n",
      "\n",
      "0: 96x128 (no detections), 14.0ms\n",
      "Speed: 0.0ms preprocess, 14.0ms inference, 1.0ms postprocess per image at shape (1, 3, 96, 128)\n",
      "predictions: [ultralytics.engine.results.Results object with attributes:\n",
      "\n",
      "boxes: ultralytics.engine.results.Boxes object\n",
      "keypoints: None\n",
      "masks: None\n",
      "names: {0: 'Hand_Raised'}\n",
      "obb: None\n",
      "orig_img: array([[[  0, 255,   0],\n",
      "        [  0, 255,   0],\n",
      "        [  0, 255,   0],\n",
      "        ...,\n",
      "        [  3,   3,   1],\n",
      "        [  3,   0,   0],\n",
      "        [  2,   0,   0]],\n",
      "\n",
      "       [[  0, 255,   0],\n",
      "        [  0, 255,   0],\n",
      "        [  0, 255,   0],\n",
      "        ...,\n",
      "        [218, 218, 216],\n",
      "        [229, 226, 225],\n",
      "        [232, 229, 228]],\n",
      "\n",
      "       [[  0, 255,   0],\n",
      "        [  0, 255,   0],\n",
      "        [  0, 255,   0],\n",
      "        ...,\n",
      "        [238, 238, 236],\n",
      "        [252, 249, 248],\n",
      "        [252, 249, 248]],\n",
      "\n",
      "       ...,\n",
      "\n",
      "       [[125, 120, 105],\n",
      "        [123, 118, 103],\n",
      "        [123, 118, 103],\n",
      "        ...,\n",
      "        [104, 111, 104],\n",
      "        [107, 111, 106],\n",
      "        [105, 109, 104]],\n",
      "\n",
      "       [[118, 119, 106],\n",
      "        [117, 118, 105],\n",
      "        [117, 118, 105],\n",
      "        ...,\n",
      "        [104, 111, 104],\n",
      "        [107, 111, 106],\n",
      "        [105, 109, 104]],\n",
      "\n",
      "       [[117, 118, 105],\n",
      "        [117, 118, 105],\n",
      "        [117, 118, 105],\n",
      "        ...,\n",
      "        [103, 110, 103],\n",
      "        [107, 111, 106],\n",
      "        [105, 109, 104]]], dtype=uint8)\n",
      "orig_shape: (720, 1280)\n",
      "path: 'image0.jpg'\n",
      "probs: None\n",
      "save_dir: 'runs\\\\detect\\\\predict'\n",
      "speed: {'preprocess': 0.0, 'inference': 13.998746871948242, 'postprocess': 0.9946823120117188}]\n",
      "\n",
      "0: 384x640 2 persons, 20.8ms\n",
      "Speed: 1.0ms preprocess, 20.8ms inference, 2.0ms postprocess per image at shape (1, 3, 384, 640)\n",
      "\n",
      "0: 96x128 (no detections), 8.1ms\n",
      "Speed: 0.0ms preprocess, 8.1ms inference, 0.0ms postprocess per image at shape (1, 3, 96, 128)\n",
      "predictions: [ultralytics.engine.results.Results object with attributes:\n",
      "\n",
      "boxes: ultralytics.engine.results.Boxes object\n",
      "keypoints: None\n",
      "masks: None\n",
      "names: {0: 'Hand_Raised'}\n",
      "obb: None\n",
      "orig_img: array([[[  0, 255,   0],\n",
      "        [  0, 255,   0],\n",
      "        [  0, 255,   0],\n",
      "        ...,\n",
      "        [  5,   2,   1],\n",
      "        [  3,   0,   0],\n",
      "        [  2,   0,   0]],\n",
      "\n",
      "       [[  0, 255,   0],\n",
      "        [  0, 255,   0],\n",
      "        [  0, 255,   0],\n",
      "        ...,\n",
      "        [220, 217, 216],\n",
      "        [229, 226, 225],\n",
      "        [232, 229, 228]],\n",
      "\n",
      "       [[  0, 255,   0],\n",
      "        [  0, 255,   0],\n",
      "        [  0, 255,   0],\n",
      "        ...,\n",
      "        [240, 237, 236],\n",
      "        [252, 249, 248],\n",
      "        [252, 249, 248]],\n",
      "\n",
      "       ...,\n",
      "\n",
      "       [[125, 120, 105],\n",
      "        [123, 118, 103],\n",
      "        [123, 118, 103],\n",
      "        ...,\n",
      "        [104, 111, 104],\n",
      "        [107, 111, 106],\n",
      "        [105, 109, 104]],\n",
      "\n",
      "       [[118, 119, 106],\n",
      "        [117, 118, 105],\n",
      "        [117, 118, 105],\n",
      "        ...,\n",
      "        [104, 111, 104],\n",
      "        [107, 111, 106],\n",
      "        [105, 109, 104]],\n",
      "\n",
      "       [[117, 118, 105],\n",
      "        [117, 118, 105],\n",
      "        [117, 118, 105],\n",
      "        ...,\n",
      "        [103, 110, 103],\n",
      "        [107, 111, 106],\n",
      "        [105, 109, 104]]], dtype=uint8)\n",
      "orig_shape: (720, 1280)\n",
      "path: 'image0.jpg'\n",
      "probs: None\n",
      "save_dir: 'runs\\\\detect\\\\predict'\n",
      "speed: {'preprocess': 0.0, 'inference': 8.07046890258789, 'postprocess': 0.0}]\n",
      "\n",
      "0: 384x640 2 persons, 22.0ms\n",
      "Speed: 1.0ms preprocess, 22.0ms inference, 1.0ms postprocess per image at shape (1, 3, 384, 640)\n",
      "\n",
      "0: 96x128 (no detections), 8.0ms\n",
      "Speed: 0.0ms preprocess, 8.0ms inference, 0.0ms postprocess per image at shape (1, 3, 96, 128)\n",
      "predictions: [ultralytics.engine.results.Results object with attributes:\n",
      "\n",
      "boxes: ultralytics.engine.results.Boxes object\n",
      "keypoints: None\n",
      "masks: None\n",
      "names: {0: 'Hand_Raised'}\n",
      "obb: None\n",
      "orig_img: array([[[  0, 255,   0],\n",
      "        [  0, 255,   0],\n",
      "        [  0, 255,   0],\n",
      "        ...,\n",
      "        [  5,   2,   1],\n",
      "        [  3,   0,   0],\n",
      "        [  2,   0,   0]],\n",
      "\n",
      "       [[  0, 255,   0],\n",
      "        [  0, 255,   0],\n",
      "        [  0, 255,   0],\n",
      "        ...,\n",
      "        [220, 217, 216],\n",
      "        [229, 226, 225],\n",
      "        [232, 229, 228]],\n",
      "\n",
      "       [[  0, 255,   0],\n",
      "        [  0, 255,   0],\n",
      "        [  0, 255,   0],\n",
      "        ...,\n",
      "        [240, 237, 236],\n",
      "        [252, 249, 248],\n",
      "        [252, 249, 248]],\n",
      "\n",
      "       ...,\n",
      "\n",
      "       [[125, 120, 105],\n",
      "        [123, 118, 103],\n",
      "        [123, 118, 103],\n",
      "        ...,\n",
      "        [113, 110, 104],\n",
      "        [115, 109, 104],\n",
      "        [114, 108, 103]],\n",
      "\n",
      "       [[118, 119, 106],\n",
      "        [117, 118, 105],\n",
      "        [117, 118, 105],\n",
      "        ...,\n",
      "        [113, 110, 104],\n",
      "        [115, 109, 104],\n",
      "        [114, 108, 103]],\n",
      "\n",
      "       [[117, 118, 105],\n",
      "        [117, 118, 105],\n",
      "        [117, 118, 105],\n",
      "        ...,\n",
      "        [113, 110, 104],\n",
      "        [115, 109, 104],\n",
      "        [114, 108, 103]]], dtype=uint8)\n",
      "orig_shape: (720, 1280)\n",
      "path: 'image0.jpg'\n",
      "probs: None\n",
      "save_dir: 'runs\\\\detect\\\\predict'\n",
      "speed: {'preprocess': 0.0, 'inference': 8.004188537597656, 'postprocess': 0.0}]\n",
      "\n",
      "0: 384x640 2 persons, 22.1ms\n",
      "Speed: 1.0ms preprocess, 22.1ms inference, 1.9ms postprocess per image at shape (1, 3, 384, 640)\n",
      "\n",
      "0: 96x128 (no detections), 7.1ms\n",
      "Speed: 0.0ms preprocess, 7.1ms inference, 0.0ms postprocess per image at shape (1, 3, 96, 128)\n",
      "predictions: [ultralytics.engine.results.Results object with attributes:\n",
      "\n",
      "boxes: ultralytics.engine.results.Boxes object\n",
      "keypoints: None\n",
      "masks: None\n",
      "names: {0: 'Hand_Raised'}\n",
      "obb: None\n",
      "orig_img: array([[[  0, 255,   0],\n",
      "        [  0, 255,   0],\n",
      "        [  0, 255,   0],\n",
      "        ...,\n",
      "        [  3,   3,   1],\n",
      "        [  1,   1,   0],\n",
      "        [  0,   0,   0]],\n",
      "\n",
      "       [[  0, 255,   0],\n",
      "        [  0, 255,   0],\n",
      "        [  0, 255,   0],\n",
      "        ...,\n",
      "        [218, 218, 216],\n",
      "        [227, 227, 225],\n",
      "        [230, 230, 228]],\n",
      "\n",
      "       [[  0, 255,   0],\n",
      "        [  0, 255,   0],\n",
      "        [  0, 255,   0],\n",
      "        ...,\n",
      "        [238, 238, 236],\n",
      "        [250, 250, 248],\n",
      "        [250, 250, 248]],\n",
      "\n",
      "       ...,\n",
      "\n",
      "       [[125, 120, 105],\n",
      "        [123, 118, 103],\n",
      "        [123, 118, 103],\n",
      "        ...,\n",
      "        [106, 111, 104],\n",
      "        [104, 111, 104],\n",
      "        [104, 111, 104]],\n",
      "\n",
      "       [[118, 119, 106],\n",
      "        [117, 118, 105],\n",
      "        [117, 118, 105],\n",
      "        ...,\n",
      "        [106, 111, 104],\n",
      "        [106, 111, 104],\n",
      "        [106, 111, 104]],\n",
      "\n",
      "       [[117, 118, 105],\n",
      "        [117, 118, 105],\n",
      "        [117, 118, 105],\n",
      "        ...,\n",
      "        [106, 111, 104],\n",
      "        [106, 111, 104],\n",
      "        [106, 111, 104]]], dtype=uint8)\n",
      "orig_shape: (720, 1280)\n",
      "path: 'image0.jpg'\n",
      "probs: None\n",
      "save_dir: 'runs\\\\detect\\\\predict'\n",
      "speed: {'preprocess': 0.0, 'inference': 7.071495056152344, 'postprocess': 0.0}]\n",
      "\n",
      "0: 384x640 2 persons, 22.0ms\n",
      "Speed: 1.0ms preprocess, 22.0ms inference, 2.0ms postprocess per image at shape (1, 3, 384, 640)\n",
      "\n",
      "0: 96x128 (no detections), 12.0ms\n",
      "Speed: 0.0ms preprocess, 12.0ms inference, 0.0ms postprocess per image at shape (1, 3, 96, 128)\n",
      "predictions: [ultralytics.engine.results.Results object with attributes:\n",
      "\n",
      "boxes: ultralytics.engine.results.Boxes object\n",
      "keypoints: None\n",
      "masks: None\n",
      "names: {0: 'Hand_Raised'}\n",
      "obb: None\n",
      "orig_img: array([[[  0, 255,   0],\n",
      "        [  0, 255,   0],\n",
      "        [  0, 255,   0],\n",
      "        ...,\n",
      "        [  5,   2,   1],\n",
      "        [  3,   0,   0],\n",
      "        [  2,   0,   0]],\n",
      "\n",
      "       [[  0, 255,   0],\n",
      "        [  0, 255,   0],\n",
      "        [  0, 255,   0],\n",
      "        ...,\n",
      "        [220, 217, 216],\n",
      "        [229, 226, 225],\n",
      "        [232, 229, 228]],\n",
      "\n",
      "       [[  0, 255,   0],\n",
      "        [  0, 255,   0],\n",
      "        [  0, 255,   0],\n",
      "        ...,\n",
      "        [240, 237, 236],\n",
      "        [252, 249, 248],\n",
      "        [252, 249, 248]],\n",
      "\n",
      "       ...,\n",
      "\n",
      "       [[125, 120, 105],\n",
      "        [123, 118, 103],\n",
      "        [123, 118, 103],\n",
      "        ...,\n",
      "        [110, 112, 105],\n",
      "        [107, 112, 105],\n",
      "        [106, 111, 104]],\n",
      "\n",
      "       [[118, 119, 106],\n",
      "        [117, 118, 105],\n",
      "        [117, 118, 105],\n",
      "        ...,\n",
      "        [110, 112, 105],\n",
      "        [107, 112, 105],\n",
      "        [106, 111, 104]],\n",
      "\n",
      "       [[117, 118, 105],\n",
      "        [117, 118, 105],\n",
      "        [117, 118, 105],\n",
      "        ...,\n",
      "        [110, 112, 105],\n",
      "        [107, 112, 105],\n",
      "        [106, 111, 104]]], dtype=uint8)\n",
      "orig_shape: (720, 1280)\n",
      "path: 'image0.jpg'\n",
      "probs: None\n",
      "save_dir: 'runs\\\\detect\\\\predict'\n",
      "speed: {'preprocess': 0.0, 'inference': 12.001752853393555, 'postprocess': 0.0}]\n",
      "\n",
      "0: 384x640 2 persons, 24.0ms\n",
      "Speed: 0.0ms preprocess, 24.0ms inference, 1.0ms postprocess per image at shape (1, 3, 384, 640)\n",
      "\n",
      "0: 96x128 (no detections), 6.9ms\n",
      "Speed: 0.0ms preprocess, 6.9ms inference, 0.0ms postprocess per image at shape (1, 3, 96, 128)\n",
      "predictions: [ultralytics.engine.results.Results object with attributes:\n",
      "\n",
      "boxes: ultralytics.engine.results.Boxes object\n",
      "keypoints: None\n",
      "masks: None\n",
      "names: {0: 'Hand_Raised'}\n",
      "obb: None\n",
      "orig_img: array([[[  0, 255,   0],\n",
      "        [  0, 255,   0],\n",
      "        [  0, 255,   0],\n",
      "        ...,\n",
      "        [  5,   2,   1],\n",
      "        [  3,   0,   0],\n",
      "        [  2,   0,   0]],\n",
      "\n",
      "       [[  0, 255,   0],\n",
      "        [  0, 255,   0],\n",
      "        [  0, 255,   0],\n",
      "        ...,\n",
      "        [220, 217, 216],\n",
      "        [229, 226, 225],\n",
      "        [232, 229, 228]],\n",
      "\n",
      "       [[  0, 255,   0],\n",
      "        [  0, 255,   0],\n",
      "        [  0, 255,   0],\n",
      "        ...,\n",
      "        [240, 237, 236],\n",
      "        [252, 249, 248],\n",
      "        [252, 249, 248]],\n",
      "\n",
      "       ...,\n",
      "\n",
      "       [[125, 120, 105],\n",
      "        [123, 118, 103],\n",
      "        [123, 118, 103],\n",
      "        ...,\n",
      "        [110, 112, 105],\n",
      "        [107, 112, 105],\n",
      "        [106, 111, 104]],\n",
      "\n",
      "       [[118, 119, 106],\n",
      "        [117, 118, 105],\n",
      "        [117, 118, 105],\n",
      "        ...,\n",
      "        [110, 112, 105],\n",
      "        [107, 112, 105],\n",
      "        [106, 111, 104]],\n",
      "\n",
      "       [[117, 118, 105],\n",
      "        [117, 118, 105],\n",
      "        [117, 118, 105],\n",
      "        ...,\n",
      "        [110, 112, 105],\n",
      "        [107, 112, 105],\n",
      "        [106, 111, 104]]], dtype=uint8)\n",
      "orig_shape: (720, 1280)\n",
      "path: 'image0.jpg'\n",
      "probs: None\n",
      "save_dir: 'runs\\\\detect\\\\predict'\n",
      "speed: {'preprocess': 0.0, 'inference': 6.916522979736328, 'postprocess': 0.0}]\n",
      "\n",
      "0: 384x640 2 persons, 25.0ms\n",
      "Speed: 1.0ms preprocess, 25.0ms inference, 1.0ms postprocess per image at shape (1, 3, 384, 640)\n",
      "\n",
      "0: 96x128 (no detections), 7.0ms\n",
      "Speed: 2.0ms preprocess, 7.0ms inference, 0.0ms postprocess per image at shape (1, 3, 96, 128)\n",
      "predictions: [ultralytics.engine.results.Results object with attributes:\n",
      "\n",
      "boxes: ultralytics.engine.results.Boxes object\n",
      "keypoints: None\n",
      "masks: None\n",
      "names: {0: 'Hand_Raised'}\n",
      "obb: None\n",
      "orig_img: array([[[  0, 255,   0],\n",
      "        [  0, 255,   0],\n",
      "        [  0, 255,   0],\n",
      "        ...,\n",
      "        [  5,   2,   1],\n",
      "        [  3,   0,   0],\n",
      "        [  2,   0,   0]],\n",
      "\n",
      "       [[  0, 255,   0],\n",
      "        [  0, 255,   0],\n",
      "        [  0, 255,   0],\n",
      "        ...,\n",
      "        [220, 217, 216],\n",
      "        [229, 226, 225],\n",
      "        [232, 229, 228]],\n",
      "\n",
      "       [[  0, 255,   0],\n",
      "        [  0, 255,   0],\n",
      "        [  0, 255,   0],\n",
      "        ...,\n",
      "        [240, 237, 236],\n",
      "        [252, 249, 248],\n",
      "        [252, 249, 248]],\n",
      "\n",
      "       ...,\n",
      "\n",
      "       [[125, 120, 105],\n",
      "        [123, 118, 103],\n",
      "        [123, 118, 103],\n",
      "        ...,\n",
      "        [107, 112, 105],\n",
      "        [107, 112, 105],\n",
      "        [106, 111, 104]],\n",
      "\n",
      "       [[118, 119, 106],\n",
      "        [117, 118, 105],\n",
      "        [117, 118, 105],\n",
      "        ...,\n",
      "        [107, 112, 105],\n",
      "        [105, 112, 105],\n",
      "        [104, 111, 104]],\n",
      "\n",
      "       [[117, 118, 105],\n",
      "        [117, 118, 105],\n",
      "        [117, 118, 105],\n",
      "        ...,\n",
      "        [107, 112, 105],\n",
      "        [105, 112, 105],\n",
      "        [104, 111, 104]]], dtype=uint8)\n",
      "orig_shape: (720, 1280)\n",
      "path: 'image0.jpg'\n",
      "probs: None\n",
      "save_dir: 'runs\\\\detect\\\\predict'\n",
      "speed: {'preprocess': 2.003908157348633, 'inference': 6.99925422668457, 'postprocess': 0.0}]\n",
      "\n",
      "0: 384x640 2 persons, 24.1ms\n",
      "Speed: 1.0ms preprocess, 24.1ms inference, 1.0ms postprocess per image at shape (1, 3, 384, 640)\n",
      "\n",
      "0: 96x128 (no detections), 7.0ms\n",
      "Speed: 0.0ms preprocess, 7.0ms inference, 0.0ms postprocess per image at shape (1, 3, 96, 128)\n",
      "predictions: [ultralytics.engine.results.Results object with attributes:\n",
      "\n",
      "boxes: ultralytics.engine.results.Boxes object\n",
      "keypoints: None\n",
      "masks: None\n",
      "names: {0: 'Hand_Raised'}\n",
      "obb: None\n",
      "orig_img: array([[[  0, 255,   0],\n",
      "        [  0, 255,   0],\n",
      "        [  0, 255,   0],\n",
      "        ...,\n",
      "        [  5,   2,   1],\n",
      "        [  3,   0,   0],\n",
      "        [  2,   0,   0]],\n",
      "\n",
      "       [[  0, 255,   0],\n",
      "        [  0, 255,   0],\n",
      "        [  0, 255,   0],\n",
      "        ...,\n",
      "        [220, 217, 216],\n",
      "        [229, 226, 225],\n",
      "        [232, 229, 228]],\n",
      "\n",
      "       [[  0, 255,   0],\n",
      "        [  0, 255,   0],\n",
      "        [  0, 255,   0],\n",
      "        ...,\n",
      "        [240, 237, 236],\n",
      "        [252, 249, 248],\n",
      "        [252, 249, 248]],\n",
      "\n",
      "       ...,\n",
      "\n",
      "       [[125, 120, 105],\n",
      "        [123, 118, 103],\n",
      "        [123, 118, 103],\n",
      "        ...,\n",
      "        [106, 111, 104],\n",
      "        [106, 111, 104],\n",
      "        [106, 111, 104]],\n",
      "\n",
      "       [[118, 119, 106],\n",
      "        [117, 118, 105],\n",
      "        [117, 118, 105],\n",
      "        ...,\n",
      "        [106, 111, 104],\n",
      "        [104, 111, 104],\n",
      "        [104, 111, 104]],\n",
      "\n",
      "       [[117, 118, 105],\n",
      "        [117, 118, 105],\n",
      "        [117, 118, 105],\n",
      "        ...,\n",
      "        [106, 111, 104],\n",
      "        [104, 111, 104],\n",
      "        [104, 111, 104]]], dtype=uint8)\n",
      "orig_shape: (720, 1280)\n",
      "path: 'image0.jpg'\n",
      "probs: None\n",
      "save_dir: 'runs\\\\detect\\\\predict'\n",
      "speed: {'preprocess': 0.0, 'inference': 6.999492645263672, 'postprocess': 0.0}]\n",
      "\n",
      "0: 384x640 2 persons, 22.0ms\n",
      "Speed: 1.0ms preprocess, 22.0ms inference, 2.0ms postprocess per image at shape (1, 3, 384, 640)\n",
      "\n",
      "0: 96x128 1 Hand_Raised, 9.0ms\n",
      "Speed: 0.0ms preprocess, 9.0ms inference, 0.0ms postprocess per image at shape (1, 3, 96, 128)\n",
      "predictions: [ultralytics.engine.results.Results object with attributes:\n",
      "\n",
      "boxes: ultralytics.engine.results.Boxes object\n",
      "keypoints: None\n",
      "masks: None\n",
      "names: {0: 'Hand_Raised'}\n",
      "obb: None\n",
      "orig_img: array([[[  0, 255,   0],\n",
      "        [  0, 255,   0],\n",
      "        [  0, 255,   0],\n",
      "        ...,\n",
      "        [  5,   2,   1],\n",
      "        [  3,   0,   0],\n",
      "        [  2,   0,   0]],\n",
      "\n",
      "       [[  0, 255,   0],\n",
      "        [  0, 255,   0],\n",
      "        [  0, 255,   0],\n",
      "        ...,\n",
      "        [220, 217, 216],\n",
      "        [229, 226, 225],\n",
      "        [232, 229, 228]],\n",
      "\n",
      "       [[  0, 255,   0],\n",
      "        [  0, 255,   0],\n",
      "        [  0, 255,   0],\n",
      "        ...,\n",
      "        [240, 237, 236],\n",
      "        [252, 249, 248],\n",
      "        [252, 249, 248]],\n",
      "\n",
      "       ...,\n",
      "\n",
      "       [[125, 120, 105],\n",
      "        [123, 118, 103],\n",
      "        [123, 118, 103],\n",
      "        ...,\n",
      "        [106, 111, 104],\n",
      "        [106, 111, 104],\n",
      "        [106, 111, 104]],\n",
      "\n",
      "       [[118, 119, 106],\n",
      "        [117, 118, 105],\n",
      "        [117, 118, 105],\n",
      "        ...,\n",
      "        [106, 111, 104],\n",
      "        [104, 111, 104],\n",
      "        [104, 111, 104]],\n",
      "\n",
      "       [[117, 118, 105],\n",
      "        [117, 118, 105],\n",
      "        [117, 118, 105],\n",
      "        ...,\n",
      "        [106, 111, 104],\n",
      "        [104, 111, 104],\n",
      "        [104, 111, 104]]], dtype=uint8)\n",
      "orig_shape: (720, 1280)\n",
      "path: 'image0.jpg'\n",
      "probs: None\n",
      "save_dir: 'runs\\\\detect\\\\predict'\n",
      "speed: {'preprocess': 0.0, 'inference': 9.016036987304688, 'postprocess': 0.0}]\n",
      "\n",
      "0: 384x640 2 persons, 23.1ms\n",
      "Speed: 1.0ms preprocess, 23.1ms inference, 1.0ms postprocess per image at shape (1, 3, 384, 640)\n",
      "\n",
      "0: 96x128 1 Hand_Raised, 7.0ms\n",
      "Speed: 0.0ms preprocess, 7.0ms inference, 0.0ms postprocess per image at shape (1, 3, 96, 128)\n",
      "predictions: [ultralytics.engine.results.Results object with attributes:\n",
      "\n",
      "boxes: ultralytics.engine.results.Boxes object\n",
      "keypoints: None\n",
      "masks: None\n",
      "names: {0: 'Hand_Raised'}\n",
      "obb: None\n",
      "orig_img: array([[[  0, 255,   0],\n",
      "        [  0, 255,   0],\n",
      "        [  0, 255,   0],\n",
      "        ...,\n",
      "        [  5,   2,   1],\n",
      "        [  3,   0,   0],\n",
      "        [  2,   0,   0]],\n",
      "\n",
      "       [[  0, 255,   0],\n",
      "        [  0, 255,   0],\n",
      "        [  0, 255,   0],\n",
      "        ...,\n",
      "        [220, 217, 216],\n",
      "        [229, 226, 225],\n",
      "        [232, 229, 228]],\n",
      "\n",
      "       [[  0, 255,   0],\n",
      "        [  0, 255,   0],\n",
      "        [  0, 255,   0],\n",
      "        ...,\n",
      "        [240, 237, 236],\n",
      "        [252, 249, 248],\n",
      "        [252, 249, 248]],\n",
      "\n",
      "       ...,\n",
      "\n",
      "       [[125, 120, 105],\n",
      "        [123, 118, 103],\n",
      "        [123, 118, 103],\n",
      "        ...,\n",
      "        [106, 111, 104],\n",
      "        [106, 111, 104],\n",
      "        [106, 111, 104]],\n",
      "\n",
      "       [[118, 119, 106],\n",
      "        [117, 118, 105],\n",
      "        [117, 118, 105],\n",
      "        ...,\n",
      "        [106, 111, 104],\n",
      "        [104, 111, 104],\n",
      "        [104, 111, 104]],\n",
      "\n",
      "       [[117, 118, 105],\n",
      "        [117, 118, 105],\n",
      "        [117, 118, 105],\n",
      "        ...,\n",
      "        [106, 111, 104],\n",
      "        [104, 111, 104],\n",
      "        [104, 111, 104]]], dtype=uint8)\n",
      "orig_shape: (720, 1280)\n",
      "path: 'image0.jpg'\n",
      "probs: None\n",
      "save_dir: 'runs\\\\detect\\\\predict'\n",
      "speed: {'preprocess': 0.0, 'inference': 7.001399993896484, 'postprocess': 0.0}]\n",
      "\n",
      "0: 384x640 2 persons, 23.0ms\n",
      "Speed: 1.0ms preprocess, 23.0ms inference, 1.0ms postprocess per image at shape (1, 3, 384, 640)\n",
      "\n",
      "0: 96x128 1 Hand_Raised, 7.0ms\n",
      "Speed: 0.0ms preprocess, 7.0ms inference, 0.0ms postprocess per image at shape (1, 3, 96, 128)\n",
      "predictions: [ultralytics.engine.results.Results object with attributes:\n",
      "\n",
      "boxes: ultralytics.engine.results.Boxes object\n",
      "keypoints: None\n",
      "masks: None\n",
      "names: {0: 'Hand_Raised'}\n",
      "obb: None\n",
      "orig_img: array([[[  0, 255,   0],\n",
      "        [  0, 255,   0],\n",
      "        [  0, 255,   0],\n",
      "        ...,\n",
      "        [  5,   2,   1],\n",
      "        [  3,   0,   0],\n",
      "        [  2,   0,   0]],\n",
      "\n",
      "       [[  0, 255,   0],\n",
      "        [  0, 255,   0],\n",
      "        [  0, 255,   0],\n",
      "        ...,\n",
      "        [220, 217, 216],\n",
      "        [229, 226, 225],\n",
      "        [232, 229, 228]],\n",
      "\n",
      "       [[  0, 255,   0],\n",
      "        [  0, 255,   0],\n",
      "        [  0, 255,   0],\n",
      "        ...,\n",
      "        [240, 237, 236],\n",
      "        [252, 249, 248],\n",
      "        [252, 249, 248]],\n",
      "\n",
      "       ...,\n",
      "\n",
      "       [[125, 120, 105],\n",
      "        [123, 118, 103],\n",
      "        [123, 118, 103],\n",
      "        ...,\n",
      "        [106, 111, 104],\n",
      "        [106, 111, 104],\n",
      "        [106, 111, 104]],\n",
      "\n",
      "       [[118, 119, 106],\n",
      "        [117, 118, 105],\n",
      "        [117, 118, 105],\n",
      "        ...,\n",
      "        [106, 111, 104],\n",
      "        [104, 111, 104],\n",
      "        [104, 111, 104]],\n",
      "\n",
      "       [[117, 118, 105],\n",
      "        [117, 118, 105],\n",
      "        [117, 118, 105],\n",
      "        ...,\n",
      "        [106, 111, 104],\n",
      "        [104, 111, 104],\n",
      "        [104, 111, 104]]], dtype=uint8)\n",
      "orig_shape: (720, 1280)\n",
      "path: 'image0.jpg'\n",
      "probs: None\n",
      "save_dir: 'runs\\\\detect\\\\predict'\n",
      "speed: {'preprocess': 0.0, 'inference': 6.99925422668457, 'postprocess': 0.0}]\n",
      "\n",
      "0: 384x640 2 persons, 23.4ms\n",
      "Speed: 0.0ms preprocess, 23.4ms inference, 2.0ms postprocess per image at shape (1, 3, 384, 640)\n",
      "\n",
      "0: 96x128 (no detections), 10.1ms\n",
      "Speed: 0.0ms preprocess, 10.1ms inference, 0.0ms postprocess per image at shape (1, 3, 96, 128)\n",
      "predictions: [ultralytics.engine.results.Results object with attributes:\n",
      "\n",
      "boxes: ultralytics.engine.results.Boxes object\n",
      "keypoints: None\n",
      "masks: None\n",
      "names: {0: 'Hand_Raised'}\n",
      "obb: None\n",
      "orig_img: array([[[  0, 255,   0],\n",
      "        [  0, 255,   0],\n",
      "        [  0, 255,   0],\n",
      "        ...,\n",
      "        [  5,   2,   1],\n",
      "        [  3,   0,   0],\n",
      "        [  2,   0,   0]],\n",
      "\n",
      "       [[  0, 255,   0],\n",
      "        [  0, 255,   0],\n",
      "        [  0, 255,   0],\n",
      "        ...,\n",
      "        [220, 217, 216],\n",
      "        [229, 226, 225],\n",
      "        [232, 229, 228]],\n",
      "\n",
      "       [[  0, 255,   0],\n",
      "        [  0, 255,   0],\n",
      "        [  0, 255,   0],\n",
      "        ...,\n",
      "        [240, 237, 236],\n",
      "        [252, 249, 248],\n",
      "        [252, 249, 248]],\n",
      "\n",
      "       ...,\n",
      "\n",
      "       [[125, 120, 105],\n",
      "        [123, 118, 103],\n",
      "        [123, 118, 103],\n",
      "        ...,\n",
      "        [106, 111, 104],\n",
      "        [104, 111, 104],\n",
      "        [104, 111, 104]],\n",
      "\n",
      "       [[118, 119, 106],\n",
      "        [117, 118, 105],\n",
      "        [117, 118, 105],\n",
      "        ...,\n",
      "        [106, 111, 104],\n",
      "        [104, 111, 104],\n",
      "        [104, 111, 104]],\n",
      "\n",
      "       [[117, 118, 105],\n",
      "        [117, 118, 105],\n",
      "        [117, 118, 105],\n",
      "        ...,\n",
      "        [106, 111, 104],\n",
      "        [104, 111, 104],\n",
      "        [104, 111, 104]]], dtype=uint8)\n",
      "orig_shape: (720, 1280)\n",
      "path: 'image0.jpg'\n",
      "probs: None\n",
      "save_dir: 'runs\\\\detect\\\\predict'\n",
      "speed: {'preprocess': 0.0, 'inference': 10.064840316772461, 'postprocess': 0.0}]\n",
      "\n",
      "0: 384x640 2 persons, 23.0ms\n",
      "Speed: 1.0ms preprocess, 23.0ms inference, 1.0ms postprocess per image at shape (1, 3, 384, 640)\n",
      "\n",
      "0: 96x128 (no detections), 7.0ms\n",
      "Speed: 0.0ms preprocess, 7.0ms inference, 0.0ms postprocess per image at shape (1, 3, 96, 128)\n",
      "predictions: [ultralytics.engine.results.Results object with attributes:\n",
      "\n",
      "boxes: ultralytics.engine.results.Boxes object\n",
      "keypoints: None\n",
      "masks: None\n",
      "names: {0: 'Hand_Raised'}\n",
      "obb: None\n",
      "orig_img: array([[[  0, 255,   0],\n",
      "        [  0, 255,   0],\n",
      "        [  0, 255,   0],\n",
      "        ...,\n",
      "        [  5,   2,   1],\n",
      "        [  3,   0,   0],\n",
      "        [  2,   0,   0]],\n",
      "\n",
      "       [[  0, 255,   0],\n",
      "        [  0, 255,   0],\n",
      "        [  0, 255,   0],\n",
      "        ...,\n",
      "        [220, 217, 216],\n",
      "        [229, 226, 225],\n",
      "        [232, 229, 228]],\n",
      "\n",
      "       [[  0, 255,   0],\n",
      "        [  0, 255,   0],\n",
      "        [  0, 255,   0],\n",
      "        ...,\n",
      "        [240, 237, 236],\n",
      "        [252, 249, 248],\n",
      "        [252, 249, 248]],\n",
      "\n",
      "       ...,\n",
      "\n",
      "       [[125, 120, 105],\n",
      "        [123, 118, 103],\n",
      "        [123, 118, 103],\n",
      "        ...,\n",
      "        [106, 111, 104],\n",
      "        [104, 111, 104],\n",
      "        [104, 111, 104]],\n",
      "\n",
      "       [[118, 119, 106],\n",
      "        [117, 118, 105],\n",
      "        [117, 118, 105],\n",
      "        ...,\n",
      "        [106, 111, 104],\n",
      "        [104, 111, 104],\n",
      "        [104, 111, 104]],\n",
      "\n",
      "       [[117, 118, 105],\n",
      "        [117, 118, 105],\n",
      "        [117, 118, 105],\n",
      "        ...,\n",
      "        [106, 111, 104],\n",
      "        [104, 111, 104],\n",
      "        [104, 111, 104]]], dtype=uint8)\n",
      "orig_shape: (720, 1280)\n",
      "path: 'image0.jpg'\n",
      "probs: None\n",
      "save_dir: 'runs\\\\detect\\\\predict'\n",
      "speed: {'preprocess': 0.0, 'inference': 7.007837295532227, 'postprocess': 0.0}]\n",
      "\n",
      "0: 384x640 2 persons, 22.6ms\n",
      "Speed: 1.0ms preprocess, 22.6ms inference, 2.0ms postprocess per image at shape (1, 3, 384, 640)\n",
      "\n",
      "0: 96x128 (no detections), 14.0ms\n",
      "Speed: 0.0ms preprocess, 14.0ms inference, 1.0ms postprocess per image at shape (1, 3, 96, 128)\n",
      "predictions: [ultralytics.engine.results.Results object with attributes:\n",
      "\n",
      "boxes: ultralytics.engine.results.Boxes object\n",
      "keypoints: None\n",
      "masks: None\n",
      "names: {0: 'Hand_Raised'}\n",
      "obb: None\n",
      "orig_img: array([[[  0, 255,   0],\n",
      "        [  0, 255,   0],\n",
      "        [  0, 255,   0],\n",
      "        ...,\n",
      "        [  5,   2,   1],\n",
      "        [  3,   0,   0],\n",
      "        [  2,   0,   0]],\n",
      "\n",
      "       [[  0, 255,   0],\n",
      "        [  0, 255,   0],\n",
      "        [  0, 255,   0],\n",
      "        ...,\n",
      "        [220, 217, 216],\n",
      "        [229, 226, 225],\n",
      "        [232, 229, 228]],\n",
      "\n",
      "       [[  0, 255,   0],\n",
      "        [  0, 255,   0],\n",
      "        [  0, 255,   0],\n",
      "        ...,\n",
      "        [240, 237, 236],\n",
      "        [252, 249, 248],\n",
      "        [252, 249, 248]],\n",
      "\n",
      "       ...,\n",
      "\n",
      "       [[125, 120, 105],\n",
      "        [123, 118, 103],\n",
      "        [123, 118, 103],\n",
      "        ...,\n",
      "        [106, 111, 104],\n",
      "        [104, 111, 104],\n",
      "        [104, 111, 104]],\n",
      "\n",
      "       [[116, 120, 106],\n",
      "        [115, 119, 105],\n",
      "        [115, 119, 105],\n",
      "        ...,\n",
      "        [106, 111, 104],\n",
      "        [104, 111, 104],\n",
      "        [104, 111, 104]],\n",
      "\n",
      "       [[115, 119, 105],\n",
      "        [115, 119, 105],\n",
      "        [115, 119, 105],\n",
      "        ...,\n",
      "        [106, 111, 104],\n",
      "        [104, 111, 104],\n",
      "        [104, 111, 104]]], dtype=uint8)\n",
      "orig_shape: (720, 1280)\n",
      "path: 'image0.jpg'\n",
      "probs: None\n",
      "save_dir: 'runs\\\\detect\\\\predict'\n",
      "speed: {'preprocess': 0.0, 'inference': 13.999462127685547, 'postprocess': 0.9975433349609375}]\n",
      "\n",
      "0: 384x640 2 persons, 21.0ms\n",
      "Speed: 0.9ms preprocess, 21.0ms inference, 1.0ms postprocess per image at shape (1, 3, 384, 640)\n",
      "\n",
      "0: 96x128 (no detections), 7.0ms\n",
      "Speed: 0.0ms preprocess, 7.0ms inference, 0.0ms postprocess per image at shape (1, 3, 96, 128)\n",
      "predictions: [ultralytics.engine.results.Results object with attributes:\n",
      "\n",
      "boxes: ultralytics.engine.results.Boxes object\n",
      "keypoints: None\n",
      "masks: None\n",
      "names: {0: 'Hand_Raised'}\n",
      "obb: None\n",
      "orig_img: array([[[  0, 255,   0],\n",
      "        [  0, 255,   0],\n",
      "        [  0, 255,   0],\n",
      "        ...,\n",
      "        [  5,   2,   1],\n",
      "        [  3,   0,   0],\n",
      "        [  2,   0,   0]],\n",
      "\n",
      "       [[  0, 255,   0],\n",
      "        [  0, 255,   0],\n",
      "        [  0, 255,   0],\n",
      "        ...,\n",
      "        [220, 217, 216],\n",
      "        [229, 226, 225],\n",
      "        [232, 229, 228]],\n",
      "\n",
      "       [[  0, 255,   0],\n",
      "        [  0, 255,   0],\n",
      "        [  0, 255,   0],\n",
      "        ...,\n",
      "        [240, 237, 236],\n",
      "        [252, 249, 248],\n",
      "        [252, 249, 248]],\n",
      "\n",
      "       ...,\n",
      "\n",
      "       [[125, 121, 104],\n",
      "        [123, 119, 102],\n",
      "        [123, 119, 102],\n",
      "        ...,\n",
      "        [106, 111, 104],\n",
      "        [104, 111, 104],\n",
      "        [104, 111, 104]],\n",
      "\n",
      "       [[116, 121, 104],\n",
      "        [115, 120, 103],\n",
      "        [115, 120, 103],\n",
      "        ...,\n",
      "        [106, 111, 104],\n",
      "        [104, 111, 104],\n",
      "        [104, 111, 104]],\n",
      "\n",
      "       [[115, 120, 103],\n",
      "        [115, 120, 103],\n",
      "        [115, 120, 103],\n",
      "        ...,\n",
      "        [106, 111, 104],\n",
      "        [104, 111, 104],\n",
      "        [104, 111, 104]]], dtype=uint8)\n",
      "orig_shape: (720, 1280)\n",
      "path: 'image0.jpg'\n",
      "probs: None\n",
      "save_dir: 'runs\\\\detect\\\\predict'\n",
      "speed: {'preprocess': 0.0, 'inference': 6.998300552368164, 'postprocess': 0.0}]\n",
      "\n",
      "0: 384x640 2 persons, 21.0ms\n",
      "Speed: 1.0ms preprocess, 21.0ms inference, 1.0ms postprocess per image at shape (1, 3, 384, 640)\n",
      "\n",
      "0: 96x128 (no detections), 7.0ms\n",
      "Speed: 1.0ms preprocess, 7.0ms inference, 0.0ms postprocess per image at shape (1, 3, 96, 128)\n",
      "predictions: [ultralytics.engine.results.Results object with attributes:\n",
      "\n",
      "boxes: ultralytics.engine.results.Boxes object\n",
      "keypoints: None\n",
      "masks: None\n",
      "names: {0: 'Hand_Raised'}\n",
      "obb: None\n",
      "orig_img: array([[[  0, 255,   0],\n",
      "        [  0, 255,   0],\n",
      "        [  0, 255,   0],\n",
      "        ...,\n",
      "        [  5,   2,   1],\n",
      "        [  3,   0,   0],\n",
      "        [  2,   0,   0]],\n",
      "\n",
      "       [[  0, 255,   0],\n",
      "        [  0, 255,   0],\n",
      "        [  0, 255,   0],\n",
      "        ...,\n",
      "        [220, 217, 216],\n",
      "        [229, 226, 225],\n",
      "        [232, 229, 228]],\n",
      "\n",
      "       [[  0, 255,   0],\n",
      "        [  0, 255,   0],\n",
      "        [  0, 255,   0],\n",
      "        ...,\n",
      "        [240, 237, 236],\n",
      "        [252, 249, 248],\n",
      "        [252, 249, 248]],\n",
      "\n",
      "       ...,\n",
      "\n",
      "       [[125, 120, 105],\n",
      "        [123, 118, 103],\n",
      "        [123, 118, 103],\n",
      "        ...,\n",
      "        [106, 111, 104],\n",
      "        [104, 111, 104],\n",
      "        [104, 111, 104]],\n",
      "\n",
      "       [[116, 120, 106],\n",
      "        [115, 119, 105],\n",
      "        [115, 119, 105],\n",
      "        ...,\n",
      "        [106, 111, 104],\n",
      "        [104, 111, 104],\n",
      "        [104, 111, 104]],\n",
      "\n",
      "       [[115, 119, 105],\n",
      "        [115, 119, 105],\n",
      "        [115, 119, 105],\n",
      "        ...,\n",
      "        [106, 111, 104],\n",
      "        [104, 111, 104],\n",
      "        [104, 111, 104]]], dtype=uint8)\n",
      "orig_shape: (720, 1280)\n",
      "path: 'image0.jpg'\n",
      "probs: None\n",
      "save_dir: 'runs\\\\detect\\\\predict'\n",
      "speed: {'preprocess': 0.99945068359375, 'inference': 7.000207901000977, 'postprocess': 0.0}]\n",
      "\n",
      "0: 384x640 2 persons, 20.0ms\n",
      "Speed: 1.0ms preprocess, 20.0ms inference, 1.0ms postprocess per image at shape (1, 3, 384, 640)\n",
      "\n",
      "0: 96x128 (no detections), 7.0ms\n",
      "Speed: 1.0ms preprocess, 7.0ms inference, 1.0ms postprocess per image at shape (1, 3, 96, 128)\n",
      "predictions: [ultralytics.engine.results.Results object with attributes:\n",
      "\n",
      "boxes: ultralytics.engine.results.Boxes object\n",
      "keypoints: None\n",
      "masks: None\n",
      "names: {0: 'Hand_Raised'}\n",
      "obb: None\n",
      "orig_img: array([[[  0, 255,   0],\n",
      "        [  0, 255,   0],\n",
      "        [  0, 255,   0],\n",
      "        ...,\n",
      "        [  5,   2,   1],\n",
      "        [  3,   0,   0],\n",
      "        [  2,   0,   0]],\n",
      "\n",
      "       [[  0, 255,   0],\n",
      "        [  0, 255,   0],\n",
      "        [  0, 255,   0],\n",
      "        ...,\n",
      "        [220, 217, 216],\n",
      "        [229, 226, 225],\n",
      "        [232, 229, 228]],\n",
      "\n",
      "       [[  0, 255,   0],\n",
      "        [  0, 255,   0],\n",
      "        [  0, 255,   0],\n",
      "        ...,\n",
      "        [240, 237, 236],\n",
      "        [252, 249, 248],\n",
      "        [252, 249, 248]],\n",
      "\n",
      "       ...,\n",
      "\n",
      "       [[125, 121, 104],\n",
      "        [123, 119, 102],\n",
      "        [123, 119, 102],\n",
      "        ...,\n",
      "        [106, 111, 104],\n",
      "        [104, 111, 104],\n",
      "        [104, 111, 104]],\n",
      "\n",
      "       [[116, 121, 104],\n",
      "        [115, 120, 103],\n",
      "        [115, 120, 103],\n",
      "        ...,\n",
      "        [106, 111, 104],\n",
      "        [104, 111, 104],\n",
      "        [104, 111, 104]],\n",
      "\n",
      "       [[115, 120, 103],\n",
      "        [115, 120, 103],\n",
      "        [115, 120, 103],\n",
      "        ...,\n",
      "        [106, 111, 104],\n",
      "        [104, 111, 104],\n",
      "        [104, 111, 104]]], dtype=uint8)\n",
      "orig_shape: (720, 1280)\n",
      "path: 'image0.jpg'\n",
      "probs: None\n",
      "save_dir: 'runs\\\\detect\\\\predict'\n",
      "speed: {'preprocess': 0.99945068359375, 'inference': 6.999731063842773, 'postprocess': 0.9975433349609375}]\n",
      "\n",
      "0: 384x640 2 persons, 20.0ms\n",
      "Speed: 1.0ms preprocess, 20.0ms inference, 1.0ms postprocess per image at shape (1, 3, 384, 640)\n",
      "\n",
      "0: 96x128 (no detections), 7.0ms\n",
      "Speed: 1.0ms preprocess, 7.0ms inference, 0.0ms postprocess per image at shape (1, 3, 96, 128)\n",
      "predictions: [ultralytics.engine.results.Results object with attributes:\n",
      "\n",
      "boxes: ultralytics.engine.results.Boxes object\n",
      "keypoints: None\n",
      "masks: None\n",
      "names: {0: 'Hand_Raised'}\n",
      "obb: None\n",
      "orig_img: array([[[  0, 255,   0],\n",
      "        [  0, 255,   0],\n",
      "        [  0, 255,   0],\n",
      "        ...,\n",
      "        [  5,   2,   1],\n",
      "        [  3,   0,   0],\n",
      "        [  2,   0,   0]],\n",
      "\n",
      "       [[  0, 255,   0],\n",
      "        [  0, 255,   0],\n",
      "        [  0, 255,   0],\n",
      "        ...,\n",
      "        [220, 217, 216],\n",
      "        [229, 226, 225],\n",
      "        [232, 229, 228]],\n",
      "\n",
      "       [[  0, 255,   0],\n",
      "        [  0, 255,   0],\n",
      "        [  0, 255,   0],\n",
      "        ...,\n",
      "        [240, 237, 236],\n",
      "        [252, 249, 248],\n",
      "        [252, 249, 248]],\n",
      "\n",
      "       ...,\n",
      "\n",
      "       [[125, 120, 105],\n",
      "        [123, 118, 103],\n",
      "        [123, 118, 103],\n",
      "        ...,\n",
      "        [106, 111, 104],\n",
      "        [104, 111, 104],\n",
      "        [104, 111, 104]],\n",
      "\n",
      "       [[116, 120, 106],\n",
      "        [115, 119, 105],\n",
      "        [115, 119, 105],\n",
      "        ...,\n",
      "        [106, 111, 104],\n",
      "        [104, 111, 104],\n",
      "        [104, 111, 104]],\n",
      "\n",
      "       [[115, 119, 105],\n",
      "        [115, 119, 105],\n",
      "        [115, 119, 105],\n",
      "        ...,\n",
      "        [106, 111, 104],\n",
      "        [104, 111, 104],\n",
      "        [104, 111, 104]]], dtype=uint8)\n",
      "orig_shape: (720, 1280)\n",
      "path: 'image0.jpg'\n",
      "probs: None\n",
      "save_dir: 'runs\\\\detect\\\\predict'\n",
      "speed: {'preprocess': 0.9958744049072266, 'inference': 6.998538970947266, 'postprocess': 0.0}]\n",
      "\n",
      "0: 384x640 2 persons, 21.0ms\n",
      "Speed: 1.0ms preprocess, 21.0ms inference, 1.0ms postprocess per image at shape (1, 3, 384, 640)\n",
      "\n",
      "0: 96x128 (no detections), 7.0ms\n",
      "Speed: 0.0ms preprocess, 7.0ms inference, 0.0ms postprocess per image at shape (1, 3, 96, 128)\n",
      "predictions: [ultralytics.engine.results.Results object with attributes:\n",
      "\n",
      "boxes: ultralytics.engine.results.Boxes object\n",
      "keypoints: None\n",
      "masks: None\n",
      "names: {0: 'Hand_Raised'}\n",
      "obb: None\n",
      "orig_img: array([[[  0, 255,   0],\n",
      "        [  0, 255,   0],\n",
      "        [  0, 255,   0],\n",
      "        ...,\n",
      "        [  5,   2,   1],\n",
      "        [  3,   0,   0],\n",
      "        [  2,   0,   0]],\n",
      "\n",
      "       [[  0, 255,   0],\n",
      "        [  0, 255,   0],\n",
      "        [  0, 255,   0],\n",
      "        ...,\n",
      "        [220, 217, 216],\n",
      "        [229, 226, 225],\n",
      "        [232, 229, 228]],\n",
      "\n",
      "       [[  0, 255,   0],\n",
      "        [  0, 255,   0],\n",
      "        [  0, 255,   0],\n",
      "        ...,\n",
      "        [240, 237, 236],\n",
      "        [252, 249, 248],\n",
      "        [252, 249, 248]],\n",
      "\n",
      "       ...,\n",
      "\n",
      "       [[125, 121, 104],\n",
      "        [123, 119, 102],\n",
      "        [123, 119, 102],\n",
      "        ...,\n",
      "        [106, 111, 104],\n",
      "        [104, 111, 104],\n",
      "        [104, 111, 104]],\n",
      "\n",
      "       [[116, 121, 104],\n",
      "        [115, 120, 103],\n",
      "        [115, 120, 103],\n",
      "        ...,\n",
      "        [106, 111, 104],\n",
      "        [104, 111, 104],\n",
      "        [104, 111, 104]],\n",
      "\n",
      "       [[115, 120, 103],\n",
      "        [115, 120, 103],\n",
      "        [115, 120, 103],\n",
      "        ...,\n",
      "        [106, 111, 104],\n",
      "        [104, 111, 104],\n",
      "        [104, 111, 104]]], dtype=uint8)\n",
      "orig_shape: (720, 1280)\n",
      "path: 'image0.jpg'\n",
      "probs: None\n",
      "save_dir: 'runs\\\\detect\\\\predict'\n",
      "speed: {'preprocess': 0.0, 'inference': 7.00068473815918, 'postprocess': 0.0}]\n",
      "\n",
      "0: 384x640 2 persons, 21.0ms\n",
      "Speed: 1.0ms preprocess, 21.0ms inference, 1.0ms postprocess per image at shape (1, 3, 384, 640)\n",
      "\n",
      "0: 96x128 (no detections), 14.0ms\n",
      "Speed: 1.0ms preprocess, 14.0ms inference, 0.0ms postprocess per image at shape (1, 3, 96, 128)\n",
      "predictions: [ultralytics.engine.results.Results object with attributes:\n",
      "\n",
      "boxes: ultralytics.engine.results.Boxes object\n",
      "keypoints: None\n",
      "masks: None\n",
      "names: {0: 'Hand_Raised'}\n",
      "obb: None\n",
      "orig_img: array([[[  0, 255,   0],\n",
      "        [  0, 255,   0],\n",
      "        [  0, 255,   0],\n",
      "        ...,\n",
      "        [  5,   2,   1],\n",
      "        [  3,   0,   0],\n",
      "        [  2,   0,   0]],\n",
      "\n",
      "       [[  0, 255,   0],\n",
      "        [  0, 255,   0],\n",
      "        [  0, 255,   0],\n",
      "        ...,\n",
      "        [220, 217, 216],\n",
      "        [229, 226, 225],\n",
      "        [232, 229, 228]],\n",
      "\n",
      "       [[  0, 255,   0],\n",
      "        [  0, 255,   0],\n",
      "        [  0, 255,   0],\n",
      "        ...,\n",
      "        [240, 237, 236],\n",
      "        [252, 249, 248],\n",
      "        [252, 249, 248]],\n",
      "\n",
      "       ...,\n",
      "\n",
      "       [[125, 120, 105],\n",
      "        [123, 118, 103],\n",
      "        [123, 118, 103],\n",
      "        ...,\n",
      "        [106, 111, 104],\n",
      "        [104, 111, 104],\n",
      "        [104, 111, 104]],\n",
      "\n",
      "       [[116, 120, 106],\n",
      "        [115, 119, 105],\n",
      "        [115, 119, 105],\n",
      "        ...,\n",
      "        [106, 111, 104],\n",
      "        [104, 111, 104],\n",
      "        [104, 111, 104]],\n",
      "\n",
      "       [[115, 119, 105],\n",
      "        [115, 119, 105],\n",
      "        [115, 119, 105],\n",
      "        ...,\n",
      "        [106, 111, 104],\n",
      "        [104, 111, 104],\n",
      "        [104, 111, 104]]], dtype=uint8)\n",
      "orig_shape: (720, 1280)\n",
      "path: 'image0.jpg'\n",
      "probs: None\n",
      "save_dir: 'runs\\\\detect\\\\predict'\n",
      "speed: {'preprocess': 0.9996891021728516, 'inference': 14.000415802001953, 'postprocess': 0.0}]\n",
      "\n",
      "0: 384x640 2 persons, 20.5ms\n",
      "Speed: 1.0ms preprocess, 20.5ms inference, 1.0ms postprocess per image at shape (1, 3, 384, 640)\n",
      "\n",
      "0: 96x128 (no detections), 7.0ms\n",
      "Speed: 0.0ms preprocess, 7.0ms inference, 0.0ms postprocess per image at shape (1, 3, 96, 128)\n",
      "predictions: [ultralytics.engine.results.Results object with attributes:\n",
      "\n",
      "boxes: ultralytics.engine.results.Boxes object\n",
      "keypoints: None\n",
      "masks: None\n",
      "names: {0: 'Hand_Raised'}\n",
      "obb: None\n",
      "orig_img: array([[[  0, 255,   0],\n",
      "        [  0, 255,   0],\n",
      "        [  0, 255,   0],\n",
      "        ...,\n",
      "        [  5,   2,   1],\n",
      "        [  3,   0,   0],\n",
      "        [  2,   0,   0]],\n",
      "\n",
      "       [[  0, 255,   0],\n",
      "        [  0, 255,   0],\n",
      "        [  0, 255,   0],\n",
      "        ...,\n",
      "        [220, 217, 216],\n",
      "        [229, 226, 225],\n",
      "        [232, 229, 228]],\n",
      "\n",
      "       [[  0, 255,   0],\n",
      "        [  0, 255,   0],\n",
      "        [  0, 255,   0],\n",
      "        ...,\n",
      "        [240, 237, 236],\n",
      "        [252, 249, 248],\n",
      "        [252, 249, 248]],\n",
      "\n",
      "       ...,\n",
      "\n",
      "       [[125, 121, 104],\n",
      "        [123, 119, 102],\n",
      "        [123, 119, 102],\n",
      "        ...,\n",
      "        [106, 111, 104],\n",
      "        [104, 111, 104],\n",
      "        [104, 111, 104]],\n",
      "\n",
      "       [[116, 121, 104],\n",
      "        [115, 120, 103],\n",
      "        [115, 120, 103],\n",
      "        ...,\n",
      "        [106, 111, 104],\n",
      "        [104, 111, 104],\n",
      "        [104, 111, 104]],\n",
      "\n",
      "       [[115, 120, 103],\n",
      "        [115, 120, 103],\n",
      "        [115, 120, 103],\n",
      "        ...,\n",
      "        [106, 111, 104],\n",
      "        [104, 111, 104],\n",
      "        [104, 111, 104]]], dtype=uint8)\n",
      "orig_shape: (720, 1280)\n",
      "path: 'image0.jpg'\n",
      "probs: None\n",
      "save_dir: 'runs\\\\detect\\\\predict'\n",
      "speed: {'preprocess': 0.0, 'inference': 6.987333297729492, 'postprocess': 0.0}]\n",
      "\n",
      "0: 384x640 2 persons, 21.0ms\n",
      "Speed: 1.0ms preprocess, 21.0ms inference, 1.0ms postprocess per image at shape (1, 3, 384, 640)\n",
      "\n",
      "0: 96x128 (no detections), 9.0ms\n",
      "Speed: 0.0ms preprocess, 9.0ms inference, 1.0ms postprocess per image at shape (1, 3, 96, 128)\n",
      "predictions: [ultralytics.engine.results.Results object with attributes:\n",
      "\n",
      "boxes: ultralytics.engine.results.Boxes object\n",
      "keypoints: None\n",
      "masks: None\n",
      "names: {0: 'Hand_Raised'}\n",
      "obb: None\n",
      "orig_img: array([[[  0, 255,   0],\n",
      "        [  0, 255,   0],\n",
      "        [  0, 255,   0],\n",
      "        ...,\n",
      "        [  5,   2,   1],\n",
      "        [  3,   0,   0],\n",
      "        [  2,   0,   0]],\n",
      "\n",
      "       [[  0, 255,   0],\n",
      "        [  0, 255,   0],\n",
      "        [  0, 255,   0],\n",
      "        ...,\n",
      "        [220, 217, 216],\n",
      "        [229, 226, 225],\n",
      "        [232, 229, 228]],\n",
      "\n",
      "       [[  0, 255,   0],\n",
      "        [  0, 255,   0],\n",
      "        [  0, 255,   0],\n",
      "        ...,\n",
      "        [240, 237, 236],\n",
      "        [252, 249, 248],\n",
      "        [252, 249, 248]],\n",
      "\n",
      "       ...,\n",
      "\n",
      "       [[125, 121, 104],\n",
      "        [123, 119, 102],\n",
      "        [123, 119, 102],\n",
      "        ...,\n",
      "        [106, 111, 104],\n",
      "        [104, 111, 104],\n",
      "        [104, 111, 104]],\n",
      "\n",
      "       [[116, 121, 104],\n",
      "        [115, 120, 103],\n",
      "        [115, 120, 103],\n",
      "        ...,\n",
      "        [106, 111, 104],\n",
      "        [104, 111, 104],\n",
      "        [104, 111, 104]],\n",
      "\n",
      "       [[115, 120, 103],\n",
      "        [115, 120, 103],\n",
      "        [115, 120, 103],\n",
      "        ...,\n",
      "        [106, 111, 104],\n",
      "        [104, 111, 104],\n",
      "        [104, 111, 104]]], dtype=uint8)\n",
      "orig_shape: (720, 1280)\n",
      "path: 'image0.jpg'\n",
      "probs: None\n",
      "save_dir: 'runs\\\\detect\\\\predict'\n",
      "speed: {'preprocess': 0.0, 'inference': 9.005546569824219, 'postprocess': 0.9984970092773438}]\n",
      "\n",
      "0: 384x640 2 persons, 20.7ms\n",
      "Speed: 1.0ms preprocess, 20.7ms inference, 2.0ms postprocess per image at shape (1, 3, 384, 640)\n",
      "\n",
      "0: 96x128 (no detections), 7.1ms\n",
      "Speed: 0.0ms preprocess, 7.1ms inference, 0.0ms postprocess per image at shape (1, 3, 96, 128)\n",
      "predictions: [ultralytics.engine.results.Results object with attributes:\n",
      "\n",
      "boxes: ultralytics.engine.results.Boxes object\n",
      "keypoints: None\n",
      "masks: None\n",
      "names: {0: 'Hand_Raised'}\n",
      "obb: None\n",
      "orig_img: array([[[  0, 255,   0],\n",
      "        [  0, 255,   0],\n",
      "        [  0, 255,   0],\n",
      "        ...,\n",
      "        [  5,   2,   1],\n",
      "        [  3,   0,   0],\n",
      "        [  2,   0,   0]],\n",
      "\n",
      "       [[  0, 255,   0],\n",
      "        [  0, 255,   0],\n",
      "        [  0, 255,   0],\n",
      "        ...,\n",
      "        [220, 217, 216],\n",
      "        [229, 226, 225],\n",
      "        [232, 229, 228]],\n",
      "\n",
      "       [[  0, 255,   0],\n",
      "        [  0, 255,   0],\n",
      "        [  0, 255,   0],\n",
      "        ...,\n",
      "        [240, 237, 236],\n",
      "        [252, 249, 248],\n",
      "        [252, 249, 248]],\n",
      "\n",
      "       ...,\n",
      "\n",
      "       [[125, 121, 104],\n",
      "        [123, 119, 102],\n",
      "        [123, 119, 102],\n",
      "        ...,\n",
      "        [106, 111, 104],\n",
      "        [104, 111, 104],\n",
      "        [104, 111, 104]],\n",
      "\n",
      "       [[116, 121, 104],\n",
      "        [115, 120, 103],\n",
      "        [115, 120, 103],\n",
      "        ...,\n",
      "        [106, 111, 104],\n",
      "        [104, 111, 104],\n",
      "        [104, 111, 104]],\n",
      "\n",
      "       [[115, 120, 103],\n",
      "        [115, 120, 103],\n",
      "        [115, 120, 103],\n",
      "        ...,\n",
      "        [106, 111, 104],\n",
      "        [104, 111, 104],\n",
      "        [104, 111, 104]]], dtype=uint8)\n",
      "orig_shape: (720, 1280)\n",
      "path: 'image0.jpg'\n",
      "probs: None\n",
      "save_dir: 'runs\\\\detect\\\\predict'\n",
      "speed: {'preprocess': 0.0, 'inference': 7.088422775268555, 'postprocess': 0.0}]\n",
      "\n",
      "0: 384x640 2 persons, 22.4ms\n",
      "Speed: 1.0ms preprocess, 22.4ms inference, 2.0ms postprocess per image at shape (1, 3, 384, 640)\n",
      "\n",
      "0: 96x128 (no detections), 7.0ms\n",
      "Speed: 1.0ms preprocess, 7.0ms inference, 0.0ms postprocess per image at shape (1, 3, 96, 128)\n",
      "predictions: [ultralytics.engine.results.Results object with attributes:\n",
      "\n",
      "boxes: ultralytics.engine.results.Boxes object\n",
      "keypoints: None\n",
      "masks: None\n",
      "names: {0: 'Hand_Raised'}\n",
      "obb: None\n",
      "orig_img: array([[[  0, 255,   0],\n",
      "        [  0, 255,   0],\n",
      "        [  0, 255,   0],\n",
      "        ...,\n",
      "        [  5,   2,   1],\n",
      "        [  3,   0,   0],\n",
      "        [  2,   0,   0]],\n",
      "\n",
      "       [[  0, 255,   0],\n",
      "        [  0, 255,   0],\n",
      "        [  0, 255,   0],\n",
      "        ...,\n",
      "        [220, 217, 216],\n",
      "        [229, 226, 225],\n",
      "        [232, 229, 228]],\n",
      "\n",
      "       [[  0, 255,   0],\n",
      "        [  0, 255,   0],\n",
      "        [  0, 255,   0],\n",
      "        ...,\n",
      "        [240, 237, 236],\n",
      "        [252, 249, 248],\n",
      "        [252, 249, 248]],\n",
      "\n",
      "       ...,\n",
      "\n",
      "       [[123, 120, 105],\n",
      "        [121, 118, 103],\n",
      "        [121, 118, 103],\n",
      "        ...,\n",
      "        [106, 111, 104],\n",
      "        [104, 111, 104],\n",
      "        [104, 111, 104]],\n",
      "\n",
      "       [[117, 121, 107],\n",
      "        [115, 119, 105],\n",
      "        [115, 119, 105],\n",
      "        ...,\n",
      "        [106, 111, 104],\n",
      "        [104, 111, 104],\n",
      "        [104, 111, 104]],\n",
      "\n",
      "       [[116, 120, 106],\n",
      "        [115, 119, 105],\n",
      "        [115, 119, 105],\n",
      "        ...,\n",
      "        [106, 111, 104],\n",
      "        [104, 111, 104],\n",
      "        [104, 111, 104]]], dtype=uint8)\n",
      "orig_shape: (720, 1280)\n",
      "path: 'image0.jpg'\n",
      "probs: None\n",
      "save_dir: 'runs\\\\detect\\\\predict'\n",
      "speed: {'preprocess': 0.9963512420654297, 'inference': 7.002830505371094, 'postprocess': 0.0}]\n",
      "\n",
      "0: 384x640 2 persons, 23.0ms\n",
      "Speed: 1.0ms preprocess, 23.0ms inference, 1.0ms postprocess per image at shape (1, 3, 384, 640)\n",
      "\n",
      "0: 96x128 (no detections), 6.0ms\n",
      "Speed: 1.0ms preprocess, 6.0ms inference, 1.0ms postprocess per image at shape (1, 3, 96, 128)\n",
      "predictions: [ultralytics.engine.results.Results object with attributes:\n",
      "\n",
      "boxes: ultralytics.engine.results.Boxes object\n",
      "keypoints: None\n",
      "masks: None\n",
      "names: {0: 'Hand_Raised'}\n",
      "obb: None\n",
      "orig_img: array([[[  0, 255,   0],\n",
      "        [  0, 255,   0],\n",
      "        [  0, 255,   0],\n",
      "        ...,\n",
      "        [  5,   2,   1],\n",
      "        [  3,   0,   0],\n",
      "        [  2,   0,   0]],\n",
      "\n",
      "       [[  0, 255,   0],\n",
      "        [  0, 255,   0],\n",
      "        [  0, 255,   0],\n",
      "        ...,\n",
      "        [220, 217, 216],\n",
      "        [229, 226, 225],\n",
      "        [232, 229, 228]],\n",
      "\n",
      "       [[  0, 255,   0],\n",
      "        [  0, 255,   0],\n",
      "        [  0, 255,   0],\n",
      "        ...,\n",
      "        [240, 237, 236],\n",
      "        [252, 249, 248],\n",
      "        [252, 249, 248]],\n",
      "\n",
      "       ...,\n",
      "\n",
      "       [[123, 120, 105],\n",
      "        [121, 118, 103],\n",
      "        [121, 118, 103],\n",
      "        ...,\n",
      "        [106, 111, 104],\n",
      "        [104, 111, 104],\n",
      "        [104, 111, 104]],\n",
      "\n",
      "       [[117, 121, 107],\n",
      "        [115, 119, 105],\n",
      "        [115, 119, 105],\n",
      "        ...,\n",
      "        [106, 111, 104],\n",
      "        [104, 111, 104],\n",
      "        [104, 111, 104]],\n",
      "\n",
      "       [[116, 120, 106],\n",
      "        [115, 119, 105],\n",
      "        [115, 119, 105],\n",
      "        ...,\n",
      "        [106, 111, 104],\n",
      "        [104, 111, 104],\n",
      "        [104, 111, 104]]], dtype=uint8)\n",
      "orig_shape: (720, 1280)\n",
      "path: 'image0.jpg'\n",
      "probs: None\n",
      "save_dir: 'runs\\\\detect\\\\predict'\n",
      "speed: {'preprocess': 0.9813308715820312, 'inference': 6.009340286254883, 'postprocess': 0.9989738464355469}]\n",
      "\n",
      "0: 384x640 2 persons, 26.8ms\n",
      "Speed: 1.0ms preprocess, 26.8ms inference, 1.0ms postprocess per image at shape (1, 3, 384, 640)\n",
      "\n",
      "0: 96x128 (no detections), 6.0ms\n",
      "Speed: 1.0ms preprocess, 6.0ms inference, 1.0ms postprocess per image at shape (1, 3, 96, 128)\n",
      "predictions: [ultralytics.engine.results.Results object with attributes:\n",
      "\n",
      "boxes: ultralytics.engine.results.Boxes object\n",
      "keypoints: None\n",
      "masks: None\n",
      "names: {0: 'Hand_Raised'}\n",
      "obb: None\n",
      "orig_img: array([[[  0, 255,   0],\n",
      "        [  0, 255,   0],\n",
      "        [  0, 255,   0],\n",
      "        ...,\n",
      "        [  5,   2,   1],\n",
      "        [  3,   0,   0],\n",
      "        [  2,   0,   0]],\n",
      "\n",
      "       [[  0, 255,   0],\n",
      "        [  0, 255,   0],\n",
      "        [  0, 255,   0],\n",
      "        ...,\n",
      "        [220, 217, 216],\n",
      "        [229, 226, 225],\n",
      "        [232, 229, 228]],\n",
      "\n",
      "       [[  0, 255,   0],\n",
      "        [  0, 255,   0],\n",
      "        [  0, 255,   0],\n",
      "        ...,\n",
      "        [240, 237, 236],\n",
      "        [252, 249, 248],\n",
      "        [252, 249, 248]],\n",
      "\n",
      "       ...,\n",
      "\n",
      "       [[123, 120, 105],\n",
      "        [121, 118, 103],\n",
      "        [121, 118, 103],\n",
      "        ...,\n",
      "        [106, 111, 104],\n",
      "        [104, 111, 104],\n",
      "        [104, 111, 104]],\n",
      "\n",
      "       [[117, 121, 107],\n",
      "        [115, 119, 105],\n",
      "        [115, 119, 105],\n",
      "        ...,\n",
      "        [106, 111, 104],\n",
      "        [104, 111, 104],\n",
      "        [104, 111, 104]],\n",
      "\n",
      "       [[116, 120, 106],\n",
      "        [115, 119, 105],\n",
      "        [115, 119, 105],\n",
      "        ...,\n",
      "        [106, 111, 104],\n",
      "        [104, 111, 104],\n",
      "        [104, 111, 104]]], dtype=uint8)\n",
      "orig_shape: (720, 1280)\n",
      "path: 'image0.jpg'\n",
      "probs: None\n",
      "save_dir: 'runs\\\\detect\\\\predict'\n",
      "speed: {'preprocess': 0.9989738464355469, 'inference': 6.008148193359375, 'postprocess': 1.0013580322265625}]\n",
      "\n",
      "0: 384x640 2 persons, 23.5ms\n",
      "Speed: 0.6ms preprocess, 23.5ms inference, 1.0ms postprocess per image at shape (1, 3, 384, 640)\n",
      "\n",
      "0: 96x128 (no detections), 7.1ms\n",
      "Speed: 0.0ms preprocess, 7.1ms inference, 0.0ms postprocess per image at shape (1, 3, 96, 128)\n",
      "predictions: [ultralytics.engine.results.Results object with attributes:\n",
      "\n",
      "boxes: ultralytics.engine.results.Boxes object\n",
      "keypoints: None\n",
      "masks: None\n",
      "names: {0: 'Hand_Raised'}\n",
      "obb: None\n",
      "orig_img: array([[[  0, 255,   0],\n",
      "        [  0, 255,   0],\n",
      "        [  0, 255,   0],\n",
      "        ...,\n",
      "        [  5,   2,   1],\n",
      "        [  3,   0,   0],\n",
      "        [  2,   0,   0]],\n",
      "\n",
      "       [[  0, 255,   0],\n",
      "        [  0, 255,   0],\n",
      "        [  0, 255,   0],\n",
      "        ...,\n",
      "        [220, 217, 216],\n",
      "        [229, 226, 225],\n",
      "        [232, 229, 228]],\n",
      "\n",
      "       [[  0, 255,   0],\n",
      "        [  0, 255,   0],\n",
      "        [  0, 255,   0],\n",
      "        ...,\n",
      "        [240, 237, 236],\n",
      "        [252, 249, 248],\n",
      "        [252, 249, 248]],\n",
      "\n",
      "       ...,\n",
      "\n",
      "       [[123, 120, 105],\n",
      "        [121, 118, 103],\n",
      "        [121, 118, 103],\n",
      "        ...,\n",
      "        [106, 111, 104],\n",
      "        [104, 111, 104],\n",
      "        [104, 111, 104]],\n",
      "\n",
      "       [[117, 121, 107],\n",
      "        [115, 119, 105],\n",
      "        [115, 119, 105],\n",
      "        ...,\n",
      "        [106, 111, 104],\n",
      "        [104, 111, 104],\n",
      "        [104, 111, 104]],\n",
      "\n",
      "       [[116, 120, 106],\n",
      "        [115, 119, 105],\n",
      "        [115, 119, 105],\n",
      "        ...,\n",
      "        [106, 111, 104],\n",
      "        [104, 111, 104],\n",
      "        [104, 111, 104]]], dtype=uint8)\n",
      "orig_shape: (720, 1280)\n",
      "path: 'image0.jpg'\n",
      "probs: None\n",
      "save_dir: 'runs\\\\detect\\\\predict'\n",
      "speed: {'preprocess': 0.0, 'inference': 7.075786590576172, 'postprocess': 0.0}]\n",
      "\n",
      "0: 384x640 2 persons, 23.2ms\n",
      "Speed: 1.3ms preprocess, 23.2ms inference, 1.9ms postprocess per image at shape (1, 3, 384, 640)\n",
      "\n",
      "0: 96x128 (no detections), 8.1ms\n",
      "Speed: 0.0ms preprocess, 8.1ms inference, 0.0ms postprocess per image at shape (1, 3, 96, 128)\n",
      "predictions: [ultralytics.engine.results.Results object with attributes:\n",
      "\n",
      "boxes: ultralytics.engine.results.Boxes object\n",
      "keypoints: None\n",
      "masks: None\n",
      "names: {0: 'Hand_Raised'}\n",
      "obb: None\n",
      "orig_img: array([[[  0, 255,   0],\n",
      "        [  0, 255,   0],\n",
      "        [  0, 255,   0],\n",
      "        ...,\n",
      "        [  5,   2,   1],\n",
      "        [  3,   0,   0],\n",
      "        [  2,   0,   0]],\n",
      "\n",
      "       [[  0, 255,   0],\n",
      "        [  0, 255,   0],\n",
      "        [  0, 255,   0],\n",
      "        ...,\n",
      "        [220, 217, 216],\n",
      "        [229, 226, 225],\n",
      "        [232, 229, 228]],\n",
      "\n",
      "       [[  0, 255,   0],\n",
      "        [  0, 255,   0],\n",
      "        [  0, 255,   0],\n",
      "        ...,\n",
      "        [240, 237, 236],\n",
      "        [252, 249, 248],\n",
      "        [252, 249, 248]],\n",
      "\n",
      "       ...,\n",
      "\n",
      "       [[123, 120, 105],\n",
      "        [121, 118, 103],\n",
      "        [121, 118, 103],\n",
      "        ...,\n",
      "        [106, 111, 104],\n",
      "        [104, 111, 104],\n",
      "        [104, 111, 104]],\n",
      "\n",
      "       [[117, 121, 107],\n",
      "        [115, 119, 105],\n",
      "        [115, 119, 105],\n",
      "        ...,\n",
      "        [106, 111, 104],\n",
      "        [104, 111, 104],\n",
      "        [104, 111, 104]],\n",
      "\n",
      "       [[116, 120, 106],\n",
      "        [115, 119, 105],\n",
      "        [115, 119, 105],\n",
      "        ...,\n",
      "        [106, 111, 104],\n",
      "        [104, 111, 104],\n",
      "        [104, 111, 104]]], dtype=uint8)\n",
      "orig_shape: (720, 1280)\n",
      "path: 'image0.jpg'\n",
      "probs: None\n",
      "save_dir: 'runs\\\\detect\\\\predict'\n",
      "speed: {'preprocess': 0.0, 'inference': 8.069515228271484, 'postprocess': 0.0}]\n",
      "\n",
      "0: 384x640 2 persons, 21.7ms\n",
      "Speed: 1.0ms preprocess, 21.7ms inference, 1.0ms postprocess per image at shape (1, 3, 384, 640)\n",
      "\n",
      "0: 96x128 (no detections), 7.0ms\n",
      "Speed: 0.0ms preprocess, 7.0ms inference, 0.0ms postprocess per image at shape (1, 3, 96, 128)\n",
      "predictions: [ultralytics.engine.results.Results object with attributes:\n",
      "\n",
      "boxes: ultralytics.engine.results.Boxes object\n",
      "keypoints: None\n",
      "masks: None\n",
      "names: {0: 'Hand_Raised'}\n",
      "obb: None\n",
      "orig_img: array([[[  0, 255,   0],\n",
      "        [  0, 255,   0],\n",
      "        [  0, 255,   0],\n",
      "        ...,\n",
      "        [  5,   2,   1],\n",
      "        [  3,   0,   0],\n",
      "        [  2,   0,   0]],\n",
      "\n",
      "       [[  0, 255,   0],\n",
      "        [  0, 255,   0],\n",
      "        [  0, 255,   0],\n",
      "        ...,\n",
      "        [220, 217, 216],\n",
      "        [229, 226, 225],\n",
      "        [232, 229, 228]],\n",
      "\n",
      "       [[  0, 255,   0],\n",
      "        [  0, 255,   0],\n",
      "        [  0, 255,   0],\n",
      "        ...,\n",
      "        [240, 237, 236],\n",
      "        [252, 249, 248],\n",
      "        [252, 249, 248]],\n",
      "\n",
      "       ...,\n",
      "\n",
      "       [[123, 120, 105],\n",
      "        [121, 118, 103],\n",
      "        [121, 118, 103],\n",
      "        ...,\n",
      "        [106, 111, 104],\n",
      "        [104, 111, 104],\n",
      "        [104, 111, 104]],\n",
      "\n",
      "       [[117, 121, 107],\n",
      "        [115, 119, 105],\n",
      "        [115, 119, 105],\n",
      "        ...,\n",
      "        [106, 111, 104],\n",
      "        [104, 111, 104],\n",
      "        [104, 111, 104]],\n",
      "\n",
      "       [[116, 120, 106],\n",
      "        [115, 119, 105],\n",
      "        [115, 119, 105],\n",
      "        ...,\n",
      "        [106, 111, 104],\n",
      "        [104, 111, 104],\n",
      "        [104, 111, 104]]], dtype=uint8)\n",
      "orig_shape: (720, 1280)\n",
      "path: 'image0.jpg'\n",
      "probs: None\n",
      "save_dir: 'runs\\\\detect\\\\predict'\n",
      "speed: {'preprocess': 0.0, 'inference': 7.004976272583008, 'postprocess': 0.0}]\n",
      "\n",
      "0: 384x640 2 persons, 21.0ms\n",
      "Speed: 1.0ms preprocess, 21.0ms inference, 1.0ms postprocess per image at shape (1, 3, 384, 640)\n",
      "\n",
      "0: 96x128 (no detections), 9.0ms\n",
      "Speed: 0.0ms preprocess, 9.0ms inference, 0.0ms postprocess per image at shape (1, 3, 96, 128)\n",
      "predictions: [ultralytics.engine.results.Results object with attributes:\n",
      "\n",
      "boxes: ultralytics.engine.results.Boxes object\n",
      "keypoints: None\n",
      "masks: None\n",
      "names: {0: 'Hand_Raised'}\n",
      "obb: None\n",
      "orig_img: array([[[  0, 255,   0],\n",
      "        [  0, 255,   0],\n",
      "        [  0, 255,   0],\n",
      "        ...,\n",
      "        [  5,   2,   1],\n",
      "        [  3,   0,   0],\n",
      "        [  2,   0,   0]],\n",
      "\n",
      "       [[  0, 255,   0],\n",
      "        [  0, 255,   0],\n",
      "        [  0, 255,   0],\n",
      "        ...,\n",
      "        [220, 217, 216],\n",
      "        [229, 226, 225],\n",
      "        [232, 229, 228]],\n",
      "\n",
      "       [[  0, 255,   0],\n",
      "        [  0, 255,   0],\n",
      "        [  0, 255,   0],\n",
      "        ...,\n",
      "        [240, 237, 236],\n",
      "        [252, 249, 248],\n",
      "        [252, 249, 248]],\n",
      "\n",
      "       ...,\n",
      "\n",
      "       [[123, 120, 105],\n",
      "        [121, 118, 103],\n",
      "        [121, 118, 103],\n",
      "        ...,\n",
      "        [106, 111, 104],\n",
      "        [104, 111, 104],\n",
      "        [104, 111, 104]],\n",
      "\n",
      "       [[117, 121, 107],\n",
      "        [115, 119, 105],\n",
      "        [115, 119, 105],\n",
      "        ...,\n",
      "        [106, 111, 104],\n",
      "        [104, 111, 104],\n",
      "        [104, 111, 104]],\n",
      "\n",
      "       [[116, 120, 106],\n",
      "        [115, 119, 105],\n",
      "        [115, 119, 105],\n",
      "        ...,\n",
      "        [106, 111, 104],\n",
      "        [104, 111, 104],\n",
      "        [104, 111, 104]]], dtype=uint8)\n",
      "orig_shape: (720, 1280)\n",
      "path: 'image0.jpg'\n",
      "probs: None\n",
      "save_dir: 'runs\\\\detect\\\\predict'\n",
      "speed: {'preprocess': 0.0, 'inference': 8.994579315185547, 'postprocess': 0.0}]\n",
      "\n",
      "0: 384x640 2 persons, 21.0ms\n",
      "Speed: 1.0ms preprocess, 21.0ms inference, 1.0ms postprocess per image at shape (1, 3, 384, 640)\n",
      "\n",
      "0: 96x128 (no detections), 6.9ms\n",
      "Speed: 0.0ms preprocess, 6.9ms inference, 0.0ms postprocess per image at shape (1, 3, 96, 128)\n",
      "predictions: [ultralytics.engine.results.Results object with attributes:\n",
      "\n",
      "boxes: ultralytics.engine.results.Boxes object\n",
      "keypoints: None\n",
      "masks: None\n",
      "names: {0: 'Hand_Raised'}\n",
      "obb: None\n",
      "orig_img: array([[[  0, 255,   0],\n",
      "        [  0, 255,   0],\n",
      "        [  0, 255,   0],\n",
      "        ...,\n",
      "        [  5,   2,   1],\n",
      "        [  3,   0,   0],\n",
      "        [  2,   0,   0]],\n",
      "\n",
      "       [[  0, 255,   0],\n",
      "        [  0, 255,   0],\n",
      "        [  0, 255,   0],\n",
      "        ...,\n",
      "        [220, 217, 216],\n",
      "        [229, 226, 225],\n",
      "        [232, 229, 228]],\n",
      "\n",
      "       [[  0, 255,   0],\n",
      "        [  0, 255,   0],\n",
      "        [  0, 255,   0],\n",
      "        ...,\n",
      "        [240, 237, 236],\n",
      "        [252, 249, 248],\n",
      "        [252, 249, 248]],\n",
      "\n",
      "       ...,\n",
      "\n",
      "       [[123, 120, 105],\n",
      "        [121, 118, 103],\n",
      "        [121, 118, 103],\n",
      "        ...,\n",
      "        [106, 111, 104],\n",
      "        [104, 111, 104],\n",
      "        [104, 111, 104]],\n",
      "\n",
      "       [[117, 121, 107],\n",
      "        [115, 119, 105],\n",
      "        [115, 119, 105],\n",
      "        ...,\n",
      "        [106, 111, 104],\n",
      "        [104, 111, 104],\n",
      "        [104, 111, 104]],\n",
      "\n",
      "       [[116, 120, 106],\n",
      "        [115, 119, 105],\n",
      "        [115, 119, 105],\n",
      "        ...,\n",
      "        [106, 111, 104],\n",
      "        [104, 111, 104],\n",
      "        [104, 111, 104]]], dtype=uint8)\n",
      "orig_shape: (720, 1280)\n",
      "path: 'image0.jpg'\n",
      "probs: None\n",
      "save_dir: 'runs\\\\detect\\\\predict'\n",
      "speed: {'preprocess': 0.0, 'inference': 6.916046142578125, 'postprocess': 0.0}]\n",
      "\n",
      "0: 384x640 2 persons, 21.1ms\n",
      "Speed: 1.0ms preprocess, 21.1ms inference, 1.0ms postprocess per image at shape (1, 3, 384, 640)\n",
      "\n",
      "0: 96x128 (no detections), 7.0ms\n",
      "Speed: 0.0ms preprocess, 7.0ms inference, 1.0ms postprocess per image at shape (1, 3, 96, 128)\n",
      "predictions: [ultralytics.engine.results.Results object with attributes:\n",
      "\n",
      "boxes: ultralytics.engine.results.Boxes object\n",
      "keypoints: None\n",
      "masks: None\n",
      "names: {0: 'Hand_Raised'}\n",
      "obb: None\n",
      "orig_img: array([[[  0, 255,   0],\n",
      "        [  0, 255,   0],\n",
      "        [  0, 255,   0],\n",
      "        ...,\n",
      "        [  5,   2,   1],\n",
      "        [  3,   0,   0],\n",
      "        [  2,   0,   0]],\n",
      "\n",
      "       [[  0, 255,   0],\n",
      "        [  0, 255,   0],\n",
      "        [  0, 255,   0],\n",
      "        ...,\n",
      "        [220, 217, 216],\n",
      "        [229, 226, 225],\n",
      "        [232, 229, 228]],\n",
      "\n",
      "       [[  0, 255,   0],\n",
      "        [  0, 255,   0],\n",
      "        [  0, 255,   0],\n",
      "        ...,\n",
      "        [240, 237, 236],\n",
      "        [252, 249, 248],\n",
      "        [252, 249, 248]],\n",
      "\n",
      "       ...,\n",
      "\n",
      "       [[123, 120, 105],\n",
      "        [121, 118, 103],\n",
      "        [121, 118, 103],\n",
      "        ...,\n",
      "        [103, 110, 103],\n",
      "        [105, 110, 103],\n",
      "        [105, 110, 103]],\n",
      "\n",
      "       [[117, 121, 107],\n",
      "        [115, 119, 105],\n",
      "        [115, 119, 105],\n",
      "        ...,\n",
      "        [103, 110, 103],\n",
      "        [105, 110, 103],\n",
      "        [105, 110, 103]],\n",
      "\n",
      "       [[116, 120, 106],\n",
      "        [115, 119, 105],\n",
      "        [115, 119, 105],\n",
      "        ...,\n",
      "        [103, 110, 103],\n",
      "        [105, 110, 103],\n",
      "        [105, 110, 103]]], dtype=uint8)\n",
      "orig_shape: (720, 1280)\n",
      "path: 'image0.jpg'\n",
      "probs: None\n",
      "save_dir: 'runs\\\\detect\\\\predict'\n",
      "speed: {'preprocess': 0.0, 'inference': 7.010459899902344, 'postprocess': 0.9953975677490234}]\n",
      "\n",
      "0: 384x640 2 persons, 21.0ms\n",
      "Speed: 1.0ms preprocess, 21.0ms inference, 1.0ms postprocess per image at shape (1, 3, 384, 640)\n",
      "\n",
      "0: 96x128 (no detections), 7.0ms\n",
      "Speed: 1.0ms preprocess, 7.0ms inference, 0.0ms postprocess per image at shape (1, 3, 96, 128)\n",
      "predictions: [ultralytics.engine.results.Results object with attributes:\n",
      "\n",
      "boxes: ultralytics.engine.results.Boxes object\n",
      "keypoints: None\n",
      "masks: None\n",
      "names: {0: 'Hand_Raised'}\n",
      "obb: None\n",
      "orig_img: array([[[  0, 255,   0],\n",
      "        [  0, 255,   0],\n",
      "        [  0, 255,   0],\n",
      "        ...,\n",
      "        [  5,   2,   1],\n",
      "        [  3,   0,   0],\n",
      "        [  2,   0,   0]],\n",
      "\n",
      "       [[  0, 255,   0],\n",
      "        [  0, 255,   0],\n",
      "        [  0, 255,   0],\n",
      "        ...,\n",
      "        [220, 217, 216],\n",
      "        [229, 226, 225],\n",
      "        [232, 229, 228]],\n",
      "\n",
      "       [[  0, 255,   0],\n",
      "        [  0, 255,   0],\n",
      "        [  0, 255,   0],\n",
      "        ...,\n",
      "        [240, 237, 236],\n",
      "        [252, 249, 248],\n",
      "        [252, 249, 248]],\n",
      "\n",
      "       ...,\n",
      "\n",
      "       [[123, 120, 105],\n",
      "        [121, 118, 103],\n",
      "        [121, 118, 103],\n",
      "        ...,\n",
      "        [103, 110, 103],\n",
      "        [105, 110, 103],\n",
      "        [105, 110, 103]],\n",
      "\n",
      "       [[117, 121, 107],\n",
      "        [115, 119, 105],\n",
      "        [115, 119, 105],\n",
      "        ...,\n",
      "        [103, 110, 103],\n",
      "        [105, 110, 103],\n",
      "        [105, 110, 103]],\n",
      "\n",
      "       [[116, 120, 106],\n",
      "        [115, 119, 105],\n",
      "        [115, 119, 105],\n",
      "        ...,\n",
      "        [103, 110, 103],\n",
      "        [105, 110, 103],\n",
      "        [105, 110, 103]]], dtype=uint8)\n",
      "orig_shape: (720, 1280)\n",
      "path: 'image0.jpg'\n",
      "probs: None\n",
      "save_dir: 'runs\\\\detect\\\\predict'\n",
      "speed: {'preprocess': 1.001119613647461, 'inference': 6.988763809204102, 'postprocess': 0.0}]\n",
      "\n",
      "0: 384x640 2 persons, 21.0ms\n",
      "Speed: 1.0ms preprocess, 21.0ms inference, 0.9ms postprocess per image at shape (1, 3, 384, 640)\n",
      "\n",
      "0: 96x128 (no detections), 6.9ms\n",
      "Speed: 0.0ms preprocess, 6.9ms inference, 0.0ms postprocess per image at shape (1, 3, 96, 128)\n",
      "predictions: [ultralytics.engine.results.Results object with attributes:\n",
      "\n",
      "boxes: ultralytics.engine.results.Boxes object\n",
      "keypoints: None\n",
      "masks: None\n",
      "names: {0: 'Hand_Raised'}\n",
      "obb: None\n",
      "orig_img: array([[[  0, 255,   0],\n",
      "        [  0, 255,   0],\n",
      "        [  0, 255,   0],\n",
      "        ...,\n",
      "        [  5,   2,   1],\n",
      "        [  3,   0,   0],\n",
      "        [  2,   0,   0]],\n",
      "\n",
      "       [[  0, 255,   0],\n",
      "        [  0, 255,   0],\n",
      "        [  0, 255,   0],\n",
      "        ...,\n",
      "        [220, 217, 216],\n",
      "        [229, 226, 225],\n",
      "        [232, 229, 228]],\n",
      "\n",
      "       [[  0, 255,   0],\n",
      "        [  0, 255,   0],\n",
      "        [  0, 255,   0],\n",
      "        ...,\n",
      "        [240, 237, 236],\n",
      "        [252, 249, 248],\n",
      "        [252, 249, 248]],\n",
      "\n",
      "       ...,\n",
      "\n",
      "       [[123, 120, 105],\n",
      "        [121, 118, 103],\n",
      "        [121, 118, 103],\n",
      "        ...,\n",
      "        [103, 110, 103],\n",
      "        [105, 110, 103],\n",
      "        [105, 110, 103]],\n",
      "\n",
      "       [[117, 121, 107],\n",
      "        [115, 119, 105],\n",
      "        [115, 119, 105],\n",
      "        ...,\n",
      "        [103, 110, 103],\n",
      "        [105, 110, 103],\n",
      "        [105, 110, 103]],\n",
      "\n",
      "       [[116, 120, 106],\n",
      "        [115, 119, 105],\n",
      "        [115, 119, 105],\n",
      "        ...,\n",
      "        [103, 110, 103],\n",
      "        [105, 110, 103],\n",
      "        [105, 110, 103]]], dtype=uint8)\n",
      "orig_shape: (720, 1280)\n",
      "path: 'image0.jpg'\n",
      "probs: None\n",
      "save_dir: 'runs\\\\detect\\\\predict'\n",
      "speed: {'preprocess': 0.0, 'inference': 6.93202018737793, 'postprocess': 0.0}]\n",
      "\n",
      "0: 384x640 2 persons, 23.0ms\n",
      "Speed: 1.0ms preprocess, 23.0ms inference, 1.0ms postprocess per image at shape (1, 3, 384, 640)\n",
      "\n",
      "0: 96x128 (no detections), 7.0ms\n",
      "Speed: 1.0ms preprocess, 7.0ms inference, 0.0ms postprocess per image at shape (1, 3, 96, 128)\n",
      "predictions: [ultralytics.engine.results.Results object with attributes:\n",
      "\n",
      "boxes: ultralytics.engine.results.Boxes object\n",
      "keypoints: None\n",
      "masks: None\n",
      "names: {0: 'Hand_Raised'}\n",
      "obb: None\n",
      "orig_img: array([[[  0, 255,   0],\n",
      "        [  0, 255,   0],\n",
      "        [  0, 255,   0],\n",
      "        ...,\n",
      "        [  5,   2,   1],\n",
      "        [  3,   0,   0],\n",
      "        [  2,   0,   0]],\n",
      "\n",
      "       [[  0, 255,   0],\n",
      "        [  0, 255,   0],\n",
      "        [  0, 255,   0],\n",
      "        ...,\n",
      "        [220, 217, 216],\n",
      "        [229, 226, 225],\n",
      "        [232, 229, 228]],\n",
      "\n",
      "       [[  0, 255,   0],\n",
      "        [  0, 255,   0],\n",
      "        [  0, 255,   0],\n",
      "        ...,\n",
      "        [240, 237, 236],\n",
      "        [252, 249, 248],\n",
      "        [252, 249, 248]],\n",
      "\n",
      "       ...,\n",
      "\n",
      "       [[123, 120, 105],\n",
      "        [121, 118, 103],\n",
      "        [121, 118, 103],\n",
      "        ...,\n",
      "        [103, 110, 103],\n",
      "        [105, 110, 103],\n",
      "        [105, 110, 103]],\n",
      "\n",
      "       [[117, 121, 107],\n",
      "        [115, 119, 105],\n",
      "        [115, 119, 105],\n",
      "        ...,\n",
      "        [103, 110, 103],\n",
      "        [105, 110, 103],\n",
      "        [105, 110, 103]],\n",
      "\n",
      "       [[117, 121, 107],\n",
      "        [116, 120, 106],\n",
      "        [116, 120, 106],\n",
      "        ...,\n",
      "        [103, 110, 103],\n",
      "        [105, 110, 103],\n",
      "        [105, 110, 103]]], dtype=uint8)\n",
      "orig_shape: (720, 1280)\n",
      "path: 'image0.jpg'\n",
      "probs: None\n",
      "save_dir: 'runs\\\\detect\\\\predict'\n",
      "speed: {'preprocess': 0.9703636169433594, 'inference': 7.002592086791992, 'postprocess': 0.0}]\n",
      "\n",
      "0: 384x640 2 persons, 23.7ms\n",
      "Speed: 1.0ms preprocess, 23.7ms inference, 1.0ms postprocess per image at shape (1, 3, 384, 640)\n",
      "\n",
      "0: 96x128 (no detections), 7.0ms\n",
      "Speed: 1.0ms preprocess, 7.0ms inference, 0.0ms postprocess per image at shape (1, 3, 96, 128)\n",
      "predictions: [ultralytics.engine.results.Results object with attributes:\n",
      "\n",
      "boxes: ultralytics.engine.results.Boxes object\n",
      "keypoints: None\n",
      "masks: None\n",
      "names: {0: 'Hand_Raised'}\n",
      "obb: None\n",
      "orig_img: array([[[  0, 255,   0],\n",
      "        [  0, 255,   0],\n",
      "        [  0, 255,   0],\n",
      "        ...,\n",
      "        [  5,   2,   1],\n",
      "        [  3,   0,   0],\n",
      "        [  2,   0,   0]],\n",
      "\n",
      "       [[  0, 255,   0],\n",
      "        [  0, 255,   0],\n",
      "        [  0, 255,   0],\n",
      "        ...,\n",
      "        [220, 217, 216],\n",
      "        [229, 226, 225],\n",
      "        [232, 229, 228]],\n",
      "\n",
      "       [[  0, 255,   0],\n",
      "        [  0, 255,   0],\n",
      "        [  0, 255,   0],\n",
      "        ...,\n",
      "        [240, 237, 236],\n",
      "        [252, 249, 248],\n",
      "        [252, 249, 248]],\n",
      "\n",
      "       ...,\n",
      "\n",
      "       [[123, 120, 105],\n",
      "        [121, 118, 103],\n",
      "        [121, 118, 103],\n",
      "        ...,\n",
      "        [103, 110, 103],\n",
      "        [105, 110, 103],\n",
      "        [105, 110, 103]],\n",
      "\n",
      "       [[117, 121, 107],\n",
      "        [115, 119, 105],\n",
      "        [115, 119, 105],\n",
      "        ...,\n",
      "        [103, 110, 103],\n",
      "        [105, 110, 103],\n",
      "        [105, 110, 103]],\n",
      "\n",
      "       [[117, 121, 107],\n",
      "        [116, 120, 106],\n",
      "        [116, 120, 106],\n",
      "        ...,\n",
      "        [103, 110, 103],\n",
      "        [105, 110, 103],\n",
      "        [105, 110, 103]]], dtype=uint8)\n",
      "orig_shape: (720, 1280)\n",
      "path: 'image0.jpg'\n",
      "probs: None\n",
      "save_dir: 'runs\\\\detect\\\\predict'\n",
      "speed: {'preprocess': 1.0025501251220703, 'inference': 6.998777389526367, 'postprocess': 0.0}]\n",
      "\n",
      "0: 384x640 2 persons, 23.0ms\n",
      "Speed: 0.0ms preprocess, 23.0ms inference, 1.0ms postprocess per image at shape (1, 3, 384, 640)\n",
      "\n",
      "0: 96x128 (no detections), 7.0ms\n",
      "Speed: 0.0ms preprocess, 7.0ms inference, 0.0ms postprocess per image at shape (1, 3, 96, 128)\n",
      "predictions: [ultralytics.engine.results.Results object with attributes:\n",
      "\n",
      "boxes: ultralytics.engine.results.Boxes object\n",
      "keypoints: None\n",
      "masks: None\n",
      "names: {0: 'Hand_Raised'}\n",
      "obb: None\n",
      "orig_img: array([[[  0, 255,   0],\n",
      "        [  0, 255,   0],\n",
      "        [  0, 255,   0],\n",
      "        ...,\n",
      "        [  5,   2,   1],\n",
      "        [  3,   0,   0],\n",
      "        [  2,   0,   0]],\n",
      "\n",
      "       [[  0, 255,   0],\n",
      "        [  0, 255,   0],\n",
      "        [  0, 255,   0],\n",
      "        ...,\n",
      "        [220, 217, 216],\n",
      "        [229, 226, 225],\n",
      "        [232, 229, 228]],\n",
      "\n",
      "       [[  0, 255,   0],\n",
      "        [  0, 255,   0],\n",
      "        [  0, 255,   0],\n",
      "        ...,\n",
      "        [240, 237, 236],\n",
      "        [252, 249, 248],\n",
      "        [252, 249, 248]],\n",
      "\n",
      "       ...,\n",
      "\n",
      "       [[123, 120, 105],\n",
      "        [121, 118, 103],\n",
      "        [121, 118, 103],\n",
      "        ...,\n",
      "        [103, 110, 103],\n",
      "        [105, 110, 103],\n",
      "        [105, 110, 103]],\n",
      "\n",
      "       [[117, 121, 107],\n",
      "        [115, 119, 105],\n",
      "        [115, 119, 105],\n",
      "        ...,\n",
      "        [103, 110, 103],\n",
      "        [105, 110, 103],\n",
      "        [105, 110, 103]],\n",
      "\n",
      "       [[117, 121, 107],\n",
      "        [116, 120, 106],\n",
      "        [116, 120, 106],\n",
      "        ...,\n",
      "        [103, 110, 103],\n",
      "        [105, 110, 103],\n",
      "        [105, 110, 103]]], dtype=uint8)\n",
      "orig_shape: (720, 1280)\n",
      "path: 'image0.jpg'\n",
      "probs: None\n",
      "save_dir: 'runs\\\\detect\\\\predict'\n",
      "speed: {'preprocess': 0.0, 'inference': 7.011175155639648, 'postprocess': 0.0}]\n",
      "\n",
      "0: 384x640 2 persons, 23.1ms\n",
      "Speed: 0.0ms preprocess, 23.1ms inference, 1.0ms postprocess per image at shape (1, 3, 384, 640)\n",
      "\n",
      "0: 96x128 (no detections), 7.0ms\n",
      "Speed: 0.0ms preprocess, 7.0ms inference, 1.0ms postprocess per image at shape (1, 3, 96, 128)\n",
      "predictions: [ultralytics.engine.results.Results object with attributes:\n",
      "\n",
      "boxes: ultralytics.engine.results.Boxes object\n",
      "keypoints: None\n",
      "masks: None\n",
      "names: {0: 'Hand_Raised'}\n",
      "obb: None\n",
      "orig_img: array([[[  0, 255,   0],\n",
      "        [  0, 255,   0],\n",
      "        [  0, 255,   0],\n",
      "        ...,\n",
      "        [  5,   2,   1],\n",
      "        [  3,   0,   0],\n",
      "        [  2,   0,   0]],\n",
      "\n",
      "       [[  0, 255,   0],\n",
      "        [  0, 255,   0],\n",
      "        [  0, 255,   0],\n",
      "        ...,\n",
      "        [220, 217, 216],\n",
      "        [229, 226, 225],\n",
      "        [232, 229, 228]],\n",
      "\n",
      "       [[  0, 255,   0],\n",
      "        [  0, 255,   0],\n",
      "        [  0, 255,   0],\n",
      "        ...,\n",
      "        [240, 237, 236],\n",
      "        [252, 249, 248],\n",
      "        [252, 249, 248]],\n",
      "\n",
      "       ...,\n",
      "\n",
      "       [[123, 120, 105],\n",
      "        [120, 117, 102],\n",
      "        [120, 117, 102],\n",
      "        ...,\n",
      "        [103, 110, 103],\n",
      "        [105, 110, 103],\n",
      "        [105, 110, 103]],\n",
      "\n",
      "       [[117, 121, 107],\n",
      "        [114, 118, 104],\n",
      "        [114, 118, 104],\n",
      "        ...,\n",
      "        [103, 110, 103],\n",
      "        [105, 110, 103],\n",
      "        [105, 110, 103]],\n",
      "\n",
      "       [[117, 121, 107],\n",
      "        [115, 119, 105],\n",
      "        [115, 119, 105],\n",
      "        ...,\n",
      "        [103, 110, 103],\n",
      "        [105, 110, 103],\n",
      "        [105, 110, 103]]], dtype=uint8)\n",
      "orig_shape: (720, 1280)\n",
      "path: 'image0.jpg'\n",
      "probs: None\n",
      "save_dir: 'runs\\\\detect\\\\predict'\n",
      "speed: {'preprocess': 0.0, 'inference': 6.99162483215332, 'postprocess': 1.001119613647461}]\n",
      "\n",
      "0: 384x640 2 persons, 21.0ms\n",
      "Speed: 1.0ms preprocess, 21.0ms inference, 1.0ms postprocess per image at shape (1, 3, 384, 640)\n",
      "\n",
      "0: 96x128 (no detections), 7.0ms\n",
      "Speed: 0.0ms preprocess, 7.0ms inference, 0.0ms postprocess per image at shape (1, 3, 96, 128)\n",
      "predictions: [ultralytics.engine.results.Results object with attributes:\n",
      "\n",
      "boxes: ultralytics.engine.results.Boxes object\n",
      "keypoints: None\n",
      "masks: None\n",
      "names: {0: 'Hand_Raised'}\n",
      "obb: None\n",
      "orig_img: array([[[  0, 255,   0],\n",
      "        [  0, 255,   0],\n",
      "        [  0, 255,   0],\n",
      "        ...,\n",
      "        [  5,   2,   1],\n",
      "        [  3,   0,   0],\n",
      "        [  2,   0,   0]],\n",
      "\n",
      "       [[  0, 255,   0],\n",
      "        [  0, 255,   0],\n",
      "        [  0, 255,   0],\n",
      "        ...,\n",
      "        [220, 217, 216],\n",
      "        [229, 226, 225],\n",
      "        [232, 229, 228]],\n",
      "\n",
      "       [[  0, 255,   0],\n",
      "        [  0, 255,   0],\n",
      "        [  0, 255,   0],\n",
      "        ...,\n",
      "        [240, 237, 236],\n",
      "        [252, 249, 248],\n",
      "        [252, 249, 248]],\n",
      "\n",
      "       ...,\n",
      "\n",
      "       [[123, 120, 105],\n",
      "        [120, 117, 102],\n",
      "        [120, 117, 102],\n",
      "        ...,\n",
      "        [103, 110, 103],\n",
      "        [105, 110, 103],\n",
      "        [105, 110, 103]],\n",
      "\n",
      "       [[117, 121, 107],\n",
      "        [114, 118, 104],\n",
      "        [114, 118, 104],\n",
      "        ...,\n",
      "        [103, 110, 103],\n",
      "        [105, 110, 103],\n",
      "        [105, 110, 103]],\n",
      "\n",
      "       [[117, 121, 107],\n",
      "        [115, 119, 105],\n",
      "        [115, 119, 105],\n",
      "        ...,\n",
      "        [103, 110, 103],\n",
      "        [105, 110, 103],\n",
      "        [105, 110, 103]]], dtype=uint8)\n",
      "orig_shape: (720, 1280)\n",
      "path: 'image0.jpg'\n",
      "probs: None\n",
      "save_dir: 'runs\\\\detect\\\\predict'\n",
      "speed: {'preprocess': 0.0, 'inference': 6.994485855102539, 'postprocess': 0.0}]\n",
      "\n",
      "0: 384x640 2 persons, 21.0ms\n",
      "Speed: 0.0ms preprocess, 21.0ms inference, 1.1ms postprocess per image at shape (1, 3, 384, 640)\n",
      "\n",
      "0: 96x128 (no detections), 6.9ms\n",
      "Speed: 1.0ms preprocess, 6.9ms inference, 0.0ms postprocess per image at shape (1, 3, 96, 128)\n",
      "predictions: [ultralytics.engine.results.Results object with attributes:\n",
      "\n",
      "boxes: ultralytics.engine.results.Boxes object\n",
      "keypoints: None\n",
      "masks: None\n",
      "names: {0: 'Hand_Raised'}\n",
      "obb: None\n",
      "orig_img: array([[[  0, 255,   0],\n",
      "        [  0, 255,   0],\n",
      "        [  0, 255,   0],\n",
      "        ...,\n",
      "        [  5,   2,   1],\n",
      "        [  3,   0,   0],\n",
      "        [  2,   0,   0]],\n",
      "\n",
      "       [[  0, 255,   0],\n",
      "        [  0, 255,   0],\n",
      "        [  0, 255,   0],\n",
      "        ...,\n",
      "        [220, 217, 216],\n",
      "        [229, 226, 225],\n",
      "        [232, 229, 228]],\n",
      "\n",
      "       [[  0, 255,   0],\n",
      "        [  0, 255,   0],\n",
      "        [  0, 255,   0],\n",
      "        ...,\n",
      "        [240, 237, 236],\n",
      "        [252, 249, 248],\n",
      "        [252, 249, 248]],\n",
      "\n",
      "       ...,\n",
      "\n",
      "       [[123, 120, 105],\n",
      "        [120, 117, 102],\n",
      "        [120, 117, 102],\n",
      "        ...,\n",
      "        [103, 110, 103],\n",
      "        [105, 110, 103],\n",
      "        [105, 110, 103]],\n",
      "\n",
      "       [[117, 121, 107],\n",
      "        [114, 118, 104],\n",
      "        [114, 118, 104],\n",
      "        ...,\n",
      "        [103, 110, 103],\n",
      "        [105, 110, 103],\n",
      "        [105, 110, 103]],\n",
      "\n",
      "       [[117, 121, 107],\n",
      "        [115, 119, 105],\n",
      "        [115, 119, 105],\n",
      "        ...,\n",
      "        [103, 110, 103],\n",
      "        [105, 110, 103],\n",
      "        [105, 110, 103]]], dtype=uint8)\n",
      "orig_shape: (720, 1280)\n",
      "path: 'image0.jpg'\n",
      "probs: None\n",
      "save_dir: 'runs\\\\detect\\\\predict'\n",
      "speed: {'preprocess': 1.0063648223876953, 'inference': 6.909608840942383, 'postprocess': 0.0}]\n",
      "\n",
      "0: 384x640 2 persons, 23.0ms\n",
      "Speed: 1.0ms preprocess, 23.0ms inference, 1.0ms postprocess per image at shape (1, 3, 384, 640)\n",
      "\n",
      "0: 96x128 (no detections), 8.0ms\n",
      "Speed: 1.0ms preprocess, 8.0ms inference, 0.0ms postprocess per image at shape (1, 3, 96, 128)\n",
      "predictions: [ultralytics.engine.results.Results object with attributes:\n",
      "\n",
      "boxes: ultralytics.engine.results.Boxes object\n",
      "keypoints: None\n",
      "masks: None\n",
      "names: {0: 'Hand_Raised'}\n",
      "obb: None\n",
      "orig_img: array([[[  0, 255,   0],\n",
      "        [  0, 255,   0],\n",
      "        [  0, 255,   0],\n",
      "        ...,\n",
      "        [  5,   2,   1],\n",
      "        [  3,   0,   0],\n",
      "        [  2,   0,   0]],\n",
      "\n",
      "       [[  0, 255,   0],\n",
      "        [  0, 255,   0],\n",
      "        [  0, 255,   0],\n",
      "        ...,\n",
      "        [220, 217, 216],\n",
      "        [229, 226, 225],\n",
      "        [232, 229, 228]],\n",
      "\n",
      "       [[  0, 255,   0],\n",
      "        [  0, 255,   0],\n",
      "        [  0, 255,   0],\n",
      "        ...,\n",
      "        [240, 237, 236],\n",
      "        [252, 249, 248],\n",
      "        [252, 249, 248]],\n",
      "\n",
      "       ...,\n",
      "\n",
      "       [[123, 120, 105],\n",
      "        [120, 117, 102],\n",
      "        [120, 117, 102],\n",
      "        ...,\n",
      "        [103, 110, 103],\n",
      "        [105, 110, 103],\n",
      "        [105, 110, 103]],\n",
      "\n",
      "       [[117, 121, 107],\n",
      "        [114, 118, 104],\n",
      "        [114, 118, 104],\n",
      "        ...,\n",
      "        [103, 110, 103],\n",
      "        [105, 110, 103],\n",
      "        [105, 110, 103]],\n",
      "\n",
      "       [[117, 121, 107],\n",
      "        [115, 119, 105],\n",
      "        [115, 119, 105],\n",
      "        ...,\n",
      "        [103, 110, 103],\n",
      "        [105, 110, 103],\n",
      "        [105, 110, 103]]], dtype=uint8)\n",
      "orig_shape: (720, 1280)\n",
      "path: 'image0.jpg'\n",
      "probs: None\n",
      "save_dir: 'runs\\\\detect\\\\predict'\n",
      "speed: {'preprocess': 1.0077953338623047, 'inference': 7.985115051269531, 'postprocess': 0.0}]\n",
      "\n",
      "0: 384x640 2 persons, 21.7ms\n",
      "Speed: 1.0ms preprocess, 21.7ms inference, 1.0ms postprocess per image at shape (1, 3, 384, 640)\n",
      "\n",
      "0: 96x128 (no detections), 7.0ms\n",
      "Speed: 1.0ms preprocess, 7.0ms inference, 1.0ms postprocess per image at shape (1, 3, 96, 128)\n",
      "predictions: [ultralytics.engine.results.Results object with attributes:\n",
      "\n",
      "boxes: ultralytics.engine.results.Boxes object\n",
      "keypoints: None\n",
      "masks: None\n",
      "names: {0: 'Hand_Raised'}\n",
      "obb: None\n",
      "orig_img: array([[[  0, 255,   0],\n",
      "        [  0, 255,   0],\n",
      "        [  0, 255,   0],\n",
      "        ...,\n",
      "        [  2,   0,   0],\n",
      "        [  3,   0,   0],\n",
      "        [  3,   0,   0]],\n",
      "\n",
      "       [[  0, 255,   0],\n",
      "        [  0, 255,   0],\n",
      "        [  0, 255,   0],\n",
      "        ...,\n",
      "        [220, 217, 216],\n",
      "        [227, 224, 223],\n",
      "        [233, 230, 229]],\n",
      "\n",
      "       [[  0, 255,   0],\n",
      "        [  0, 255,   0],\n",
      "        [  0, 255,   0],\n",
      "        ...,\n",
      "        [243, 240, 239],\n",
      "        [251, 248, 247],\n",
      "        [253, 250, 249]],\n",
      "\n",
      "       ...,\n",
      "\n",
      "       [[123, 120, 105],\n",
      "        [118, 115, 100],\n",
      "        [118, 115, 100],\n",
      "        ...,\n",
      "        [103, 110, 103],\n",
      "        [105, 110, 103],\n",
      "        [105, 110, 103]],\n",
      "\n",
      "       [[117, 121, 107],\n",
      "        [112, 116, 102],\n",
      "        [112, 116, 102],\n",
      "        ...,\n",
      "        [103, 110, 103],\n",
      "        [105, 110, 103],\n",
      "        [105, 110, 103]],\n",
      "\n",
      "       [[117, 121, 107],\n",
      "        [114, 118, 104],\n",
      "        [114, 118, 104],\n",
      "        ...,\n",
      "        [103, 110, 103],\n",
      "        [105, 110, 103],\n",
      "        [105, 110, 103]]], dtype=uint8)\n",
      "orig_shape: (720, 1280)\n",
      "path: 'image0.jpg'\n",
      "probs: None\n",
      "save_dir: 'runs\\\\detect\\\\predict'\n",
      "speed: {'preprocess': 1.0344982147216797, 'inference': 6.985187530517578, 'postprocess': 1.0089874267578125}]\n",
      "\n",
      "0: 384x640 2 persons, 22.0ms\n",
      "Speed: 1.0ms preprocess, 22.0ms inference, 1.0ms postprocess per image at shape (1, 3, 384, 640)\n",
      "\n",
      "0: 96x128 (no detections), 7.0ms\n",
      "Speed: 0.0ms preprocess, 7.0ms inference, 0.0ms postprocess per image at shape (1, 3, 96, 128)\n",
      "predictions: [ultralytics.engine.results.Results object with attributes:\n",
      "\n",
      "boxes: ultralytics.engine.results.Boxes object\n",
      "keypoints: None\n",
      "masks: None\n",
      "names: {0: 'Hand_Raised'}\n",
      "obb: None\n",
      "orig_img: array([[[  0, 255,   0],\n",
      "        [  0, 255,   0],\n",
      "        [  0, 255,   0],\n",
      "        ...,\n",
      "        [  2,   0,   0],\n",
      "        [  3,   0,   0],\n",
      "        [  3,   0,   0]],\n",
      "\n",
      "       [[  0, 255,   0],\n",
      "        [  0, 255,   0],\n",
      "        [  0, 255,   0],\n",
      "        ...,\n",
      "        [220, 217, 216],\n",
      "        [227, 224, 223],\n",
      "        [233, 230, 229]],\n",
      "\n",
      "       [[  0, 255,   0],\n",
      "        [  0, 255,   0],\n",
      "        [  0, 255,   0],\n",
      "        ...,\n",
      "        [243, 240, 239],\n",
      "        [251, 248, 247],\n",
      "        [253, 250, 249]],\n",
      "\n",
      "       ...,\n",
      "\n",
      "       [[124, 121, 106],\n",
      "        [120, 117, 102],\n",
      "        [120, 117, 102],\n",
      "        ...,\n",
      "        [103, 110, 103],\n",
      "        [105, 110, 103],\n",
      "        [105, 110, 103]],\n",
      "\n",
      "       [[118, 122, 108],\n",
      "        [114, 118, 104],\n",
      "        [114, 118, 104],\n",
      "        ...,\n",
      "        [103, 110, 103],\n",
      "        [105, 110, 103],\n",
      "        [105, 110, 103]],\n",
      "\n",
      "       [[118, 122, 108],\n",
      "        [115, 119, 105],\n",
      "        [115, 119, 105],\n",
      "        ...,\n",
      "        [103, 110, 103],\n",
      "        [105, 110, 103],\n",
      "        [105, 110, 103]]], dtype=uint8)\n",
      "orig_shape: (720, 1280)\n",
      "path: 'image0.jpg'\n",
      "probs: None\n",
      "save_dir: 'runs\\\\detect\\\\predict'\n",
      "speed: {'preprocess': 0.0, 'inference': 6.99925422668457, 'postprocess': 0.0}]\n",
      "\n",
      "0: 384x640 2 persons, 22.6ms\n",
      "Speed: 1.1ms preprocess, 22.6ms inference, 1.2ms postprocess per image at shape (1, 3, 384, 640)\n",
      "\n",
      "0: 96x128 (no detections), 7.0ms\n",
      "Speed: 0.0ms preprocess, 7.0ms inference, 0.0ms postprocess per image at shape (1, 3, 96, 128)\n",
      "predictions: [ultralytics.engine.results.Results object with attributes:\n",
      "\n",
      "boxes: ultralytics.engine.results.Boxes object\n",
      "keypoints: None\n",
      "masks: None\n",
      "names: {0: 'Hand_Raised'}\n",
      "obb: None\n",
      "orig_img: array([[[  0, 255,   0],\n",
      "        [  0, 255,   0],\n",
      "        [  0, 255,   0],\n",
      "        ...,\n",
      "        [  2,   0,   0],\n",
      "        [  3,   0,   0],\n",
      "        [  3,   0,   0]],\n",
      "\n",
      "       [[  0, 255,   0],\n",
      "        [  0, 255,   0],\n",
      "        [  0, 255,   0],\n",
      "        ...,\n",
      "        [220, 217, 216],\n",
      "        [227, 224, 223],\n",
      "        [233, 230, 229]],\n",
      "\n",
      "       [[  0, 255,   0],\n",
      "        [  0, 255,   0],\n",
      "        [  0, 255,   0],\n",
      "        ...,\n",
      "        [243, 240, 239],\n",
      "        [251, 248, 247],\n",
      "        [253, 250, 249]],\n",
      "\n",
      "       ...,\n",
      "\n",
      "       [[124, 121, 106],\n",
      "        [121, 118, 103],\n",
      "        [118, 115, 100],\n",
      "        ...,\n",
      "        [103, 110, 103],\n",
      "        [105, 110, 103],\n",
      "        [105, 110, 103]],\n",
      "\n",
      "       [[118, 122, 108],\n",
      "        [115, 119, 105],\n",
      "        [112, 116, 102],\n",
      "        ...,\n",
      "        [103, 110, 103],\n",
      "        [105, 110, 103],\n",
      "        [105, 110, 103]],\n",
      "\n",
      "       [[118, 122, 108],\n",
      "        [116, 120, 106],\n",
      "        [114, 118, 104],\n",
      "        ...,\n",
      "        [103, 110, 103],\n",
      "        [105, 110, 103],\n",
      "        [105, 110, 103]]], dtype=uint8)\n",
      "orig_shape: (720, 1280)\n",
      "path: 'image0.jpg'\n",
      "probs: None\n",
      "save_dir: 'runs\\\\detect\\\\predict'\n",
      "speed: {'preprocess': 0.0, 'inference': 6.982564926147461, 'postprocess': 0.0}]\n",
      "\n",
      "0: 384x640 2 persons, 20.0ms\n",
      "Speed: 1.0ms preprocess, 20.0ms inference, 1.0ms postprocess per image at shape (1, 3, 384, 640)\n",
      "\n",
      "0: 96x128 (no detections), 8.0ms\n",
      "Speed: 0.0ms preprocess, 8.0ms inference, 0.0ms postprocess per image at shape (1, 3, 96, 128)\n",
      "predictions: [ultralytics.engine.results.Results object with attributes:\n",
      "\n",
      "boxes: ultralytics.engine.results.Boxes object\n",
      "keypoints: None\n",
      "masks: None\n",
      "names: {0: 'Hand_Raised'}\n",
      "obb: None\n",
      "orig_img: array([[[  0, 255,   0],\n",
      "        [  0, 255,   0],\n",
      "        [  0, 255,   0],\n",
      "        ...,\n",
      "        [  2,   0,   0],\n",
      "        [  3,   0,   0],\n",
      "        [  3,   0,   0]],\n",
      "\n",
      "       [[  0, 255,   0],\n",
      "        [  0, 255,   0],\n",
      "        [  0, 255,   0],\n",
      "        ...,\n",
      "        [220, 217, 216],\n",
      "        [227, 224, 223],\n",
      "        [233, 230, 229]],\n",
      "\n",
      "       [[  0, 255,   0],\n",
      "        [  0, 255,   0],\n",
      "        [  0, 255,   0],\n",
      "        ...,\n",
      "        [243, 240, 239],\n",
      "        [251, 248, 247],\n",
      "        [253, 250, 249]],\n",
      "\n",
      "       ...,\n",
      "\n",
      "       [[124, 121, 106],\n",
      "        [120, 117, 102],\n",
      "        [120, 117, 102],\n",
      "        ...,\n",
      "        [103, 110, 103],\n",
      "        [105, 110, 103],\n",
      "        [105, 110, 103]],\n",
      "\n",
      "       [[118, 122, 108],\n",
      "        [114, 118, 104],\n",
      "        [114, 118, 104],\n",
      "        ...,\n",
      "        [103, 110, 103],\n",
      "        [105, 110, 103],\n",
      "        [105, 110, 103]],\n",
      "\n",
      "       [[118, 122, 108],\n",
      "        [115, 119, 105],\n",
      "        [115, 119, 105],\n",
      "        ...,\n",
      "        [103, 110, 103],\n",
      "        [105, 110, 103],\n",
      "        [105, 110, 103]]], dtype=uint8)\n",
      "orig_shape: (720, 1280)\n",
      "path: 'image0.jpg'\n",
      "probs: None\n",
      "save_dir: 'runs\\\\detect\\\\predict'\n",
      "speed: {'preprocess': 0.0, 'inference': 7.9708099365234375, 'postprocess': 0.0}]\n",
      "\n",
      "0: 384x640 2 persons, 21.0ms\n",
      "Speed: 1.0ms preprocess, 21.0ms inference, 1.0ms postprocess per image at shape (1, 3, 384, 640)\n",
      "\n",
      "0: 96x128 (no detections), 7.0ms\n",
      "Speed: 0.0ms preprocess, 7.0ms inference, 0.0ms postprocess per image at shape (1, 3, 96, 128)\n",
      "predictions: [ultralytics.engine.results.Results object with attributes:\n",
      "\n",
      "boxes: ultralytics.engine.results.Boxes object\n",
      "keypoints: None\n",
      "masks: None\n",
      "names: {0: 'Hand_Raised'}\n",
      "obb: None\n",
      "orig_img: array([[[  0, 255,   0],\n",
      "        [  0, 255,   0],\n",
      "        [  0, 255,   0],\n",
      "        ...,\n",
      "        [  2,   0,   0],\n",
      "        [  3,   0,   0],\n",
      "        [  3,   0,   0]],\n",
      "\n",
      "       [[  0, 255,   0],\n",
      "        [  0, 255,   0],\n",
      "        [  0, 255,   0],\n",
      "        ...,\n",
      "        [220, 217, 216],\n",
      "        [227, 224, 223],\n",
      "        [233, 230, 229]],\n",
      "\n",
      "       [[  0, 255,   0],\n",
      "        [  0, 255,   0],\n",
      "        [  0, 255,   0],\n",
      "        ...,\n",
      "        [243, 240, 239],\n",
      "        [251, 248, 247],\n",
      "        [253, 250, 249]],\n",
      "\n",
      "       ...,\n",
      "\n",
      "       [[124, 121, 106],\n",
      "        [121, 118, 103],\n",
      "        [118, 115, 100],\n",
      "        ...,\n",
      "        [103, 110, 103],\n",
      "        [105, 110, 103],\n",
      "        [105, 110, 103]],\n",
      "\n",
      "       [[118, 122, 108],\n",
      "        [115, 119, 105],\n",
      "        [112, 116, 102],\n",
      "        ...,\n",
      "        [103, 110, 103],\n",
      "        [105, 110, 103],\n",
      "        [105, 110, 103]],\n",
      "\n",
      "       [[118, 122, 108],\n",
      "        [116, 120, 106],\n",
      "        [114, 118, 104],\n",
      "        ...,\n",
      "        [103, 110, 103],\n",
      "        [105, 110, 103],\n",
      "        [105, 110, 103]]], dtype=uint8)\n",
      "orig_shape: (720, 1280)\n",
      "path: 'image0.jpg'\n",
      "probs: None\n",
      "save_dir: 'runs\\\\detect\\\\predict'\n",
      "speed: {'preprocess': 0.0, 'inference': 6.995916366577148, 'postprocess': 0.0}]\n",
      "\n",
      "0: 384x640 2 persons, 20.2ms\n",
      "Speed: 1.5ms preprocess, 20.2ms inference, 1.0ms postprocess per image at shape (1, 3, 384, 640)\n",
      "\n",
      "0: 96x128 (no detections), 6.9ms\n",
      "Speed: 1.0ms preprocess, 6.9ms inference, 0.0ms postprocess per image at shape (1, 3, 96, 128)\n",
      "predictions: [ultralytics.engine.results.Results object with attributes:\n",
      "\n",
      "boxes: ultralytics.engine.results.Boxes object\n",
      "keypoints: None\n",
      "masks: None\n",
      "names: {0: 'Hand_Raised'}\n",
      "obb: None\n",
      "orig_img: array([[[  0, 255,   0],\n",
      "        [  0, 255,   0],\n",
      "        [  0, 255,   0],\n",
      "        ...,\n",
      "        [  0,   0,   0],\n",
      "        [  2,   0,   0],\n",
      "        [  0,   0,   0]],\n",
      "\n",
      "       [[  0, 255,   0],\n",
      "        [  0, 255,   0],\n",
      "        [  0, 255,   0],\n",
      "        ...,\n",
      "        [219, 216, 215],\n",
      "        [226, 223, 222],\n",
      "        [231, 228, 227]],\n",
      "\n",
      "       [[  0, 255,   0],\n",
      "        [  0, 255,   0],\n",
      "        [  0, 255,   0],\n",
      "        ...,\n",
      "        [241, 238, 237],\n",
      "        [250, 247, 246],\n",
      "        [251, 248, 247]],\n",
      "\n",
      "       ...,\n",
      "\n",
      "       [[128, 118, 104],\n",
      "        [128, 118, 104],\n",
      "        [128, 118, 104],\n",
      "        ...,\n",
      "        [103, 110, 103],\n",
      "        [105, 110, 103],\n",
      "        [105, 110, 103]],\n",
      "\n",
      "       [[128, 117, 106],\n",
      "        [128, 117, 106],\n",
      "        [128, 117, 106],\n",
      "        ...,\n",
      "        [103, 110, 103],\n",
      "        [105, 110, 103],\n",
      "        [105, 110, 103]],\n",
      "\n",
      "       [[128, 117, 106],\n",
      "        [128, 117, 106],\n",
      "        [128, 117, 106],\n",
      "        ...,\n",
      "        [103, 110, 103],\n",
      "        [105, 110, 103],\n",
      "        [105, 110, 103]]], dtype=uint8)\n",
      "orig_shape: (720, 1280)\n",
      "path: 'image0.jpg'\n",
      "probs: None\n",
      "save_dir: 'runs\\\\detect\\\\predict'\n",
      "speed: {'preprocess': 1.0063648223876953, 'inference': 6.917715072631836, 'postprocess': 0.0}]\n",
      "\n",
      "0: 384x640 2 persons, 20.0ms\n",
      "Speed: 1.0ms preprocess, 20.0ms inference, 1.0ms postprocess per image at shape (1, 3, 384, 640)\n",
      "\n",
      "0: 96x128 (no detections), 8.0ms\n",
      "Speed: 1.0ms preprocess, 8.0ms inference, 0.5ms postprocess per image at shape (1, 3, 96, 128)\n",
      "predictions: [ultralytics.engine.results.Results object with attributes:\n",
      "\n",
      "boxes: ultralytics.engine.results.Boxes object\n",
      "keypoints: None\n",
      "masks: None\n",
      "names: {0: 'Hand_Raised'}\n",
      "obb: None\n",
      "orig_img: array([[[  0, 255,   0],\n",
      "        [  0, 255,   0],\n",
      "        [  0, 255,   0],\n",
      "        ...,\n",
      "        [  2,   0,   0],\n",
      "        [  2,   0,   0],\n",
      "        [  3,   0,   0]],\n",
      "\n",
      "       [[  0, 255,   0],\n",
      "        [  0, 255,   0],\n",
      "        [  0, 255,   0],\n",
      "        ...,\n",
      "        [222, 219, 218],\n",
      "        [227, 224, 223],\n",
      "        [232, 229, 228]],\n",
      "\n",
      "       [[  0, 255,   0],\n",
      "        [  0, 255,   0],\n",
      "        [  0, 255,   0],\n",
      "        ...,\n",
      "        [243, 240, 239],\n",
      "        [250, 247, 246],\n",
      "        [253, 250, 249]],\n",
      "\n",
      "       ...,\n",
      "\n",
      "       [[128, 118, 104],\n",
      "        [128, 118, 104],\n",
      "        [128, 118, 104],\n",
      "        ...,\n",
      "        [103, 110, 103],\n",
      "        [105, 110, 103],\n",
      "        [105, 110, 103]],\n",
      "\n",
      "       [[128, 117, 106],\n",
      "        [128, 117, 106],\n",
      "        [128, 117, 106],\n",
      "        ...,\n",
      "        [103, 110, 103],\n",
      "        [105, 110, 103],\n",
      "        [105, 110, 103]],\n",
      "\n",
      "       [[128, 117, 106],\n",
      "        [128, 117, 106],\n",
      "        [128, 117, 106],\n",
      "        ...,\n",
      "        [103, 110, 103],\n",
      "        [105, 110, 103],\n",
      "        [105, 110, 103]]], dtype=uint8)\n",
      "orig_shape: (720, 1280)\n",
      "path: 'image0.jpg'\n",
      "probs: None\n",
      "save_dir: 'runs\\\\detect\\\\predict'\n",
      "speed: {'preprocess': 1.0008811950683594, 'inference': 7.999420166015625, 'postprocess': 0.5185604095458984}]\n",
      "\n",
      "0: 384x640 2 persons, 20.0ms\n",
      "Speed: 1.0ms preprocess, 20.0ms inference, 2.0ms postprocess per image at shape (1, 3, 384, 640)\n",
      "\n",
      "0: 96x128 (no detections), 8.0ms\n",
      "Speed: 1.0ms preprocess, 8.0ms inference, 0.0ms postprocess per image at shape (1, 3, 96, 128)\n",
      "predictions: [ultralytics.engine.results.Results object with attributes:\n",
      "\n",
      "boxes: ultralytics.engine.results.Boxes object\n",
      "keypoints: None\n",
      "masks: None\n",
      "names: {0: 'Hand_Raised'}\n",
      "obb: None\n",
      "orig_img: array([[[  0, 255,   0],\n",
      "        [  0, 255,   0],\n",
      "        [  0, 255,   0],\n",
      "        ...,\n",
      "        [  2,   0,   0],\n",
      "        [  2,   0,   0],\n",
      "        [  3,   0,   0]],\n",
      "\n",
      "       [[  0, 255,   0],\n",
      "        [  0, 255,   0],\n",
      "        [  0, 255,   0],\n",
      "        ...,\n",
      "        [222, 219, 218],\n",
      "        [227, 224, 223],\n",
      "        [232, 229, 228]],\n",
      "\n",
      "       [[  0, 255,   0],\n",
      "        [  0, 255,   0],\n",
      "        [  0, 255,   0],\n",
      "        ...,\n",
      "        [243, 240, 239],\n",
      "        [250, 247, 246],\n",
      "        [253, 250, 249]],\n",
      "\n",
      "       ...,\n",
      "\n",
      "       [[128, 118, 104],\n",
      "        [128, 118, 104],\n",
      "        [128, 118, 104],\n",
      "        ...,\n",
      "        [103, 110, 103],\n",
      "        [105, 110, 103],\n",
      "        [105, 110, 103]],\n",
      "\n",
      "       [[128, 117, 106],\n",
      "        [128, 117, 106],\n",
      "        [128, 117, 106],\n",
      "        ...,\n",
      "        [103, 110, 103],\n",
      "        [105, 110, 103],\n",
      "        [105, 110, 103]],\n",
      "\n",
      "       [[128, 117, 106],\n",
      "        [128, 117, 106],\n",
      "        [128, 117, 106],\n",
      "        ...,\n",
      "        [103, 110, 103],\n",
      "        [105, 110, 103],\n",
      "        [105, 110, 103]]], dtype=uint8)\n",
      "orig_shape: (720, 1280)\n",
      "path: 'image0.jpg'\n",
      "probs: None\n",
      "save_dir: 'runs\\\\detect\\\\predict'\n",
      "speed: {'preprocess': 1.0006427764892578, 'inference': 7.998943328857422, 'postprocess': 0.0}]\n",
      "\n",
      "0: 384x640 2 persons, 20.2ms\n",
      "Speed: 1.0ms preprocess, 20.2ms inference, 1.6ms postprocess per image at shape (1, 3, 384, 640)\n",
      "\n",
      "0: 96x128 (no detections), 6.9ms\n",
      "Speed: 1.0ms preprocess, 6.9ms inference, 1.0ms postprocess per image at shape (1, 3, 96, 128)\n",
      "predictions: [ultralytics.engine.results.Results object with attributes:\n",
      "\n",
      "boxes: ultralytics.engine.results.Boxes object\n",
      "keypoints: None\n",
      "masks: None\n",
      "names: {0: 'Hand_Raised'}\n",
      "obb: None\n",
      "orig_img: array([[[  0, 255,   0],\n",
      "        [  0, 255,   0],\n",
      "        [  0, 255,   0],\n",
      "        ...,\n",
      "        [  2,   0,   0],\n",
      "        [  2,   0,   0],\n",
      "        [  3,   0,   0]],\n",
      "\n",
      "       [[  0, 255,   0],\n",
      "        [  0, 255,   0],\n",
      "        [  0, 255,   0],\n",
      "        ...,\n",
      "        [222, 219, 218],\n",
      "        [227, 224, 223],\n",
      "        [232, 229, 228]],\n",
      "\n",
      "       [[  0, 255,   0],\n",
      "        [  0, 255,   0],\n",
      "        [  0, 255,   0],\n",
      "        ...,\n",
      "        [243, 240, 239],\n",
      "        [250, 247, 246],\n",
      "        [253, 250, 249]],\n",
      "\n",
      "       ...,\n",
      "\n",
      "       [[131, 119, 105],\n",
      "        [131, 119, 105],\n",
      "        [131, 119, 105],\n",
      "        ...,\n",
      "        [103, 110, 103],\n",
      "        [105, 110, 103],\n",
      "        [105, 110, 103]],\n",
      "\n",
      "       [[130, 117, 106],\n",
      "        [130, 117, 106],\n",
      "        [130, 117, 106],\n",
      "        ...,\n",
      "        [103, 110, 103],\n",
      "        [105, 110, 103],\n",
      "        [105, 110, 103]],\n",
      "\n",
      "       [[130, 117, 106],\n",
      "        [130, 117, 106],\n",
      "        [130, 117, 106],\n",
      "        ...,\n",
      "        [103, 110, 103],\n",
      "        [105, 110, 103],\n",
      "        [105, 110, 103]]], dtype=uint8)\n",
      "orig_shape: (720, 1280)\n",
      "path: 'image0.jpg'\n",
      "probs: None\n",
      "save_dir: 'runs\\\\detect\\\\predict'\n",
      "speed: {'preprocess': 1.0030269622802734, 'inference': 6.911516189575195, 'postprocess': 0.9989738464355469}]\n",
      "\n",
      "0: 384x640 2 persons, 22.0ms\n",
      "Speed: 1.0ms preprocess, 22.0ms inference, 2.0ms postprocess per image at shape (1, 3, 384, 640)\n",
      "\n",
      "0: 96x128 (no detections), 8.0ms\n",
      "Speed: 1.0ms preprocess, 8.0ms inference, 0.0ms postprocess per image at shape (1, 3, 96, 128)\n",
      "predictions: [ultralytics.engine.results.Results object with attributes:\n",
      "\n",
      "boxes: ultralytics.engine.results.Boxes object\n",
      "keypoints: None\n",
      "masks: None\n",
      "names: {0: 'Hand_Raised'}\n",
      "obb: None\n",
      "orig_img: array([[[  0, 255,   0],\n",
      "        [  0, 255,   0],\n",
      "        [  0, 255,   0],\n",
      "        ...,\n",
      "        [  2,   0,   0],\n",
      "        [  2,   0,   0],\n",
      "        [  3,   0,   0]],\n",
      "\n",
      "       [[  0, 255,   0],\n",
      "        [  0, 255,   0],\n",
      "        [  0, 255,   0],\n",
      "        ...,\n",
      "        [222, 219, 218],\n",
      "        [227, 224, 223],\n",
      "        [232, 229, 228]],\n",
      "\n",
      "       [[  0, 255,   0],\n",
      "        [  0, 255,   0],\n",
      "        [  0, 255,   0],\n",
      "        ...,\n",
      "        [243, 240, 239],\n",
      "        [250, 247, 246],\n",
      "        [253, 250, 249]],\n",
      "\n",
      "       ...,\n",
      "\n",
      "       [[131, 120, 104],\n",
      "        [131, 120, 104],\n",
      "        [131, 120, 104],\n",
      "        ...,\n",
      "        [103, 110, 103],\n",
      "        [105, 110, 103],\n",
      "        [105, 110, 103]],\n",
      "\n",
      "       [[131, 119, 105],\n",
      "        [131, 119, 105],\n",
      "        [131, 119, 105],\n",
      "        ...,\n",
      "        [103, 110, 103],\n",
      "        [105, 110, 103],\n",
      "        [105, 110, 103]],\n",
      "\n",
      "       [[131, 119, 105],\n",
      "        [131, 119, 105],\n",
      "        [131, 119, 105],\n",
      "        ...,\n",
      "        [103, 110, 103],\n",
      "        [105, 110, 103],\n",
      "        [105, 110, 103]]], dtype=uint8)\n",
      "orig_shape: (720, 1280)\n",
      "path: 'image0.jpg'\n",
      "probs: None\n",
      "save_dir: 'runs\\\\detect\\\\predict'\n",
      "speed: {'preprocess': 0.9987354278564453, 'inference': 8.00180435180664, 'postprocess': 0.0}]\n",
      "\n",
      "0: 384x640 2 persons, 24.0ms\n",
      "Speed: 0.0ms preprocess, 24.0ms inference, 1.0ms postprocess per image at shape (1, 3, 384, 640)\n",
      "\n",
      "0: 96x128 (no detections), 8.0ms\n",
      "Speed: 0.0ms preprocess, 8.0ms inference, 0.0ms postprocess per image at shape (1, 3, 96, 128)\n",
      "predictions: [ultralytics.engine.results.Results object with attributes:\n",
      "\n",
      "boxes: ultralytics.engine.results.Boxes object\n",
      "keypoints: None\n",
      "masks: None\n",
      "names: {0: 'Hand_Raised'}\n",
      "obb: None\n",
      "orig_img: array([[[  0, 255,   0],\n",
      "        [  0, 255,   0],\n",
      "        [  0, 255,   0],\n",
      "        ...,\n",
      "        [  2,   0,   0],\n",
      "        [  2,   0,   0],\n",
      "        [  3,   0,   0]],\n",
      "\n",
      "       [[  0, 255,   0],\n",
      "        [  0, 255,   0],\n",
      "        [  0, 255,   0],\n",
      "        ...,\n",
      "        [222, 219, 218],\n",
      "        [227, 224, 223],\n",
      "        [232, 229, 228]],\n",
      "\n",
      "       [[  0, 255,   0],\n",
      "        [  0, 255,   0],\n",
      "        [  0, 255,   0],\n",
      "        ...,\n",
      "        [243, 240, 239],\n",
      "        [250, 247, 246],\n",
      "        [253, 250, 249]],\n",
      "\n",
      "       ...,\n",
      "\n",
      "       [[131, 119, 105],\n",
      "        [131, 119, 105],\n",
      "        [131, 119, 105],\n",
      "        ...,\n",
      "        [103, 110, 103],\n",
      "        [105, 110, 103],\n",
      "        [105, 110, 103]],\n",
      "\n",
      "       [[131, 118, 107],\n",
      "        [131, 118, 107],\n",
      "        [131, 118, 107],\n",
      "        ...,\n",
      "        [103, 110, 103],\n",
      "        [105, 110, 103],\n",
      "        [105, 110, 103]],\n",
      "\n",
      "       [[131, 118, 107],\n",
      "        [131, 118, 107],\n",
      "        [131, 118, 107],\n",
      "        ...,\n",
      "        [103, 110, 103],\n",
      "        [105, 110, 103],\n",
      "        [105, 110, 103]]], dtype=uint8)\n",
      "orig_shape: (720, 1280)\n",
      "path: 'image0.jpg'\n",
      "probs: None\n",
      "save_dir: 'runs\\\\detect\\\\predict'\n",
      "speed: {'preprocess': 0.0, 'inference': 7.997751235961914, 'postprocess': 0.0}]\n",
      "\n",
      "0: 384x640 2 persons, 22.5ms\n",
      "Speed: 1.0ms preprocess, 22.5ms inference, 1.0ms postprocess per image at shape (1, 3, 384, 640)\n",
      "\n",
      "0: 96x128 (no detections), 7.0ms\n",
      "Speed: 0.0ms preprocess, 7.0ms inference, 1.0ms postprocess per image at shape (1, 3, 96, 128)\n",
      "predictions: [ultralytics.engine.results.Results object with attributes:\n",
      "\n",
      "boxes: ultralytics.engine.results.Boxes object\n",
      "keypoints: None\n",
      "masks: None\n",
      "names: {0: 'Hand_Raised'}\n",
      "obb: None\n",
      "orig_img: array([[[  0, 255,   0],\n",
      "        [  0, 255,   0],\n",
      "        [  0, 255,   0],\n",
      "        ...,\n",
      "        [  2,   0,   0],\n",
      "        [  2,   0,   0],\n",
      "        [  3,   0,   0]],\n",
      "\n",
      "       [[  0, 255,   0],\n",
      "        [  0, 255,   0],\n",
      "        [  0, 255,   0],\n",
      "        ...,\n",
      "        [222, 219, 218],\n",
      "        [227, 224, 223],\n",
      "        [232, 229, 228]],\n",
      "\n",
      "       [[  0, 255,   0],\n",
      "        [  0, 255,   0],\n",
      "        [  0, 255,   0],\n",
      "        ...,\n",
      "        [243, 240, 239],\n",
      "        [250, 247, 246],\n",
      "        [253, 250, 249]],\n",
      "\n",
      "       ...,\n",
      "\n",
      "       [[131, 120, 104],\n",
      "        [131, 120, 104],\n",
      "        [131, 120, 104],\n",
      "        ...,\n",
      "        [103, 110, 103],\n",
      "        [105, 110, 103],\n",
      "        [105, 110, 103]],\n",
      "\n",
      "       [[131, 119, 105],\n",
      "        [131, 119, 105],\n",
      "        [131, 119, 105],\n",
      "        ...,\n",
      "        [103, 110, 103],\n",
      "        [105, 110, 103],\n",
      "        [105, 110, 103]],\n",
      "\n",
      "       [[131, 119, 105],\n",
      "        [131, 119, 105],\n",
      "        [131, 119, 105],\n",
      "        ...,\n",
      "        [103, 110, 103],\n",
      "        [105, 110, 103],\n",
      "        [105, 110, 103]]], dtype=uint8)\n",
      "orig_shape: (720, 1280)\n",
      "path: 'image0.jpg'\n",
      "probs: None\n",
      "save_dir: 'runs\\\\detect\\\\predict'\n",
      "speed: {'preprocess': 0.0, 'inference': 6.99925422668457, 'postprocess': 0.9996891021728516}]\n",
      "\n",
      "0: 384x640 2 persons, 20.0ms\n",
      "Speed: 1.0ms preprocess, 20.0ms inference, 1.0ms postprocess per image at shape (1, 3, 384, 640)\n",
      "\n",
      "0: 96x128 (no detections), 9.0ms\n",
      "Speed: 1.0ms preprocess, 9.0ms inference, 0.0ms postprocess per image at shape (1, 3, 96, 128)\n",
      "predictions: [ultralytics.engine.results.Results object with attributes:\n",
      "\n",
      "boxes: ultralytics.engine.results.Boxes object\n",
      "keypoints: None\n",
      "masks: None\n",
      "names: {0: 'Hand_Raised'}\n",
      "obb: None\n",
      "orig_img: array([[[  0, 255,   0],\n",
      "        [  0, 255,   0],\n",
      "        [  0, 255,   0],\n",
      "        ...,\n",
      "        [  2,   0,   0],\n",
      "        [  2,   0,   0],\n",
      "        [  3,   0,   0]],\n",
      "\n",
      "       [[  0, 255,   0],\n",
      "        [  0, 255,   0],\n",
      "        [  0, 255,   0],\n",
      "        ...,\n",
      "        [222, 219, 218],\n",
      "        [227, 224, 223],\n",
      "        [232, 229, 228]],\n",
      "\n",
      "       [[  0, 255,   0],\n",
      "        [  0, 255,   0],\n",
      "        [  0, 255,   0],\n",
      "        ...,\n",
      "        [243, 240, 239],\n",
      "        [250, 247, 246],\n",
      "        [253, 250, 249]],\n",
      "\n",
      "       ...,\n",
      "\n",
      "       [[131, 119, 105],\n",
      "        [131, 119, 105],\n",
      "        [131, 119, 105],\n",
      "        ...,\n",
      "        [103, 110, 103],\n",
      "        [105, 110, 103],\n",
      "        [105, 110, 103]],\n",
      "\n",
      "       [[131, 118, 107],\n",
      "        [131, 118, 107],\n",
      "        [131, 118, 107],\n",
      "        ...,\n",
      "        [103, 110, 103],\n",
      "        [105, 110, 103],\n",
      "        [105, 110, 103]],\n",
      "\n",
      "       [[131, 118, 107],\n",
      "        [131, 118, 107],\n",
      "        [131, 118, 107],\n",
      "        ...,\n",
      "        [103, 110, 103],\n",
      "        [105, 110, 103],\n",
      "        [105, 110, 103]]], dtype=uint8)\n",
      "orig_shape: (720, 1280)\n",
      "path: 'image0.jpg'\n",
      "probs: None\n",
      "save_dir: 'runs\\\\detect\\\\predict'\n",
      "speed: {'preprocess': 0.9961128234863281, 'inference': 8.991241455078125, 'postprocess': 0.0}]\n",
      "\n",
      "0: 384x640 2 persons, 20.9ms\n",
      "Speed: 1.0ms preprocess, 20.9ms inference, 2.0ms postprocess per image at shape (1, 3, 384, 640)\n",
      "\n",
      "0: 96x128 (no detections), 9.0ms\n",
      "Speed: 0.0ms preprocess, 9.0ms inference, 0.0ms postprocess per image at shape (1, 3, 96, 128)\n",
      "predictions: [ultralytics.engine.results.Results object with attributes:\n",
      "\n",
      "boxes: ultralytics.engine.results.Boxes object\n",
      "keypoints: None\n",
      "masks: None\n",
      "names: {0: 'Hand_Raised'}\n",
      "obb: None\n",
      "orig_img: array([[[  0, 255,   0],\n",
      "        [  0, 255,   0],\n",
      "        [  0, 255,   0],\n",
      "        ...,\n",
      "        [  2,   0,   0],\n",
      "        [  2,   0,   0],\n",
      "        [  3,   0,   0]],\n",
      "\n",
      "       [[  0, 255,   0],\n",
      "        [  0, 255,   0],\n",
      "        [  0, 255,   0],\n",
      "        ...,\n",
      "        [222, 219, 218],\n",
      "        [227, 224, 223],\n",
      "        [232, 229, 228]],\n",
      "\n",
      "       [[  0, 255,   0],\n",
      "        [  0, 255,   0],\n",
      "        [  0, 255,   0],\n",
      "        ...,\n",
      "        [243, 240, 239],\n",
      "        [250, 247, 246],\n",
      "        [253, 250, 249]],\n",
      "\n",
      "       ...,\n",
      "\n",
      "       [[131, 120, 104],\n",
      "        [131, 120, 104],\n",
      "        [131, 120, 104],\n",
      "        ...,\n",
      "        [103, 110, 103],\n",
      "        [105, 110, 103],\n",
      "        [105, 110, 103]],\n",
      "\n",
      "       [[131, 119, 105],\n",
      "        [131, 119, 105],\n",
      "        [131, 119, 105],\n",
      "        ...,\n",
      "        [103, 110, 103],\n",
      "        [105, 110, 103],\n",
      "        [105, 110, 103]],\n",
      "\n",
      "       [[131, 119, 105],\n",
      "        [131, 119, 105],\n",
      "        [131, 119, 105],\n",
      "        ...,\n",
      "        [103, 110, 103],\n",
      "        [105, 110, 103],\n",
      "        [105, 110, 103]]], dtype=uint8)\n",
      "orig_shape: (720, 1280)\n",
      "path: 'image0.jpg'\n",
      "probs: None\n",
      "save_dir: 'runs\\\\detect\\\\predict'\n",
      "speed: {'preprocess': 0.0, 'inference': 8.999824523925781, 'postprocess': 0.0}]\n",
      "\n",
      "0: 384x640 2 persons, 21.0ms\n",
      "Speed: 1.0ms preprocess, 21.0ms inference, 2.0ms postprocess per image at shape (1, 3, 384, 640)\n",
      "\n",
      "0: 96x128 (no detections), 8.6ms\n",
      "Speed: 0.0ms preprocess, 8.6ms inference, 0.0ms postprocess per image at shape (1, 3, 96, 128)\n",
      "predictions: [ultralytics.engine.results.Results object with attributes:\n",
      "\n",
      "boxes: ultralytics.engine.results.Boxes object\n",
      "keypoints: None\n",
      "masks: None\n",
      "names: {0: 'Hand_Raised'}\n",
      "obb: None\n",
      "orig_img: array([[[  0, 255,   0],\n",
      "        [  0, 255,   0],\n",
      "        [  0, 255,   0],\n",
      "        ...,\n",
      "        [  2,   0,   0],\n",
      "        [  2,   0,   0],\n",
      "        [  3,   0,   0]],\n",
      "\n",
      "       [[  0, 255,   0],\n",
      "        [  0, 255,   0],\n",
      "        [  0, 255,   0],\n",
      "        ...,\n",
      "        [222, 219, 218],\n",
      "        [227, 224, 223],\n",
      "        [232, 229, 228]],\n",
      "\n",
      "       [[  0, 255,   0],\n",
      "        [  0, 255,   0],\n",
      "        [  0, 255,   0],\n",
      "        ...,\n",
      "        [243, 240, 239],\n",
      "        [250, 247, 246],\n",
      "        [253, 250, 249]],\n",
      "\n",
      "       ...,\n",
      "\n",
      "       [[129, 120, 104],\n",
      "        [129, 120, 104],\n",
      "        [129, 120, 104],\n",
      "        ...,\n",
      "        [103, 110, 103],\n",
      "        [105, 110, 103],\n",
      "        [105, 110, 103]],\n",
      "\n",
      "       [[129, 119, 105],\n",
      "        [129, 119, 105],\n",
      "        [129, 119, 105],\n",
      "        ...,\n",
      "        [103, 110, 103],\n",
      "        [105, 110, 103],\n",
      "        [105, 110, 103]],\n",
      "\n",
      "       [[129, 119, 105],\n",
      "        [129, 119, 105],\n",
      "        [129, 119, 105],\n",
      "        ...,\n",
      "        [103, 110, 103],\n",
      "        [105, 110, 103],\n",
      "        [105, 110, 103]]], dtype=uint8)\n",
      "orig_shape: (720, 1280)\n",
      "path: 'image0.jpg'\n",
      "probs: None\n",
      "save_dir: 'runs\\\\detect\\\\predict'\n",
      "speed: {'preprocess': 0.0, 'inference': 8.60285758972168, 'postprocess': 0.0}]\n",
      "\n",
      "0: 384x640 2 persons, 20.0ms\n",
      "Speed: 1.0ms preprocess, 20.0ms inference, 1.9ms postprocess per image at shape (1, 3, 384, 640)\n",
      "\n",
      "0: 96x128 (no detections), 10.1ms\n",
      "Speed: 0.0ms preprocess, 10.1ms inference, 0.0ms postprocess per image at shape (1, 3, 96, 128)\n",
      "predictions: [ultralytics.engine.results.Results object with attributes:\n",
      "\n",
      "boxes: ultralytics.engine.results.Boxes object\n",
      "keypoints: None\n",
      "masks: None\n",
      "names: {0: 'Hand_Raised'}\n",
      "obb: None\n",
      "orig_img: array([[[  0, 255,   0],\n",
      "        [  0, 255,   0],\n",
      "        [  0, 255,   0],\n",
      "        ...,\n",
      "        [  2,   0,   0],\n",
      "        [  2,   0,   0],\n",
      "        [  3,   0,   0]],\n",
      "\n",
      "       [[  0, 255,   0],\n",
      "        [  0, 255,   0],\n",
      "        [  0, 255,   0],\n",
      "        ...,\n",
      "        [222, 219, 218],\n",
      "        [227, 224, 223],\n",
      "        [232, 229, 228]],\n",
      "\n",
      "       [[  0, 255,   0],\n",
      "        [  0, 255,   0],\n",
      "        [  0, 255,   0],\n",
      "        ...,\n",
      "        [243, 240, 239],\n",
      "        [250, 247, 246],\n",
      "        [253, 250, 249]],\n",
      "\n",
      "       ...,\n",
      "\n",
      "       [[129, 120, 104],\n",
      "        [129, 120, 104],\n",
      "        [129, 120, 104],\n",
      "        ...,\n",
      "        [103, 110, 103],\n",
      "        [105, 110, 103],\n",
      "        [105, 110, 103]],\n",
      "\n",
      "       [[129, 119, 105],\n",
      "        [129, 119, 105],\n",
      "        [129, 119, 105],\n",
      "        ...,\n",
      "        [103, 110, 103],\n",
      "        [105, 110, 103],\n",
      "        [105, 110, 103]],\n",
      "\n",
      "       [[129, 119, 105],\n",
      "        [129, 119, 105],\n",
      "        [129, 119, 105],\n",
      "        ...,\n",
      "        [103, 110, 103],\n",
      "        [105, 110, 103],\n",
      "        [105, 110, 103]]], dtype=uint8)\n",
      "orig_shape: (720, 1280)\n",
      "path: 'image0.jpg'\n",
      "probs: None\n",
      "save_dir: 'runs\\\\detect\\\\predict'\n",
      "speed: {'preprocess': 0.0, 'inference': 10.087966918945312, 'postprocess': 0.0}]\n",
      "\n",
      "0: 384x640 2 persons, 20.0ms\n",
      "Speed: 1.0ms preprocess, 20.0ms inference, 1.0ms postprocess per image at shape (1, 3, 384, 640)\n",
      "\n",
      "0: 96x128 (no detections), 8.0ms\n",
      "Speed: 1.0ms preprocess, 8.0ms inference, 0.0ms postprocess per image at shape (1, 3, 96, 128)\n",
      "predictions: [ultralytics.engine.results.Results object with attributes:\n",
      "\n",
      "boxes: ultralytics.engine.results.Boxes object\n",
      "keypoints: None\n",
      "masks: None\n",
      "names: {0: 'Hand_Raised'}\n",
      "obb: None\n",
      "orig_img: array([[[  0, 255,   0],\n",
      "        [  0, 255,   0],\n",
      "        [  0, 255,   0],\n",
      "        ...,\n",
      "        [  3,   0,   0],\n",
      "        [  2,   0,   0],\n",
      "        [  3,   0,   0]],\n",
      "\n",
      "       [[  0, 255,   0],\n",
      "        [  0, 255,   0],\n",
      "        [  0, 255,   0],\n",
      "        ...,\n",
      "        [223, 220, 219],\n",
      "        [227, 224, 223],\n",
      "        [232, 229, 228]],\n",
      "\n",
      "       [[  0, 255,   0],\n",
      "        [  0, 255,   0],\n",
      "        [  0, 255,   0],\n",
      "        ...,\n",
      "        [243, 240, 239],\n",
      "        [250, 247, 246],\n",
      "        [253, 250, 249]],\n",
      "\n",
      "       ...,\n",
      "\n",
      "       [[130, 120, 106],\n",
      "        [129, 119, 105],\n",
      "        [129, 119, 105],\n",
      "        ...,\n",
      "        [103, 110, 103],\n",
      "        [105, 110, 103],\n",
      "        [105, 110, 103]],\n",
      "\n",
      "       [[130, 119, 108],\n",
      "        [129, 118, 107],\n",
      "        [129, 118, 107],\n",
      "        ...,\n",
      "        [103, 110, 103],\n",
      "        [105, 110, 103],\n",
      "        [105, 110, 103]],\n",
      "\n",
      "       [[130, 119, 108],\n",
      "        [129, 118, 107],\n",
      "        [129, 118, 107],\n",
      "        ...,\n",
      "        [103, 110, 103],\n",
      "        [105, 110, 103],\n",
      "        [105, 110, 103]]], dtype=uint8)\n",
      "orig_shape: (720, 1280)\n",
      "path: 'image0.jpg'\n",
      "probs: None\n",
      "save_dir: 'runs\\\\detect\\\\predict'\n",
      "speed: {'preprocess': 1.0042190551757812, 'inference': 8.004426956176758, 'postprocess': 0.0}]\n",
      "\n",
      "0: 384x640 2 persons, 21.1ms\n",
      "Speed: 0.0ms preprocess, 21.1ms inference, 2.0ms postprocess per image at shape (1, 3, 384, 640)\n",
      "\n",
      "0: 96x128 (no detections), 7.6ms\n",
      "Speed: 0.9ms preprocess, 7.6ms inference, 0.0ms postprocess per image at shape (1, 3, 96, 128)\n",
      "predictions: [ultralytics.engine.results.Results object with attributes:\n",
      "\n",
      "boxes: ultralytics.engine.results.Boxes object\n",
      "keypoints: None\n",
      "masks: None\n",
      "names: {0: 'Hand_Raised'}\n",
      "obb: None\n",
      "orig_img: array([[[  0, 255,   0],\n",
      "        [  0, 255,   0],\n",
      "        [  0, 255,   0],\n",
      "        ...,\n",
      "        [  3,   0,   0],\n",
      "        [  2,   0,   0],\n",
      "        [  2,   0,   0]],\n",
      "\n",
      "       [[  0, 255,   0],\n",
      "        [  0, 255,   0],\n",
      "        [  0, 255,   0],\n",
      "        ...,\n",
      "        [223, 220, 219],\n",
      "        [227, 224, 223],\n",
      "        [231, 228, 227]],\n",
      "\n",
      "       [[  0, 255,   0],\n",
      "        [  0, 255,   0],\n",
      "        [  0, 255,   0],\n",
      "        ...,\n",
      "        [243, 240, 239],\n",
      "        [248, 245, 244],\n",
      "        [253, 250, 249]],\n",
      "\n",
      "       ...,\n",
      "\n",
      "       [[130, 120, 106],\n",
      "        [129, 119, 105],\n",
      "        [129, 119, 105],\n",
      "        ...,\n",
      "        [103, 110, 103],\n",
      "        [105, 110, 103],\n",
      "        [105, 110, 103]],\n",
      "\n",
      "       [[130, 119, 108],\n",
      "        [129, 118, 107],\n",
      "        [129, 118, 107],\n",
      "        ...,\n",
      "        [103, 110, 103],\n",
      "        [105, 110, 103],\n",
      "        [105, 110, 103]],\n",
      "\n",
      "       [[130, 119, 108],\n",
      "        [129, 118, 107],\n",
      "        [129, 118, 107],\n",
      "        ...,\n",
      "        [103, 110, 103],\n",
      "        [105, 110, 103],\n",
      "        [105, 110, 103]]], dtype=uint8)\n",
      "orig_shape: (720, 1280)\n",
      "path: 'image0.jpg'\n",
      "probs: None\n",
      "save_dir: 'runs\\\\detect\\\\predict'\n",
      "speed: {'preprocess': 0.9062290191650391, 'inference': 7.61866569519043, 'postprocess': 0.0}]\n",
      "\n",
      "0: 384x640 2 persons, 21.0ms\n",
      "Speed: 1.0ms preprocess, 21.0ms inference, 1.0ms postprocess per image at shape (1, 3, 384, 640)\n",
      "\n",
      "0: 96x128 (no detections), 10.1ms\n",
      "Speed: 0.0ms preprocess, 10.1ms inference, 0.6ms postprocess per image at shape (1, 3, 96, 128)\n",
      "predictions: [ultralytics.engine.results.Results object with attributes:\n",
      "\n",
      "boxes: ultralytics.engine.results.Boxes object\n",
      "keypoints: None\n",
      "masks: None\n",
      "names: {0: 'Hand_Raised'}\n",
      "obb: None\n",
      "orig_img: array([[[  0, 255,   0],\n",
      "        [  0, 255,   0],\n",
      "        [  0, 255,   0],\n",
      "        ...,\n",
      "        [  3,   0,   0],\n",
      "        [  2,   0,   0],\n",
      "        [  2,   0,   0]],\n",
      "\n",
      "       [[  0, 255,   0],\n",
      "        [  0, 255,   0],\n",
      "        [  0, 255,   0],\n",
      "        ...,\n",
      "        [223, 220, 219],\n",
      "        [227, 224, 223],\n",
      "        [231, 228, 227]],\n",
      "\n",
      "       [[  0, 255,   0],\n",
      "        [  0, 255,   0],\n",
      "        [  0, 255,   0],\n",
      "        ...,\n",
      "        [243, 240, 239],\n",
      "        [248, 245, 244],\n",
      "        [253, 250, 249]],\n",
      "\n",
      "       ...,\n",
      "\n",
      "       [[134, 124, 110],\n",
      "        [131, 121, 107],\n",
      "        [130, 120, 106],\n",
      "        ...,\n",
      "        [103, 110, 103],\n",
      "        [105, 110, 103],\n",
      "        [105, 110, 103]],\n",
      "\n",
      "       [[131, 121, 107],\n",
      "        [129, 119, 105],\n",
      "        [129, 119, 105],\n",
      "        ...,\n",
      "        [103, 110, 103],\n",
      "        [105, 110, 103],\n",
      "        [105, 110, 103]],\n",
      "\n",
      "       [[129, 119, 105],\n",
      "        [127, 117, 103],\n",
      "        [128, 118, 104],\n",
      "        ...,\n",
      "        [103, 110, 103],\n",
      "        [105, 110, 103],\n",
      "        [105, 110, 103]]], dtype=uint8)\n",
      "orig_shape: (720, 1280)\n",
      "path: 'image0.jpg'\n",
      "probs: None\n",
      "save_dir: 'runs\\\\detect\\\\predict'\n",
      "speed: {'preprocess': 0.0, 'inference': 10.107278823852539, 'postprocess': 0.583648681640625}]\n",
      "\n",
      "0: 384x640 2 persons, 25.4ms\n",
      "Speed: 1.0ms preprocess, 25.4ms inference, 1.0ms postprocess per image at shape (1, 3, 384, 640)\n",
      "\n",
      "0: 96x128 (no detections), 12.0ms\n",
      "Speed: 0.0ms preprocess, 12.0ms inference, 1.0ms postprocess per image at shape (1, 3, 96, 128)\n",
      "predictions: [ultralytics.engine.results.Results object with attributes:\n",
      "\n",
      "boxes: ultralytics.engine.results.Boxes object\n",
      "keypoints: None\n",
      "masks: None\n",
      "names: {0: 'Hand_Raised'}\n",
      "obb: None\n",
      "orig_img: array([[[  0, 255,   0],\n",
      "        [  0, 255,   0],\n",
      "        [  0, 255,   0],\n",
      "        ...,\n",
      "        [  3,   0,   1],\n",
      "        [  2,   0,   0],\n",
      "        [  2,   0,   0]],\n",
      "\n",
      "       [[  0, 255,   0],\n",
      "        [  0, 255,   0],\n",
      "        [  0, 255,   0],\n",
      "        ...,\n",
      "        [223, 220, 221],\n",
      "        [227, 224, 225],\n",
      "        [231, 228, 229]],\n",
      "\n",
      "       [[  0, 255,   0],\n",
      "        [  0, 255,   0],\n",
      "        [  0, 255,   0],\n",
      "        ...,\n",
      "        [243, 240, 241],\n",
      "        [248, 245, 246],\n",
      "        [253, 250, 251]],\n",
      "\n",
      "       ...,\n",
      "\n",
      "       [[133, 124, 108],\n",
      "        [130, 121, 105],\n",
      "        [130, 121, 105],\n",
      "        ...,\n",
      "        [103, 110, 103],\n",
      "        [105, 110, 103],\n",
      "        [105, 110, 103]],\n",
      "\n",
      "       [[131, 121, 107],\n",
      "        [129, 119, 105],\n",
      "        [129, 119, 105],\n",
      "        ...,\n",
      "        [103, 110, 103],\n",
      "        [105, 110, 103],\n",
      "        [105, 110, 103]],\n",
      "\n",
      "       [[128, 118, 104],\n",
      "        [127, 117, 103],\n",
      "        [128, 118, 104],\n",
      "        ...,\n",
      "        [103, 110, 103],\n",
      "        [105, 110, 103],\n",
      "        [105, 110, 103]]], dtype=uint8)\n",
      "orig_shape: (720, 1280)\n",
      "path: 'image0.jpg'\n",
      "probs: None\n",
      "save_dir: 'runs\\\\detect\\\\predict'\n",
      "speed: {'preprocess': 0.0, 'inference': 12.000560760498047, 'postprocess': 0.9970664978027344}]\n",
      "\n",
      "0: 384x640 2 persons, 25.7ms\n",
      "Speed: 1.0ms preprocess, 25.7ms inference, 2.0ms postprocess per image at shape (1, 3, 384, 640)\n",
      "\n",
      "0: 96x128 (no detections), 10.5ms\n",
      "Speed: 0.0ms preprocess, 10.5ms inference, 0.0ms postprocess per image at shape (1, 3, 96, 128)\n",
      "predictions: [ultralytics.engine.results.Results object with attributes:\n",
      "\n",
      "boxes: ultralytics.engine.results.Boxes object\n",
      "keypoints: None\n",
      "masks: None\n",
      "names: {0: 'Hand_Raised'}\n",
      "obb: None\n",
      "orig_img: array([[[  0, 255,   0],\n",
      "        [  0, 255,   0],\n",
      "        [  0, 255,   0],\n",
      "        ...,\n",
      "        [  3,   0,   1],\n",
      "        [  2,   0,   0],\n",
      "        [  2,   0,   0]],\n",
      "\n",
      "       [[  0, 255,   0],\n",
      "        [  0, 255,   0],\n",
      "        [  0, 255,   0],\n",
      "        ...,\n",
      "        [223, 220, 221],\n",
      "        [227, 224, 225],\n",
      "        [231, 228, 229]],\n",
      "\n",
      "       [[  0, 255,   0],\n",
      "        [  0, 255,   0],\n",
      "        [  0, 255,   0],\n",
      "        ...,\n",
      "        [243, 240, 241],\n",
      "        [248, 245, 246],\n",
      "        [253, 250, 251]],\n",
      "\n",
      "       ...,\n",
      "\n",
      "       [[133, 123, 109],\n",
      "        [130, 120, 106],\n",
      "        [130, 120, 106],\n",
      "        ...,\n",
      "        [103, 110, 103],\n",
      "        [105, 110, 103],\n",
      "        [105, 110, 103]],\n",
      "\n",
      "       [[131, 120, 109],\n",
      "        [129, 118, 107],\n",
      "        [129, 118, 107],\n",
      "        ...,\n",
      "        [103, 110, 103],\n",
      "        [105, 110, 103],\n",
      "        [105, 110, 103]],\n",
      "\n",
      "       [[128, 117, 106],\n",
      "        [127, 116, 105],\n",
      "        [128, 117, 106],\n",
      "        ...,\n",
      "        [103, 110, 103],\n",
      "        [105, 110, 103],\n",
      "        [105, 110, 103]]], dtype=uint8)\n",
      "orig_shape: (720, 1280)\n",
      "path: 'image0.jpg'\n",
      "probs: None\n",
      "save_dir: 'runs\\\\detect\\\\predict'\n",
      "speed: {'preprocess': 0.0, 'inference': 10.475873947143555, 'postprocess': 0.0}]\n",
      "\n",
      "0: 384x640 2 persons, 25.0ms\n",
      "Speed: 1.0ms preprocess, 25.0ms inference, 1.0ms postprocess per image at shape (1, 3, 384, 640)\n",
      "\n",
      "0: 96x128 (no detections), 11.1ms\n",
      "Speed: 1.0ms preprocess, 11.1ms inference, 1.0ms postprocess per image at shape (1, 3, 96, 128)\n",
      "predictions: [ultralytics.engine.results.Results object with attributes:\n",
      "\n",
      "boxes: ultralytics.engine.results.Boxes object\n",
      "keypoints: None\n",
      "masks: None\n",
      "names: {0: 'Hand_Raised'}\n",
      "obb: None\n",
      "orig_img: array([[[  0, 255,   0],\n",
      "        [  0, 255,   0],\n",
      "        [  0, 255,   0],\n",
      "        ...,\n",
      "        [  3,   0,   1],\n",
      "        [  2,   0,   0],\n",
      "        [  2,   0,   0]],\n",
      "\n",
      "       [[  0, 255,   0],\n",
      "        [  0, 255,   0],\n",
      "        [  0, 255,   0],\n",
      "        ...,\n",
      "        [223, 220, 221],\n",
      "        [227, 224, 225],\n",
      "        [231, 228, 229]],\n",
      "\n",
      "       [[  0, 255,   0],\n",
      "        [  0, 255,   0],\n",
      "        [  0, 255,   0],\n",
      "        ...,\n",
      "        [243, 240, 241],\n",
      "        [248, 245, 246],\n",
      "        [253, 250, 251]],\n",
      "\n",
      "       ...,\n",
      "\n",
      "       [[134, 124, 110],\n",
      "        [130, 120, 106],\n",
      "        [130, 120, 106],\n",
      "        ...,\n",
      "        [103, 110, 103],\n",
      "        [105, 110, 103],\n",
      "        [105, 110, 103]],\n",
      "\n",
      "       [[133, 122, 111],\n",
      "        [129, 118, 107],\n",
      "        [129, 118, 107],\n",
      "        ...,\n",
      "        [103, 110, 103],\n",
      "        [105, 110, 103],\n",
      "        [105, 110, 103]],\n",
      "\n",
      "       [[129, 118, 107],\n",
      "        [127, 116, 105],\n",
      "        [128, 117, 106],\n",
      "        ...,\n",
      "        [103, 110, 103],\n",
      "        [105, 110, 103],\n",
      "        [105, 110, 103]]], dtype=uint8)\n",
      "orig_shape: (720, 1280)\n",
      "path: 'image0.jpg'\n",
      "probs: None\n",
      "save_dir: 'runs\\\\detect\\\\predict'\n",
      "speed: {'preprocess': 1.0020732879638672, 'inference': 11.066198348999023, 'postprocess': 1.0221004486083984}]\n",
      "\n",
      "0: 384x640 2 persons, 22.0ms\n",
      "Speed: 1.0ms preprocess, 22.0ms inference, 2.0ms postprocess per image at shape (1, 3, 384, 640)\n",
      "\n",
      "0: 96x128 (no detections), 11.0ms\n",
      "Speed: 1.0ms preprocess, 11.0ms inference, 1.0ms postprocess per image at shape (1, 3, 96, 128)\n",
      "predictions: [ultralytics.engine.results.Results object with attributes:\n",
      "\n",
      "boxes: ultralytics.engine.results.Boxes object\n",
      "keypoints: None\n",
      "masks: None\n",
      "names: {0: 'Hand_Raised'}\n",
      "obb: None\n",
      "orig_img: array([[[  0, 255,   0],\n",
      "        [  0, 255,   0],\n",
      "        [  0, 255,   0],\n",
      "        ...,\n",
      "        [  3,   0,   1],\n",
      "        [  2,   0,   0],\n",
      "        [  2,   0,   0]],\n",
      "\n",
      "       [[  0, 255,   0],\n",
      "        [  0, 255,   0],\n",
      "        [  0, 255,   0],\n",
      "        ...,\n",
      "        [223, 220, 221],\n",
      "        [227, 224, 225],\n",
      "        [231, 228, 229]],\n",
      "\n",
      "       [[  0, 255,   0],\n",
      "        [  0, 255,   0],\n",
      "        [  0, 255,   0],\n",
      "        ...,\n",
      "        [243, 240, 241],\n",
      "        [248, 245, 246],\n",
      "        [253, 250, 251]],\n",
      "\n",
      "       ...,\n",
      "\n",
      "       [[135, 125, 111],\n",
      "        [131, 121, 107],\n",
      "        [129, 119, 105],\n",
      "        ...,\n",
      "        [103, 110, 103],\n",
      "        [105, 110, 103],\n",
      "        [105, 110, 103]],\n",
      "\n",
      "       [[133, 122, 111],\n",
      "        [129, 118, 107],\n",
      "        [129, 118, 107],\n",
      "        ...,\n",
      "        [103, 110, 103],\n",
      "        [105, 110, 103],\n",
      "        [105, 110, 103]],\n",
      "\n",
      "       [[129, 118, 107],\n",
      "        [127, 116, 105],\n",
      "        [128, 117, 106],\n",
      "        ...,\n",
      "        [103, 110, 103],\n",
      "        [105, 110, 103],\n",
      "        [104, 109, 102]]], dtype=uint8)\n",
      "orig_shape: (720, 1280)\n",
      "path: 'image0.jpg'\n",
      "probs: None\n",
      "save_dir: 'runs\\\\detect\\\\predict'\n",
      "speed: {'preprocess': 0.9977817535400391, 'inference': 11.011362075805664, 'postprocess': 0.9996891021728516}]\n",
      "\n",
      "0: 384x640 2 persons, 21.0ms\n",
      "Speed: 1.0ms preprocess, 21.0ms inference, 2.0ms postprocess per image at shape (1, 3, 384, 640)\n",
      "\n",
      "0: 96x128 (no detections), 12.0ms\n",
      "Speed: 0.0ms preprocess, 12.0ms inference, 0.0ms postprocess per image at shape (1, 3, 96, 128)\n",
      "predictions: [ultralytics.engine.results.Results object with attributes:\n",
      "\n",
      "boxes: ultralytics.engine.results.Boxes object\n",
      "keypoints: None\n",
      "masks: None\n",
      "names: {0: 'Hand_Raised'}\n",
      "obb: None\n",
      "orig_img: array([[[  0, 255,   0],\n",
      "        [  0, 255,   0],\n",
      "        [  0, 255,   0],\n",
      "        ...,\n",
      "        [  3,   0,   1],\n",
      "        [  2,   0,   0],\n",
      "        [  2,   0,   0]],\n",
      "\n",
      "       [[  0, 255,   0],\n",
      "        [  0, 255,   0],\n",
      "        [  0, 255,   0],\n",
      "        ...,\n",
      "        [223, 220, 221],\n",
      "        [227, 224, 225],\n",
      "        [231, 228, 229]],\n",
      "\n",
      "       [[  0, 255,   0],\n",
      "        [  0, 255,   0],\n",
      "        [  0, 255,   0],\n",
      "        ...,\n",
      "        [243, 240, 241],\n",
      "        [248, 245, 246],\n",
      "        [253, 250, 251]],\n",
      "\n",
      "       ...,\n",
      "\n",
      "       [[135, 125, 111],\n",
      "        [131, 121, 107],\n",
      "        [129, 119, 105],\n",
      "        ...,\n",
      "        [103, 110, 103],\n",
      "        [105, 110, 103],\n",
      "        [105, 110, 103]],\n",
      "\n",
      "       [[133, 122, 111],\n",
      "        [129, 118, 107],\n",
      "        [129, 118, 107],\n",
      "        ...,\n",
      "        [103, 110, 103],\n",
      "        [105, 110, 103],\n",
      "        [105, 110, 103]],\n",
      "\n",
      "       [[129, 118, 107],\n",
      "        [127, 116, 105],\n",
      "        [128, 117, 106],\n",
      "        ...,\n",
      "        [103, 110, 103],\n",
      "        [105, 110, 103],\n",
      "        [104, 109, 102]]], dtype=uint8)\n",
      "orig_shape: (720, 1280)\n",
      "path: 'image0.jpg'\n",
      "probs: None\n",
      "save_dir: 'runs\\\\detect\\\\predict'\n",
      "speed: {'preprocess': 0.0, 'inference': 11.954784393310547, 'postprocess': 0.0}]\n",
      "\n",
      "0: 384x640 2 persons, 21.3ms\n",
      "Speed: 1.0ms preprocess, 21.3ms inference, 1.0ms postprocess per image at shape (1, 3, 384, 640)\n",
      "\n",
      "0: 96x128 (no detections), 8.9ms\n",
      "Speed: 1.0ms preprocess, 8.9ms inference, 1.0ms postprocess per image at shape (1, 3, 96, 128)\n",
      "predictions: [ultralytics.engine.results.Results object with attributes:\n",
      "\n",
      "boxes: ultralytics.engine.results.Boxes object\n",
      "keypoints: None\n",
      "masks: None\n",
      "names: {0: 'Hand_Raised'}\n",
      "obb: None\n",
      "orig_img: array([[[  0, 255,   0],\n",
      "        [  0, 255,   0],\n",
      "        [  0, 255,   0],\n",
      "        ...,\n",
      "        [  3,   0,   1],\n",
      "        [  2,   0,   0],\n",
      "        [  2,   0,   0]],\n",
      "\n",
      "       [[  0, 255,   0],\n",
      "        [  0, 255,   0],\n",
      "        [  0, 255,   0],\n",
      "        ...,\n",
      "        [223, 220, 221],\n",
      "        [227, 224, 225],\n",
      "        [231, 228, 229]],\n",
      "\n",
      "       [[  0, 255,   0],\n",
      "        [  0, 255,   0],\n",
      "        [  0, 255,   0],\n",
      "        ...,\n",
      "        [243, 240, 241],\n",
      "        [248, 245, 246],\n",
      "        [253, 250, 251]],\n",
      "\n",
      "       ...,\n",
      "\n",
      "       [[135, 125, 111],\n",
      "        [131, 121, 107],\n",
      "        [129, 119, 105],\n",
      "        ...,\n",
      "        [103, 110, 103],\n",
      "        [105, 110, 103],\n",
      "        [105, 110, 103]],\n",
      "\n",
      "       [[133, 122, 111],\n",
      "        [129, 118, 107],\n",
      "        [129, 118, 107],\n",
      "        ...,\n",
      "        [103, 110, 103],\n",
      "        [105, 110, 103],\n",
      "        [105, 110, 103]],\n",
      "\n",
      "       [[129, 118, 107],\n",
      "        [127, 116, 105],\n",
      "        [128, 117, 106],\n",
      "        ...,\n",
      "        [103, 110, 103],\n",
      "        [105, 110, 103],\n",
      "        [104, 109, 102]]], dtype=uint8)\n",
      "orig_shape: (720, 1280)\n",
      "path: 'image0.jpg'\n",
      "probs: None\n",
      "save_dir: 'runs\\\\detect\\\\predict'\n",
      "speed: {'preprocess': 0.9932518005371094, 'inference': 8.939981460571289, 'postprocess': 0.9589195251464844}]\n",
      "\n",
      "0: 384x640 2 persons, 24.0ms\n",
      "Speed: 1.0ms preprocess, 24.0ms inference, 2.0ms postprocess per image at shape (1, 3, 384, 640)\n",
      "\n",
      "0: 96x128 (no detections), 9.5ms\n",
      "Speed: 1.0ms preprocess, 9.5ms inference, 0.0ms postprocess per image at shape (1, 3, 96, 128)\n",
      "predictions: [ultralytics.engine.results.Results object with attributes:\n",
      "\n",
      "boxes: ultralytics.engine.results.Boxes object\n",
      "keypoints: None\n",
      "masks: None\n",
      "names: {0: 'Hand_Raised'}\n",
      "obb: None\n",
      "orig_img: array([[[  0, 255,   0],\n",
      "        [  0, 255,   0],\n",
      "        [  0, 255,   0],\n",
      "        ...,\n",
      "        [  3,   0,   1],\n",
      "        [  2,   0,   0],\n",
      "        [  2,   0,   0]],\n",
      "\n",
      "       [[  0, 255,   0],\n",
      "        [  0, 255,   0],\n",
      "        [  0, 255,   0],\n",
      "        ...,\n",
      "        [223, 220, 221],\n",
      "        [227, 224, 225],\n",
      "        [231, 228, 229]],\n",
      "\n",
      "       [[  0, 255,   0],\n",
      "        [  0, 255,   0],\n",
      "        [  0, 255,   0],\n",
      "        ...,\n",
      "        [243, 240, 241],\n",
      "        [248, 245, 246],\n",
      "        [253, 250, 251]],\n",
      "\n",
      "       ...,\n",
      "\n",
      "       [[135, 125, 111],\n",
      "        [131, 121, 107],\n",
      "        [129, 119, 105],\n",
      "        ...,\n",
      "        [103, 110, 103],\n",
      "        [105, 110, 103],\n",
      "        [105, 110, 103]],\n",
      "\n",
      "       [[133, 122, 111],\n",
      "        [129, 118, 107],\n",
      "        [129, 118, 107],\n",
      "        ...,\n",
      "        [103, 110, 103],\n",
      "        [105, 110, 103],\n",
      "        [105, 110, 103]],\n",
      "\n",
      "       [[129, 118, 107],\n",
      "        [127, 116, 105],\n",
      "        [128, 117, 106],\n",
      "        ...,\n",
      "        [103, 110, 103],\n",
      "        [105, 110, 103],\n",
      "        [104, 109, 102]]], dtype=uint8)\n",
      "orig_shape: (720, 1280)\n",
      "path: 'image0.jpg'\n",
      "probs: None\n",
      "save_dir: 'runs\\\\detect\\\\predict'\n",
      "speed: {'preprocess': 0.99945068359375, 'inference': 9.450197219848633, 'postprocess': 0.0}]\n",
      "\n",
      "0: 384x640 2 persons, 21.7ms\n",
      "Speed: 1.0ms preprocess, 21.7ms inference, 1.0ms postprocess per image at shape (1, 3, 384, 640)\n",
      "\n",
      "0: 96x128 (no detections), 10.0ms\n",
      "Speed: 1.0ms preprocess, 10.0ms inference, 0.0ms postprocess per image at shape (1, 3, 96, 128)\n",
      "predictions: [ultralytics.engine.results.Results object with attributes:\n",
      "\n",
      "boxes: ultralytics.engine.results.Boxes object\n",
      "keypoints: None\n",
      "masks: None\n",
      "names: {0: 'Hand_Raised'}\n",
      "obb: None\n",
      "orig_img: array([[[  0, 255,   0],\n",
      "        [  0, 255,   0],\n",
      "        [  0, 255,   0],\n",
      "        ...,\n",
      "        [  3,   0,   1],\n",
      "        [  2,   0,   0],\n",
      "        [  3,   0,   1]],\n",
      "\n",
      "       [[  0, 255,   0],\n",
      "        [  0, 255,   0],\n",
      "        [  0, 255,   0],\n",
      "        ...,\n",
      "        [224, 221, 222],\n",
      "        [229, 226, 227],\n",
      "        [233, 230, 231]],\n",
      "\n",
      "       [[  0, 255,   0],\n",
      "        [  0, 255,   0],\n",
      "        [  0, 255,   0],\n",
      "        ...,\n",
      "        [244, 241, 242],\n",
      "        [250, 247, 248],\n",
      "        [255, 252, 253]],\n",
      "\n",
      "       ...,\n",
      "\n",
      "       [[135, 124, 113],\n",
      "        [130, 119, 108],\n",
      "        [129, 118, 107],\n",
      "        ...,\n",
      "        [101, 110, 104],\n",
      "        [101, 110, 104],\n",
      "        [102, 111, 105]],\n",
      "\n",
      "       [[135, 122, 113],\n",
      "        [129, 116, 107],\n",
      "        [130, 117, 108],\n",
      "        ...,\n",
      "        [101, 110, 104],\n",
      "        [101, 110, 104],\n",
      "        [102, 111, 105]],\n",
      "\n",
      "       [[132, 119, 110],\n",
      "        [129, 116, 107],\n",
      "        [129, 116, 107],\n",
      "        ...,\n",
      "        [101, 110, 104],\n",
      "        [101, 110, 104],\n",
      "        [102, 111, 105]]], dtype=uint8)\n",
      "orig_shape: (720, 1280)\n",
      "path: 'image0.jpg'\n",
      "probs: None\n",
      "save_dir: 'runs\\\\detect\\\\predict'\n",
      "speed: {'preprocess': 1.0068416595458984, 'inference': 9.953498840332031, 'postprocess': 0.0}]\n",
      "\n",
      "0: 384x640 2 persons, 21.1ms\n",
      "Speed: 1.0ms preprocess, 21.1ms inference, 2.0ms postprocess per image at shape (1, 3, 384, 640)\n",
      "\n",
      "0: 96x128 (no detections), 8.9ms\n",
      "Speed: 0.0ms preprocess, 8.9ms inference, 0.0ms postprocess per image at shape (1, 3, 96, 128)\n",
      "predictions: [ultralytics.engine.results.Results object with attributes:\n",
      "\n",
      "boxes: ultralytics.engine.results.Boxes object\n",
      "keypoints: None\n",
      "masks: None\n",
      "names: {0: 'Hand_Raised'}\n",
      "obb: None\n",
      "orig_img: array([[[  0, 255,   0],\n",
      "        [  0, 255,   0],\n",
      "        [  0, 255,   0],\n",
      "        ...,\n",
      "        [  3,   0,   1],\n",
      "        [  2,   0,   0],\n",
      "        [  3,   0,   1]],\n",
      "\n",
      "       [[  0, 255,   0],\n",
      "        [  0, 255,   0],\n",
      "        [  0, 255,   0],\n",
      "        ...,\n",
      "        [224, 221, 222],\n",
      "        [229, 226, 227],\n",
      "        [233, 230, 231]],\n",
      "\n",
      "       [[  0, 255,   0],\n",
      "        [  0, 255,   0],\n",
      "        [  0, 255,   0],\n",
      "        ...,\n",
      "        [244, 241, 242],\n",
      "        [250, 247, 248],\n",
      "        [255, 252, 253]],\n",
      "\n",
      "       ...,\n",
      "\n",
      "       [[135, 124, 113],\n",
      "        [130, 119, 108],\n",
      "        [129, 118, 107],\n",
      "        ...,\n",
      "        [101, 110, 104],\n",
      "        [101, 110, 104],\n",
      "        [102, 111, 105]],\n",
      "\n",
      "       [[135, 122, 113],\n",
      "        [129, 116, 107],\n",
      "        [130, 117, 108],\n",
      "        ...,\n",
      "        [101, 110, 104],\n",
      "        [101, 110, 104],\n",
      "        [102, 111, 105]],\n",
      "\n",
      "       [[132, 119, 110],\n",
      "        [129, 116, 107],\n",
      "        [129, 116, 107],\n",
      "        ...,\n",
      "        [101, 110, 104],\n",
      "        [101, 110, 104],\n",
      "        [102, 111, 105]]], dtype=uint8)\n",
      "orig_shape: (720, 1280)\n",
      "path: 'image0.jpg'\n",
      "probs: None\n",
      "save_dir: 'runs\\\\detect\\\\predict'\n",
      "speed: {'preprocess': 0.0, 'inference': 8.897781372070312, 'postprocess': 0.0}]\n",
      "\n",
      "0: 384x640 2 persons, 21.8ms\n",
      "Speed: 1.0ms preprocess, 21.8ms inference, 2.9ms postprocess per image at shape (1, 3, 384, 640)\n",
      "\n",
      "0: 96x128 (no detections), 18.6ms\n",
      "Speed: 0.0ms preprocess, 18.6ms inference, 0.0ms postprocess per image at shape (1, 3, 96, 128)\n",
      "predictions: [ultralytics.engine.results.Results object with attributes:\n",
      "\n",
      "boxes: ultralytics.engine.results.Boxes object\n",
      "keypoints: None\n",
      "masks: None\n",
      "names: {0: 'Hand_Raised'}\n",
      "obb: None\n",
      "orig_img: array([[[  0, 255,   0],\n",
      "        [  0, 255,   0],\n",
      "        [  0, 255,   0],\n",
      "        ...,\n",
      "        [  3,   0,   1],\n",
      "        [  2,   0,   0],\n",
      "        [  3,   0,   1]],\n",
      "\n",
      "       [[  0, 255,   0],\n",
      "        [  0, 255,   0],\n",
      "        [  0, 255,   0],\n",
      "        ...,\n",
      "        [224, 221, 222],\n",
      "        [229, 226, 227],\n",
      "        [233, 230, 231]],\n",
      "\n",
      "       [[  0, 255,   0],\n",
      "        [  0, 255,   0],\n",
      "        [  0, 255,   0],\n",
      "        ...,\n",
      "        [244, 241, 242],\n",
      "        [250, 247, 248],\n",
      "        [255, 252, 253]],\n",
      "\n",
      "       ...,\n",
      "\n",
      "       [[133, 122, 111],\n",
      "        [129, 118, 107],\n",
      "        [129, 118, 107],\n",
      "        ...,\n",
      "        [101, 110, 104],\n",
      "        [101, 110, 104],\n",
      "        [102, 111, 105]],\n",
      "\n",
      "       [[132, 119, 110],\n",
      "        [128, 115, 106],\n",
      "        [130, 117, 108],\n",
      "        ...,\n",
      "        [101, 110, 104],\n",
      "        [101, 110, 104],\n",
      "        [102, 111, 105]],\n",
      "\n",
      "       [[130, 117, 108],\n",
      "        [128, 115, 106],\n",
      "        [129, 116, 107],\n",
      "        ...,\n",
      "        [101, 110, 104],\n",
      "        [101, 110, 104],\n",
      "        [102, 111, 105]]], dtype=uint8)\n",
      "orig_shape: (720, 1280)\n",
      "path: 'image0.jpg'\n",
      "probs: None\n",
      "save_dir: 'runs\\\\detect\\\\predict'\n",
      "speed: {'preprocess': 0.0, 'inference': 18.6002254486084, 'postprocess': 0.0}]\n",
      "\n",
      "0: 384x640 2 persons, 20.4ms\n",
      "Speed: 1.0ms preprocess, 20.4ms inference, 2.0ms postprocess per image at shape (1, 3, 384, 640)\n",
      "\n",
      "0: 96x128 (no detections), 8.6ms\n",
      "Speed: 0.0ms preprocess, 8.6ms inference, 0.0ms postprocess per image at shape (1, 3, 96, 128)\n",
      "predictions: [ultralytics.engine.results.Results object with attributes:\n",
      "\n",
      "boxes: ultralytics.engine.results.Boxes object\n",
      "keypoints: None\n",
      "masks: None\n",
      "names: {0: 'Hand_Raised'}\n",
      "obb: None\n",
      "orig_img: array([[[  0, 255,   0],\n",
      "        [  0, 255,   0],\n",
      "        [  0, 255,   0],\n",
      "        ...,\n",
      "        [  3,   0,   1],\n",
      "        [  2,   0,   0],\n",
      "        [  3,   0,   1]],\n",
      "\n",
      "       [[  0, 255,   0],\n",
      "        [  0, 255,   0],\n",
      "        [  0, 255,   0],\n",
      "        ...,\n",
      "        [224, 221, 222],\n",
      "        [229, 226, 227],\n",
      "        [233, 230, 231]],\n",
      "\n",
      "       [[  0, 255,   0],\n",
      "        [  0, 255,   0],\n",
      "        [  0, 255,   0],\n",
      "        ...,\n",
      "        [244, 241, 242],\n",
      "        [250, 247, 248],\n",
      "        [255, 252, 253]],\n",
      "\n",
      "       ...,\n",
      "\n",
      "       [[134, 123, 112],\n",
      "        [129, 118, 107],\n",
      "        [129, 118, 107],\n",
      "        ...,\n",
      "        [101, 110, 104],\n",
      "        [101, 110, 104],\n",
      "        [102, 111, 105]],\n",
      "\n",
      "       [[133, 120, 111],\n",
      "        [128, 115, 106],\n",
      "        [130, 117, 108],\n",
      "        ...,\n",
      "        [101, 110, 104],\n",
      "        [101, 110, 104],\n",
      "        [102, 111, 105]],\n",
      "\n",
      "       [[131, 118, 109],\n",
      "        [128, 115, 106],\n",
      "        [129, 116, 107],\n",
      "        ...,\n",
      "        [101, 110, 104],\n",
      "        [101, 110, 104],\n",
      "        [102, 111, 105]]], dtype=uint8)\n",
      "orig_shape: (720, 1280)\n",
      "path: 'image0.jpg'\n",
      "probs: None\n",
      "save_dir: 'runs\\\\detect\\\\predict'\n",
      "speed: {'preprocess': 0.0, 'inference': 8.636713027954102, 'postprocess': 0.0}]\n",
      "\n",
      "0: 384x640 2 persons, 20.5ms\n",
      "Speed: 1.0ms preprocess, 20.5ms inference, 1.0ms postprocess per image at shape (1, 3, 384, 640)\n",
      "\n",
      "0: 96x128 (no detections), 9.2ms\n",
      "Speed: 0.0ms preprocess, 9.2ms inference, 0.0ms postprocess per image at shape (1, 3, 96, 128)\n",
      "predictions: [ultralytics.engine.results.Results object with attributes:\n",
      "\n",
      "boxes: ultralytics.engine.results.Boxes object\n",
      "keypoints: None\n",
      "masks: None\n",
      "names: {0: 'Hand_Raised'}\n",
      "obb: None\n",
      "orig_img: array([[[  0, 255,   0],\n",
      "        [  0, 255,   0],\n",
      "        [  0, 255,   0],\n",
      "        ...,\n",
      "        [  4,   0,   3],\n",
      "        [  3,   0,   2],\n",
      "        [  4,   0,   3]],\n",
      "\n",
      "       [[  0, 255,   0],\n",
      "        [  0, 255,   0],\n",
      "        [  0, 255,   0],\n",
      "        ...,\n",
      "        [223, 219, 222],\n",
      "        [227, 223, 226],\n",
      "        [232, 228, 231]],\n",
      "\n",
      "       [[  0, 255,   0],\n",
      "        [  0, 255,   0],\n",
      "        [  0, 255,   0],\n",
      "        ...,\n",
      "        [243, 239, 242],\n",
      "        [248, 244, 247],\n",
      "        [254, 250, 253]],\n",
      "\n",
      "       ...,\n",
      "\n",
      "       [[129, 122, 107],\n",
      "        [126, 119, 104],\n",
      "        [126, 119, 104],\n",
      "        ...,\n",
      "        [104, 110, 105],\n",
      "        [104, 111, 104],\n",
      "        [105, 112, 105]],\n",
      "\n",
      "       [[127, 118, 110],\n",
      "        [124, 115, 107],\n",
      "        [125, 116, 108],\n",
      "        ...,\n",
      "        [104, 110, 105],\n",
      "        [104, 111, 104],\n",
      "        [105, 112, 105]],\n",
      "\n",
      "       [[125, 116, 108],\n",
      "        [122, 113, 105],\n",
      "        [125, 116, 108],\n",
      "        ...,\n",
      "        [104, 110, 105],\n",
      "        [104, 111, 104],\n",
      "        [105, 112, 105]]], dtype=uint8)\n",
      "orig_shape: (720, 1280)\n",
      "path: 'image0.jpg'\n",
      "probs: None\n",
      "save_dir: 'runs\\\\detect\\\\predict'\n",
      "speed: {'preprocess': 0.0, 'inference': 9.196281433105469, 'postprocess': 0.0}]\n",
      "\n",
      "0: 384x640 2 persons, 25.3ms\n",
      "Speed: 1.0ms preprocess, 25.3ms inference, 1.0ms postprocess per image at shape (1, 3, 384, 640)\n",
      "\n",
      "0: 96x128 (no detections), 8.0ms\n",
      "Speed: 1.0ms preprocess, 8.0ms inference, 1.0ms postprocess per image at shape (1, 3, 96, 128)\n",
      "predictions: [ultralytics.engine.results.Results object with attributes:\n",
      "\n",
      "boxes: ultralytics.engine.results.Boxes object\n",
      "keypoints: None\n",
      "masks: None\n",
      "names: {0: 'Hand_Raised'}\n",
      "obb: None\n",
      "orig_img: array([[[  0, 255,   0],\n",
      "        [  0, 255,   0],\n",
      "        [  0, 255,   0],\n",
      "        ...,\n",
      "        [  4,   0,   3],\n",
      "        [  3,   0,   2],\n",
      "        [  4,   0,   3]],\n",
      "\n",
      "       [[  0, 255,   0],\n",
      "        [  0, 255,   0],\n",
      "        [  0, 255,   0],\n",
      "        ...,\n",
      "        [223, 219, 222],\n",
      "        [227, 223, 226],\n",
      "        [232, 228, 231]],\n",
      "\n",
      "       [[  0, 255,   0],\n",
      "        [  0, 255,   0],\n",
      "        [  0, 255,   0],\n",
      "        ...,\n",
      "        [243, 239, 242],\n",
      "        [248, 244, 247],\n",
      "        [254, 250, 253]],\n",
      "\n",
      "       ...,\n",
      "\n",
      "       [[129, 122, 107],\n",
      "        [126, 119, 104],\n",
      "        [126, 119, 104],\n",
      "        ...,\n",
      "        [103, 109, 104],\n",
      "        [103, 110, 103],\n",
      "        [104, 111, 104]],\n",
      "\n",
      "       [[127, 118, 110],\n",
      "        [124, 115, 107],\n",
      "        [125, 116, 108],\n",
      "        ...,\n",
      "        [103, 109, 104],\n",
      "        [103, 110, 103],\n",
      "        [104, 111, 104]],\n",
      "\n",
      "       [[125, 116, 108],\n",
      "        [122, 113, 105],\n",
      "        [125, 116, 108],\n",
      "        ...,\n",
      "        [103, 109, 104],\n",
      "        [103, 110, 103],\n",
      "        [104, 111, 104]]], dtype=uint8)\n",
      "orig_shape: (720, 1280)\n",
      "path: 'image0.jpg'\n",
      "probs: None\n",
      "save_dir: 'runs\\\\detect\\\\predict'\n",
      "speed: {'preprocess': 1.0030269622802734, 'inference': 8.034706115722656, 'postprocess': 1.0123252868652344}]\n",
      "\n",
      "0: 384x640 2 persons, 25.5ms\n",
      "Speed: 1.0ms preprocess, 25.5ms inference, 1.0ms postprocess per image at shape (1, 3, 384, 640)\n",
      "\n",
      "0: 96x128 (no detections), 13.0ms\n",
      "Speed: 0.0ms preprocess, 13.0ms inference, 0.0ms postprocess per image at shape (1, 3, 96, 128)\n",
      "predictions: [ultralytics.engine.results.Results object with attributes:\n",
      "\n",
      "boxes: ultralytics.engine.results.Boxes object\n",
      "keypoints: None\n",
      "masks: None\n",
      "names: {0: 'Hand_Raised'}\n",
      "obb: None\n",
      "orig_img: array([[[  0, 255,   0],\n",
      "        [  0, 255,   0],\n",
      "        [  0, 255,   0],\n",
      "        ...,\n",
      "        [  1,   0,   2],\n",
      "        [  0,   0,   1],\n",
      "        [  1,   0,   2]],\n",
      "\n",
      "       [[  0, 255,   0],\n",
      "        [  0, 255,   0],\n",
      "        [  0, 255,   0],\n",
      "        ...,\n",
      "        [222, 221, 223],\n",
      "        [227, 226, 228],\n",
      "        [231, 230, 232]],\n",
      "\n",
      "       [[  0, 255,   0],\n",
      "        [  0, 255,   0],\n",
      "        [  0, 255,   0],\n",
      "        ...,\n",
      "        [242, 241, 243],\n",
      "        [248, 247, 249],\n",
      "        [253, 252, 254]],\n",
      "\n",
      "       ...,\n",
      "\n",
      "       [[129, 124, 109],\n",
      "        [125, 120, 105],\n",
      "        [125, 120, 105],\n",
      "        ...,\n",
      "        [103, 108, 106],\n",
      "        [103, 109, 104],\n",
      "        [104, 110, 105]],\n",
      "\n",
      "       [[124, 117, 109],\n",
      "        [120, 113, 105],\n",
      "        [122, 115, 107],\n",
      "        ...,\n",
      "        [103, 108, 106],\n",
      "        [103, 109, 104],\n",
      "        [104, 110, 105]],\n",
      "\n",
      "       [[123, 116, 108],\n",
      "        [120, 113, 105],\n",
      "        [123, 116, 108],\n",
      "        ...,\n",
      "        [103, 108, 106],\n",
      "        [103, 109, 104],\n",
      "        [104, 110, 105]]], dtype=uint8)\n",
      "orig_shape: (720, 1280)\n",
      "path: 'image0.jpg'\n",
      "probs: None\n",
      "save_dir: 'runs\\\\detect\\\\predict'\n",
      "speed: {'preprocess': 0.0, 'inference': 12.950658798217773, 'postprocess': 0.0}]\n",
      "\n",
      "0: 384x640 2 persons, 24.3ms\n",
      "Speed: 1.0ms preprocess, 24.3ms inference, 2.0ms postprocess per image at shape (1, 3, 384, 640)\n",
      "\n",
      "0: 96x128 (no detections), 9.2ms\n",
      "Speed: 0.0ms preprocess, 9.2ms inference, 0.0ms postprocess per image at shape (1, 3, 96, 128)\n",
      "predictions: [ultralytics.engine.results.Results object with attributes:\n",
      "\n",
      "boxes: ultralytics.engine.results.Boxes object\n",
      "keypoints: None\n",
      "masks: None\n",
      "names: {0: 'Hand_Raised'}\n",
      "obb: None\n",
      "orig_img: array([[[  0, 255,   0],\n",
      "        [  0, 255,   0],\n",
      "        [  0, 255,   0],\n",
      "        ...,\n",
      "        [  1,   0,   2],\n",
      "        [  0,   0,   1],\n",
      "        [  1,   0,   2]],\n",
      "\n",
      "       [[  0, 255,   0],\n",
      "        [  0, 255,   0],\n",
      "        [  0, 255,   0],\n",
      "        ...,\n",
      "        [222, 221, 223],\n",
      "        [227, 226, 228],\n",
      "        [231, 230, 232]],\n",
      "\n",
      "       [[  0, 255,   0],\n",
      "        [  0, 255,   0],\n",
      "        [  0, 255,   0],\n",
      "        ...,\n",
      "        [242, 241, 243],\n",
      "        [248, 247, 249],\n",
      "        [253, 252, 254]],\n",
      "\n",
      "       ...,\n",
      "\n",
      "       [[129, 124, 109],\n",
      "        [125, 120, 105],\n",
      "        [125, 120, 105],\n",
      "        ...,\n",
      "        [103, 109, 104],\n",
      "        [103, 110, 103],\n",
      "        [104, 111, 104]],\n",
      "\n",
      "       [[124, 117, 109],\n",
      "        [120, 113, 105],\n",
      "        [122, 115, 107],\n",
      "        ...,\n",
      "        [103, 109, 104],\n",
      "        [103, 110, 103],\n",
      "        [104, 111, 104]],\n",
      "\n",
      "       [[123, 116, 108],\n",
      "        [120, 113, 105],\n",
      "        [123, 116, 108],\n",
      "        ...,\n",
      "        [103, 109, 104],\n",
      "        [103, 110, 103],\n",
      "        [104, 111, 104]]], dtype=uint8)\n",
      "orig_shape: (720, 1280)\n",
      "path: 'image0.jpg'\n",
      "probs: None\n",
      "save_dir: 'runs\\\\detect\\\\predict'\n",
      "speed: {'preprocess': 0.0, 'inference': 9.240865707397461, 'postprocess': 0.0}]\n",
      "\n",
      "0: 384x640 2 persons, 24.3ms\n",
      "Speed: 1.0ms preprocess, 24.3ms inference, 2.1ms postprocess per image at shape (1, 3, 384, 640)\n",
      "\n",
      "0: 96x128 (no detections), 8.1ms\n",
      "Speed: 1.0ms preprocess, 8.1ms inference, 1.0ms postprocess per image at shape (1, 3, 96, 128)\n",
      "predictions: [ultralytics.engine.results.Results object with attributes:\n",
      "\n",
      "boxes: ultralytics.engine.results.Boxes object\n",
      "keypoints: None\n",
      "masks: None\n",
      "names: {0: 'Hand_Raised'}\n",
      "obb: None\n",
      "orig_img: array([[[  0, 255,   0],\n",
      "        [  0, 255,   0],\n",
      "        [  0, 255,   0],\n",
      "        ...,\n",
      "        [  2,   1,   3],\n",
      "        [  1,   0,   2],\n",
      "        [  2,   1,   3]],\n",
      "\n",
      "       [[  0, 255,   0],\n",
      "        [  0, 255,   0],\n",
      "        [  0, 255,   0],\n",
      "        ...,\n",
      "        [221, 220, 222],\n",
      "        [225, 224, 226],\n",
      "        [230, 229, 231]],\n",
      "\n",
      "       [[  0, 255,   0],\n",
      "        [  0, 255,   0],\n",
      "        [  0, 255,   0],\n",
      "        ...,\n",
      "        [241, 240, 242],\n",
      "        [246, 245, 247],\n",
      "        [252, 251, 253]],\n",
      "\n",
      "       ...,\n",
      "\n",
      "       [[129, 124, 109],\n",
      "        [125, 120, 105],\n",
      "        [125, 120, 105],\n",
      "        ...,\n",
      "        [103, 108, 106],\n",
      "        [103, 109, 104],\n",
      "        [104, 110, 105]],\n",
      "\n",
      "       [[124, 117, 109],\n",
      "        [120, 113, 105],\n",
      "        [122, 115, 107],\n",
      "        ...,\n",
      "        [103, 108, 106],\n",
      "        [103, 109, 104],\n",
      "        [104, 110, 105]],\n",
      "\n",
      "       [[123, 116, 108],\n",
      "        [120, 113, 105],\n",
      "        [123, 116, 108],\n",
      "        ...,\n",
      "        [103, 108, 106],\n",
      "        [103, 109, 104],\n",
      "        [104, 110, 105]]], dtype=uint8)\n",
      "orig_shape: (720, 1280)\n",
      "path: 'image0.jpg'\n",
      "probs: None\n",
      "save_dir: 'runs\\\\detect\\\\predict'\n",
      "speed: {'preprocess': 0.9992122650146484, 'inference': 8.124589920043945, 'postprocess': 1.0039806365966797}]\n",
      "\n",
      "0: 384x640 2 persons, 24.9ms\n",
      "Speed: 0.9ms preprocess, 24.9ms inference, 2.0ms postprocess per image at shape (1, 3, 384, 640)\n",
      "\n",
      "0: 96x128 (no detections), 10.7ms\n",
      "Speed: 0.0ms preprocess, 10.7ms inference, 1.0ms postprocess per image at shape (1, 3, 96, 128)\n",
      "predictions: [ultralytics.engine.results.Results object with attributes:\n",
      "\n",
      "boxes: ultralytics.engine.results.Boxes object\n",
      "keypoints: None\n",
      "masks: None\n",
      "names: {0: 'Hand_Raised'}\n",
      "obb: None\n",
      "orig_img: array([[[  0, 255,   0],\n",
      "        [  0, 255,   0],\n",
      "        [  0, 255,   0],\n",
      "        ...,\n",
      "        [  2,   1,   3],\n",
      "        [  1,   0,   2],\n",
      "        [  2,   1,   3]],\n",
      "\n",
      "       [[  0, 255,   0],\n",
      "        [  0, 255,   0],\n",
      "        [  0, 255,   0],\n",
      "        ...,\n",
      "        [221, 220, 222],\n",
      "        [225, 224, 226],\n",
      "        [230, 229, 231]],\n",
      "\n",
      "       [[  0, 255,   0],\n",
      "        [  0, 255,   0],\n",
      "        [  0, 255,   0],\n",
      "        ...,\n",
      "        [241, 240, 242],\n",
      "        [246, 245, 247],\n",
      "        [252, 251, 253]],\n",
      "\n",
      "       ...,\n",
      "\n",
      "       [[129, 124, 109],\n",
      "        [125, 120, 105],\n",
      "        [125, 120, 105],\n",
      "        ...,\n",
      "        [103, 108, 106],\n",
      "        [103, 109, 104],\n",
      "        [104, 110, 105]],\n",
      "\n",
      "       [[124, 117, 109],\n",
      "        [120, 113, 105],\n",
      "        [122, 115, 107],\n",
      "        ...,\n",
      "        [103, 108, 106],\n",
      "        [103, 109, 104],\n",
      "        [104, 110, 105]],\n",
      "\n",
      "       [[123, 116, 108],\n",
      "        [120, 113, 105],\n",
      "        [123, 116, 108],\n",
      "        ...,\n",
      "        [103, 108, 106],\n",
      "        [103, 109, 104],\n",
      "        [104, 110, 105]]], dtype=uint8)\n",
      "orig_shape: (720, 1280)\n",
      "path: 'image0.jpg'\n",
      "probs: None\n",
      "save_dir: 'runs\\\\detect\\\\predict'\n",
      "speed: {'preprocess': 0.0, 'inference': 10.658025741577148, 'postprocess': 0.9944438934326172}]\n",
      "\n",
      "0: 384x640 2 persons, 23.6ms\n",
      "Speed: 1.0ms preprocess, 23.6ms inference, 2.0ms postprocess per image at shape (1, 3, 384, 640)\n",
      "\n",
      "0: 96x128 (no detections), 9.5ms\n",
      "Speed: 0.0ms preprocess, 9.5ms inference, 1.1ms postprocess per image at shape (1, 3, 96, 128)\n",
      "predictions: [ultralytics.engine.results.Results object with attributes:\n",
      "\n",
      "boxes: ultralytics.engine.results.Boxes object\n",
      "keypoints: None\n",
      "masks: None\n",
      "names: {0: 'Hand_Raised'}\n",
      "obb: None\n",
      "orig_img: array([[[  0, 255,   0],\n",
      "        [  0, 255,   0],\n",
      "        [  0, 255,   0],\n",
      "        ...,\n",
      "        [  3,   0,   2],\n",
      "        [  2,   0,   1],\n",
      "        [  3,   0,   2]],\n",
      "\n",
      "       [[  0, 255,   0],\n",
      "        [  0, 255,   0],\n",
      "        [  0, 255,   0],\n",
      "        ...,\n",
      "        [223, 219, 222],\n",
      "        [227, 223, 226],\n",
      "        [232, 228, 231]],\n",
      "\n",
      "       [[  0, 255,   0],\n",
      "        [  0, 255,   0],\n",
      "        [  0, 255,   0],\n",
      "        ...,\n",
      "        [244, 240, 243],\n",
      "        [250, 246, 249],\n",
      "        [255, 251, 254]],\n",
      "\n",
      "       ...,\n",
      "\n",
      "       [[131, 125, 108],\n",
      "        [127, 121, 104],\n",
      "        [127, 121, 104],\n",
      "        ...,\n",
      "        [103, 108, 106],\n",
      "        [103, 109, 104],\n",
      "        [104, 110, 105]],\n",
      "\n",
      "       [[126, 116, 111],\n",
      "        [122, 112, 107],\n",
      "        [124, 114, 109],\n",
      "        ...,\n",
      "        [103, 108, 106],\n",
      "        [103, 109, 104],\n",
      "        [104, 110, 105]],\n",
      "\n",
      "       [[124, 114, 109],\n",
      "        [121, 111, 106],\n",
      "        [124, 114, 109],\n",
      "        ...,\n",
      "        [103, 108, 106],\n",
      "        [103, 109, 104],\n",
      "        [104, 110, 105]]], dtype=uint8)\n",
      "orig_shape: (720, 1280)\n",
      "path: 'image0.jpg'\n",
      "probs: None\n",
      "save_dir: 'runs\\\\detect\\\\predict'\n",
      "speed: {'preprocess': 0.0, 'inference': 9.52911376953125, 'postprocess': 1.12152099609375}]\n",
      "\n",
      "0: 384x640 2 persons, 28.6ms\n",
      "Speed: 1.0ms preprocess, 28.6ms inference, 2.0ms postprocess per image at shape (1, 3, 384, 640)\n",
      "\n",
      "0: 96x128 (no detections), 9.0ms\n",
      "Speed: 0.0ms preprocess, 9.0ms inference, 0.0ms postprocess per image at shape (1, 3, 96, 128)\n",
      "predictions: [ultralytics.engine.results.Results object with attributes:\n",
      "\n",
      "boxes: ultralytics.engine.results.Boxes object\n",
      "keypoints: None\n",
      "masks: None\n",
      "names: {0: 'Hand_Raised'}\n",
      "obb: None\n",
      "orig_img: array([[[  0, 255,   0],\n",
      "        [  0, 255,   0],\n",
      "        [  0, 255,   0],\n",
      "        ...,\n",
      "        [  3,   0,   2],\n",
      "        [  2,   0,   1],\n",
      "        [  3,   0,   2]],\n",
      "\n",
      "       [[  0, 255,   0],\n",
      "        [  0, 255,   0],\n",
      "        [  0, 255,   0],\n",
      "        ...,\n",
      "        [223, 219, 222],\n",
      "        [227, 223, 226],\n",
      "        [232, 228, 231]],\n",
      "\n",
      "       [[  0, 255,   0],\n",
      "        [  0, 255,   0],\n",
      "        [  0, 255,   0],\n",
      "        ...,\n",
      "        [244, 240, 243],\n",
      "        [250, 246, 249],\n",
      "        [255, 251, 254]],\n",
      "\n",
      "       ...,\n",
      "\n",
      "       [[131, 125, 108],\n",
      "        [127, 121, 104],\n",
      "        [127, 121, 104],\n",
      "        ...,\n",
      "        [103, 108, 106],\n",
      "        [103, 109, 104],\n",
      "        [104, 110, 105]],\n",
      "\n",
      "       [[126, 116, 111],\n",
      "        [122, 112, 107],\n",
      "        [124, 114, 109],\n",
      "        ...,\n",
      "        [103, 108, 106],\n",
      "        [103, 109, 104],\n",
      "        [104, 110, 105]],\n",
      "\n",
      "       [[124, 114, 109],\n",
      "        [121, 111, 106],\n",
      "        [124, 114, 109],\n",
      "        ...,\n",
      "        [103, 108, 106],\n",
      "        [103, 109, 104],\n",
      "        [104, 110, 105]]], dtype=uint8)\n",
      "orig_shape: (720, 1280)\n",
      "path: 'image0.jpg'\n",
      "probs: None\n",
      "save_dir: 'runs\\\\detect\\\\predict'\n",
      "speed: {'preprocess': 0.0, 'inference': 9.017229080200195, 'postprocess': 0.0}]\n",
      "\n",
      "0: 384x640 2 persons, 25.7ms\n",
      "Speed: 2.0ms preprocess, 25.7ms inference, 3.0ms postprocess per image at shape (1, 3, 384, 640)\n",
      "\n",
      "0: 96x128 (no detections), 12.0ms\n",
      "Speed: 1.0ms preprocess, 12.0ms inference, 0.0ms postprocess per image at shape (1, 3, 96, 128)\n",
      "predictions: [ultralytics.engine.results.Results object with attributes:\n",
      "\n",
      "boxes: ultralytics.engine.results.Boxes object\n",
      "keypoints: None\n",
      "masks: None\n",
      "names: {0: 'Hand_Raised'}\n",
      "obb: None\n",
      "orig_img: array([[[  0, 255,   0],\n",
      "        [  0, 255,   0],\n",
      "        [  0, 255,   0],\n",
      "        ...,\n",
      "        [  3,   0,   2],\n",
      "        [  2,   0,   1],\n",
      "        [  3,   0,   2]],\n",
      "\n",
      "       [[  0, 255,   0],\n",
      "        [  0, 255,   0],\n",
      "        [  0, 255,   0],\n",
      "        ...,\n",
      "        [223, 219, 222],\n",
      "        [227, 223, 226],\n",
      "        [232, 228, 231]],\n",
      "\n",
      "       [[  0, 255,   0],\n",
      "        [  0, 255,   0],\n",
      "        [  0, 255,   0],\n",
      "        ...,\n",
      "        [244, 240, 243],\n",
      "        [250, 246, 249],\n",
      "        [255, 251, 254]],\n",
      "\n",
      "       ...,\n",
      "\n",
      "       [[131, 125, 108],\n",
      "        [127, 121, 104],\n",
      "        [127, 121, 104],\n",
      "        ...,\n",
      "        [103, 108, 106],\n",
      "        [103, 109, 104],\n",
      "        [104, 110, 105]],\n",
      "\n",
      "       [[126, 116, 111],\n",
      "        [122, 112, 107],\n",
      "        [124, 114, 109],\n",
      "        ...,\n",
      "        [103, 108, 106],\n",
      "        [103, 109, 104],\n",
      "        [104, 110, 105]],\n",
      "\n",
      "       [[124, 114, 109],\n",
      "        [121, 111, 106],\n",
      "        [124, 114, 109],\n",
      "        ...,\n",
      "        [103, 108, 106],\n",
      "        [103, 109, 104],\n",
      "        [104, 110, 105]]], dtype=uint8)\n",
      "orig_shape: (720, 1280)\n",
      "path: 'image0.jpg'\n",
      "probs: None\n",
      "save_dir: 'runs\\\\detect\\\\predict'\n",
      "speed: {'preprocess': 1.0004043579101562, 'inference': 11.999845504760742, 'postprocess': 0.0}]\n",
      "\n",
      "0: 384x640 2 persons, 21.0ms\n",
      "Speed: 0.9ms preprocess, 21.0ms inference, 1.0ms postprocess per image at shape (1, 3, 384, 640)\n",
      "\n",
      "0: 96x128 (no detections), 7.4ms\n",
      "Speed: 1.0ms preprocess, 7.4ms inference, 1.0ms postprocess per image at shape (1, 3, 96, 128)\n",
      "predictions: [ultralytics.engine.results.Results object with attributes:\n",
      "\n",
      "boxes: ultralytics.engine.results.Boxes object\n",
      "keypoints: None\n",
      "masks: None\n",
      "names: {0: 'Hand_Raised'}\n",
      "obb: None\n",
      "orig_img: array([[[  0, 255,   0],\n",
      "        [  0, 255,   0],\n",
      "        [  0, 255,   0],\n",
      "        ...,\n",
      "        [  3,   0,   2],\n",
      "        [  2,   0,   1],\n",
      "        [  3,   0,   2]],\n",
      "\n",
      "       [[  0, 255,   0],\n",
      "        [  0, 255,   0],\n",
      "        [  0, 255,   0],\n",
      "        ...,\n",
      "        [223, 219, 222],\n",
      "        [227, 223, 226],\n",
      "        [232, 228, 231]],\n",
      "\n",
      "       [[  0, 255,   0],\n",
      "        [  0, 255,   0],\n",
      "        [  0, 255,   0],\n",
      "        ...,\n",
      "        [244, 240, 243],\n",
      "        [250, 246, 249],\n",
      "        [255, 251, 254]],\n",
      "\n",
      "       ...,\n",
      "\n",
      "       [[131, 125, 108],\n",
      "        [127, 121, 104],\n",
      "        [127, 121, 104],\n",
      "        ...,\n",
      "        [103, 108, 106],\n",
      "        [103, 109, 104],\n",
      "        [104, 110, 105]],\n",
      "\n",
      "       [[126, 116, 111],\n",
      "        [122, 112, 107],\n",
      "        [124, 114, 109],\n",
      "        ...,\n",
      "        [103, 108, 106],\n",
      "        [103, 109, 104],\n",
      "        [104, 110, 105]],\n",
      "\n",
      "       [[124, 114, 109],\n",
      "        [121, 111, 106],\n",
      "        [124, 114, 109],\n",
      "        ...,\n",
      "        [103, 108, 106],\n",
      "        [103, 109, 104],\n",
      "        [104, 110, 105]]], dtype=uint8)\n",
      "orig_shape: (720, 1280)\n",
      "path: 'image0.jpg'\n",
      "probs: None\n",
      "save_dir: 'runs\\\\detect\\\\predict'\n",
      "speed: {'preprocess': 1.009225845336914, 'inference': 7.442951202392578, 'postprocess': 1.0068416595458984}]\n",
      "\n",
      "0: 384x640 2 persons, 20.3ms\n",
      "Speed: 1.0ms preprocess, 20.3ms inference, 2.0ms postprocess per image at shape (1, 3, 384, 640)\n",
      "\n",
      "0: 96x128 (no detections), 8.0ms\n",
      "Speed: 1.0ms preprocess, 8.0ms inference, 0.0ms postprocess per image at shape (1, 3, 96, 128)\n",
      "predictions: [ultralytics.engine.results.Results object with attributes:\n",
      "\n",
      "boxes: ultralytics.engine.results.Boxes object\n",
      "keypoints: None\n",
      "masks: None\n",
      "names: {0: 'Hand_Raised'}\n",
      "obb: None\n",
      "orig_img: array([[[  0, 255,   0],\n",
      "        [  0, 255,   0],\n",
      "        [  0, 255,   0],\n",
      "        ...,\n",
      "        [  3,   0,   2],\n",
      "        [  2,   0,   1],\n",
      "        [  3,   0,   2]],\n",
      "\n",
      "       [[  0, 255,   0],\n",
      "        [  0, 255,   0],\n",
      "        [  0, 255,   0],\n",
      "        ...,\n",
      "        [223, 219, 222],\n",
      "        [227, 223, 226],\n",
      "        [232, 228, 231]],\n",
      "\n",
      "       [[  0, 255,   0],\n",
      "        [  0, 255,   0],\n",
      "        [  0, 255,   0],\n",
      "        ...,\n",
      "        [244, 240, 243],\n",
      "        [250, 246, 249],\n",
      "        [255, 251, 254]],\n",
      "\n",
      "       ...,\n",
      "\n",
      "       [[131, 125, 108],\n",
      "        [127, 121, 104],\n",
      "        [127, 121, 104],\n",
      "        ...,\n",
      "        [103, 108, 106],\n",
      "        [103, 109, 104],\n",
      "        [104, 110, 105]],\n",
      "\n",
      "       [[126, 116, 111],\n",
      "        [122, 112, 107],\n",
      "        [124, 114, 109],\n",
      "        ...,\n",
      "        [103, 108, 106],\n",
      "        [103, 109, 104],\n",
      "        [104, 110, 105]],\n",
      "\n",
      "       [[124, 114, 109],\n",
      "        [121, 111, 106],\n",
      "        [124, 114, 109],\n",
      "        ...,\n",
      "        [103, 108, 106],\n",
      "        [103, 109, 104],\n",
      "        [104, 110, 105]]], dtype=uint8)\n",
      "orig_shape: (720, 1280)\n",
      "path: 'image0.jpg'\n",
      "probs: None\n",
      "save_dir: 'runs\\\\detect\\\\predict'\n",
      "speed: {'preprocess': 0.9992122650146484, 'inference': 7.955074310302734, 'postprocess': 0.0}]\n",
      "\n",
      "0: 384x640 2 persons, 20.0ms\n",
      "Speed: 0.0ms preprocess, 20.0ms inference, 1.0ms postprocess per image at shape (1, 3, 384, 640)\n",
      "\n",
      "0: 96x128 (no detections), 10.9ms\n",
      "Speed: 0.0ms preprocess, 10.9ms inference, 0.0ms postprocess per image at shape (1, 3, 96, 128)\n",
      "predictions: [ultralytics.engine.results.Results object with attributes:\n",
      "\n",
      "boxes: ultralytics.engine.results.Boxes object\n",
      "keypoints: None\n",
      "masks: None\n",
      "names: {0: 'Hand_Raised'}\n",
      "obb: None\n",
      "orig_img: array([[[  0, 255,   0],\n",
      "        [  0, 255,   0],\n",
      "        [  0, 255,   0],\n",
      "        ...,\n",
      "        [  4,   0,   3],\n",
      "        [  2,   0,   1],\n",
      "        [  2,   0,   1]],\n",
      "\n",
      "       [[  0, 255,   0],\n",
      "        [  0, 255,   0],\n",
      "        [  0, 255,   0],\n",
      "        ...,\n",
      "        [224, 220, 223],\n",
      "        [230, 226, 229],\n",
      "        [232, 228, 231]],\n",
      "\n",
      "       [[  0, 255,   0],\n",
      "        [  0, 255,   0],\n",
      "        [  0, 255,   0],\n",
      "        ...,\n",
      "        [243, 239, 242],\n",
      "        [252, 248, 251],\n",
      "        [255, 251, 254]],\n",
      "\n",
      "       ...,\n",
      "\n",
      "       [[127, 122, 107],\n",
      "        [125, 120, 105],\n",
      "        [127, 122, 107],\n",
      "        ...,\n",
      "        [103, 108, 106],\n",
      "        [105, 111, 106],\n",
      "        [104, 110, 105]],\n",
      "\n",
      "       [[123, 115, 110],\n",
      "        [122, 114, 109],\n",
      "        [123, 115, 110],\n",
      "        ...,\n",
      "        [102, 107, 105],\n",
      "        [104, 110, 105],\n",
      "        [103, 109, 104]],\n",
      "\n",
      "       [[122, 114, 109],\n",
      "        [119, 111, 106],\n",
      "        [120, 112, 107],\n",
      "        ...,\n",
      "        [102, 107, 105],\n",
      "        [104, 110, 105],\n",
      "        [103, 109, 104]]], dtype=uint8)\n",
      "orig_shape: (720, 1280)\n",
      "path: 'image0.jpg'\n",
      "probs: None\n",
      "save_dir: 'runs\\\\detect\\\\predict'\n",
      "speed: {'preprocess': 0.0, 'inference': 10.947465896606445, 'postprocess': 0.0}]\n",
      "\n",
      "0: 384x640 2 persons, 22.6ms\n",
      "Speed: 1.0ms preprocess, 22.6ms inference, 2.1ms postprocess per image at shape (1, 3, 384, 640)\n",
      "\n",
      "0: 96x128 (no detections), 10.0ms\n",
      "Speed: 1.1ms preprocess, 10.0ms inference, 0.0ms postprocess per image at shape (1, 3, 96, 128)\n",
      "predictions: [ultralytics.engine.results.Results object with attributes:\n",
      "\n",
      "boxes: ultralytics.engine.results.Boxes object\n",
      "keypoints: None\n",
      "masks: None\n",
      "names: {0: 'Hand_Raised'}\n",
      "obb: None\n",
      "orig_img: array([[[  0, 255,   0],\n",
      "        [  0, 255,   0],\n",
      "        [  0, 255,   0],\n",
      "        ...,\n",
      "        [  4,   0,   3],\n",
      "        [  2,   0,   1],\n",
      "        [  2,   0,   1]],\n",
      "\n",
      "       [[  0, 255,   0],\n",
      "        [  0, 255,   0],\n",
      "        [  0, 255,   0],\n",
      "        ...,\n",
      "        [224, 220, 223],\n",
      "        [230, 226, 229],\n",
      "        [232, 228, 231]],\n",
      "\n",
      "       [[  0, 255,   0],\n",
      "        [  0, 255,   0],\n",
      "        [  0, 255,   0],\n",
      "        ...,\n",
      "        [243, 239, 242],\n",
      "        [252, 248, 251],\n",
      "        [255, 251, 254]],\n",
      "\n",
      "       ...,\n",
      "\n",
      "       [[127, 122, 107],\n",
      "        [125, 120, 105],\n",
      "        [127, 122, 107],\n",
      "        ...,\n",
      "        [103, 108, 106],\n",
      "        [105, 111, 106],\n",
      "        [104, 110, 105]],\n",
      "\n",
      "       [[123, 115, 110],\n",
      "        [122, 114, 109],\n",
      "        [123, 115, 110],\n",
      "        ...,\n",
      "        [102, 107, 105],\n",
      "        [104, 110, 105],\n",
      "        [103, 109, 104]],\n",
      "\n",
      "       [[122, 114, 109],\n",
      "        [119, 111, 106],\n",
      "        [120, 112, 107],\n",
      "        ...,\n",
      "        [102, 107, 105],\n",
      "        [104, 110, 105],\n",
      "        [103, 109, 104]]], dtype=uint8)\n",
      "orig_shape: (720, 1280)\n",
      "path: 'image0.jpg'\n",
      "probs: None\n",
      "save_dir: 'runs\\\\detect\\\\predict'\n",
      "speed: {'preprocess': 1.0805130004882812, 'inference': 9.996175765991211, 'postprocess': 0.0}]\n",
      "\n",
      "0: 384x640 2 persons, 25.0ms\n",
      "Speed: 0.0ms preprocess, 25.0ms inference, 1.0ms postprocess per image at shape (1, 3, 384, 640)\n",
      "\n",
      "0: 96x128 (no detections), 7.0ms\n",
      "Speed: 1.0ms preprocess, 7.0ms inference, 1.0ms postprocess per image at shape (1, 3, 96, 128)\n",
      "predictions: [ultralytics.engine.results.Results object with attributes:\n",
      "\n",
      "boxes: ultralytics.engine.results.Boxes object\n",
      "keypoints: None\n",
      "masks: None\n",
      "names: {0: 'Hand_Raised'}\n",
      "obb: None\n",
      "orig_img: array([[[  0, 255,   0],\n",
      "        [  0, 255,   0],\n",
      "        [  0, 255,   0],\n",
      "        ...,\n",
      "        [  4,   0,   3],\n",
      "        [  2,   0,   1],\n",
      "        [  2,   0,   1]],\n",
      "\n",
      "       [[  0, 255,   0],\n",
      "        [  0, 255,   0],\n",
      "        [  0, 255,   0],\n",
      "        ...,\n",
      "        [224, 220, 223],\n",
      "        [230, 226, 229],\n",
      "        [232, 228, 231]],\n",
      "\n",
      "       [[  0, 255,   0],\n",
      "        [  0, 255,   0],\n",
      "        [  0, 255,   0],\n",
      "        ...,\n",
      "        [243, 239, 242],\n",
      "        [252, 248, 251],\n",
      "        [255, 251, 254]],\n",
      "\n",
      "       ...,\n",
      "\n",
      "       [[127, 122, 107],\n",
      "        [125, 120, 105],\n",
      "        [127, 122, 107],\n",
      "        ...,\n",
      "        [103, 108, 106],\n",
      "        [105, 111, 106],\n",
      "        [104, 110, 105]],\n",
      "\n",
      "       [[123, 115, 110],\n",
      "        [122, 114, 109],\n",
      "        [123, 115, 110],\n",
      "        ...,\n",
      "        [102, 107, 105],\n",
      "        [104, 110, 105],\n",
      "        [103, 109, 104]],\n",
      "\n",
      "       [[122, 114, 109],\n",
      "        [119, 111, 106],\n",
      "        [120, 112, 107],\n",
      "        ...,\n",
      "        [102, 107, 105],\n",
      "        [104, 110, 105],\n",
      "        [103, 109, 104]]], dtype=uint8)\n",
      "orig_shape: (720, 1280)\n",
      "path: 'image0.jpg'\n",
      "probs: None\n",
      "save_dir: 'runs\\\\detect\\\\predict'\n",
      "speed: {'preprocess': 0.9913444519042969, 'inference': 7.007122039794922, 'postprocess': 0.9927749633789062}]\n",
      "\n",
      "0: 384x640 2 persons, 26.0ms\n",
      "Speed: 1.0ms preprocess, 26.0ms inference, 1.0ms postprocess per image at shape (1, 3, 384, 640)\n",
      "\n",
      "0: 96x128 (no detections), 9.0ms\n",
      "Speed: 0.0ms preprocess, 9.0ms inference, 0.0ms postprocess per image at shape (1, 3, 96, 128)\n",
      "predictions: [ultralytics.engine.results.Results object with attributes:\n",
      "\n",
      "boxes: ultralytics.engine.results.Boxes object\n",
      "keypoints: None\n",
      "masks: None\n",
      "names: {0: 'Hand_Raised'}\n",
      "obb: None\n",
      "orig_img: array([[[  0, 255,   0],\n",
      "        [  0, 255,   0],\n",
      "        [  0, 255,   0],\n",
      "        ...,\n",
      "        [  4,   0,   3],\n",
      "        [  2,   0,   1],\n",
      "        [  2,   0,   1]],\n",
      "\n",
      "       [[  0, 255,   0],\n",
      "        [  0, 255,   0],\n",
      "        [  0, 255,   0],\n",
      "        ...,\n",
      "        [224, 220, 223],\n",
      "        [230, 226, 229],\n",
      "        [232, 228, 231]],\n",
      "\n",
      "       [[  0, 255,   0],\n",
      "        [  0, 255,   0],\n",
      "        [  0, 255,   0],\n",
      "        ...,\n",
      "        [243, 239, 242],\n",
      "        [252, 248, 251],\n",
      "        [255, 251, 254]],\n",
      "\n",
      "       ...,\n",
      "\n",
      "       [[127, 122, 107],\n",
      "        [125, 120, 105],\n",
      "        [127, 122, 107],\n",
      "        ...,\n",
      "        [103, 108, 106],\n",
      "        [105, 111, 106],\n",
      "        [104, 110, 105]],\n",
      "\n",
      "       [[123, 115, 110],\n",
      "        [122, 114, 109],\n",
      "        [123, 115, 110],\n",
      "        ...,\n",
      "        [102, 107, 105],\n",
      "        [104, 110, 105],\n",
      "        [103, 109, 104]],\n",
      "\n",
      "       [[122, 114, 109],\n",
      "        [119, 111, 106],\n",
      "        [120, 112, 107],\n",
      "        ...,\n",
      "        [102, 107, 105],\n",
      "        [104, 110, 105],\n",
      "        [103, 109, 104]]], dtype=uint8)\n",
      "orig_shape: (720, 1280)\n",
      "path: 'image0.jpg'\n",
      "probs: None\n",
      "save_dir: 'runs\\\\detect\\\\predict'\n",
      "speed: {'preprocess': 0.0, 'inference': 8.992671966552734, 'postprocess': 0.0}]\n",
      "\n",
      "0: 384x640 2 persons, 45.0ms\n",
      "Speed: 1.0ms preprocess, 45.0ms inference, 4.0ms postprocess per image at shape (1, 3, 384, 640)\n",
      "\n",
      "0: 96x128 (no detections), 13.0ms\n",
      "Speed: 0.0ms preprocess, 13.0ms inference, 0.0ms postprocess per image at shape (1, 3, 96, 128)\n",
      "predictions: [ultralytics.engine.results.Results object with attributes:\n",
      "\n",
      "boxes: ultralytics.engine.results.Boxes object\n",
      "keypoints: None\n",
      "masks: None\n",
      "names: {0: 'Hand_Raised'}\n",
      "obb: None\n",
      "orig_img: array([[[  0, 255,   0],\n",
      "        [  0, 255,   0],\n",
      "        [  0, 255,   0],\n",
      "        ...,\n",
      "        [  4,   0,   3],\n",
      "        [  2,   0,   1],\n",
      "        [  2,   0,   1]],\n",
      "\n",
      "       [[  0, 255,   0],\n",
      "        [  0, 255,   0],\n",
      "        [  0, 255,   0],\n",
      "        ...,\n",
      "        [224, 220, 223],\n",
      "        [230, 226, 229],\n",
      "        [232, 228, 231]],\n",
      "\n",
      "       [[  0, 255,   0],\n",
      "        [  0, 255,   0],\n",
      "        [  0, 255,   0],\n",
      "        ...,\n",
      "        [243, 239, 242],\n",
      "        [252, 248, 251],\n",
      "        [255, 251, 254]],\n",
      "\n",
      "       ...,\n",
      "\n",
      "       [[127, 122, 107],\n",
      "        [125, 120, 105],\n",
      "        [127, 122, 107],\n",
      "        ...,\n",
      "        [103, 108, 106],\n",
      "        [105, 111, 106],\n",
      "        [104, 110, 105]],\n",
      "\n",
      "       [[123, 115, 110],\n",
      "        [122, 114, 109],\n",
      "        [123, 115, 110],\n",
      "        ...,\n",
      "        [102, 107, 105],\n",
      "        [104, 110, 105],\n",
      "        [103, 109, 104]],\n",
      "\n",
      "       [[122, 114, 109],\n",
      "        [119, 111, 106],\n",
      "        [120, 112, 107],\n",
      "        ...,\n",
      "        [102, 107, 105],\n",
      "        [104, 110, 105],\n",
      "        [103, 109, 104]]], dtype=uint8)\n",
      "orig_shape: (720, 1280)\n",
      "path: 'image0.jpg'\n",
      "probs: None\n",
      "save_dir: 'runs\\\\detect\\\\predict'\n",
      "speed: {'preprocess': 0.0, 'inference': 13.006210327148438, 'postprocess': 0.0}]\n",
      "\n",
      "0: 384x640 2 persons, 21.0ms\n",
      "Speed: 1.0ms preprocess, 21.0ms inference, 1.0ms postprocess per image at shape (1, 3, 384, 640)\n",
      "\n",
      "0: 96x128 (no detections), 8.0ms\n",
      "Speed: 0.0ms preprocess, 8.0ms inference, 0.0ms postprocess per image at shape (1, 3, 96, 128)\n",
      "predictions: [ultralytics.engine.results.Results object with attributes:\n",
      "\n",
      "boxes: ultralytics.engine.results.Boxes object\n",
      "keypoints: None\n",
      "masks: None\n",
      "names: {0: 'Hand_Raised'}\n",
      "obb: None\n",
      "orig_img: array([[[  0, 255,   0],\n",
      "        [  0, 255,   0],\n",
      "        [  0, 255,   0],\n",
      "        ...,\n",
      "        [  4,   0,   3],\n",
      "        [  2,   0,   1],\n",
      "        [  2,   0,   1]],\n",
      "\n",
      "       [[  0, 255,   0],\n",
      "        [  0, 255,   0],\n",
      "        [  0, 255,   0],\n",
      "        ...,\n",
      "        [224, 220, 223],\n",
      "        [230, 226, 229],\n",
      "        [232, 228, 231]],\n",
      "\n",
      "       [[  0, 255,   0],\n",
      "        [  0, 255,   0],\n",
      "        [  0, 255,   0],\n",
      "        ...,\n",
      "        [243, 239, 242],\n",
      "        [252, 248, 251],\n",
      "        [255, 251, 254]],\n",
      "\n",
      "       ...,\n",
      "\n",
      "       [[127, 122, 107],\n",
      "        [125, 120, 105],\n",
      "        [127, 122, 107],\n",
      "        ...,\n",
      "        [103, 108, 106],\n",
      "        [105, 111, 106],\n",
      "        [104, 110, 105]],\n",
      "\n",
      "       [[123, 115, 110],\n",
      "        [122, 114, 109],\n",
      "        [123, 115, 110],\n",
      "        ...,\n",
      "        [102, 107, 105],\n",
      "        [104, 110, 105],\n",
      "        [103, 109, 104]],\n",
      "\n",
      "       [[122, 114, 109],\n",
      "        [119, 111, 106],\n",
      "        [120, 112, 107],\n",
      "        ...,\n",
      "        [102, 107, 105],\n",
      "        [104, 110, 105],\n",
      "        [103, 109, 104]]], dtype=uint8)\n",
      "orig_shape: (720, 1280)\n",
      "path: 'image0.jpg'\n",
      "probs: None\n",
      "save_dir: 'runs\\\\detect\\\\predict'\n",
      "speed: {'preprocess': 0.0, 'inference': 7.998943328857422, 'postprocess': 0.0}]\n",
      "\n",
      "0: 384x640 2 persons, 20.0ms\n",
      "Speed: 1.0ms preprocess, 20.0ms inference, 1.0ms postprocess per image at shape (1, 3, 384, 640)\n",
      "\n",
      "0: 96x128 (no detections), 11.0ms\n",
      "Speed: 0.0ms preprocess, 11.0ms inference, 1.0ms postprocess per image at shape (1, 3, 96, 128)\n",
      "predictions: [ultralytics.engine.results.Results object with attributes:\n",
      "\n",
      "boxes: ultralytics.engine.results.Boxes object\n",
      "keypoints: None\n",
      "masks: None\n",
      "names: {0: 'Hand_Raised'}\n",
      "obb: None\n",
      "orig_img: array([[[  0, 255,   0],\n",
      "        [  0, 255,   0],\n",
      "        [  0, 255,   0],\n",
      "        ...,\n",
      "        [  4,   0,   3],\n",
      "        [  2,   0,   1],\n",
      "        [  2,   0,   1]],\n",
      "\n",
      "       [[  0, 255,   0],\n",
      "        [  0, 255,   0],\n",
      "        [  0, 255,   0],\n",
      "        ...,\n",
      "        [224, 220, 223],\n",
      "        [230, 226, 229],\n",
      "        [232, 228, 231]],\n",
      "\n",
      "       [[  0, 255,   0],\n",
      "        [  0, 255,   0],\n",
      "        [  0, 255,   0],\n",
      "        ...,\n",
      "        [243, 239, 242],\n",
      "        [252, 248, 251],\n",
      "        [255, 251, 254]],\n",
      "\n",
      "       ...,\n",
      "\n",
      "       [[127, 122, 107],\n",
      "        [125, 120, 105],\n",
      "        [127, 122, 107],\n",
      "        ...,\n",
      "        [103, 108, 106],\n",
      "        [105, 111, 106],\n",
      "        [104, 110, 105]],\n",
      "\n",
      "       [[123, 115, 110],\n",
      "        [122, 114, 109],\n",
      "        [123, 115, 110],\n",
      "        ...,\n",
      "        [102, 107, 105],\n",
      "        [104, 110, 105],\n",
      "        [103, 109, 104]],\n",
      "\n",
      "       [[122, 114, 109],\n",
      "        [119, 111, 106],\n",
      "        [120, 112, 107],\n",
      "        ...,\n",
      "        [102, 107, 105],\n",
      "        [104, 110, 105],\n",
      "        [103, 109, 104]]], dtype=uint8)\n",
      "orig_shape: (720, 1280)\n",
      "path: 'image0.jpg'\n",
      "probs: None\n",
      "save_dir: 'runs\\\\detect\\\\predict'\n",
      "speed: {'preprocess': 0.0, 'inference': 11.00015640258789, 'postprocess': 1.007080078125}]\n",
      "\n",
      "0: 384x640 2 persons, 21.3ms\n",
      "Speed: 1.0ms preprocess, 21.3ms inference, 1.0ms postprocess per image at shape (1, 3, 384, 640)\n",
      "\n",
      "0: 96x128 (no detections), 9.1ms\n",
      "Speed: 0.0ms preprocess, 9.1ms inference, 0.0ms postprocess per image at shape (1, 3, 96, 128)\n",
      "predictions: [ultralytics.engine.results.Results object with attributes:\n",
      "\n",
      "boxes: ultralytics.engine.results.Boxes object\n",
      "keypoints: None\n",
      "masks: None\n",
      "names: {0: 'Hand_Raised'}\n",
      "obb: None\n",
      "orig_img: array([[[  0, 255,   0],\n",
      "        [  0, 255,   0],\n",
      "        [  0, 255,   0],\n",
      "        ...,\n",
      "        [  4,   0,   3],\n",
      "        [  2,   0,   1],\n",
      "        [  2,   0,   1]],\n",
      "\n",
      "       [[  0, 255,   0],\n",
      "        [  0, 255,   0],\n",
      "        [  0, 255,   0],\n",
      "        ...,\n",
      "        [224, 220, 223],\n",
      "        [230, 226, 229],\n",
      "        [232, 228, 231]],\n",
      "\n",
      "       [[  0, 255,   0],\n",
      "        [  0, 255,   0],\n",
      "        [  0, 255,   0],\n",
      "        ...,\n",
      "        [243, 239, 242],\n",
      "        [252, 248, 251],\n",
      "        [255, 251, 254]],\n",
      "\n",
      "       ...,\n",
      "\n",
      "       [[127, 122, 107],\n",
      "        [125, 120, 105],\n",
      "        [127, 122, 107],\n",
      "        ...,\n",
      "        [103, 108, 106],\n",
      "        [105, 111, 106],\n",
      "        [104, 110, 105]],\n",
      "\n",
      "       [[123, 115, 110],\n",
      "        [122, 114, 109],\n",
      "        [123, 115, 110],\n",
      "        ...,\n",
      "        [102, 107, 105],\n",
      "        [104, 110, 105],\n",
      "        [103, 109, 104]],\n",
      "\n",
      "       [[122, 114, 109],\n",
      "        [119, 111, 106],\n",
      "        [120, 112, 107],\n",
      "        ...,\n",
      "        [102, 107, 105],\n",
      "        [104, 110, 105],\n",
      "        [103, 109, 104]]], dtype=uint8)\n",
      "orig_shape: (720, 1280)\n",
      "path: 'image0.jpg'\n",
      "probs: None\n",
      "save_dir: 'runs\\\\detect\\\\predict'\n",
      "speed: {'preprocess': 0.0, 'inference': 9.058475494384766, 'postprocess': 0.0}]\n",
      "\n",
      "0: 384x640 2 persons, 21.5ms\n",
      "Speed: 1.0ms preprocess, 21.5ms inference, 1.0ms postprocess per image at shape (1, 3, 384, 640)\n",
      "\n",
      "0: 96x128 (no detections), 8.0ms\n",
      "Speed: 0.0ms preprocess, 8.0ms inference, 0.0ms postprocess per image at shape (1, 3, 96, 128)\n",
      "predictions: [ultralytics.engine.results.Results object with attributes:\n",
      "\n",
      "boxes: ultralytics.engine.results.Boxes object\n",
      "keypoints: None\n",
      "masks: None\n",
      "names: {0: 'Hand_Raised'}\n",
      "obb: None\n",
      "orig_img: array([[[  0, 255,   0],\n",
      "        [  0, 255,   0],\n",
      "        [  0, 255,   0],\n",
      "        ...,\n",
      "        [  4,   0,   3],\n",
      "        [  2,   0,   1],\n",
      "        [  2,   0,   1]],\n",
      "\n",
      "       [[  0, 255,   0],\n",
      "        [  0, 255,   0],\n",
      "        [  0, 255,   0],\n",
      "        ...,\n",
      "        [224, 220, 223],\n",
      "        [230, 226, 229],\n",
      "        [232, 228, 231]],\n",
      "\n",
      "       [[  0, 255,   0],\n",
      "        [  0, 255,   0],\n",
      "        [  0, 255,   0],\n",
      "        ...,\n",
      "        [243, 239, 242],\n",
      "        [252, 248, 251],\n",
      "        [255, 251, 254]],\n",
      "\n",
      "       ...,\n",
      "\n",
      "       [[127, 122, 107],\n",
      "        [125, 120, 105],\n",
      "        [127, 122, 107],\n",
      "        ...,\n",
      "        [103, 108, 106],\n",
      "        [105, 111, 106],\n",
      "        [104, 110, 105]],\n",
      "\n",
      "       [[123, 115, 110],\n",
      "        [122, 114, 109],\n",
      "        [123, 115, 110],\n",
      "        ...,\n",
      "        [102, 107, 105],\n",
      "        [104, 110, 105],\n",
      "        [103, 109, 104]],\n",
      "\n",
      "       [[122, 114, 109],\n",
      "        [119, 111, 106],\n",
      "        [120, 112, 107],\n",
      "        ...,\n",
      "        [102, 107, 105],\n",
      "        [104, 110, 105],\n",
      "        [103, 109, 104]]], dtype=uint8)\n",
      "orig_shape: (720, 1280)\n",
      "path: 'image0.jpg'\n",
      "probs: None\n",
      "save_dir: 'runs\\\\detect\\\\predict'\n",
      "speed: {'preprocess': 0.0, 'inference': 7.999181747436523, 'postprocess': 0.0}]\n",
      "\n",
      "0: 384x640 2 persons, 24.0ms\n",
      "Speed: 1.0ms preprocess, 24.0ms inference, 1.6ms postprocess per image at shape (1, 3, 384, 640)\n",
      "\n",
      "0: 96x128 (no detections), 8.5ms\n",
      "Speed: 0.0ms preprocess, 8.5ms inference, 0.0ms postprocess per image at shape (1, 3, 96, 128)\n",
      "predictions: [ultralytics.engine.results.Results object with attributes:\n",
      "\n",
      "boxes: ultralytics.engine.results.Boxes object\n",
      "keypoints: None\n",
      "masks: None\n",
      "names: {0: 'Hand_Raised'}\n",
      "obb: None\n",
      "orig_img: array([[[  0, 255,   0],\n",
      "        [  0, 255,   0],\n",
      "        [  0, 255,   0],\n",
      "        ...,\n",
      "        [  4,   0,   3],\n",
      "        [  2,   0,   1],\n",
      "        [  2,   0,   1]],\n",
      "\n",
      "       [[  0, 255,   0],\n",
      "        [  0, 255,   0],\n",
      "        [  0, 255,   0],\n",
      "        ...,\n",
      "        [224, 220, 223],\n",
      "        [230, 226, 229],\n",
      "        [232, 228, 231]],\n",
      "\n",
      "       [[  0, 255,   0],\n",
      "        [  0, 255,   0],\n",
      "        [  0, 255,   0],\n",
      "        ...,\n",
      "        [243, 239, 242],\n",
      "        [252, 248, 251],\n",
      "        [255, 251, 254]],\n",
      "\n",
      "       ...,\n",
      "\n",
      "       [[127, 122, 107],\n",
      "        [125, 120, 105],\n",
      "        [127, 122, 107],\n",
      "        ...,\n",
      "        [103, 108, 106],\n",
      "        [105, 111, 106],\n",
      "        [104, 110, 105]],\n",
      "\n",
      "       [[123, 115, 110],\n",
      "        [122, 114, 109],\n",
      "        [123, 115, 110],\n",
      "        ...,\n",
      "        [102, 107, 105],\n",
      "        [104, 110, 105],\n",
      "        [103, 109, 104]],\n",
      "\n",
      "       [[122, 114, 109],\n",
      "        [119, 111, 106],\n",
      "        [120, 112, 107],\n",
      "        ...,\n",
      "        [102, 107, 105],\n",
      "        [104, 110, 105],\n",
      "        [103, 109, 104]]], dtype=uint8)\n",
      "orig_shape: (720, 1280)\n",
      "path: 'image0.jpg'\n",
      "probs: None\n",
      "save_dir: 'runs\\\\detect\\\\predict'\n",
      "speed: {'preprocess': 0.0, 'inference': 8.516550064086914, 'postprocess': 0.0}]\n"
     ]
    }
   ],
   "source": [
    "import os \n",
    "os.environ[\"KMP_DUPLICATE_LIB_OK\"] = \"TRUE\"\n",
    "import cv2\n",
    "from ultralytics import YOLO\n",
    "\n",
    "detector = YOLO(\"runs/detect/train3/weights/best.pt\")\n",
    "\n",
    "video = \"C:/Users/LAMBDA THETA/Downloads/test_bench_02/test_bench_02/Cam_19_03.mp4\"#Cam_104_batch_5_46.mp4\"\n",
    "cap = cv2.VideoCapture(video)\n",
    "\n",
    "while cap.isOpened():\n",
    "    ret, frame = cap.read()\n",
    "    if not ret:\n",
    "        break\n",
    "\n",
    "    keypoint = YOLO(\"runs/pose/trail4/weights/best_y11.pt\")\n",
    "    frame = cv2.resize(frame, (1280,720))\n",
    "    keypoint_results = keypoint.predict(frame)\n",
    "    keypoints_results = keypoint_results[0]\n",
    "\n",
    "    # for result in results:\n",
    "            # keypoints = keypoints_results.keypoints\n",
    "    if keypoints_results.keypoints is not None:\n",
    "        keypoints_data = keypoints_results.keypoints.data\n",
    "        for person_keypoints in keypoints_data:\n",
    "            for keypoint in person_keypoints:\n",
    "                x, y, confidence = keypoint[0].item(), keypoint[1].item(), keypoint[2].item()\n",
    "                cv2.circle(frame, (int(x), int(y)), 7, (0, 255, 0), -1)\n",
    "\n",
    "    pred = detector.predict(frame, )\n",
    "    # pred_results = pred[0]\n",
    "\n",
    "    # annotated_frame = pred_results.plot()\n",
    "    annotated_frame = pred[0].plot()\n",
    "\n",
    "    print(\"predictions:\", pred)\n",
    "    cv2.imshow(\"prediction: \", annotated_frame)\n",
    "\n",
    "    if cv2.waitKey(1) & 0xFF == ord('q'):\n",
    "         break\n",
    "\n",
    "cap.release()\n",
    "cv2.destroyAllWindows()\n",
    "\n",
    "\n",
    "\n",
    "    \n"
   ]
  },
  {
   "cell_type": "code",
   "execution_count": 6,
   "metadata": {},
   "outputs": [
    {
     "name": "stdout",
     "output_type": "stream",
     "text": [
      "New https://pypi.org/project/ultralytics/8.3.51 available  Update with 'pip install -U ultralytics'\n",
      "Ultralytics 8.3.18  Python-3.10.15 torch-2.5.0+cu118 CUDA:0 (NVIDIA GeForce RTX 4060 Laptop GPU, 8188MiB)\n",
      "\u001b[34m\u001b[1mengine\\trainer: \u001b[0mtask=detect, mode=train, model=yolov10s.pt, data=C:/Users/LAMBDA THETA/Downloads/train/train/final/data.yaml, epochs=300, time=None, patience=30, batch=16, imgsz=128, save=True, save_period=-1, cache=False, device=None, workers=8, project=None, name=train3, exist_ok=False, pretrained=True, optimizer=auto, verbose=True, seed=0, deterministic=True, single_cls=False, rect=False, cos_lr=False, close_mosaic=10, resume=False, amp=True, fraction=1.0, profile=False, freeze=None, multi_scale=False, overlap_mask=True, mask_ratio=4, dropout=0.0, val=True, split=val, save_json=False, save_hybrid=False, conf=None, iou=0.7, max_det=300, half=False, dnn=False, plots=True, source=None, vid_stride=1, stream_buffer=False, visualize=False, augment=False, agnostic_nms=False, classes=None, retina_masks=False, embed=None, show=False, save_frames=False, save_txt=False, save_conf=False, save_crop=False, show_labels=True, show_conf=True, show_boxes=True, line_width=None, format=torchscript, keras=False, optimize=False, int8=False, dynamic=False, simplify=True, opset=None, workspace=4, nms=False, lr0=0.0001, lrf=0.01, momentum=0.937, weight_decay=0.0005, warmup_epochs=3.0, warmup_momentum=0.8, warmup_bias_lr=0.1, box=7.5, cls=0.5, dfl=1.5, pose=12.0, kobj=1.0, label_smoothing=0.0, nbs=64, hsv_h=0.015, hsv_s=0.7, hsv_v=0.4, degrees=0.0, translate=0.1, scale=0.5, shear=0.0, perspective=0.0, flipud=0.0, fliplr=0.5, bgr=0.0, mosaic=1.0, mixup=0.0, copy_paste=0.0, copy_paste_mode=flip, auto_augment=randaugment, erasing=0.4, crop_fraction=1.0, cfg=None, tracker=botsort.yaml, save_dir=runs\\detect\\train3\n",
      "Overriding model.yaml nc=80 with nc=1\n",
      "\n",
      "                   from  n    params  module                                       arguments                     \n",
      "  0                  -1  1       928  ultralytics.nn.modules.conv.Conv             [3, 32, 3, 2]                 \n",
      "  1                  -1  1     18560  ultralytics.nn.modules.conv.Conv             [32, 64, 3, 2]                \n",
      "  2                  -1  1     29056  ultralytics.nn.modules.block.C2f             [64, 64, 1, True]             \n",
      "  3                  -1  1     73984  ultralytics.nn.modules.conv.Conv             [64, 128, 3, 2]               \n",
      "  4                  -1  2    197632  ultralytics.nn.modules.block.C2f             [128, 128, 2, True]           \n",
      "  5                  -1  1     36096  ultralytics.nn.modules.block.SCDown          [128, 256, 3, 2]              \n",
      "  6                  -1  2    788480  ultralytics.nn.modules.block.C2f             [256, 256, 2, True]           \n",
      "  7                  -1  1    137728  ultralytics.nn.modules.block.SCDown          [256, 512, 3, 2]              \n",
      "  8                  -1  1    958464  ultralytics.nn.modules.block.C2fCIB          [512, 512, 1, True, True]     \n",
      "  9                  -1  1    656896  ultralytics.nn.modules.block.SPPF            [512, 512, 5]                 \n",
      " 10                  -1  1    990976  ultralytics.nn.modules.block.PSA             [512, 512]                    \n",
      " 11                  -1  1         0  torch.nn.modules.upsampling.Upsample         [None, 2, 'nearest']          \n",
      " 12             [-1, 6]  1         0  ultralytics.nn.modules.conv.Concat           [1]                           \n",
      " 13                  -1  1    591360  ultralytics.nn.modules.block.C2f             [768, 256, 1]                 \n",
      " 14                  -1  1         0  torch.nn.modules.upsampling.Upsample         [None, 2, 'nearest']          \n",
      " 15             [-1, 4]  1         0  ultralytics.nn.modules.conv.Concat           [1]                           \n",
      " 16                  -1  1    148224  ultralytics.nn.modules.block.C2f             [384, 128, 1]                 \n",
      " 17                  -1  1    147712  ultralytics.nn.modules.conv.Conv             [128, 128, 3, 2]              \n",
      " 18            [-1, 13]  1         0  ultralytics.nn.modules.conv.Concat           [1]                           \n",
      " 19                  -1  1    493056  ultralytics.nn.modules.block.C2f             [384, 256, 1]                 \n",
      " 20                  -1  1     68864  ultralytics.nn.modules.block.SCDown          [256, 256, 3, 2]              \n",
      " 21            [-1, 10]  1         0  ultralytics.nn.modules.conv.Concat           [1]                           \n",
      " 22                  -1  1   1089536  ultralytics.nn.modules.block.C2fCIB          [768, 512, 1, True, True]     \n",
      " 23        [16, 19, 22]  1   1639574  ultralytics.nn.modules.head.v10Detect        [1, [128, 256, 512]]          \n",
      "YOLOv10s summary: 402 layers, 8,067,126 parameters, 8,067,110 gradients, 24.8 GFLOPs\n",
      "\n",
      "Transferred 607/619 items from pretrained weights\n",
      "\u001b[34m\u001b[1mTensorBoard: \u001b[0mStart with 'tensorboard --logdir runs\\detect\\train3', view at http://localhost:6006/\n",
      "Freezing layer 'model.23.dfl.conv.weight'\n",
      "\u001b[34m\u001b[1mAMP: \u001b[0mrunning Automatic Mixed Precision (AMP) checks with YOLO11n...\n",
      "\u001b[34m\u001b[1mAMP: \u001b[0mchecks passed \n"
     ]
    },
    {
     "name": "stderr",
     "output_type": "stream",
     "text": [
      "\u001b[34m\u001b[1mtrain: \u001b[0mScanning C:\\Users\\LAMBDA THETA\\Downloads\\train\\train\\final\\train\\labels... 6728 images, 677 backgrounds, 0 corrupt: 100%|██████████| 6728/6728 [00:20<00:00, 335.79it/s]\n"
     ]
    },
    {
     "name": "stdout",
     "output_type": "stream",
     "text": [
      "\u001b[34m\u001b[1mtrain: \u001b[0mNew cache created: C:\\Users\\LAMBDA THETA\\Downloads\\train\\train\\final\\train\\labels.cache\n"
     ]
    },
    {
     "name": "stderr",
     "output_type": "stream",
     "text": [
      "\u001b[34m\u001b[1mval: \u001b[0mScanning C:\\Users\\LAMBDA THETA\\Downloads\\train\\train\\final\\val\\labels... 1683 images, 200 backgrounds, 0 corrupt: 100%|██████████| 1683/1683 [00:05<00:00, 293.52it/s]"
     ]
    },
    {
     "name": "stdout",
     "output_type": "stream",
     "text": [
      "\u001b[34m\u001b[1mval: \u001b[0mNew cache created: C:\\Users\\LAMBDA THETA\\Downloads\\train\\train\\final\\val\\labels.cache\n"
     ]
    },
    {
     "name": "stderr",
     "output_type": "stream",
     "text": [
      "\n"
     ]
    },
    {
     "name": "stdout",
     "output_type": "stream",
     "text": [
      "Plotting labels to runs\\detect\\train3\\labels.jpg... \n",
      "\u001b[34m\u001b[1moptimizer:\u001b[0m 'optimizer=auto' found, ignoring 'lr0=0.0001' and 'momentum=0.937' and determining best 'optimizer', 'lr0' and 'momentum' automatically... \n",
      "\u001b[34m\u001b[1moptimizer:\u001b[0m SGD(lr=0.01, momentum=0.9) with parameter groups 99 weight(decay=0.0), 112 weight(decay=0.0005), 111 bias(decay=0.0)\n",
      "\u001b[34m\u001b[1mTensorBoard: \u001b[0mmodel graph visualization added \n",
      "Image sizes 128 train, 128 val\n",
      "Using 8 dataloader workers\n",
      "Logging results to \u001b[1mruns\\detect\\train3\u001b[0m\n",
      "Starting training for 300 epochs...\n",
      "\n",
      "      Epoch    GPU_mem   box_loss   cls_loss   dfl_loss  Instances       Size\n"
     ]
    },
    {
     "name": "stderr",
     "output_type": "stream",
     "text": [
      "      1/300     0.514G      2.817      2.997      2.087         12        128: 100%|██████████| 421/421 [00:47<00:00,  8.78it/s]\n",
      "                 Class     Images  Instances      Box(P          R      mAP50  mAP50-95): 100%|██████████| 53/53 [00:05<00:00,  8.94it/s]"
     ]
    },
    {
     "name": "stdout",
     "output_type": "stream",
     "text": [
      "                   all       1683       1483      0.876      0.926       0.95      0.768\n"
     ]
    },
    {
     "name": "stderr",
     "output_type": "stream",
     "text": [
      "\n"
     ]
    },
    {
     "name": "stdout",
     "output_type": "stream",
     "text": [
      "\n",
      "      Epoch    GPU_mem   box_loss   cls_loss   dfl_loss  Instances       Size\n"
     ]
    },
    {
     "name": "stderr",
     "output_type": "stream",
     "text": [
      "      2/300     0.424G      2.129      1.249      1.819          7        128: 100%|██████████| 421/421 [00:46<00:00,  9.07it/s]\n",
      "                 Class     Images  Instances      Box(P          R      mAP50  mAP50-95): 100%|██████████| 53/53 [00:07<00:00,  7.51it/s]"
     ]
    },
    {
     "name": "stdout",
     "output_type": "stream",
     "text": [
      "                   all       1683       1483      0.887       0.95      0.964      0.755\n"
     ]
    },
    {
     "name": "stderr",
     "output_type": "stream",
     "text": [
      "\n"
     ]
    },
    {
     "name": "stdout",
     "output_type": "stream",
     "text": [
      "\n",
      "      Epoch    GPU_mem   box_loss   cls_loss   dfl_loss  Instances       Size\n"
     ]
    },
    {
     "name": "stderr",
     "output_type": "stream",
     "text": [
      "      3/300     0.424G      2.193      1.243      1.835         11        128: 100%|██████████| 421/421 [00:41<00:00, 10.17it/s]\n",
      "                 Class     Images  Instances      Box(P          R      mAP50  mAP50-95): 100%|██████████| 53/53 [00:05<00:00,  9.93it/s]"
     ]
    },
    {
     "name": "stdout",
     "output_type": "stream",
     "text": [
      "                   all       1683       1483      0.925      0.909       0.96      0.773\n"
     ]
    },
    {
     "name": "stderr",
     "output_type": "stream",
     "text": [
      "\n"
     ]
    },
    {
     "name": "stdout",
     "output_type": "stream",
     "text": [
      "\n",
      "      Epoch    GPU_mem   box_loss   cls_loss   dfl_loss  Instances       Size\n"
     ]
    },
    {
     "name": "stderr",
     "output_type": "stream",
     "text": [
      "      4/300     0.432G      2.124      1.198      1.824         17        128: 100%|██████████| 421/421 [00:39<00:00, 10.68it/s]\n",
      "                 Class     Images  Instances      Box(P          R      mAP50  mAP50-95): 100%|██████████| 53/53 [00:05<00:00,  9.01it/s]"
     ]
    },
    {
     "name": "stdout",
     "output_type": "stream",
     "text": [
      "                   all       1683       1483      0.875      0.912      0.936      0.719\n"
     ]
    },
    {
     "name": "stderr",
     "output_type": "stream",
     "text": [
      "\n"
     ]
    },
    {
     "name": "stdout",
     "output_type": "stream",
     "text": [
      "\n",
      "      Epoch    GPU_mem   box_loss   cls_loss   dfl_loss  Instances       Size\n"
     ]
    },
    {
     "name": "stderr",
     "output_type": "stream",
     "text": [
      "      5/300     0.436G      1.927      1.042      1.781         13        128: 100%|██████████| 421/421 [00:42<00:00,  9.95it/s]\n",
      "                 Class     Images  Instances      Box(P          R      mAP50  mAP50-95): 100%|██████████| 53/53 [00:06<00:00,  8.38it/s]"
     ]
    },
    {
     "name": "stdout",
     "output_type": "stream",
     "text": [
      "                   all       1683       1483      0.907       0.94      0.974      0.819\n"
     ]
    },
    {
     "name": "stderr",
     "output_type": "stream",
     "text": [
      "\n"
     ]
    },
    {
     "name": "stdout",
     "output_type": "stream",
     "text": [
      "\n",
      "      Epoch    GPU_mem   box_loss   cls_loss   dfl_loss  Instances       Size\n"
     ]
    },
    {
     "name": "stderr",
     "output_type": "stream",
     "text": [
      "      6/300     0.436G      1.777     0.9721      1.752         11        128: 100%|██████████| 421/421 [00:46<00:00,  9.11it/s]\n",
      "                 Class     Images  Instances      Box(P          R      mAP50  mAP50-95): 100%|██████████| 53/53 [00:06<00:00,  8.10it/s]"
     ]
    },
    {
     "name": "stdout",
     "output_type": "stream",
     "text": [
      "                   all       1683       1483      0.954      0.962      0.986      0.856\n"
     ]
    },
    {
     "name": "stderr",
     "output_type": "stream",
     "text": [
      "\n"
     ]
    },
    {
     "name": "stdout",
     "output_type": "stream",
     "text": [
      "\n",
      "      Epoch    GPU_mem   box_loss   cls_loss   dfl_loss  Instances       Size\n"
     ]
    },
    {
     "name": "stderr",
     "output_type": "stream",
     "text": [
      "      7/300     0.424G      1.675     0.8943      1.737         12        128: 100%|██████████| 421/421 [01:02<00:00,  6.74it/s]\n",
      "                 Class     Images  Instances      Box(P          R      mAP50  mAP50-95): 100%|██████████| 53/53 [00:10<00:00,  5.08it/s]"
     ]
    },
    {
     "name": "stdout",
     "output_type": "stream",
     "text": [
      "                   all       1683       1483      0.933      0.953      0.981      0.861\n"
     ]
    },
    {
     "name": "stderr",
     "output_type": "stream",
     "text": [
      "\n"
     ]
    },
    {
     "name": "stdout",
     "output_type": "stream",
     "text": [
      "\n",
      "      Epoch    GPU_mem   box_loss   cls_loss   dfl_loss  Instances       Size\n"
     ]
    },
    {
     "name": "stderr",
     "output_type": "stream",
     "text": [
      "      8/300     0.432G      1.598     0.8565      1.726         22        128: 100%|██████████| 421/421 [01:06<00:00,  6.32it/s]\n",
      "                 Class     Images  Instances      Box(P          R      mAP50  mAP50-95): 100%|██████████| 53/53 [00:10<00:00,  5.13it/s]"
     ]
    },
    {
     "name": "stdout",
     "output_type": "stream",
     "text": [
      "                   all       1683       1483      0.933       0.98      0.985       0.86\n"
     ]
    },
    {
     "name": "stderr",
     "output_type": "stream",
     "text": [
      "\n"
     ]
    },
    {
     "name": "stdout",
     "output_type": "stream",
     "text": [
      "\n",
      "      Epoch    GPU_mem   box_loss   cls_loss   dfl_loss  Instances       Size\n"
     ]
    },
    {
     "name": "stderr",
     "output_type": "stream",
     "text": [
      "      9/300     0.424G      1.528     0.8245       1.71         15        128: 100%|██████████| 421/421 [01:06<00:00,  6.36it/s]\n",
      "                 Class     Images  Instances      Box(P          R      mAP50  mAP50-95): 100%|██████████| 53/53 [00:10<00:00,  4.97it/s]"
     ]
    },
    {
     "name": "stdout",
     "output_type": "stream",
     "text": [
      "                   all       1683       1483      0.943      0.982      0.979      0.844\n"
     ]
    },
    {
     "name": "stderr",
     "output_type": "stream",
     "text": [
      "\n"
     ]
    },
    {
     "name": "stdout",
     "output_type": "stream",
     "text": [
      "\n",
      "      Epoch    GPU_mem   box_loss   cls_loss   dfl_loss  Instances       Size\n"
     ]
    },
    {
     "name": "stderr",
     "output_type": "stream",
     "text": [
      "     10/300     0.426G      1.489     0.7962      1.706         14        128: 100%|██████████| 421/421 [01:05<00:00,  6.40it/s]\n",
      "                 Class     Images  Instances      Box(P          R      mAP50  mAP50-95): 100%|██████████| 53/53 [00:09<00:00,  5.46it/s]"
     ]
    },
    {
     "name": "stdout",
     "output_type": "stream",
     "text": [
      "                   all       1683       1483       0.96      0.956      0.983      0.883\n"
     ]
    },
    {
     "name": "stderr",
     "output_type": "stream",
     "text": [
      "\n"
     ]
    },
    {
     "name": "stdout",
     "output_type": "stream",
     "text": [
      "\n",
      "      Epoch    GPU_mem   box_loss   cls_loss   dfl_loss  Instances       Size\n"
     ]
    },
    {
     "name": "stderr",
     "output_type": "stream",
     "text": [
      "     11/300     0.424G      1.446     0.7581      1.699         23        128: 100%|██████████| 421/421 [01:02<00:00,  6.70it/s]\n",
      "                 Class     Images  Instances      Box(P          R      mAP50  mAP50-95): 100%|██████████| 53/53 [00:09<00:00,  5.51it/s]"
     ]
    },
    {
     "name": "stdout",
     "output_type": "stream",
     "text": [
      "                   all       1683       1483      0.951      0.992      0.981      0.874\n"
     ]
    },
    {
     "name": "stderr",
     "output_type": "stream",
     "text": [
      "\n"
     ]
    },
    {
     "name": "stdout",
     "output_type": "stream",
     "text": [
      "\n",
      "      Epoch    GPU_mem   box_loss   cls_loss   dfl_loss  Instances       Size\n"
     ]
    },
    {
     "name": "stderr",
     "output_type": "stream",
     "text": [
      "     12/300     0.424G      1.389     0.7311      1.693         19        128: 100%|██████████| 421/421 [01:02<00:00,  6.73it/s]\n",
      "                 Class     Images  Instances      Box(P          R      mAP50  mAP50-95): 100%|██████████| 53/53 [00:09<00:00,  5.49it/s]"
     ]
    },
    {
     "name": "stdout",
     "output_type": "stream",
     "text": [
      "                   all       1683       1483      0.974       0.98       0.99      0.893\n"
     ]
    },
    {
     "name": "stderr",
     "output_type": "stream",
     "text": [
      "\n"
     ]
    },
    {
     "name": "stdout",
     "output_type": "stream",
     "text": [
      "\n",
      "      Epoch    GPU_mem   box_loss   cls_loss   dfl_loss  Instances       Size\n"
     ]
    },
    {
     "name": "stderr",
     "output_type": "stream",
     "text": [
      "     13/300     0.424G      1.376     0.7323      1.687         16        128: 100%|██████████| 421/421 [01:03<00:00,  6.66it/s]\n",
      "                 Class     Images  Instances      Box(P          R      mAP50  mAP50-95): 100%|██████████| 53/53 [00:09<00:00,  5.45it/s]"
     ]
    },
    {
     "name": "stdout",
     "output_type": "stream",
     "text": [
      "                   all       1683       1483      0.963      0.994       0.99      0.905\n"
     ]
    },
    {
     "name": "stderr",
     "output_type": "stream",
     "text": [
      "\n"
     ]
    },
    {
     "name": "stdout",
     "output_type": "stream",
     "text": [
      "\n",
      "      Epoch    GPU_mem   box_loss   cls_loss   dfl_loss  Instances       Size\n"
     ]
    },
    {
     "name": "stderr",
     "output_type": "stream",
     "text": [
      "     14/300     0.426G      1.324     0.7082      1.687         11        128: 100%|██████████| 421/421 [01:03<00:00,  6.61it/s]\n",
      "                 Class     Images  Instances      Box(P          R      mAP50  mAP50-95): 100%|██████████| 53/53 [00:09<00:00,  5.43it/s]"
     ]
    },
    {
     "name": "stdout",
     "output_type": "stream",
     "text": [
      "                   all       1683       1483      0.968      0.971      0.987      0.898\n"
     ]
    },
    {
     "name": "stderr",
     "output_type": "stream",
     "text": [
      "\n"
     ]
    },
    {
     "name": "stdout",
     "output_type": "stream",
     "text": [
      "\n",
      "      Epoch    GPU_mem   box_loss   cls_loss   dfl_loss  Instances       Size\n"
     ]
    },
    {
     "name": "stderr",
     "output_type": "stream",
     "text": [
      "     15/300     0.424G      1.314     0.6979      1.677          8        128: 100%|██████████| 421/421 [01:03<00:00,  6.66it/s]\n",
      "                 Class     Images  Instances      Box(P          R      mAP50  mAP50-95): 100%|██████████| 53/53 [00:09<00:00,  5.47it/s]"
     ]
    },
    {
     "name": "stdout",
     "output_type": "stream",
     "text": [
      "                   all       1683       1483      0.953      0.988       0.99      0.892\n"
     ]
    },
    {
     "name": "stderr",
     "output_type": "stream",
     "text": [
      "\n"
     ]
    },
    {
     "name": "stdout",
     "output_type": "stream",
     "text": [
      "\n",
      "      Epoch    GPU_mem   box_loss   cls_loss   dfl_loss  Instances       Size\n"
     ]
    },
    {
     "name": "stderr",
     "output_type": "stream",
     "text": [
      "     16/300     0.424G      1.276     0.6767      1.679         14        128: 100%|██████████| 421/421 [01:02<00:00,  6.68it/s]\n",
      "                 Class     Images  Instances      Box(P          R      mAP50  mAP50-95): 100%|██████████| 53/53 [00:09<00:00,  5.40it/s]"
     ]
    },
    {
     "name": "stdout",
     "output_type": "stream",
     "text": [
      "                   all       1683       1483      0.969      0.987      0.992      0.922\n"
     ]
    },
    {
     "name": "stderr",
     "output_type": "stream",
     "text": [
      "\n"
     ]
    },
    {
     "name": "stdout",
     "output_type": "stream",
     "text": [
      "\n",
      "      Epoch    GPU_mem   box_loss   cls_loss   dfl_loss  Instances       Size\n"
     ]
    },
    {
     "name": "stderr",
     "output_type": "stream",
     "text": [
      "     17/300     0.424G      1.266     0.6638      1.674         21        128: 100%|██████████| 421/421 [01:02<00:00,  6.75it/s]\n",
      "                 Class     Images  Instances      Box(P          R      mAP50  mAP50-95): 100%|██████████| 53/53 [00:09<00:00,  5.44it/s]"
     ]
    },
    {
     "name": "stdout",
     "output_type": "stream",
     "text": [
      "                   all       1683       1483      0.977      0.988      0.992      0.904\n"
     ]
    },
    {
     "name": "stderr",
     "output_type": "stream",
     "text": [
      "\n"
     ]
    },
    {
     "name": "stdout",
     "output_type": "stream",
     "text": [
      "\n",
      "      Epoch    GPU_mem   box_loss   cls_loss   dfl_loss  Instances       Size\n"
     ]
    },
    {
     "name": "stderr",
     "output_type": "stream",
     "text": [
      "     18/300     0.426G      1.241     0.6516      1.671         15        128: 100%|██████████| 421/421 [01:03<00:00,  6.67it/s]\n",
      "                 Class     Images  Instances      Box(P          R      mAP50  mAP50-95): 100%|██████████| 53/53 [00:09<00:00,  5.50it/s]"
     ]
    },
    {
     "name": "stdout",
     "output_type": "stream",
     "text": [
      "                   all       1683       1483       0.96       0.98      0.991      0.905\n"
     ]
    },
    {
     "name": "stderr",
     "output_type": "stream",
     "text": [
      "\n"
     ]
    },
    {
     "name": "stdout",
     "output_type": "stream",
     "text": [
      "\n",
      "      Epoch    GPU_mem   box_loss   cls_loss   dfl_loss  Instances       Size\n"
     ]
    },
    {
     "name": "stderr",
     "output_type": "stream",
     "text": [
      "     19/300     0.426G      1.221     0.6372      1.674         16        128: 100%|██████████| 421/421 [01:02<00:00,  6.71it/s]\n",
      "                 Class     Images  Instances      Box(P          R      mAP50  mAP50-95): 100%|██████████| 53/53 [00:09<00:00,  5.48it/s]"
     ]
    },
    {
     "name": "stdout",
     "output_type": "stream",
     "text": [
      "                   all       1683       1483      0.976      0.983       0.99      0.918\n"
     ]
    },
    {
     "name": "stderr",
     "output_type": "stream",
     "text": [
      "\n"
     ]
    },
    {
     "name": "stdout",
     "output_type": "stream",
     "text": [
      "\n",
      "      Epoch    GPU_mem   box_loss   cls_loss   dfl_loss  Instances       Size\n"
     ]
    },
    {
     "name": "stderr",
     "output_type": "stream",
     "text": [
      "     20/300     0.424G      1.211     0.6383      1.664         16        128: 100%|██████████| 421/421 [01:03<00:00,  6.62it/s]\n",
      "                 Class     Images  Instances      Box(P          R      mAP50  mAP50-95): 100%|██████████| 53/53 [00:09<00:00,  5.53it/s]"
     ]
    },
    {
     "name": "stdout",
     "output_type": "stream",
     "text": [
      "                   all       1683       1483      0.979      0.986      0.993      0.921\n"
     ]
    },
    {
     "name": "stderr",
     "output_type": "stream",
     "text": [
      "\n"
     ]
    },
    {
     "name": "stdout",
     "output_type": "stream",
     "text": [
      "\n",
      "      Epoch    GPU_mem   box_loss   cls_loss   dfl_loss  Instances       Size\n"
     ]
    },
    {
     "name": "stderr",
     "output_type": "stream",
     "text": [
      "     21/300     0.424G       1.19      0.628      1.671          8        128: 100%|██████████| 421/421 [01:02<00:00,  6.69it/s]\n",
      "                 Class     Images  Instances      Box(P          R      mAP50  mAP50-95): 100%|██████████| 53/53 [00:09<00:00,  5.45it/s]"
     ]
    },
    {
     "name": "stdout",
     "output_type": "stream",
     "text": [
      "                   all       1683       1483      0.976      0.977      0.993      0.911\n"
     ]
    },
    {
     "name": "stderr",
     "output_type": "stream",
     "text": [
      "\n"
     ]
    },
    {
     "name": "stdout",
     "output_type": "stream",
     "text": [
      "\n",
      "      Epoch    GPU_mem   box_loss   cls_loss   dfl_loss  Instances       Size\n"
     ]
    },
    {
     "name": "stderr",
     "output_type": "stream",
     "text": [
      "     22/300     0.424G      1.183     0.6142      1.658         17        128: 100%|██████████| 421/421 [01:02<00:00,  6.75it/s]\n",
      "                 Class     Images  Instances      Box(P          R      mAP50  mAP50-95): 100%|██████████| 53/53 [00:09<00:00,  5.43it/s]"
     ]
    },
    {
     "name": "stdout",
     "output_type": "stream",
     "text": [
      "                   all       1683       1483      0.968       0.99      0.992      0.919\n"
     ]
    },
    {
     "name": "stderr",
     "output_type": "stream",
     "text": [
      "\n"
     ]
    },
    {
     "name": "stdout",
     "output_type": "stream",
     "text": [
      "\n",
      "      Epoch    GPU_mem   box_loss   cls_loss   dfl_loss  Instances       Size\n"
     ]
    },
    {
     "name": "stderr",
     "output_type": "stream",
     "text": [
      "     23/300     0.424G       1.15     0.6031      1.657         18        128: 100%|██████████| 421/421 [01:03<00:00,  6.67it/s]\n",
      "                 Class     Images  Instances      Box(P          R      mAP50  mAP50-95): 100%|██████████| 53/53 [00:09<00:00,  5.43it/s]"
     ]
    },
    {
     "name": "stdout",
     "output_type": "stream",
     "text": [
      "                   all       1683       1483      0.971      0.991      0.993      0.943\n"
     ]
    },
    {
     "name": "stderr",
     "output_type": "stream",
     "text": [
      "\n"
     ]
    },
    {
     "name": "stdout",
     "output_type": "stream",
     "text": [
      "\n",
      "      Epoch    GPU_mem   box_loss   cls_loss   dfl_loss  Instances       Size\n"
     ]
    },
    {
     "name": "stderr",
     "output_type": "stream",
     "text": [
      "     24/300     0.424G      1.131     0.5958      1.658         22        128: 100%|██████████| 421/421 [01:03<00:00,  6.66it/s]\n",
      "                 Class     Images  Instances      Box(P          R      mAP50  mAP50-95): 100%|██████████| 53/53 [00:09<00:00,  5.44it/s]"
     ]
    },
    {
     "name": "stdout",
     "output_type": "stream",
     "text": [
      "                   all       1683       1483      0.979      0.984      0.991      0.931\n"
     ]
    },
    {
     "name": "stderr",
     "output_type": "stream",
     "text": [
      "\n"
     ]
    },
    {
     "name": "stdout",
     "output_type": "stream",
     "text": [
      "\n",
      "      Epoch    GPU_mem   box_loss   cls_loss   dfl_loss  Instances       Size\n"
     ]
    },
    {
     "name": "stderr",
     "output_type": "stream",
     "text": [
      "     25/300     0.424G      1.129     0.5977      1.653         15        128: 100%|██████████| 421/421 [01:02<00:00,  6.71it/s]\n",
      "                 Class     Images  Instances      Box(P          R      mAP50  mAP50-95): 100%|██████████| 53/53 [00:09<00:00,  5.48it/s]"
     ]
    },
    {
     "name": "stdout",
     "output_type": "stream",
     "text": [
      "                   all       1683       1483      0.976      0.992      0.993      0.918\n"
     ]
    },
    {
     "name": "stderr",
     "output_type": "stream",
     "text": [
      "\n"
     ]
    },
    {
     "name": "stdout",
     "output_type": "stream",
     "text": [
      "\n",
      "      Epoch    GPU_mem   box_loss   cls_loss   dfl_loss  Instances       Size\n"
     ]
    },
    {
     "name": "stderr",
     "output_type": "stream",
     "text": [
      "     26/300     0.424G      1.122     0.5934      1.654         15        128: 100%|██████████| 421/421 [01:02<00:00,  6.72it/s]\n",
      "                 Class     Images  Instances      Box(P          R      mAP50  mAP50-95): 100%|██████████| 53/53 [00:09<00:00,  5.43it/s]"
     ]
    },
    {
     "name": "stdout",
     "output_type": "stream",
     "text": [
      "                   all       1683       1483      0.974      0.989      0.993      0.934\n"
     ]
    },
    {
     "name": "stderr",
     "output_type": "stream",
     "text": [
      "\n"
     ]
    },
    {
     "name": "stdout",
     "output_type": "stream",
     "text": [
      "\n",
      "      Epoch    GPU_mem   box_loss   cls_loss   dfl_loss  Instances       Size\n"
     ]
    },
    {
     "name": "stderr",
     "output_type": "stream",
     "text": [
      "     27/300     0.424G      1.132     0.6108      1.658         15        128: 100%|██████████| 421/421 [01:02<00:00,  6.70it/s]\n",
      "                 Class     Images  Instances      Box(P          R      mAP50  mAP50-95): 100%|██████████| 53/53 [00:09<00:00,  5.47it/s]"
     ]
    },
    {
     "name": "stdout",
     "output_type": "stream",
     "text": [
      "                   all       1683       1483      0.975      0.981      0.992      0.928\n"
     ]
    },
    {
     "name": "stderr",
     "output_type": "stream",
     "text": [
      "\n"
     ]
    },
    {
     "name": "stdout",
     "output_type": "stream",
     "text": [
      "\n",
      "      Epoch    GPU_mem   box_loss   cls_loss   dfl_loss  Instances       Size\n"
     ]
    },
    {
     "name": "stderr",
     "output_type": "stream",
     "text": [
      "     28/300     0.424G      1.111     0.5968      1.652         13        128: 100%|██████████| 421/421 [01:02<00:00,  6.69it/s]\n",
      "                 Class     Images  Instances      Box(P          R      mAP50  mAP50-95): 100%|██████████| 53/53 [00:09<00:00,  5.44it/s]"
     ]
    },
    {
     "name": "stdout",
     "output_type": "stream",
     "text": [
      "                   all       1683       1483      0.976      0.986      0.992      0.934\n"
     ]
    },
    {
     "name": "stderr",
     "output_type": "stream",
     "text": [
      "\n"
     ]
    },
    {
     "name": "stdout",
     "output_type": "stream",
     "text": [
      "\n",
      "      Epoch    GPU_mem   box_loss   cls_loss   dfl_loss  Instances       Size\n"
     ]
    },
    {
     "name": "stderr",
     "output_type": "stream",
     "text": [
      "     29/300     0.424G      1.091     0.5733      1.652         13        128: 100%|██████████| 421/421 [01:02<00:00,  6.73it/s]\n",
      "                 Class     Images  Instances      Box(P          R      mAP50  mAP50-95): 100%|██████████| 53/53 [00:09<00:00,  5.43it/s]"
     ]
    },
    {
     "name": "stdout",
     "output_type": "stream",
     "text": [
      "                   all       1683       1483      0.969      0.995      0.991      0.946\n"
     ]
    },
    {
     "name": "stderr",
     "output_type": "stream",
     "text": [
      "\n"
     ]
    },
    {
     "name": "stdout",
     "output_type": "stream",
     "text": [
      "\n",
      "      Epoch    GPU_mem   box_loss   cls_loss   dfl_loss  Instances       Size\n"
     ]
    },
    {
     "name": "stderr",
     "output_type": "stream",
     "text": [
      "     30/300     0.424G      1.079     0.5774      1.646         14        128: 100%|██████████| 421/421 [01:03<00:00,  6.68it/s]\n",
      "                 Class     Images  Instances      Box(P          R      mAP50  mAP50-95): 100%|██████████| 53/53 [00:09<00:00,  5.48it/s]"
     ]
    },
    {
     "name": "stdout",
     "output_type": "stream",
     "text": [
      "                   all       1683       1483      0.976      0.982      0.993      0.933\n"
     ]
    },
    {
     "name": "stderr",
     "output_type": "stream",
     "text": [
      "\n"
     ]
    },
    {
     "name": "stdout",
     "output_type": "stream",
     "text": [
      "\n",
      "      Epoch    GPU_mem   box_loss   cls_loss   dfl_loss  Instances       Size\n"
     ]
    },
    {
     "name": "stderr",
     "output_type": "stream",
     "text": [
      "     31/300     0.424G      1.067     0.5646      1.645         16        128: 100%|██████████| 421/421 [01:02<00:00,  6.69it/s]\n",
      "                 Class     Images  Instances      Box(P          R      mAP50  mAP50-95): 100%|██████████| 53/53 [00:09<00:00,  5.44it/s]"
     ]
    },
    {
     "name": "stdout",
     "output_type": "stream",
     "text": [
      "                   all       1683       1483      0.967       0.99      0.993      0.948\n"
     ]
    },
    {
     "name": "stderr",
     "output_type": "stream",
     "text": [
      "\n"
     ]
    },
    {
     "name": "stdout",
     "output_type": "stream",
     "text": [
      "\n",
      "      Epoch    GPU_mem   box_loss   cls_loss   dfl_loss  Instances       Size\n"
     ]
    },
    {
     "name": "stderr",
     "output_type": "stream",
     "text": [
      "     32/300     0.424G      1.057     0.5643      1.642         13        128: 100%|██████████| 421/421 [01:02<00:00,  6.70it/s]\n",
      "                 Class     Images  Instances      Box(P          R      mAP50  mAP50-95): 100%|██████████| 53/53 [00:09<00:00,  5.45it/s]"
     ]
    },
    {
     "name": "stdout",
     "output_type": "stream",
     "text": [
      "                   all       1683       1483      0.976      0.989      0.994      0.957\n"
     ]
    },
    {
     "name": "stderr",
     "output_type": "stream",
     "text": [
      "\n"
     ]
    },
    {
     "name": "stdout",
     "output_type": "stream",
     "text": [
      "\n",
      "      Epoch    GPU_mem   box_loss   cls_loss   dfl_loss  Instances       Size\n"
     ]
    },
    {
     "name": "stderr",
     "output_type": "stream",
     "text": [
      "     33/300     0.426G      1.035      0.545      1.644         21        128: 100%|██████████| 421/421 [01:02<00:00,  6.71it/s]\n",
      "                 Class     Images  Instances      Box(P          R      mAP50  mAP50-95): 100%|██████████| 53/53 [00:09<00:00,  5.47it/s]"
     ]
    },
    {
     "name": "stdout",
     "output_type": "stream",
     "text": [
      "                   all       1683       1483      0.984      0.992      0.993       0.95\n"
     ]
    },
    {
     "name": "stderr",
     "output_type": "stream",
     "text": [
      "\n"
     ]
    },
    {
     "name": "stdout",
     "output_type": "stream",
     "text": [
      "\n",
      "      Epoch    GPU_mem   box_loss   cls_loss   dfl_loss  Instances       Size\n"
     ]
    },
    {
     "name": "stderr",
     "output_type": "stream",
     "text": [
      "     34/300     0.424G       1.03     0.5447      1.638          9        128: 100%|██████████| 421/421 [01:02<00:00,  6.75it/s]\n",
      "                 Class     Images  Instances      Box(P          R      mAP50  mAP50-95): 100%|██████████| 53/53 [00:09<00:00,  5.45it/s]"
     ]
    },
    {
     "name": "stdout",
     "output_type": "stream",
     "text": [
      "                   all       1683       1483      0.977      0.992      0.994      0.958\n"
     ]
    },
    {
     "name": "stderr",
     "output_type": "stream",
     "text": [
      "\n"
     ]
    },
    {
     "name": "stdout",
     "output_type": "stream",
     "text": [
      "\n",
      "      Epoch    GPU_mem   box_loss   cls_loss   dfl_loss  Instances       Size\n"
     ]
    },
    {
     "name": "stderr",
     "output_type": "stream",
     "text": [
      "     35/300     0.426G      1.034     0.5427      1.642         17        128: 100%|██████████| 421/421 [01:02<00:00,  6.71it/s]\n",
      "                 Class     Images  Instances      Box(P          R      mAP50  mAP50-95): 100%|██████████| 53/53 [00:09<00:00,  5.56it/s]"
     ]
    },
    {
     "name": "stdout",
     "output_type": "stream",
     "text": [
      "                   all       1683       1483       0.99      0.992      0.994      0.954\n"
     ]
    },
    {
     "name": "stderr",
     "output_type": "stream",
     "text": [
      "\n"
     ]
    },
    {
     "name": "stdout",
     "output_type": "stream",
     "text": [
      "\n",
      "      Epoch    GPU_mem   box_loss   cls_loss   dfl_loss  Instances       Size\n"
     ]
    },
    {
     "name": "stderr",
     "output_type": "stream",
     "text": [
      "     36/300     0.424G      1.027     0.5445      1.638         12        128: 100%|██████████| 421/421 [01:02<00:00,  6.69it/s]\n",
      "                 Class     Images  Instances      Box(P          R      mAP50  mAP50-95): 100%|██████████| 53/53 [00:09<00:00,  5.41it/s]"
     ]
    },
    {
     "name": "stdout",
     "output_type": "stream",
     "text": [
      "                   all       1683       1483      0.978      0.993      0.993      0.951\n"
     ]
    },
    {
     "name": "stderr",
     "output_type": "stream",
     "text": [
      "\n"
     ]
    },
    {
     "name": "stdout",
     "output_type": "stream",
     "text": [
      "\n",
      "      Epoch    GPU_mem   box_loss   cls_loss   dfl_loss  Instances       Size\n"
     ]
    },
    {
     "name": "stderr",
     "output_type": "stream",
     "text": [
      "     37/300     0.424G      1.006     0.5217      1.642         14        128: 100%|██████████| 421/421 [01:03<00:00,  6.68it/s]\n",
      "                 Class     Images  Instances      Box(P          R      mAP50  mAP50-95): 100%|██████████| 53/53 [00:09<00:00,  5.46it/s]"
     ]
    },
    {
     "name": "stdout",
     "output_type": "stream",
     "text": [
      "                   all       1683       1483      0.986      0.977      0.993      0.959\n"
     ]
    },
    {
     "name": "stderr",
     "output_type": "stream",
     "text": [
      "\n"
     ]
    },
    {
     "name": "stdout",
     "output_type": "stream",
     "text": [
      "\n",
      "      Epoch    GPU_mem   box_loss   cls_loss   dfl_loss  Instances       Size\n"
     ]
    },
    {
     "name": "stderr",
     "output_type": "stream",
     "text": [
      "     38/300     0.424G     0.9867     0.5189      1.634         13        128: 100%|██████████| 421/421 [01:02<00:00,  6.73it/s]\n",
      "                 Class     Images  Instances      Box(P          R      mAP50  mAP50-95): 100%|██████████| 53/53 [00:09<00:00,  5.48it/s]"
     ]
    },
    {
     "name": "stdout",
     "output_type": "stream",
     "text": [
      "                   all       1683       1483      0.984      0.996      0.994      0.963\n"
     ]
    },
    {
     "name": "stderr",
     "output_type": "stream",
     "text": [
      "\n"
     ]
    },
    {
     "name": "stdout",
     "output_type": "stream",
     "text": [
      "\n",
      "      Epoch    GPU_mem   box_loss   cls_loss   dfl_loss  Instances       Size\n"
     ]
    },
    {
     "name": "stderr",
     "output_type": "stream",
     "text": [
      "     39/300     0.424G      1.013     0.5401      1.637         12        128: 100%|██████████| 421/421 [01:03<00:00,  6.66it/s]\n",
      "                 Class     Images  Instances      Box(P          R      mAP50  mAP50-95): 100%|██████████| 53/53 [00:09<00:00,  5.51it/s]"
     ]
    },
    {
     "name": "stdout",
     "output_type": "stream",
     "text": [
      "                   all       1683       1483      0.968      0.996      0.993      0.956\n"
     ]
    },
    {
     "name": "stderr",
     "output_type": "stream",
     "text": [
      "\n"
     ]
    },
    {
     "name": "stdout",
     "output_type": "stream",
     "text": [
      "\n",
      "      Epoch    GPU_mem   box_loss   cls_loss   dfl_loss  Instances       Size\n"
     ]
    },
    {
     "name": "stderr",
     "output_type": "stream",
     "text": [
      "     40/300     0.424G     0.9938     0.5354      1.637         23        128: 100%|██████████| 421/421 [01:02<00:00,  6.72it/s]\n",
      "                 Class     Images  Instances      Box(P          R      mAP50  mAP50-95): 100%|██████████| 53/53 [00:09<00:00,  5.54it/s]"
     ]
    },
    {
     "name": "stdout",
     "output_type": "stream",
     "text": [
      "                   all       1683       1483      0.983      0.983      0.994      0.965\n"
     ]
    },
    {
     "name": "stderr",
     "output_type": "stream",
     "text": [
      "\n"
     ]
    },
    {
     "name": "stdout",
     "output_type": "stream",
     "text": [
      "\n",
      "      Epoch    GPU_mem   box_loss   cls_loss   dfl_loss  Instances       Size\n"
     ]
    },
    {
     "name": "stderr",
     "output_type": "stream",
     "text": [
      "     41/300     0.424G     0.9874     0.5187      1.637         17        128: 100%|██████████| 421/421 [01:02<00:00,  6.69it/s]\n",
      "                 Class     Images  Instances      Box(P          R      mAP50  mAP50-95): 100%|██████████| 53/53 [00:09<00:00,  5.39it/s]"
     ]
    },
    {
     "name": "stdout",
     "output_type": "stream",
     "text": [
      "                   all       1683       1483      0.989      0.993      0.994      0.959\n"
     ]
    },
    {
     "name": "stderr",
     "output_type": "stream",
     "text": [
      "\n"
     ]
    },
    {
     "name": "stdout",
     "output_type": "stream",
     "text": [
      "\n",
      "      Epoch    GPU_mem   box_loss   cls_loss   dfl_loss  Instances       Size\n"
     ]
    },
    {
     "name": "stderr",
     "output_type": "stream",
     "text": [
      "     42/300     0.426G       0.97      0.511      1.636         13        128: 100%|██████████| 421/421 [01:02<00:00,  6.73it/s]\n",
      "                 Class     Images  Instances      Box(P          R      mAP50  mAP50-95): 100%|██████████| 53/53 [00:09<00:00,  5.47it/s]"
     ]
    },
    {
     "name": "stdout",
     "output_type": "stream",
     "text": [
      "                   all       1683       1483      0.971      0.999      0.993      0.961\n"
     ]
    },
    {
     "name": "stderr",
     "output_type": "stream",
     "text": [
      "\n"
     ]
    },
    {
     "name": "stdout",
     "output_type": "stream",
     "text": [
      "\n",
      "      Epoch    GPU_mem   box_loss   cls_loss   dfl_loss  Instances       Size\n"
     ]
    },
    {
     "name": "stderr",
     "output_type": "stream",
     "text": [
      "     43/300     0.426G     0.9646     0.5074      1.631         20        128: 100%|██████████| 421/421 [01:03<00:00,  6.63it/s]\n",
      "                 Class     Images  Instances      Box(P          R      mAP50  mAP50-95): 100%|██████████| 53/53 [00:09<00:00,  5.46it/s]"
     ]
    },
    {
     "name": "stdout",
     "output_type": "stream",
     "text": [
      "                   all       1683       1483      0.974      0.996      0.993      0.964\n"
     ]
    },
    {
     "name": "stderr",
     "output_type": "stream",
     "text": [
      "\n"
     ]
    },
    {
     "name": "stdout",
     "output_type": "stream",
     "text": [
      "\n",
      "      Epoch    GPU_mem   box_loss   cls_loss   dfl_loss  Instances       Size\n"
     ]
    },
    {
     "name": "stderr",
     "output_type": "stream",
     "text": [
      "     44/300     0.424G     0.9511     0.5019      1.634         13        128: 100%|██████████| 421/421 [01:02<00:00,  6.68it/s]\n",
      "                 Class     Images  Instances      Box(P          R      mAP50  mAP50-95): 100%|██████████| 53/53 [00:09<00:00,  5.47it/s]"
     ]
    },
    {
     "name": "stdout",
     "output_type": "stream",
     "text": [
      "                   all       1683       1483      0.981      0.997      0.994      0.957\n"
     ]
    },
    {
     "name": "stderr",
     "output_type": "stream",
     "text": [
      "\n"
     ]
    },
    {
     "name": "stdout",
     "output_type": "stream",
     "text": [
      "\n",
      "      Epoch    GPU_mem   box_loss   cls_loss   dfl_loss  Instances       Size\n"
     ]
    },
    {
     "name": "stderr",
     "output_type": "stream",
     "text": [
      "     45/300     0.424G     0.9558     0.5014      1.633         15        128: 100%|██████████| 421/421 [01:03<00:00,  6.66it/s]\n",
      "                 Class     Images  Instances      Box(P          R      mAP50  mAP50-95): 100%|██████████| 53/53 [00:09<00:00,  5.43it/s]"
     ]
    },
    {
     "name": "stdout",
     "output_type": "stream",
     "text": [
      "                   all       1683       1483      0.981      0.992      0.994      0.967\n"
     ]
    },
    {
     "name": "stderr",
     "output_type": "stream",
     "text": [
      "\n"
     ]
    },
    {
     "name": "stdout",
     "output_type": "stream",
     "text": [
      "\n",
      "      Epoch    GPU_mem   box_loss   cls_loss   dfl_loss  Instances       Size\n"
     ]
    },
    {
     "name": "stderr",
     "output_type": "stream",
     "text": [
      "     46/300     0.426G     0.9538     0.5116      1.634         17        128: 100%|██████████| 421/421 [01:02<00:00,  6.71it/s]\n",
      "                 Class     Images  Instances      Box(P          R      mAP50  mAP50-95): 100%|██████████| 53/53 [00:09<00:00,  5.59it/s]"
     ]
    },
    {
     "name": "stdout",
     "output_type": "stream",
     "text": [
      "                   all       1683       1483      0.954      0.887      0.927      0.881\n"
     ]
    },
    {
     "name": "stderr",
     "output_type": "stream",
     "text": [
      "\n"
     ]
    },
    {
     "name": "stdout",
     "output_type": "stream",
     "text": [
      "\n",
      "      Epoch    GPU_mem   box_loss   cls_loss   dfl_loss  Instances       Size\n"
     ]
    },
    {
     "name": "stderr",
     "output_type": "stream",
     "text": [
      "     47/300     0.426G     0.9558     0.5102      1.633         10        128: 100%|██████████| 421/421 [01:03<00:00,  6.67it/s]\n",
      "                 Class     Images  Instances      Box(P          R      mAP50  mAP50-95): 100%|██████████| 53/53 [00:09<00:00,  5.55it/s]"
     ]
    },
    {
     "name": "stdout",
     "output_type": "stream",
     "text": [
      "                   all       1683       1483      0.979      0.993      0.994      0.966\n"
     ]
    },
    {
     "name": "stderr",
     "output_type": "stream",
     "text": [
      "\n"
     ]
    },
    {
     "name": "stdout",
     "output_type": "stream",
     "text": [
      "\n",
      "      Epoch    GPU_mem   box_loss   cls_loss   dfl_loss  Instances       Size\n"
     ]
    },
    {
     "name": "stderr",
     "output_type": "stream",
     "text": [
      "     48/300     0.424G       0.94     0.5024      1.633         17        128: 100%|██████████| 421/421 [01:02<00:00,  6.70it/s]\n",
      "                 Class     Images  Instances      Box(P          R      mAP50  mAP50-95): 100%|██████████| 53/53 [00:09<00:00,  5.50it/s]"
     ]
    },
    {
     "name": "stdout",
     "output_type": "stream",
     "text": [
      "                   all       1683       1483      0.981      0.986      0.993      0.969\n"
     ]
    },
    {
     "name": "stderr",
     "output_type": "stream",
     "text": [
      "\n"
     ]
    },
    {
     "name": "stdout",
     "output_type": "stream",
     "text": [
      "\n",
      "      Epoch    GPU_mem   box_loss   cls_loss   dfl_loss  Instances       Size\n"
     ]
    },
    {
     "name": "stderr",
     "output_type": "stream",
     "text": [
      "     49/300     0.424G      0.929     0.4881      1.631         10        128: 100%|██████████| 421/421 [01:02<00:00,  6.70it/s]\n",
      "                 Class     Images  Instances      Box(P          R      mAP50  mAP50-95): 100%|██████████| 53/53 [00:09<00:00,  5.46it/s]"
     ]
    },
    {
     "name": "stdout",
     "output_type": "stream",
     "text": [
      "                   all       1683       1483      0.978      0.989      0.993      0.968\n"
     ]
    },
    {
     "name": "stderr",
     "output_type": "stream",
     "text": [
      "\n"
     ]
    },
    {
     "name": "stdout",
     "output_type": "stream",
     "text": [
      "\n",
      "      Epoch    GPU_mem   box_loss   cls_loss   dfl_loss  Instances       Size\n"
     ]
    },
    {
     "name": "stderr",
     "output_type": "stream",
     "text": [
      "     50/300     0.424G     0.9255     0.5034      1.628         17        128: 100%|██████████| 421/421 [01:02<00:00,  6.76it/s]\n",
      "                 Class     Images  Instances      Box(P          R      mAP50  mAP50-95): 100%|██████████| 53/53 [00:09<00:00,  5.51it/s]"
     ]
    },
    {
     "name": "stdout",
     "output_type": "stream",
     "text": [
      "                   all       1683       1483      0.981       0.99      0.994      0.959\n"
     ]
    },
    {
     "name": "stderr",
     "output_type": "stream",
     "text": [
      "\n"
     ]
    },
    {
     "name": "stdout",
     "output_type": "stream",
     "text": [
      "\n",
      "      Epoch    GPU_mem   box_loss   cls_loss   dfl_loss  Instances       Size\n"
     ]
    },
    {
     "name": "stderr",
     "output_type": "stream",
     "text": [
      "     51/300     0.424G       0.93     0.4971       1.63         23        128: 100%|██████████| 421/421 [01:02<00:00,  6.72it/s]\n",
      "                 Class     Images  Instances      Box(P          R      mAP50  mAP50-95): 100%|██████████| 53/53 [00:09<00:00,  5.52it/s]"
     ]
    },
    {
     "name": "stdout",
     "output_type": "stream",
     "text": [
      "                   all       1683       1483      0.981      0.995      0.994      0.969\n"
     ]
    },
    {
     "name": "stderr",
     "output_type": "stream",
     "text": [
      "\n"
     ]
    },
    {
     "name": "stdout",
     "output_type": "stream",
     "text": [
      "\n",
      "      Epoch    GPU_mem   box_loss   cls_loss   dfl_loss  Instances       Size\n"
     ]
    },
    {
     "name": "stderr",
     "output_type": "stream",
     "text": [
      "     52/300     0.424G     0.9072     0.4817      1.629         14        128: 100%|██████████| 421/421 [01:02<00:00,  6.68it/s]\n",
      "                 Class     Images  Instances      Box(P          R      mAP50  mAP50-95): 100%|██████████| 53/53 [00:09<00:00,  5.56it/s]"
     ]
    },
    {
     "name": "stdout",
     "output_type": "stream",
     "text": [
      "                   all       1683       1483      0.952      0.937      0.971      0.926\n"
     ]
    },
    {
     "name": "stderr",
     "output_type": "stream",
     "text": [
      "\n"
     ]
    },
    {
     "name": "stdout",
     "output_type": "stream",
     "text": [
      "\n",
      "      Epoch    GPU_mem   box_loss   cls_loss   dfl_loss  Instances       Size\n"
     ]
    },
    {
     "name": "stderr",
     "output_type": "stream",
     "text": [
      "     53/300     0.426G     0.9268     0.4953       1.63         13        128: 100%|██████████| 421/421 [01:02<00:00,  6.74it/s]\n",
      "                 Class     Images  Instances      Box(P          R      mAP50  mAP50-95): 100%|██████████| 53/53 [00:09<00:00,  5.59it/s]"
     ]
    },
    {
     "name": "stdout",
     "output_type": "stream",
     "text": [
      "                   all       1683       1483      0.975      0.966      0.992      0.963\n"
     ]
    },
    {
     "name": "stderr",
     "output_type": "stream",
     "text": [
      "\n"
     ]
    },
    {
     "name": "stdout",
     "output_type": "stream",
     "text": [
      "\n",
      "      Epoch    GPU_mem   box_loss   cls_loss   dfl_loss  Instances       Size\n"
     ]
    },
    {
     "name": "stderr",
     "output_type": "stream",
     "text": [
      "     54/300     0.424G     0.9038     0.4825      1.625         17        128: 100%|██████████| 421/421 [01:03<00:00,  6.65it/s]\n",
      "                 Class     Images  Instances      Box(P          R      mAP50  mAP50-95): 100%|██████████| 53/53 [00:09<00:00,  5.52it/s]"
     ]
    },
    {
     "name": "stdout",
     "output_type": "stream",
     "text": [
      "                   all       1683       1483      0.983      0.986      0.994      0.973\n"
     ]
    },
    {
     "name": "stderr",
     "output_type": "stream",
     "text": [
      "\n"
     ]
    },
    {
     "name": "stdout",
     "output_type": "stream",
     "text": [
      "\n",
      "      Epoch    GPU_mem   box_loss   cls_loss   dfl_loss  Instances       Size\n"
     ]
    },
    {
     "name": "stderr",
     "output_type": "stream",
     "text": [
      "     55/300     0.426G      0.906     0.4857      1.626         18        128: 100%|██████████| 421/421 [01:02<00:00,  6.75it/s]\n",
      "                 Class     Images  Instances      Box(P          R      mAP50  mAP50-95): 100%|██████████| 53/53 [00:09<00:00,  5.46it/s]"
     ]
    },
    {
     "name": "stdout",
     "output_type": "stream",
     "text": [
      "                   all       1683       1483      0.975      0.995      0.993       0.97\n"
     ]
    },
    {
     "name": "stderr",
     "output_type": "stream",
     "text": [
      "\n"
     ]
    },
    {
     "name": "stdout",
     "output_type": "stream",
     "text": [
      "\n",
      "      Epoch    GPU_mem   box_loss   cls_loss   dfl_loss  Instances       Size\n"
     ]
    },
    {
     "name": "stderr",
     "output_type": "stream",
     "text": [
      "     56/300     0.424G     0.8984     0.4803      1.627         18        128: 100%|██████████| 421/421 [01:02<00:00,  6.69it/s]\n",
      "                 Class     Images  Instances      Box(P          R      mAP50  mAP50-95): 100%|██████████| 53/53 [00:09<00:00,  5.45it/s]"
     ]
    },
    {
     "name": "stdout",
     "output_type": "stream",
     "text": [
      "                   all       1683       1483      0.977      0.993      0.993      0.974\n"
     ]
    },
    {
     "name": "stderr",
     "output_type": "stream",
     "text": [
      "\n"
     ]
    },
    {
     "name": "stdout",
     "output_type": "stream",
     "text": [
      "\n",
      "      Epoch    GPU_mem   box_loss   cls_loss   dfl_loss  Instances       Size\n"
     ]
    },
    {
     "name": "stderr",
     "output_type": "stream",
     "text": [
      "     57/300     0.426G     0.8971     0.4739      1.626         16        128: 100%|██████████| 421/421 [01:02<00:00,  6.72it/s]\n",
      "                 Class     Images  Instances      Box(P          R      mAP50  mAP50-95): 100%|██████████| 53/53 [00:09<00:00,  5.49it/s]"
     ]
    },
    {
     "name": "stdout",
     "output_type": "stream",
     "text": [
      "                   all       1683       1483      0.982      0.993      0.994      0.973\n"
     ]
    },
    {
     "name": "stderr",
     "output_type": "stream",
     "text": [
      "\n"
     ]
    },
    {
     "name": "stdout",
     "output_type": "stream",
     "text": [
      "\n",
      "      Epoch    GPU_mem   box_loss   cls_loss   dfl_loss  Instances       Size\n"
     ]
    },
    {
     "name": "stderr",
     "output_type": "stream",
     "text": [
      "     58/300     0.424G     0.8903     0.4737      1.626         15        128: 100%|██████████| 421/421 [01:02<00:00,  6.75it/s]\n",
      "                 Class     Images  Instances      Box(P          R      mAP50  mAP50-95): 100%|██████████| 53/53 [00:09<00:00,  5.70it/s]"
     ]
    },
    {
     "name": "stdout",
     "output_type": "stream",
     "text": [
      "                   all       1683       1483      0.982      0.921      0.956      0.937\n"
     ]
    },
    {
     "name": "stderr",
     "output_type": "stream",
     "text": [
      "\n"
     ]
    },
    {
     "name": "stdout",
     "output_type": "stream",
     "text": [
      "\n",
      "      Epoch    GPU_mem   box_loss   cls_loss   dfl_loss  Instances       Size\n"
     ]
    },
    {
     "name": "stderr",
     "output_type": "stream",
     "text": [
      "     59/300     0.426G     0.8896     0.4747      1.627         14        128: 100%|██████████| 421/421 [01:02<00:00,  6.73it/s]\n",
      "                 Class     Images  Instances      Box(P          R      mAP50  mAP50-95): 100%|██████████| 53/53 [00:09<00:00,  5.41it/s]"
     ]
    },
    {
     "name": "stdout",
     "output_type": "stream",
     "text": [
      "                   all       1683       1483      0.982      0.995      0.993      0.976\n"
     ]
    },
    {
     "name": "stderr",
     "output_type": "stream",
     "text": [
      "\n"
     ]
    },
    {
     "name": "stdout",
     "output_type": "stream",
     "text": [
      "\n",
      "      Epoch    GPU_mem   box_loss   cls_loss   dfl_loss  Instances       Size\n"
     ]
    },
    {
     "name": "stderr",
     "output_type": "stream",
     "text": [
      "     60/300     0.424G     0.8976     0.4878      1.623         19        128: 100%|██████████| 421/421 [01:02<00:00,  6.73it/s]\n",
      "                 Class     Images  Instances      Box(P          R      mAP50  mAP50-95): 100%|██████████| 53/53 [00:09<00:00,  5.48it/s]"
     ]
    },
    {
     "name": "stdout",
     "output_type": "stream",
     "text": [
      "                   all       1683       1483      0.987      0.993      0.994      0.976\n"
     ]
    },
    {
     "name": "stderr",
     "output_type": "stream",
     "text": [
      "\n"
     ]
    },
    {
     "name": "stdout",
     "output_type": "stream",
     "text": [
      "\n",
      "      Epoch    GPU_mem   box_loss   cls_loss   dfl_loss  Instances       Size\n"
     ]
    },
    {
     "name": "stderr",
     "output_type": "stream",
     "text": [
      "     61/300     0.424G     0.8731     0.4632      1.618         17        128: 100%|██████████| 421/421 [01:02<00:00,  6.69it/s]\n",
      "                 Class     Images  Instances      Box(P          R      mAP50  mAP50-95): 100%|██████████| 53/53 [00:09<00:00,  5.44it/s]"
     ]
    },
    {
     "name": "stdout",
     "output_type": "stream",
     "text": [
      "                   all       1683       1483      0.987      0.991      0.994      0.979\n"
     ]
    },
    {
     "name": "stderr",
     "output_type": "stream",
     "text": [
      "\n"
     ]
    },
    {
     "name": "stdout",
     "output_type": "stream",
     "text": [
      "\n",
      "      Epoch    GPU_mem   box_loss   cls_loss   dfl_loss  Instances       Size\n"
     ]
    },
    {
     "name": "stderr",
     "output_type": "stream",
     "text": [
      "     62/300     0.424G     0.8855     0.4687      1.628         19        128: 100%|██████████| 421/421 [01:02<00:00,  6.69it/s]\n",
      "                 Class     Images  Instances      Box(P          R      mAP50  mAP50-95): 100%|██████████| 53/53 [00:09<00:00,  5.48it/s]"
     ]
    },
    {
     "name": "stdout",
     "output_type": "stream",
     "text": [
      "                   all       1683       1483      0.983      0.996      0.994      0.979\n"
     ]
    },
    {
     "name": "stderr",
     "output_type": "stream",
     "text": [
      "\n"
     ]
    },
    {
     "name": "stdout",
     "output_type": "stream",
     "text": [
      "\n",
      "      Epoch    GPU_mem   box_loss   cls_loss   dfl_loss  Instances       Size\n"
     ]
    },
    {
     "name": "stderr",
     "output_type": "stream",
     "text": [
      "     63/300     0.426G      0.858     0.4549      1.617         12        128: 100%|██████████| 421/421 [01:02<00:00,  6.72it/s]\n",
      "                 Class     Images  Instances      Box(P          R      mAP50  mAP50-95): 100%|██████████| 53/53 [00:09<00:00,  5.50it/s]"
     ]
    },
    {
     "name": "stdout",
     "output_type": "stream",
     "text": [
      "                   all       1683       1483      0.984       0.98      0.989      0.963\n"
     ]
    },
    {
     "name": "stderr",
     "output_type": "stream",
     "text": [
      "\n"
     ]
    },
    {
     "name": "stdout",
     "output_type": "stream",
     "text": [
      "\n",
      "      Epoch    GPU_mem   box_loss   cls_loss   dfl_loss  Instances       Size\n"
     ]
    },
    {
     "name": "stderr",
     "output_type": "stream",
     "text": [
      "     64/300     0.424G     0.8564     0.4614      1.618         16        128: 100%|██████████| 421/421 [01:03<00:00,  6.66it/s]\n",
      "                 Class     Images  Instances      Box(P          R      mAP50  mAP50-95): 100%|██████████| 53/53 [00:09<00:00,  5.43it/s]"
     ]
    },
    {
     "name": "stdout",
     "output_type": "stream",
     "text": [
      "                   all       1683       1483      0.977      0.985      0.993      0.974\n"
     ]
    },
    {
     "name": "stderr",
     "output_type": "stream",
     "text": [
      "\n"
     ]
    },
    {
     "name": "stdout",
     "output_type": "stream",
     "text": [
      "\n",
      "      Epoch    GPU_mem   box_loss   cls_loss   dfl_loss  Instances       Size\n"
     ]
    },
    {
     "name": "stderr",
     "output_type": "stream",
     "text": [
      "     65/300     0.424G     0.8595     0.4577       1.62         12        128: 100%|██████████| 421/421 [01:02<00:00,  6.74it/s]\n",
      "                 Class     Images  Instances      Box(P          R      mAP50  mAP50-95): 100%|██████████| 53/53 [00:09<00:00,  5.42it/s]"
     ]
    },
    {
     "name": "stdout",
     "output_type": "stream",
     "text": [
      "                   all       1683       1483       0.98      0.984      0.993      0.976\n"
     ]
    },
    {
     "name": "stderr",
     "output_type": "stream",
     "text": [
      "\n"
     ]
    },
    {
     "name": "stdout",
     "output_type": "stream",
     "text": [
      "\n",
      "      Epoch    GPU_mem   box_loss   cls_loss   dfl_loss  Instances       Size\n"
     ]
    },
    {
     "name": "stderr",
     "output_type": "stream",
     "text": [
      "     66/300     0.424G     0.8551     0.4585      1.624         19        128: 100%|██████████| 421/421 [01:03<00:00,  6.68it/s]\n",
      "                 Class     Images  Instances      Box(P          R      mAP50  mAP50-95): 100%|██████████| 53/53 [00:09<00:00,  5.44it/s]"
     ]
    },
    {
     "name": "stdout",
     "output_type": "stream",
     "text": [
      "                   all       1683       1483      0.987      0.998      0.994      0.978\n"
     ]
    },
    {
     "name": "stderr",
     "output_type": "stream",
     "text": [
      "\n"
     ]
    },
    {
     "name": "stdout",
     "output_type": "stream",
     "text": [
      "\n",
      "      Epoch    GPU_mem   box_loss   cls_loss   dfl_loss  Instances       Size\n"
     ]
    },
    {
     "name": "stderr",
     "output_type": "stream",
     "text": [
      "     67/300     0.424G     0.8462     0.4554      1.622         15        128: 100%|██████████| 421/421 [01:02<00:00,  6.70it/s]\n",
      "                 Class     Images  Instances      Box(P          R      mAP50  mAP50-95): 100%|██████████| 53/53 [00:09<00:00,  5.47it/s]"
     ]
    },
    {
     "name": "stdout",
     "output_type": "stream",
     "text": [
      "                   all       1683       1483      0.985      0.989      0.994      0.977\n"
     ]
    },
    {
     "name": "stderr",
     "output_type": "stream",
     "text": [
      "\n"
     ]
    },
    {
     "name": "stdout",
     "output_type": "stream",
     "text": [
      "\n",
      "      Epoch    GPU_mem   box_loss   cls_loss   dfl_loss  Instances       Size\n"
     ]
    },
    {
     "name": "stderr",
     "output_type": "stream",
     "text": [
      "     68/300     0.424G     0.8338     0.4517      1.619         15        128: 100%|██████████| 421/421 [01:03<00:00,  6.66it/s]\n",
      "                 Class     Images  Instances      Box(P          R      mAP50  mAP50-95): 100%|██████████| 53/53 [00:09<00:00,  5.49it/s]"
     ]
    },
    {
     "name": "stdout",
     "output_type": "stream",
     "text": [
      "                   all       1683       1483      0.987       0.99      0.994      0.976\n"
     ]
    },
    {
     "name": "stderr",
     "output_type": "stream",
     "text": [
      "\n"
     ]
    },
    {
     "name": "stdout",
     "output_type": "stream",
     "text": [
      "\n",
      "      Epoch    GPU_mem   box_loss   cls_loss   dfl_loss  Instances       Size\n"
     ]
    },
    {
     "name": "stderr",
     "output_type": "stream",
     "text": [
      "     69/300     0.424G     0.8341     0.4526       1.62         14        128: 100%|██████████| 421/421 [01:02<00:00,  6.74it/s]\n",
      "                 Class     Images  Instances      Box(P          R      mAP50  mAP50-95): 100%|██████████| 53/53 [00:09<00:00,  5.53it/s]"
     ]
    },
    {
     "name": "stdout",
     "output_type": "stream",
     "text": [
      "                   all       1683       1483      0.987      0.993      0.994      0.982\n"
     ]
    },
    {
     "name": "stderr",
     "output_type": "stream",
     "text": [
      "\n"
     ]
    },
    {
     "name": "stdout",
     "output_type": "stream",
     "text": [
      "\n",
      "      Epoch    GPU_mem   box_loss   cls_loss   dfl_loss  Instances       Size\n"
     ]
    },
    {
     "name": "stderr",
     "output_type": "stream",
     "text": [
      "     70/300     0.426G     0.8342     0.4499      1.624         16        128: 100%|██████████| 421/421 [01:02<00:00,  6.72it/s]\n",
      "                 Class     Images  Instances      Box(P          R      mAP50  mAP50-95): 100%|██████████| 53/53 [00:09<00:00,  5.47it/s]"
     ]
    },
    {
     "name": "stdout",
     "output_type": "stream",
     "text": [
      "                   all       1683       1483      0.989      0.992      0.994      0.977\n"
     ]
    },
    {
     "name": "stderr",
     "output_type": "stream",
     "text": [
      "\n"
     ]
    },
    {
     "name": "stdout",
     "output_type": "stream",
     "text": [
      "\n",
      "      Epoch    GPU_mem   box_loss   cls_loss   dfl_loss  Instances       Size\n"
     ]
    },
    {
     "name": "stderr",
     "output_type": "stream",
     "text": [
      "     71/300     0.426G     0.8318     0.4481      1.623         13        128: 100%|██████████| 421/421 [01:02<00:00,  6.71it/s]\n",
      "                 Class     Images  Instances      Box(P          R      mAP50  mAP50-95): 100%|██████████| 53/53 [00:09<00:00,  5.54it/s]"
     ]
    },
    {
     "name": "stdout",
     "output_type": "stream",
     "text": [
      "                   all       1683       1483      0.986      0.987      0.994       0.98\n"
     ]
    },
    {
     "name": "stderr",
     "output_type": "stream",
     "text": [
      "\n"
     ]
    },
    {
     "name": "stdout",
     "output_type": "stream",
     "text": [
      "\n",
      "      Epoch    GPU_mem   box_loss   cls_loss   dfl_loss  Instances       Size\n"
     ]
    },
    {
     "name": "stderr",
     "output_type": "stream",
     "text": [
      "     72/300     0.424G     0.8328     0.4502       1.62         19        128: 100%|██████████| 421/421 [01:02<00:00,  6.70it/s]\n",
      "                 Class     Images  Instances      Box(P          R      mAP50  mAP50-95): 100%|██████████| 53/53 [00:09<00:00,  5.46it/s]"
     ]
    },
    {
     "name": "stdout",
     "output_type": "stream",
     "text": [
      "                   all       1683       1483      0.987      0.995      0.994       0.98\n"
     ]
    },
    {
     "name": "stderr",
     "output_type": "stream",
     "text": [
      "\n"
     ]
    },
    {
     "name": "stdout",
     "output_type": "stream",
     "text": [
      "\n",
      "      Epoch    GPU_mem   box_loss   cls_loss   dfl_loss  Instances       Size\n"
     ]
    },
    {
     "name": "stderr",
     "output_type": "stream",
     "text": [
      "     73/300     0.426G     0.8201     0.4502      1.615         17        128: 100%|██████████| 421/421 [01:03<00:00,  6.66it/s]\n",
      "                 Class     Images  Instances      Box(P          R      mAP50  mAP50-95): 100%|██████████| 53/53 [00:09<00:00,  5.57it/s]"
     ]
    },
    {
     "name": "stdout",
     "output_type": "stream",
     "text": [
      "                   all       1683       1483      0.988      0.995      0.994      0.978\n"
     ]
    },
    {
     "name": "stderr",
     "output_type": "stream",
     "text": [
      "\n"
     ]
    },
    {
     "name": "stdout",
     "output_type": "stream",
     "text": [
      "\n",
      "      Epoch    GPU_mem   box_loss   cls_loss   dfl_loss  Instances       Size\n"
     ]
    },
    {
     "name": "stderr",
     "output_type": "stream",
     "text": [
      "     74/300     0.426G     0.8196     0.4416      1.619         13        128: 100%|██████████| 421/421 [01:03<00:00,  6.67it/s]\n",
      "                 Class     Images  Instances      Box(P          R      mAP50  mAP50-95): 100%|██████████| 53/53 [00:09<00:00,  5.45it/s]"
     ]
    },
    {
     "name": "stdout",
     "output_type": "stream",
     "text": [
      "                   all       1683       1483      0.983      0.992      0.994      0.981\n"
     ]
    },
    {
     "name": "stderr",
     "output_type": "stream",
     "text": [
      "\n"
     ]
    },
    {
     "name": "stdout",
     "output_type": "stream",
     "text": [
      "\n",
      "      Epoch    GPU_mem   box_loss   cls_loss   dfl_loss  Instances       Size\n"
     ]
    },
    {
     "name": "stderr",
     "output_type": "stream",
     "text": [
      "     75/300     0.424G     0.8187     0.4399      1.619         12        128: 100%|██████████| 421/421 [01:02<00:00,  6.72it/s]\n",
      "                 Class     Images  Instances      Box(P          R      mAP50  mAP50-95): 100%|██████████| 53/53 [00:09<00:00,  5.56it/s]"
     ]
    },
    {
     "name": "stdout",
     "output_type": "stream",
     "text": [
      "                   all       1683       1483      0.978      0.998      0.994      0.981\n"
     ]
    },
    {
     "name": "stderr",
     "output_type": "stream",
     "text": [
      "\n"
     ]
    },
    {
     "name": "stdout",
     "output_type": "stream",
     "text": [
      "\n",
      "      Epoch    GPU_mem   box_loss   cls_loss   dfl_loss  Instances       Size\n"
     ]
    },
    {
     "name": "stderr",
     "output_type": "stream",
     "text": [
      "     76/300     0.424G     0.8202     0.4442      1.616         17        128: 100%|██████████| 421/421 [00:40<00:00, 10.52it/s]\n",
      "                 Class     Images  Instances      Box(P          R      mAP50  mAP50-95): 100%|██████████| 53/53 [00:04<00:00, 10.62it/s]"
     ]
    },
    {
     "name": "stdout",
     "output_type": "stream",
     "text": [
      "                   all       1683       1483      0.988      0.983      0.994      0.981\n"
     ]
    },
    {
     "name": "stderr",
     "output_type": "stream",
     "text": [
      "\n"
     ]
    },
    {
     "name": "stdout",
     "output_type": "stream",
     "text": [
      "\n",
      "      Epoch    GPU_mem   box_loss   cls_loss   dfl_loss  Instances       Size\n"
     ]
    },
    {
     "name": "stderr",
     "output_type": "stream",
     "text": [
      "     77/300     0.424G     0.8128     0.4316      1.617         17        128: 100%|██████████| 421/421 [00:37<00:00, 11.36it/s]\n",
      "                 Class     Images  Instances      Box(P          R      mAP50  mAP50-95): 100%|██████████| 53/53 [00:04<00:00, 10.94it/s]"
     ]
    },
    {
     "name": "stdout",
     "output_type": "stream",
     "text": [
      "                   all       1683       1483      0.979          1      0.994      0.981\n"
     ]
    },
    {
     "name": "stderr",
     "output_type": "stream",
     "text": [
      "\n"
     ]
    },
    {
     "name": "stdout",
     "output_type": "stream",
     "text": [
      "\n",
      "      Epoch    GPU_mem   box_loss   cls_loss   dfl_loss  Instances       Size\n"
     ]
    },
    {
     "name": "stderr",
     "output_type": "stream",
     "text": [
      "     78/300     0.424G     0.7996     0.4372      1.615         18        128: 100%|██████████| 421/421 [00:37<00:00, 11.28it/s]\n",
      "                 Class     Images  Instances      Box(P          R      mAP50  mAP50-95): 100%|██████████| 53/53 [00:04<00:00, 11.12it/s]"
     ]
    },
    {
     "name": "stdout",
     "output_type": "stream",
     "text": [
      "                   all       1683       1483      0.987      0.994      0.994      0.983\n"
     ]
    },
    {
     "name": "stderr",
     "output_type": "stream",
     "text": [
      "\n"
     ]
    },
    {
     "name": "stdout",
     "output_type": "stream",
     "text": [
      "\n",
      "      Epoch    GPU_mem   box_loss   cls_loss   dfl_loss  Instances       Size\n"
     ]
    },
    {
     "name": "stderr",
     "output_type": "stream",
     "text": [
      "     79/300     0.424G     0.7923     0.4262      1.613         16        128: 100%|██████████| 421/421 [00:37<00:00, 11.24it/s]\n",
      "                 Class     Images  Instances      Box(P          R      mAP50  mAP50-95): 100%|██████████| 53/53 [00:04<00:00, 11.16it/s]"
     ]
    },
    {
     "name": "stdout",
     "output_type": "stream",
     "text": [
      "                   all       1683       1483      0.989      0.997      0.994      0.984\n"
     ]
    },
    {
     "name": "stderr",
     "output_type": "stream",
     "text": [
      "\n"
     ]
    },
    {
     "name": "stdout",
     "output_type": "stream",
     "text": [
      "\n",
      "      Epoch    GPU_mem   box_loss   cls_loss   dfl_loss  Instances       Size\n"
     ]
    },
    {
     "name": "stderr",
     "output_type": "stream",
     "text": [
      "     80/300     0.424G     0.8007     0.4283      1.619         13        128: 100%|██████████| 421/421 [00:37<00:00, 11.29it/s]\n",
      "                 Class     Images  Instances      Box(P          R      mAP50  mAP50-95): 100%|██████████| 53/53 [00:04<00:00, 11.04it/s]"
     ]
    },
    {
     "name": "stdout",
     "output_type": "stream",
     "text": [
      "                   all       1683       1483      0.988      0.998      0.994      0.985\n"
     ]
    },
    {
     "name": "stderr",
     "output_type": "stream",
     "text": [
      "\n"
     ]
    },
    {
     "name": "stdout",
     "output_type": "stream",
     "text": [
      "\n",
      "      Epoch    GPU_mem   box_loss   cls_loss   dfl_loss  Instances       Size\n"
     ]
    },
    {
     "name": "stderr",
     "output_type": "stream",
     "text": [
      "     81/300     0.424G     0.7984     0.4303      1.616         13        128: 100%|██████████| 421/421 [00:37<00:00, 11.35it/s]\n",
      "                 Class     Images  Instances      Box(P          R      mAP50  mAP50-95): 100%|██████████| 53/53 [00:04<00:00, 11.06it/s]"
     ]
    },
    {
     "name": "stdout",
     "output_type": "stream",
     "text": [
      "                   all       1683       1483      0.988      0.993      0.994      0.983\n"
     ]
    },
    {
     "name": "stderr",
     "output_type": "stream",
     "text": [
      "\n"
     ]
    },
    {
     "name": "stdout",
     "output_type": "stream",
     "text": [
      "\n",
      "      Epoch    GPU_mem   box_loss   cls_loss   dfl_loss  Instances       Size\n"
     ]
    },
    {
     "name": "stderr",
     "output_type": "stream",
     "text": [
      "     82/300     0.426G      0.797     0.4299      1.612         11        128: 100%|██████████| 421/421 [00:37<00:00, 11.32it/s]\n",
      "                 Class     Images  Instances      Box(P          R      mAP50  mAP50-95): 100%|██████████| 53/53 [00:04<00:00, 11.26it/s]"
     ]
    },
    {
     "name": "stdout",
     "output_type": "stream",
     "text": [
      "                   all       1683       1483      0.987      0.999      0.994      0.983\n"
     ]
    },
    {
     "name": "stderr",
     "output_type": "stream",
     "text": [
      "\n"
     ]
    },
    {
     "name": "stdout",
     "output_type": "stream",
     "text": [
      "\n",
      "      Epoch    GPU_mem   box_loss   cls_loss   dfl_loss  Instances       Size\n"
     ]
    },
    {
     "name": "stderr",
     "output_type": "stream",
     "text": [
      "     83/300     0.424G     0.7873     0.4221      1.618         16        128: 100%|██████████| 421/421 [00:37<00:00, 11.25it/s]\n",
      "                 Class     Images  Instances      Box(P          R      mAP50  mAP50-95): 100%|██████████| 53/53 [00:04<00:00, 11.24it/s]"
     ]
    },
    {
     "name": "stdout",
     "output_type": "stream",
     "text": [
      "                   all       1683       1483      0.986      0.993      0.994      0.984\n"
     ]
    },
    {
     "name": "stderr",
     "output_type": "stream",
     "text": [
      "\n"
     ]
    },
    {
     "name": "stdout",
     "output_type": "stream",
     "text": [
      "\n",
      "      Epoch    GPU_mem   box_loss   cls_loss   dfl_loss  Instances       Size\n"
     ]
    },
    {
     "name": "stderr",
     "output_type": "stream",
     "text": [
      "     84/300     0.424G     0.7724     0.4223      1.614         16        128: 100%|██████████| 421/421 [00:36<00:00, 11.41it/s]\n",
      "                 Class     Images  Instances      Box(P          R      mAP50  mAP50-95): 100%|██████████| 53/53 [00:04<00:00, 11.22it/s]"
     ]
    },
    {
     "name": "stdout",
     "output_type": "stream",
     "text": [
      "                   all       1683       1483      0.987      0.997      0.994      0.985\n"
     ]
    },
    {
     "name": "stderr",
     "output_type": "stream",
     "text": [
      "\n"
     ]
    },
    {
     "name": "stdout",
     "output_type": "stream",
     "text": [
      "\n",
      "      Epoch    GPU_mem   box_loss   cls_loss   dfl_loss  Instances       Size\n"
     ]
    },
    {
     "name": "stderr",
     "output_type": "stream",
     "text": [
      "     85/300     0.426G     0.7835     0.4244      1.618         17        128: 100%|██████████| 421/421 [00:36<00:00, 11.42it/s]\n",
      "                 Class     Images  Instances      Box(P          R      mAP50  mAP50-95): 100%|██████████| 53/53 [00:04<00:00, 11.26it/s]"
     ]
    },
    {
     "name": "stdout",
     "output_type": "stream",
     "text": [
      "                   all       1683       1483      0.987      0.997      0.994      0.984\n"
     ]
    },
    {
     "name": "stderr",
     "output_type": "stream",
     "text": [
      "\n"
     ]
    },
    {
     "name": "stdout",
     "output_type": "stream",
     "text": [
      "\n",
      "      Epoch    GPU_mem   box_loss   cls_loss   dfl_loss  Instances       Size\n"
     ]
    },
    {
     "name": "stderr",
     "output_type": "stream",
     "text": [
      "     86/300     0.424G     0.7705     0.4212      1.613         14        128: 100%|██████████| 421/421 [00:36<00:00, 11.40it/s]\n",
      "                 Class     Images  Instances      Box(P          R      mAP50  mAP50-95): 100%|██████████| 53/53 [00:04<00:00, 11.36it/s]"
     ]
    },
    {
     "name": "stdout",
     "output_type": "stream",
     "text": [
      "                   all       1683       1483      0.988      0.995      0.994      0.984\n"
     ]
    },
    {
     "name": "stderr",
     "output_type": "stream",
     "text": [
      "\n"
     ]
    },
    {
     "name": "stdout",
     "output_type": "stream",
     "text": [
      "\n",
      "      Epoch    GPU_mem   box_loss   cls_loss   dfl_loss  Instances       Size\n"
     ]
    },
    {
     "name": "stderr",
     "output_type": "stream",
     "text": [
      "     87/300     0.424G     0.7704     0.4122      1.611         12        128: 100%|██████████| 421/421 [00:37<00:00, 11.37it/s]\n",
      "                 Class     Images  Instances      Box(P          R      mAP50  mAP50-95): 100%|██████████| 53/53 [00:04<00:00, 11.22it/s]"
     ]
    },
    {
     "name": "stdout",
     "output_type": "stream",
     "text": [
      "                   all       1683       1483      0.987      0.996      0.994      0.984\n"
     ]
    },
    {
     "name": "stderr",
     "output_type": "stream",
     "text": [
      "\n"
     ]
    },
    {
     "name": "stdout",
     "output_type": "stream",
     "text": [
      "\n",
      "      Epoch    GPU_mem   box_loss   cls_loss   dfl_loss  Instances       Size\n"
     ]
    },
    {
     "name": "stderr",
     "output_type": "stream",
     "text": [
      "     88/300     0.424G     0.7811     0.4153      1.614         19        128: 100%|██████████| 421/421 [00:37<00:00, 11.29it/s]\n",
      "                 Class     Images  Instances      Box(P          R      mAP50  mAP50-95): 100%|██████████| 53/53 [00:04<00:00, 11.31it/s]"
     ]
    },
    {
     "name": "stdout",
     "output_type": "stream",
     "text": [
      "                   all       1683       1483      0.989      0.995      0.994      0.985\n"
     ]
    },
    {
     "name": "stderr",
     "output_type": "stream",
     "text": [
      "\n"
     ]
    },
    {
     "name": "stdout",
     "output_type": "stream",
     "text": [
      "\n",
      "      Epoch    GPU_mem   box_loss   cls_loss   dfl_loss  Instances       Size\n"
     ]
    },
    {
     "name": "stderr",
     "output_type": "stream",
     "text": [
      "     89/300     0.424G     0.7801     0.4225      1.612         11        128: 100%|██████████| 421/421 [00:37<00:00, 11.37it/s]\n",
      "                 Class     Images  Instances      Box(P          R      mAP50  mAP50-95): 100%|██████████| 53/53 [00:04<00:00, 11.15it/s]"
     ]
    },
    {
     "name": "stdout",
     "output_type": "stream",
     "text": [
      "                   all       1683       1483      0.982      0.999      0.994      0.983\n"
     ]
    },
    {
     "name": "stderr",
     "output_type": "stream",
     "text": [
      "\n"
     ]
    },
    {
     "name": "stdout",
     "output_type": "stream",
     "text": [
      "\n",
      "      Epoch    GPU_mem   box_loss   cls_loss   dfl_loss  Instances       Size\n"
     ]
    },
    {
     "name": "stderr",
     "output_type": "stream",
     "text": [
      "     90/300     0.426G     0.7728     0.4104      1.611         15        128: 100%|██████████| 421/421 [00:37<00:00, 11.36it/s]\n",
      "                 Class     Images  Instances      Box(P          R      mAP50  mAP50-95): 100%|██████████| 53/53 [00:04<00:00, 11.29it/s]"
     ]
    },
    {
     "name": "stdout",
     "output_type": "stream",
     "text": [
      "                   all       1683       1483      0.987      0.997      0.994      0.983\n"
     ]
    },
    {
     "name": "stderr",
     "output_type": "stream",
     "text": [
      "\n"
     ]
    },
    {
     "name": "stdout",
     "output_type": "stream",
     "text": [
      "\n",
      "      Epoch    GPU_mem   box_loss   cls_loss   dfl_loss  Instances       Size\n"
     ]
    },
    {
     "name": "stderr",
     "output_type": "stream",
     "text": [
      "     91/300     0.426G     0.7666     0.4127      1.613         13        128: 100%|██████████| 421/421 [00:36<00:00, 11.44it/s]\n",
      "                 Class     Images  Instances      Box(P          R      mAP50  mAP50-95): 100%|██████████| 53/53 [00:04<00:00, 11.23it/s]"
     ]
    },
    {
     "name": "stdout",
     "output_type": "stream",
     "text": [
      "                   all       1683       1483      0.984      0.995      0.994      0.983\n"
     ]
    },
    {
     "name": "stderr",
     "output_type": "stream",
     "text": [
      "\n"
     ]
    },
    {
     "name": "stdout",
     "output_type": "stream",
     "text": [
      "\n",
      "      Epoch    GPU_mem   box_loss   cls_loss   dfl_loss  Instances       Size\n"
     ]
    },
    {
     "name": "stderr",
     "output_type": "stream",
     "text": [
      "     92/300     0.424G     0.7533     0.4119      1.608         16        128: 100%|██████████| 421/421 [00:37<00:00, 11.35it/s]\n",
      "                 Class     Images  Instances      Box(P          R      mAP50  mAP50-95): 100%|██████████| 53/53 [00:04<00:00, 11.24it/s]"
     ]
    },
    {
     "name": "stdout",
     "output_type": "stream",
     "text": [
      "                   all       1683       1483      0.982      0.997      0.994      0.982\n"
     ]
    },
    {
     "name": "stderr",
     "output_type": "stream",
     "text": [
      "\n"
     ]
    },
    {
     "name": "stdout",
     "output_type": "stream",
     "text": [
      "\n",
      "      Epoch    GPU_mem   box_loss   cls_loss   dfl_loss  Instances       Size\n"
     ]
    },
    {
     "name": "stderr",
     "output_type": "stream",
     "text": [
      "     93/300     0.424G     0.7634     0.4139      1.613         16        128: 100%|██████████| 421/421 [00:37<00:00, 11.36it/s]\n",
      "                 Class     Images  Instances      Box(P          R      mAP50  mAP50-95): 100%|██████████| 53/53 [00:04<00:00, 10.91it/s]"
     ]
    },
    {
     "name": "stdout",
     "output_type": "stream",
     "text": [
      "                   all       1683       1483      0.987      0.994      0.994      0.983\n"
     ]
    },
    {
     "name": "stderr",
     "output_type": "stream",
     "text": [
      "\n"
     ]
    },
    {
     "name": "stdout",
     "output_type": "stream",
     "text": [
      "\n",
      "      Epoch    GPU_mem   box_loss   cls_loss   dfl_loss  Instances       Size\n"
     ]
    },
    {
     "name": "stderr",
     "output_type": "stream",
     "text": [
      "     94/300     0.424G     0.7598     0.4168      1.611          9        128: 100%|██████████| 421/421 [00:36<00:00, 11.62it/s]\n",
      "                 Class     Images  Instances      Box(P          R      mAP50  mAP50-95): 100%|██████████| 53/53 [00:04<00:00, 11.28it/s]"
     ]
    },
    {
     "name": "stdout",
     "output_type": "stream",
     "text": [
      "                   all       1683       1483      0.985      0.991      0.994      0.984\n"
     ]
    },
    {
     "name": "stderr",
     "output_type": "stream",
     "text": [
      "\n"
     ]
    },
    {
     "name": "stdout",
     "output_type": "stream",
     "text": [
      "\n",
      "      Epoch    GPU_mem   box_loss   cls_loss   dfl_loss  Instances       Size\n"
     ]
    },
    {
     "name": "stderr",
     "output_type": "stream",
     "text": [
      "     95/300     0.426G     0.7726     0.4184      1.613         13        128: 100%|██████████| 421/421 [00:37<00:00, 11.27it/s]\n",
      "                 Class     Images  Instances      Box(P          R      mAP50  mAP50-95): 100%|██████████| 53/53 [00:04<00:00, 11.27it/s]"
     ]
    },
    {
     "name": "stdout",
     "output_type": "stream",
     "text": [
      "                   all       1683       1483      0.979      0.997      0.994      0.984\n"
     ]
    },
    {
     "name": "stderr",
     "output_type": "stream",
     "text": [
      "\n"
     ]
    },
    {
     "name": "stdout",
     "output_type": "stream",
     "text": [
      "\n",
      "      Epoch    GPU_mem   box_loss   cls_loss   dfl_loss  Instances       Size\n"
     ]
    },
    {
     "name": "stderr",
     "output_type": "stream",
     "text": [
      "     96/300     0.424G     0.7684     0.4106      1.615         17        128: 100%|██████████| 421/421 [00:37<00:00, 11.18it/s]\n",
      "                 Class     Images  Instances      Box(P          R      mAP50  mAP50-95): 100%|██████████| 53/53 [00:04<00:00, 11.45it/s]"
     ]
    },
    {
     "name": "stdout",
     "output_type": "stream",
     "text": [
      "                   all       1683       1483      0.978      0.999      0.994      0.984\n"
     ]
    },
    {
     "name": "stderr",
     "output_type": "stream",
     "text": [
      "\n"
     ]
    },
    {
     "name": "stdout",
     "output_type": "stream",
     "text": [
      "\n",
      "      Epoch    GPU_mem   box_loss   cls_loss   dfl_loss  Instances       Size\n"
     ]
    },
    {
     "name": "stderr",
     "output_type": "stream",
     "text": [
      "     97/300     0.424G      0.764     0.4145      1.611         24        128: 100%|██████████| 421/421 [00:37<00:00, 11.20it/s]\n",
      "                 Class     Images  Instances      Box(P          R      mAP50  mAP50-95): 100%|██████████| 53/53 [00:04<00:00, 11.14it/s]"
     ]
    },
    {
     "name": "stdout",
     "output_type": "stream",
     "text": [
      "                   all       1683       1483      0.979      0.997      0.994      0.983\n"
     ]
    },
    {
     "name": "stderr",
     "output_type": "stream",
     "text": [
      "\n"
     ]
    },
    {
     "name": "stdout",
     "output_type": "stream",
     "text": [
      "\n",
      "      Epoch    GPU_mem   box_loss   cls_loss   dfl_loss  Instances       Size\n"
     ]
    },
    {
     "name": "stderr",
     "output_type": "stream",
     "text": [
      "     98/300     0.426G     0.7513     0.4092      1.609         21        128: 100%|██████████| 421/421 [00:37<00:00, 11.33it/s]\n",
      "                 Class     Images  Instances      Box(P          R      mAP50  mAP50-95): 100%|██████████| 53/53 [00:04<00:00, 11.20it/s]"
     ]
    },
    {
     "name": "stdout",
     "output_type": "stream",
     "text": [
      "                   all       1683       1483      0.984      0.994      0.994      0.985\n"
     ]
    },
    {
     "name": "stderr",
     "output_type": "stream",
     "text": [
      "\n"
     ]
    },
    {
     "name": "stdout",
     "output_type": "stream",
     "text": [
      "\n",
      "      Epoch    GPU_mem   box_loss   cls_loss   dfl_loss  Instances       Size\n"
     ]
    },
    {
     "name": "stderr",
     "output_type": "stream",
     "text": [
      "     99/300     0.424G     0.7652     0.4142      1.609         15        128: 100%|██████████| 421/421 [00:37<00:00, 11.22it/s]\n",
      "                 Class     Images  Instances      Box(P          R      mAP50  mAP50-95): 100%|██████████| 53/53 [00:04<00:00, 11.38it/s]"
     ]
    },
    {
     "name": "stdout",
     "output_type": "stream",
     "text": [
      "                   all       1683       1483      0.986      0.997      0.994      0.986\n"
     ]
    },
    {
     "name": "stderr",
     "output_type": "stream",
     "text": [
      "\n"
     ]
    },
    {
     "name": "stdout",
     "output_type": "stream",
     "text": [
      "\n",
      "      Epoch    GPU_mem   box_loss   cls_loss   dfl_loss  Instances       Size\n"
     ]
    },
    {
     "name": "stderr",
     "output_type": "stream",
     "text": [
      "    100/300     0.424G     0.7482     0.4094      1.611         16        128: 100%|██████████| 421/421 [00:36<00:00, 11.41it/s]\n",
      "                 Class     Images  Instances      Box(P          R      mAP50  mAP50-95): 100%|██████████| 53/53 [00:04<00:00, 11.27it/s]"
     ]
    },
    {
     "name": "stdout",
     "output_type": "stream",
     "text": [
      "                   all       1683       1483      0.987      0.992      0.994      0.986\n"
     ]
    },
    {
     "name": "stderr",
     "output_type": "stream",
     "text": [
      "\n"
     ]
    },
    {
     "name": "stdout",
     "output_type": "stream",
     "text": [
      "\n",
      "      Epoch    GPU_mem   box_loss   cls_loss   dfl_loss  Instances       Size\n"
     ]
    },
    {
     "name": "stderr",
     "output_type": "stream",
     "text": [
      "    101/300     0.424G     0.7404     0.4017      1.611         16        128: 100%|██████████| 421/421 [00:36<00:00, 11.42it/s]\n",
      "                 Class     Images  Instances      Box(P          R      mAP50  mAP50-95): 100%|██████████| 53/53 [00:04<00:00, 11.24it/s]"
     ]
    },
    {
     "name": "stdout",
     "output_type": "stream",
     "text": [
      "                   all       1683       1483      0.991      0.994      0.994      0.987\n"
     ]
    },
    {
     "name": "stderr",
     "output_type": "stream",
     "text": [
      "\n"
     ]
    },
    {
     "name": "stdout",
     "output_type": "stream",
     "text": [
      "\n",
      "      Epoch    GPU_mem   box_loss   cls_loss   dfl_loss  Instances       Size\n"
     ]
    },
    {
     "name": "stderr",
     "output_type": "stream",
     "text": [
      "    102/300     0.424G     0.7379     0.4058       1.61         13        128: 100%|██████████| 421/421 [00:36<00:00, 11.63it/s]\n",
      "                 Class     Images  Instances      Box(P          R      mAP50  mAP50-95): 100%|██████████| 53/53 [00:04<00:00, 11.22it/s]"
     ]
    },
    {
     "name": "stdout",
     "output_type": "stream",
     "text": [
      "                   all       1683       1483      0.981      0.999      0.994      0.987\n"
     ]
    },
    {
     "name": "stderr",
     "output_type": "stream",
     "text": [
      "\n"
     ]
    },
    {
     "name": "stdout",
     "output_type": "stream",
     "text": [
      "\n",
      "      Epoch    GPU_mem   box_loss   cls_loss   dfl_loss  Instances       Size\n"
     ]
    },
    {
     "name": "stderr",
     "output_type": "stream",
     "text": [
      "    103/300     0.426G     0.7307     0.3996      1.611         13        128: 100%|██████████| 421/421 [00:36<00:00, 11.45it/s]\n",
      "                 Class     Images  Instances      Box(P          R      mAP50  mAP50-95): 100%|██████████| 53/53 [00:04<00:00, 11.26it/s]"
     ]
    },
    {
     "name": "stdout",
     "output_type": "stream",
     "text": [
      "                   all       1683       1483       0.99      0.995      0.994      0.988\n"
     ]
    },
    {
     "name": "stderr",
     "output_type": "stream",
     "text": [
      "\n"
     ]
    },
    {
     "name": "stdout",
     "output_type": "stream",
     "text": [
      "\n",
      "      Epoch    GPU_mem   box_loss   cls_loss   dfl_loss  Instances       Size\n"
     ]
    },
    {
     "name": "stderr",
     "output_type": "stream",
     "text": [
      "    104/300     0.424G     0.7443     0.4044      1.614         18        128: 100%|██████████| 421/421 [00:36<00:00, 11.43it/s]\n",
      "                 Class     Images  Instances      Box(P          R      mAP50  mAP50-95): 100%|██████████| 53/53 [00:04<00:00, 11.32it/s]"
     ]
    },
    {
     "name": "stdout",
     "output_type": "stream",
     "text": [
      "                   all       1683       1483      0.984      0.998      0.994      0.987\n"
     ]
    },
    {
     "name": "stderr",
     "output_type": "stream",
     "text": [
      "\n"
     ]
    },
    {
     "name": "stdout",
     "output_type": "stream",
     "text": [
      "\n",
      "      Epoch    GPU_mem   box_loss   cls_loss   dfl_loss  Instances       Size\n"
     ]
    },
    {
     "name": "stderr",
     "output_type": "stream",
     "text": [
      "    105/300     0.424G     0.7359     0.4003      1.612         18        128: 100%|██████████| 421/421 [00:36<00:00, 11.39it/s]\n",
      "                 Class     Images  Instances      Box(P          R      mAP50  mAP50-95): 100%|██████████| 53/53 [00:04<00:00, 11.33it/s]"
     ]
    },
    {
     "name": "stdout",
     "output_type": "stream",
     "text": [
      "                   all       1683       1483       0.99      0.997      0.994      0.988\n"
     ]
    },
    {
     "name": "stderr",
     "output_type": "stream",
     "text": [
      "\n"
     ]
    },
    {
     "name": "stdout",
     "output_type": "stream",
     "text": [
      "\n",
      "      Epoch    GPU_mem   box_loss   cls_loss   dfl_loss  Instances       Size\n"
     ]
    },
    {
     "name": "stderr",
     "output_type": "stream",
     "text": [
      "    106/300     0.426G     0.7291     0.4019      1.611         15        128: 100%|██████████| 421/421 [00:37<00:00, 11.26it/s]\n",
      "                 Class     Images  Instances      Box(P          R      mAP50  mAP50-95): 100%|██████████| 53/53 [00:04<00:00, 11.33it/s]"
     ]
    },
    {
     "name": "stdout",
     "output_type": "stream",
     "text": [
      "                   all       1683       1483       0.99      0.995      0.994      0.988\n"
     ]
    },
    {
     "name": "stderr",
     "output_type": "stream",
     "text": [
      "\n"
     ]
    },
    {
     "name": "stdout",
     "output_type": "stream",
     "text": [
      "\n",
      "      Epoch    GPU_mem   box_loss   cls_loss   dfl_loss  Instances       Size\n"
     ]
    },
    {
     "name": "stderr",
     "output_type": "stream",
     "text": [
      "    107/300     0.424G     0.7278     0.4003      1.608         15        128: 100%|██████████| 421/421 [00:37<00:00, 11.36it/s]\n",
      "                 Class     Images  Instances      Box(P          R      mAP50  mAP50-95): 100%|██████████| 53/53 [00:04<00:00, 11.32it/s]"
     ]
    },
    {
     "name": "stdout",
     "output_type": "stream",
     "text": [
      "                   all       1683       1483      0.988      0.996      0.994      0.988\n"
     ]
    },
    {
     "name": "stderr",
     "output_type": "stream",
     "text": [
      "\n"
     ]
    },
    {
     "name": "stdout",
     "output_type": "stream",
     "text": [
      "\n",
      "      Epoch    GPU_mem   box_loss   cls_loss   dfl_loss  Instances       Size\n"
     ]
    },
    {
     "name": "stderr",
     "output_type": "stream",
     "text": [
      "    108/300     0.424G     0.7177     0.3994      1.604         19        128: 100%|██████████| 421/421 [00:37<00:00, 11.31it/s]\n",
      "                 Class     Images  Instances      Box(P          R      mAP50  mAP50-95): 100%|██████████| 53/53 [00:04<00:00, 11.31it/s]"
     ]
    },
    {
     "name": "stdout",
     "output_type": "stream",
     "text": [
      "                   all       1683       1483      0.984      0.995      0.994      0.988\n"
     ]
    },
    {
     "name": "stderr",
     "output_type": "stream",
     "text": [
      "\n"
     ]
    },
    {
     "name": "stdout",
     "output_type": "stream",
     "text": [
      "\n",
      "      Epoch    GPU_mem   box_loss   cls_loss   dfl_loss  Instances       Size\n"
     ]
    },
    {
     "name": "stderr",
     "output_type": "stream",
     "text": [
      "    109/300     0.424G     0.7173     0.3902       1.61         14        128: 100%|██████████| 421/421 [00:37<00:00, 11.32it/s]\n",
      "                 Class     Images  Instances      Box(P          R      mAP50  mAP50-95): 100%|██████████| 53/53 [00:04<00:00, 11.32it/s]"
     ]
    },
    {
     "name": "stdout",
     "output_type": "stream",
     "text": [
      "                   all       1683       1483      0.985      0.995      0.994      0.988\n"
     ]
    },
    {
     "name": "stderr",
     "output_type": "stream",
     "text": [
      "\n"
     ]
    },
    {
     "name": "stdout",
     "output_type": "stream",
     "text": [
      "\n",
      "      Epoch    GPU_mem   box_loss   cls_loss   dfl_loss  Instances       Size\n"
     ]
    },
    {
     "name": "stderr",
     "output_type": "stream",
     "text": [
      "    110/300     0.424G     0.7221     0.3958      1.608         15        128: 100%|██████████| 421/421 [00:36<00:00, 11.44it/s]\n",
      "                 Class     Images  Instances      Box(P          R      mAP50  mAP50-95): 100%|██████████| 53/53 [00:04<00:00, 11.12it/s]"
     ]
    },
    {
     "name": "stdout",
     "output_type": "stream",
     "text": [
      "                   all       1683       1483      0.988      0.994      0.994      0.988\n"
     ]
    },
    {
     "name": "stderr",
     "output_type": "stream",
     "text": [
      "\n"
     ]
    },
    {
     "name": "stdout",
     "output_type": "stream",
     "text": [
      "\n",
      "      Epoch    GPU_mem   box_loss   cls_loss   dfl_loss  Instances       Size\n"
     ]
    },
    {
     "name": "stderr",
     "output_type": "stream",
     "text": [
      "    111/300     0.424G     0.7197     0.3921      1.606         15        128: 100%|██████████| 421/421 [00:36<00:00, 11.68it/s]\n",
      "                 Class     Images  Instances      Box(P          R      mAP50  mAP50-95): 100%|██████████| 53/53 [00:04<00:00, 11.23it/s]"
     ]
    },
    {
     "name": "stdout",
     "output_type": "stream",
     "text": [
      "                   all       1683       1483      0.985      0.995      0.994      0.988\n"
     ]
    },
    {
     "name": "stderr",
     "output_type": "stream",
     "text": [
      "\n"
     ]
    },
    {
     "name": "stdout",
     "output_type": "stream",
     "text": [
      "\n",
      "      Epoch    GPU_mem   box_loss   cls_loss   dfl_loss  Instances       Size\n"
     ]
    },
    {
     "name": "stderr",
     "output_type": "stream",
     "text": [
      "    112/300     0.424G     0.7085     0.3935      1.603         13        128: 100%|██████████| 421/421 [00:36<00:00, 11.42it/s]\n",
      "                 Class     Images  Instances      Box(P          R      mAP50  mAP50-95): 100%|██████████| 53/53 [00:04<00:00, 11.04it/s]"
     ]
    },
    {
     "name": "stdout",
     "output_type": "stream",
     "text": [
      "                   all       1683       1483      0.986      0.995      0.994      0.988\n"
     ]
    },
    {
     "name": "stderr",
     "output_type": "stream",
     "text": [
      "\n"
     ]
    },
    {
     "name": "stdout",
     "output_type": "stream",
     "text": [
      "\n",
      "      Epoch    GPU_mem   box_loss   cls_loss   dfl_loss  Instances       Size\n"
     ]
    },
    {
     "name": "stderr",
     "output_type": "stream",
     "text": [
      "    113/300     0.424G     0.7187     0.3834      1.605         13        128: 100%|██████████| 421/421 [00:37<00:00, 11.29it/s]\n",
      "                 Class     Images  Instances      Box(P          R      mAP50  mAP50-95): 100%|██████████| 53/53 [00:04<00:00, 11.08it/s]"
     ]
    },
    {
     "name": "stdout",
     "output_type": "stream",
     "text": [
      "                   all       1683       1483      0.994      0.992      0.994      0.988\n"
     ]
    },
    {
     "name": "stderr",
     "output_type": "stream",
     "text": [
      "\n"
     ]
    },
    {
     "name": "stdout",
     "output_type": "stream",
     "text": [
      "\n",
      "      Epoch    GPU_mem   box_loss   cls_loss   dfl_loss  Instances       Size\n"
     ]
    },
    {
     "name": "stderr",
     "output_type": "stream",
     "text": [
      "    114/300     0.426G      0.694     0.3779      1.606         15        128: 100%|██████████| 421/421 [00:37<00:00, 11.17it/s]\n",
      "                 Class     Images  Instances      Box(P          R      mAP50  mAP50-95): 100%|██████████| 53/53 [00:04<00:00, 11.21it/s]"
     ]
    },
    {
     "name": "stdout",
     "output_type": "stream",
     "text": [
      "                   all       1683       1483      0.992      0.995      0.994      0.989\n"
     ]
    },
    {
     "name": "stderr",
     "output_type": "stream",
     "text": [
      "\n"
     ]
    },
    {
     "name": "stdout",
     "output_type": "stream",
     "text": [
      "\n",
      "      Epoch    GPU_mem   box_loss   cls_loss   dfl_loss  Instances       Size\n"
     ]
    },
    {
     "name": "stderr",
     "output_type": "stream",
     "text": [
      "    115/300     0.424G     0.6979      0.381      1.607         22        128: 100%|██████████| 421/421 [00:37<00:00, 11.33it/s]\n",
      "                 Class     Images  Instances      Box(P          R      mAP50  mAP50-95): 100%|██████████| 53/53 [00:04<00:00, 11.39it/s]"
     ]
    },
    {
     "name": "stdout",
     "output_type": "stream",
     "text": [
      "                   all       1683       1483      0.994      0.993      0.994      0.989\n"
     ]
    },
    {
     "name": "stderr",
     "output_type": "stream",
     "text": [
      "\n"
     ]
    },
    {
     "name": "stdout",
     "output_type": "stream",
     "text": [
      "\n",
      "      Epoch    GPU_mem   box_loss   cls_loss   dfl_loss  Instances       Size\n"
     ]
    },
    {
     "name": "stderr",
     "output_type": "stream",
     "text": [
      "    116/300     0.424G     0.6978      0.385      1.606         14        128: 100%|██████████| 421/421 [00:36<00:00, 11.39it/s]\n",
      "                 Class     Images  Instances      Box(P          R      mAP50  mAP50-95): 100%|██████████| 53/53 [00:04<00:00, 11.41it/s]"
     ]
    },
    {
     "name": "stdout",
     "output_type": "stream",
     "text": [
      "                   all       1683       1483       0.99      0.995      0.994      0.989\n"
     ]
    },
    {
     "name": "stderr",
     "output_type": "stream",
     "text": [
      "\n"
     ]
    },
    {
     "name": "stdout",
     "output_type": "stream",
     "text": [
      "\n",
      "      Epoch    GPU_mem   box_loss   cls_loss   dfl_loss  Instances       Size\n"
     ]
    },
    {
     "name": "stderr",
     "output_type": "stream",
     "text": [
      "    117/300     0.424G     0.7065     0.3823      1.605         21        128: 100%|██████████| 421/421 [00:36<00:00, 11.39it/s]\n",
      "                 Class     Images  Instances      Box(P          R      mAP50  mAP50-95): 100%|██████████| 53/53 [00:04<00:00, 11.18it/s]"
     ]
    },
    {
     "name": "stdout",
     "output_type": "stream",
     "text": [
      "                   all       1683       1483      0.988      0.998      0.995      0.989\n"
     ]
    },
    {
     "name": "stderr",
     "output_type": "stream",
     "text": [
      "\n"
     ]
    },
    {
     "name": "stdout",
     "output_type": "stream",
     "text": [
      "\n",
      "      Epoch    GPU_mem   box_loss   cls_loss   dfl_loss  Instances       Size\n"
     ]
    },
    {
     "name": "stderr",
     "output_type": "stream",
     "text": [
      "    118/300     0.424G     0.6899     0.3734      1.607         12        128: 100%|██████████| 421/421 [00:36<00:00, 11.43it/s]\n",
      "                 Class     Images  Instances      Box(P          R      mAP50  mAP50-95): 100%|██████████| 53/53 [00:04<00:00, 11.17it/s]"
     ]
    },
    {
     "name": "stdout",
     "output_type": "stream",
     "text": [
      "                   all       1683       1483      0.987      0.997      0.994      0.989\n"
     ]
    },
    {
     "name": "stderr",
     "output_type": "stream",
     "text": [
      "\n"
     ]
    },
    {
     "name": "stdout",
     "output_type": "stream",
     "text": [
      "\n",
      "      Epoch    GPU_mem   box_loss   cls_loss   dfl_loss  Instances       Size\n"
     ]
    },
    {
     "name": "stderr",
     "output_type": "stream",
     "text": [
      "    119/300     0.426G     0.6902     0.3706      1.609         16        128: 100%|██████████| 421/421 [00:36<00:00, 11.45it/s]\n",
      "                 Class     Images  Instances      Box(P          R      mAP50  mAP50-95): 100%|██████████| 53/53 [00:04<00:00, 11.37it/s]"
     ]
    },
    {
     "name": "stdout",
     "output_type": "stream",
     "text": [
      "                   all       1683       1483      0.987      0.995      0.994       0.99\n"
     ]
    },
    {
     "name": "stderr",
     "output_type": "stream",
     "text": [
      "\n"
     ]
    },
    {
     "name": "stdout",
     "output_type": "stream",
     "text": [
      "\n",
      "      Epoch    GPU_mem   box_loss   cls_loss   dfl_loss  Instances       Size\n"
     ]
    },
    {
     "name": "stderr",
     "output_type": "stream",
     "text": [
      "    120/300     0.424G     0.6879     0.3756      1.603         16        128: 100%|██████████| 421/421 [00:36<00:00, 11.59it/s]\n",
      "                 Class     Images  Instances      Box(P          R      mAP50  mAP50-95): 100%|██████████| 53/53 [00:04<00:00, 11.35it/s]"
     ]
    },
    {
     "name": "stdout",
     "output_type": "stream",
     "text": [
      "                   all       1683       1483      0.989      0.996      0.994      0.989\n"
     ]
    },
    {
     "name": "stderr",
     "output_type": "stream",
     "text": [
      "\n"
     ]
    },
    {
     "name": "stdout",
     "output_type": "stream",
     "text": [
      "\n",
      "      Epoch    GPU_mem   box_loss   cls_loss   dfl_loss  Instances       Size\n"
     ]
    },
    {
     "name": "stderr",
     "output_type": "stream",
     "text": [
      "    121/300     0.424G     0.6842     0.3717      1.605         14        128: 100%|██████████| 421/421 [00:37<00:00, 11.37it/s]\n",
      "                 Class     Images  Instances      Box(P          R      mAP50  mAP50-95): 100%|██████████| 53/53 [00:04<00:00, 11.30it/s]"
     ]
    },
    {
     "name": "stdout",
     "output_type": "stream",
     "text": [
      "                   all       1683       1483      0.986      0.997      0.994      0.989\n"
     ]
    },
    {
     "name": "stderr",
     "output_type": "stream",
     "text": [
      "\n"
     ]
    },
    {
     "name": "stdout",
     "output_type": "stream",
     "text": [
      "\n",
      "      Epoch    GPU_mem   box_loss   cls_loss   dfl_loss  Instances       Size\n"
     ]
    },
    {
     "name": "stderr",
     "output_type": "stream",
     "text": [
      "    122/300     0.426G     0.6846     0.3748      1.607         10        128: 100%|██████████| 421/421 [00:36<00:00, 11.41it/s]\n",
      "                 Class     Images  Instances      Box(P          R      mAP50  mAP50-95): 100%|██████████| 53/53 [00:04<00:00, 11.31it/s]"
     ]
    },
    {
     "name": "stdout",
     "output_type": "stream",
     "text": [
      "                   all       1683       1483      0.986      0.998      0.994       0.99\n"
     ]
    },
    {
     "name": "stderr",
     "output_type": "stream",
     "text": [
      "\n"
     ]
    },
    {
     "name": "stdout",
     "output_type": "stream",
     "text": [
      "\n",
      "      Epoch    GPU_mem   box_loss   cls_loss   dfl_loss  Instances       Size\n"
     ]
    },
    {
     "name": "stderr",
     "output_type": "stream",
     "text": [
      "    123/300     0.426G     0.6725     0.3675      1.603         17        128: 100%|██████████| 421/421 [00:37<00:00, 11.36it/s]\n",
      "                 Class     Images  Instances      Box(P          R      mAP50  mAP50-95): 100%|██████████| 53/53 [00:04<00:00, 11.23it/s]"
     ]
    },
    {
     "name": "stdout",
     "output_type": "stream",
     "text": [
      "                   all       1683       1483      0.986      0.997      0.994      0.989\n"
     ]
    },
    {
     "name": "stderr",
     "output_type": "stream",
     "text": [
      "\n"
     ]
    },
    {
     "name": "stdout",
     "output_type": "stream",
     "text": [
      "\n",
      "      Epoch    GPU_mem   box_loss   cls_loss   dfl_loss  Instances       Size\n"
     ]
    },
    {
     "name": "stderr",
     "output_type": "stream",
     "text": [
      "    124/300     0.424G     0.6823      0.374      1.607         17        128: 100%|██████████| 421/421 [00:36<00:00, 11.42it/s]\n",
      "                 Class     Images  Instances      Box(P          R      mAP50  mAP50-95): 100%|██████████| 53/53 [00:04<00:00, 11.36it/s]"
     ]
    },
    {
     "name": "stdout",
     "output_type": "stream",
     "text": [
      "                   all       1683       1483      0.989      0.994      0.994      0.989\n"
     ]
    },
    {
     "name": "stderr",
     "output_type": "stream",
     "text": [
      "\n"
     ]
    },
    {
     "name": "stdout",
     "output_type": "stream",
     "text": [
      "\n",
      "      Epoch    GPU_mem   box_loss   cls_loss   dfl_loss  Instances       Size\n"
     ]
    },
    {
     "name": "stderr",
     "output_type": "stream",
     "text": [
      "    125/300     0.424G     0.6838     0.3756      1.602         16        128: 100%|██████████| 421/421 [00:36<00:00, 11.48it/s]\n",
      "                 Class     Images  Instances      Box(P          R      mAP50  mAP50-95): 100%|██████████| 53/53 [00:04<00:00, 11.58it/s]"
     ]
    },
    {
     "name": "stdout",
     "output_type": "stream",
     "text": [
      "                   all       1683       1483       0.99      0.992      0.994       0.99\n"
     ]
    },
    {
     "name": "stderr",
     "output_type": "stream",
     "text": [
      "\n"
     ]
    },
    {
     "name": "stdout",
     "output_type": "stream",
     "text": [
      "\n",
      "      Epoch    GPU_mem   box_loss   cls_loss   dfl_loss  Instances       Size\n"
     ]
    },
    {
     "name": "stderr",
     "output_type": "stream",
     "text": [
      "    126/300     0.426G       0.68     0.3726      1.608         12        128: 100%|██████████| 421/421 [00:36<00:00, 11.42it/s]\n",
      "                 Class     Images  Instances      Box(P          R      mAP50  mAP50-95): 100%|██████████| 53/53 [00:04<00:00, 11.32it/s]"
     ]
    },
    {
     "name": "stdout",
     "output_type": "stream",
     "text": [
      "                   all       1683       1483      0.987      0.996      0.994      0.989\n"
     ]
    },
    {
     "name": "stderr",
     "output_type": "stream",
     "text": [
      "\n"
     ]
    },
    {
     "name": "stdout",
     "output_type": "stream",
     "text": [
      "\n",
      "      Epoch    GPU_mem   box_loss   cls_loss   dfl_loss  Instances       Size\n"
     ]
    },
    {
     "name": "stderr",
     "output_type": "stream",
     "text": [
      "    127/300     0.424G     0.6799      0.375      1.605         16        128: 100%|██████████| 421/421 [00:37<00:00, 11.35it/s]\n",
      "                 Class     Images  Instances      Box(P          R      mAP50  mAP50-95): 100%|██████████| 53/53 [00:04<00:00, 11.47it/s]"
     ]
    },
    {
     "name": "stdout",
     "output_type": "stream",
     "text": [
      "                   all       1683       1483      0.989      0.995      0.994       0.99\n"
     ]
    },
    {
     "name": "stderr",
     "output_type": "stream",
     "text": [
      "\n"
     ]
    },
    {
     "name": "stdout",
     "output_type": "stream",
     "text": [
      "\n",
      "      Epoch    GPU_mem   box_loss   cls_loss   dfl_loss  Instances       Size\n"
     ]
    },
    {
     "name": "stderr",
     "output_type": "stream",
     "text": [
      "    128/300     0.424G     0.6777     0.3716      1.605         15        128: 100%|██████████| 421/421 [00:35<00:00, 11.73it/s]\n",
      "                 Class     Images  Instances      Box(P          R      mAP50  mAP50-95): 100%|██████████| 53/53 [00:04<00:00, 11.23it/s]"
     ]
    },
    {
     "name": "stdout",
     "output_type": "stream",
     "text": [
      "                   all       1683       1483      0.991      0.995      0.994       0.99\n"
     ]
    },
    {
     "name": "stderr",
     "output_type": "stream",
     "text": [
      "\n"
     ]
    },
    {
     "name": "stdout",
     "output_type": "stream",
     "text": [
      "\n",
      "      Epoch    GPU_mem   box_loss   cls_loss   dfl_loss  Instances       Size\n"
     ]
    },
    {
     "name": "stderr",
     "output_type": "stream",
     "text": [
      "    129/300     0.424G     0.6787      0.367      1.607         12        128: 100%|██████████| 421/421 [00:36<00:00, 11.46it/s]\n",
      "                 Class     Images  Instances      Box(P          R      mAP50  mAP50-95): 100%|██████████| 53/53 [00:04<00:00, 11.48it/s]"
     ]
    },
    {
     "name": "stdout",
     "output_type": "stream",
     "text": [
      "                   all       1683       1483      0.993      0.993      0.994       0.99\n"
     ]
    },
    {
     "name": "stderr",
     "output_type": "stream",
     "text": [
      "\n"
     ]
    },
    {
     "name": "stdout",
     "output_type": "stream",
     "text": [
      "\n",
      "      Epoch    GPU_mem   box_loss   cls_loss   dfl_loss  Instances       Size\n"
     ]
    },
    {
     "name": "stderr",
     "output_type": "stream",
     "text": [
      "    130/300     0.424G     0.6771     0.3725      1.606         14        128: 100%|██████████| 421/421 [00:36<00:00, 11.55it/s]\n",
      "                 Class     Images  Instances      Box(P          R      mAP50  mAP50-95): 100%|██████████| 53/53 [00:04<00:00, 11.25it/s]"
     ]
    },
    {
     "name": "stdout",
     "output_type": "stream",
     "text": [
      "                   all       1683       1483       0.99      0.991      0.994       0.99\n"
     ]
    },
    {
     "name": "stderr",
     "output_type": "stream",
     "text": [
      "\n"
     ]
    },
    {
     "name": "stdout",
     "output_type": "stream",
     "text": [
      "\n",
      "      Epoch    GPU_mem   box_loss   cls_loss   dfl_loss  Instances       Size\n"
     ]
    },
    {
     "name": "stderr",
     "output_type": "stream",
     "text": [
      "    131/300     0.426G     0.6696     0.3603        1.6         15        128: 100%|██████████| 421/421 [00:36<00:00, 11.40it/s]\n",
      "                 Class     Images  Instances      Box(P          R      mAP50  mAP50-95): 100%|██████████| 53/53 [00:04<00:00, 11.54it/s]"
     ]
    },
    {
     "name": "stdout",
     "output_type": "stream",
     "text": [
      "                   all       1683       1483      0.986      0.997      0.994       0.99\n"
     ]
    },
    {
     "name": "stderr",
     "output_type": "stream",
     "text": [
      "\n"
     ]
    },
    {
     "name": "stdout",
     "output_type": "stream",
     "text": [
      "\n",
      "      Epoch    GPU_mem   box_loss   cls_loss   dfl_loss  Instances       Size\n"
     ]
    },
    {
     "name": "stderr",
     "output_type": "stream",
     "text": [
      "    132/300     0.424G     0.6652     0.3658      1.604         13        128: 100%|██████████| 421/421 [00:36<00:00, 11.49it/s]\n",
      "                 Class     Images  Instances      Box(P          R      mAP50  mAP50-95): 100%|██████████| 53/53 [00:04<00:00, 11.53it/s]"
     ]
    },
    {
     "name": "stdout",
     "output_type": "stream",
     "text": [
      "                   all       1683       1483      0.988      0.996      0.994       0.99\n"
     ]
    },
    {
     "name": "stderr",
     "output_type": "stream",
     "text": [
      "\n"
     ]
    },
    {
     "name": "stdout",
     "output_type": "stream",
     "text": [
      "\n",
      "      Epoch    GPU_mem   box_loss   cls_loss   dfl_loss  Instances       Size\n"
     ]
    },
    {
     "name": "stderr",
     "output_type": "stream",
     "text": [
      "    133/300     0.424G     0.6697      0.366      1.602          7        128: 100%|██████████| 421/421 [00:36<00:00, 11.40it/s]\n",
      "                 Class     Images  Instances      Box(P          R      mAP50  mAP50-95): 100%|██████████| 53/53 [00:04<00:00, 11.07it/s]"
     ]
    },
    {
     "name": "stdout",
     "output_type": "stream",
     "text": [
      "                   all       1683       1483      0.992      0.994      0.994       0.99\n"
     ]
    },
    {
     "name": "stderr",
     "output_type": "stream",
     "text": [
      "\n"
     ]
    },
    {
     "name": "stdout",
     "output_type": "stream",
     "text": [
      "\n",
      "      Epoch    GPU_mem   box_loss   cls_loss   dfl_loss  Instances       Size\n"
     ]
    },
    {
     "name": "stderr",
     "output_type": "stream",
     "text": [
      "    134/300     0.424G     0.6645     0.3582      1.605         14        128: 100%|██████████| 421/421 [00:37<00:00, 11.38it/s]\n",
      "                 Class     Images  Instances      Box(P          R      mAP50  mAP50-95): 100%|██████████| 53/53 [00:04<00:00, 11.20it/s]"
     ]
    },
    {
     "name": "stdout",
     "output_type": "stream",
     "text": [
      "                   all       1683       1483      0.991      0.993      0.994       0.99\n"
     ]
    },
    {
     "name": "stderr",
     "output_type": "stream",
     "text": [
      "\n"
     ]
    },
    {
     "name": "stdout",
     "output_type": "stream",
     "text": [
      "\n",
      "      Epoch    GPU_mem   box_loss   cls_loss   dfl_loss  Instances       Size\n"
     ]
    },
    {
     "name": "stderr",
     "output_type": "stream",
     "text": [
      "    135/300     0.424G      0.664      0.369      1.601         14        128: 100%|██████████| 421/421 [00:36<00:00, 11.54it/s]\n",
      "                 Class     Images  Instances      Box(P          R      mAP50  mAP50-95): 100%|██████████| 53/53 [00:04<00:00, 11.51it/s]"
     ]
    },
    {
     "name": "stdout",
     "output_type": "stream",
     "text": [
      "                   all       1683       1483      0.991      0.992      0.994       0.99\n"
     ]
    },
    {
     "name": "stderr",
     "output_type": "stream",
     "text": [
      "\n"
     ]
    },
    {
     "name": "stdout",
     "output_type": "stream",
     "text": [
      "\n",
      "      Epoch    GPU_mem   box_loss   cls_loss   dfl_loss  Instances       Size\n"
     ]
    },
    {
     "name": "stderr",
     "output_type": "stream",
     "text": [
      "    136/300     0.424G     0.6621     0.3574      1.606         12        128: 100%|██████████| 421/421 [00:36<00:00, 11.60it/s]\n",
      "                 Class     Images  Instances      Box(P          R      mAP50  mAP50-95): 100%|██████████| 53/53 [00:04<00:00, 11.51it/s]"
     ]
    },
    {
     "name": "stdout",
     "output_type": "stream",
     "text": [
      "                   all       1683       1483       0.99      0.993      0.994       0.99\n"
     ]
    },
    {
     "name": "stderr",
     "output_type": "stream",
     "text": [
      "\n"
     ]
    },
    {
     "name": "stdout",
     "output_type": "stream",
     "text": [
      "\n",
      "      Epoch    GPU_mem   box_loss   cls_loss   dfl_loss  Instances       Size\n"
     ]
    },
    {
     "name": "stderr",
     "output_type": "stream",
     "text": [
      "    137/300     0.426G     0.6646     0.3656      1.599         14        128: 100%|██████████| 421/421 [00:36<00:00, 11.61it/s]\n",
      "                 Class     Images  Instances      Box(P          R      mAP50  mAP50-95): 100%|██████████| 53/53 [00:04<00:00, 11.35it/s]"
     ]
    },
    {
     "name": "stdout",
     "output_type": "stream",
     "text": [
      "                   all       1683       1483      0.991      0.995      0.994       0.99\n"
     ]
    },
    {
     "name": "stderr",
     "output_type": "stream",
     "text": [
      "\n"
     ]
    },
    {
     "name": "stdout",
     "output_type": "stream",
     "text": [
      "\n",
      "      Epoch    GPU_mem   box_loss   cls_loss   dfl_loss  Instances       Size\n"
     ]
    },
    {
     "name": "stderr",
     "output_type": "stream",
     "text": [
      "    138/300     0.424G     0.6623     0.3665      1.598         21        128: 100%|██████████| 421/421 [00:36<00:00, 11.55it/s]\n",
      "                 Class     Images  Instances      Box(P          R      mAP50  mAP50-95): 100%|██████████| 53/53 [00:04<00:00, 11.24it/s]"
     ]
    },
    {
     "name": "stdout",
     "output_type": "stream",
     "text": [
      "                   all       1683       1483       0.99      0.994      0.994       0.99\n"
     ]
    },
    {
     "name": "stderr",
     "output_type": "stream",
     "text": [
      "\n"
     ]
    },
    {
     "name": "stdout",
     "output_type": "stream",
     "text": [
      "\n",
      "      Epoch    GPU_mem   box_loss   cls_loss   dfl_loss  Instances       Size\n"
     ]
    },
    {
     "name": "stderr",
     "output_type": "stream",
     "text": [
      "    139/300     0.426G     0.6615     0.3673      1.603         13        128: 100%|██████████| 421/421 [00:37<00:00, 11.34it/s]\n",
      "                 Class     Images  Instances      Box(P          R      mAP50  mAP50-95): 100%|██████████| 53/53 [00:04<00:00, 11.38it/s]"
     ]
    },
    {
     "name": "stdout",
     "output_type": "stream",
     "text": [
      "                   all       1683       1483       0.99      0.995      0.994       0.99\n"
     ]
    },
    {
     "name": "stderr",
     "output_type": "stream",
     "text": [
      "\n"
     ]
    },
    {
     "name": "stdout",
     "output_type": "stream",
     "text": [
      "\n",
      "      Epoch    GPU_mem   box_loss   cls_loss   dfl_loss  Instances       Size\n"
     ]
    },
    {
     "name": "stderr",
     "output_type": "stream",
     "text": [
      "    140/300     0.424G     0.6524     0.3598      1.599         18        128: 100%|██████████| 421/421 [00:37<00:00, 11.30it/s]\n",
      "                 Class     Images  Instances      Box(P          R      mAP50  mAP50-95): 100%|██████████| 53/53 [00:04<00:00, 11.41it/s]"
     ]
    },
    {
     "name": "stdout",
     "output_type": "stream",
     "text": [
      "                   all       1683       1483       0.99      0.994      0.994       0.99\n"
     ]
    },
    {
     "name": "stderr",
     "output_type": "stream",
     "text": [
      "\n"
     ]
    },
    {
     "name": "stdout",
     "output_type": "stream",
     "text": [
      "\n",
      "      Epoch    GPU_mem   box_loss   cls_loss   dfl_loss  Instances       Size\n"
     ]
    },
    {
     "name": "stderr",
     "output_type": "stream",
     "text": [
      "    141/300     0.424G     0.6481     0.3545      1.606         16        128: 100%|██████████| 421/421 [00:37<00:00, 11.29it/s]\n",
      "                 Class     Images  Instances      Box(P          R      mAP50  mAP50-95): 100%|██████████| 53/53 [00:04<00:00, 11.40it/s]"
     ]
    },
    {
     "name": "stdout",
     "output_type": "stream",
     "text": [
      "                   all       1683       1483      0.987      0.998      0.994       0.99\n"
     ]
    },
    {
     "name": "stderr",
     "output_type": "stream",
     "text": [
      "\n"
     ]
    },
    {
     "name": "stdout",
     "output_type": "stream",
     "text": [
      "\n",
      "      Epoch    GPU_mem   box_loss   cls_loss   dfl_loss  Instances       Size\n"
     ]
    },
    {
     "name": "stderr",
     "output_type": "stream",
     "text": [
      "    142/300     0.424G     0.6463     0.3585      1.598         11        128: 100%|██████████| 421/421 [00:37<00:00, 11.33it/s]\n",
      "                 Class     Images  Instances      Box(P          R      mAP50  mAP50-95): 100%|██████████| 53/53 [00:04<00:00, 11.50it/s]"
     ]
    },
    {
     "name": "stdout",
     "output_type": "stream",
     "text": [
      "                   all       1683       1483      0.992      0.992      0.994       0.99\n"
     ]
    },
    {
     "name": "stderr",
     "output_type": "stream",
     "text": [
      "\n"
     ]
    },
    {
     "name": "stdout",
     "output_type": "stream",
     "text": [
      "\n",
      "      Epoch    GPU_mem   box_loss   cls_loss   dfl_loss  Instances       Size\n"
     ]
    },
    {
     "name": "stderr",
     "output_type": "stream",
     "text": [
      "    143/300     0.424G     0.6487     0.3538      1.602         16        128: 100%|██████████| 421/421 [00:37<00:00, 11.35it/s]\n",
      "                 Class     Images  Instances      Box(P          R      mAP50  mAP50-95): 100%|██████████| 53/53 [00:04<00:00, 11.37it/s]"
     ]
    },
    {
     "name": "stdout",
     "output_type": "stream",
     "text": [
      "                   all       1683       1483       0.99      0.994      0.994       0.99\n"
     ]
    },
    {
     "name": "stderr",
     "output_type": "stream",
     "text": [
      "\n"
     ]
    },
    {
     "name": "stdout",
     "output_type": "stream",
     "text": [
      "\n",
      "      Epoch    GPU_mem   box_loss   cls_loss   dfl_loss  Instances       Size\n"
     ]
    },
    {
     "name": "stderr",
     "output_type": "stream",
     "text": [
      "    144/300     0.424G     0.6437      0.357        1.6         16        128: 100%|██████████| 421/421 [00:36<00:00, 11.55it/s]\n",
      "                 Class     Images  Instances      Box(P          R      mAP50  mAP50-95): 100%|██████████| 53/53 [00:04<00:00, 11.37it/s]"
     ]
    },
    {
     "name": "stdout",
     "output_type": "stream",
     "text": [
      "                   all       1683       1483      0.989      0.994      0.994       0.99\n"
     ]
    },
    {
     "name": "stderr",
     "output_type": "stream",
     "text": [
      "\n"
     ]
    },
    {
     "name": "stdout",
     "output_type": "stream",
     "text": [
      "\n",
      "      Epoch    GPU_mem   box_loss   cls_loss   dfl_loss  Instances       Size\n"
     ]
    },
    {
     "name": "stderr",
     "output_type": "stream",
     "text": [
      "    145/300     0.424G     0.6439     0.3539      1.598         18        128: 100%|██████████| 421/421 [00:35<00:00, 11.76it/s]\n",
      "                 Class     Images  Instances      Box(P          R      mAP50  mAP50-95): 100%|██████████| 53/53 [00:04<00:00, 11.48it/s]"
     ]
    },
    {
     "name": "stdout",
     "output_type": "stream",
     "text": [
      "                   all       1683       1483      0.988      0.997      0.995       0.99\n"
     ]
    },
    {
     "name": "stderr",
     "output_type": "stream",
     "text": [
      "\n"
     ]
    },
    {
     "name": "stdout",
     "output_type": "stream",
     "text": [
      "\n",
      "      Epoch    GPU_mem   box_loss   cls_loss   dfl_loss  Instances       Size\n"
     ]
    },
    {
     "name": "stderr",
     "output_type": "stream",
     "text": [
      "    146/300     0.424G     0.6519     0.3557      1.601         20        128: 100%|██████████| 421/421 [00:36<00:00, 11.56it/s]\n",
      "                 Class     Images  Instances      Box(P          R      mAP50  mAP50-95): 100%|██████████| 53/53 [00:04<00:00, 11.30it/s]"
     ]
    },
    {
     "name": "stdout",
     "output_type": "stream",
     "text": [
      "                   all       1683       1483       0.99      0.998      0.995       0.99\n"
     ]
    },
    {
     "name": "stderr",
     "output_type": "stream",
     "text": [
      "\n"
     ]
    },
    {
     "name": "stdout",
     "output_type": "stream",
     "text": [
      "\n",
      "      Epoch    GPU_mem   box_loss   cls_loss   dfl_loss  Instances       Size\n"
     ]
    },
    {
     "name": "stderr",
     "output_type": "stream",
     "text": [
      "    147/300     0.424G     0.6462     0.3491      1.598         14        128: 100%|██████████| 421/421 [00:36<00:00, 11.58it/s]\n",
      "                 Class     Images  Instances      Box(P          R      mAP50  mAP50-95): 100%|██████████| 53/53 [00:04<00:00, 11.42it/s]"
     ]
    },
    {
     "name": "stdout",
     "output_type": "stream",
     "text": [
      "                   all       1683       1483       0.99      0.997      0.995       0.99\n"
     ]
    },
    {
     "name": "stderr",
     "output_type": "stream",
     "text": [
      "\n"
     ]
    },
    {
     "name": "stdout",
     "output_type": "stream",
     "text": [
      "\n",
      "      Epoch    GPU_mem   box_loss   cls_loss   dfl_loss  Instances       Size\n"
     ]
    },
    {
     "name": "stderr",
     "output_type": "stream",
     "text": [
      "    148/300     0.424G     0.6353     0.3458      1.599         13        128: 100%|██████████| 421/421 [00:36<00:00, 11.56it/s]\n",
      "                 Class     Images  Instances      Box(P          R      mAP50  mAP50-95): 100%|██████████| 53/53 [00:04<00:00, 11.30it/s]"
     ]
    },
    {
     "name": "stdout",
     "output_type": "stream",
     "text": [
      "                   all       1683       1483       0.99      0.998      0.995       0.99\n"
     ]
    },
    {
     "name": "stderr",
     "output_type": "stream",
     "text": [
      "\n"
     ]
    },
    {
     "name": "stdout",
     "output_type": "stream",
     "text": [
      "\n",
      "      Epoch    GPU_mem   box_loss   cls_loss   dfl_loss  Instances       Size\n"
     ]
    },
    {
     "name": "stderr",
     "output_type": "stream",
     "text": [
      "    149/300     0.424G     0.6347     0.3516        1.6         17        128: 100%|██████████| 421/421 [00:36<00:00, 11.39it/s]\n",
      "                 Class     Images  Instances      Box(P          R      mAP50  mAP50-95): 100%|██████████| 53/53 [00:04<00:00, 11.35it/s]"
     ]
    },
    {
     "name": "stdout",
     "output_type": "stream",
     "text": [
      "                   all       1683       1483      0.991      0.997      0.995       0.99\n"
     ]
    },
    {
     "name": "stderr",
     "output_type": "stream",
     "text": [
      "\n"
     ]
    },
    {
     "name": "stdout",
     "output_type": "stream",
     "text": [
      "\n",
      "      Epoch    GPU_mem   box_loss   cls_loss   dfl_loss  Instances       Size\n"
     ]
    },
    {
     "name": "stderr",
     "output_type": "stream",
     "text": [
      "    150/300     0.424G     0.6357     0.3513      1.605         14        128: 100%|██████████| 421/421 [00:36<00:00, 11.51it/s]\n",
      "                 Class     Images  Instances      Box(P          R      mAP50  mAP50-95): 100%|██████████| 53/53 [00:04<00:00, 11.23it/s]"
     ]
    },
    {
     "name": "stdout",
     "output_type": "stream",
     "text": [
      "                   all       1683       1483      0.991      0.998      0.995       0.99\n"
     ]
    },
    {
     "name": "stderr",
     "output_type": "stream",
     "text": [
      "\n"
     ]
    },
    {
     "name": "stdout",
     "output_type": "stream",
     "text": [
      "\n",
      "      Epoch    GPU_mem   box_loss   cls_loss   dfl_loss  Instances       Size\n"
     ]
    },
    {
     "name": "stderr",
     "output_type": "stream",
     "text": [
      "    151/300     0.424G     0.6398     0.3535      1.598         12        128: 100%|██████████| 421/421 [00:37<00:00, 11.35it/s]\n",
      "                 Class     Images  Instances      Box(P          R      mAP50  mAP50-95): 100%|██████████| 53/53 [00:04<00:00, 11.38it/s]"
     ]
    },
    {
     "name": "stdout",
     "output_type": "stream",
     "text": [
      "                   all       1683       1483      0.991      0.997      0.995      0.991\n"
     ]
    },
    {
     "name": "stderr",
     "output_type": "stream",
     "text": [
      "\n"
     ]
    },
    {
     "name": "stdout",
     "output_type": "stream",
     "text": [
      "\n",
      "      Epoch    GPU_mem   box_loss   cls_loss   dfl_loss  Instances       Size\n"
     ]
    },
    {
     "name": "stderr",
     "output_type": "stream",
     "text": [
      "    152/300     0.424G     0.6302     0.3485      1.602         14        128: 100%|██████████| 421/421 [00:37<00:00, 11.35it/s]\n",
      "                 Class     Images  Instances      Box(P          R      mAP50  mAP50-95): 100%|██████████| 53/53 [00:04<00:00, 11.30it/s]"
     ]
    },
    {
     "name": "stdout",
     "output_type": "stream",
     "text": [
      "                   all       1683       1483      0.991      0.996      0.995       0.99\n"
     ]
    },
    {
     "name": "stderr",
     "output_type": "stream",
     "text": [
      "\n"
     ]
    },
    {
     "name": "stdout",
     "output_type": "stream",
     "text": [
      "\n",
      "      Epoch    GPU_mem   box_loss   cls_loss   dfl_loss  Instances       Size\n"
     ]
    },
    {
     "name": "stderr",
     "output_type": "stream",
     "text": [
      "    153/300     0.424G     0.6299     0.3475      1.603         17        128: 100%|██████████| 421/421 [00:36<00:00, 11.54it/s]\n",
      "                 Class     Images  Instances      Box(P          R      mAP50  mAP50-95): 100%|██████████| 53/53 [00:04<00:00, 11.21it/s]"
     ]
    },
    {
     "name": "stdout",
     "output_type": "stream",
     "text": [
      "                   all       1683       1483      0.989      0.997      0.995      0.991\n"
     ]
    },
    {
     "name": "stderr",
     "output_type": "stream",
     "text": [
      "\n"
     ]
    },
    {
     "name": "stdout",
     "output_type": "stream",
     "text": [
      "\n",
      "      Epoch    GPU_mem   box_loss   cls_loss   dfl_loss  Instances       Size\n"
     ]
    },
    {
     "name": "stderr",
     "output_type": "stream",
     "text": [
      "    154/300     0.424G     0.6336     0.3572      1.601         12        128: 100%|██████████| 421/421 [00:35<00:00, 11.75it/s]\n",
      "                 Class     Images  Instances      Box(P          R      mAP50  mAP50-95): 100%|██████████| 53/53 [00:04<00:00, 11.42it/s]"
     ]
    },
    {
     "name": "stdout",
     "output_type": "stream",
     "text": [
      "                   all       1683       1483      0.991      0.998      0.995      0.991\n"
     ]
    },
    {
     "name": "stderr",
     "output_type": "stream",
     "text": [
      "\n"
     ]
    },
    {
     "name": "stdout",
     "output_type": "stream",
     "text": [
      "\n",
      "      Epoch    GPU_mem   box_loss   cls_loss   dfl_loss  Instances       Size\n"
     ]
    },
    {
     "name": "stderr",
     "output_type": "stream",
     "text": [
      "    155/300     0.426G     0.6359     0.3497      1.599         22        128: 100%|██████████| 421/421 [00:36<00:00, 11.50it/s]\n",
      "                 Class     Images  Instances      Box(P          R      mAP50  mAP50-95): 100%|██████████| 53/53 [00:04<00:00, 11.46it/s]"
     ]
    },
    {
     "name": "stdout",
     "output_type": "stream",
     "text": [
      "                   all       1683       1483      0.991      0.997      0.995      0.991\n"
     ]
    },
    {
     "name": "stderr",
     "output_type": "stream",
     "text": [
      "\n"
     ]
    },
    {
     "name": "stdout",
     "output_type": "stream",
     "text": [
      "\n",
      "      Epoch    GPU_mem   box_loss   cls_loss   dfl_loss  Instances       Size\n"
     ]
    },
    {
     "name": "stderr",
     "output_type": "stream",
     "text": [
      "    156/300     0.424G       0.63     0.3428      1.596         12        128: 100%|██████████| 421/421 [00:36<00:00, 11.54it/s]\n",
      "                 Class     Images  Instances      Box(P          R      mAP50  mAP50-95): 100%|██████████| 53/53 [00:04<00:00, 11.36it/s]"
     ]
    },
    {
     "name": "stdout",
     "output_type": "stream",
     "text": [
      "                   all       1683       1483      0.991      0.998      0.995      0.991\n"
     ]
    },
    {
     "name": "stderr",
     "output_type": "stream",
     "text": [
      "\n"
     ]
    },
    {
     "name": "stdout",
     "output_type": "stream",
     "text": [
      "\n",
      "      Epoch    GPU_mem   box_loss   cls_loss   dfl_loss  Instances       Size\n"
     ]
    },
    {
     "name": "stderr",
     "output_type": "stream",
     "text": [
      "    157/300     0.424G     0.6273     0.3496      1.598         18        128: 100%|██████████| 421/421 [00:36<00:00, 11.47it/s]\n",
      "                 Class     Images  Instances      Box(P          R      mAP50  mAP50-95): 100%|██████████| 53/53 [00:04<00:00, 11.36it/s]"
     ]
    },
    {
     "name": "stdout",
     "output_type": "stream",
     "text": [
      "                   all       1683       1483      0.991      0.997      0.995      0.991\n"
     ]
    },
    {
     "name": "stderr",
     "output_type": "stream",
     "text": [
      "\n"
     ]
    },
    {
     "name": "stdout",
     "output_type": "stream",
     "text": [
      "\n",
      "      Epoch    GPU_mem   box_loss   cls_loss   dfl_loss  Instances       Size\n"
     ]
    },
    {
     "name": "stderr",
     "output_type": "stream",
     "text": [
      "    158/300     0.424G       0.63     0.3479        1.6         13        128: 100%|██████████| 421/421 [00:36<00:00, 11.39it/s]\n",
      "                 Class     Images  Instances      Box(P          R      mAP50  mAP50-95): 100%|██████████| 53/53 [00:04<00:00, 11.55it/s]"
     ]
    },
    {
     "name": "stdout",
     "output_type": "stream",
     "text": [
      "                   all       1683       1483       0.99      0.997      0.995      0.991\n"
     ]
    },
    {
     "name": "stderr",
     "output_type": "stream",
     "text": [
      "\n"
     ]
    },
    {
     "name": "stdout",
     "output_type": "stream",
     "text": [
      "\n",
      "      Epoch    GPU_mem   box_loss   cls_loss   dfl_loss  Instances       Size\n"
     ]
    },
    {
     "name": "stderr",
     "output_type": "stream",
     "text": [
      "    159/300     0.426G     0.6278     0.3433        1.6         20        128: 100%|██████████| 421/421 [00:36<00:00, 11.43it/s]\n",
      "                 Class     Images  Instances      Box(P          R      mAP50  mAP50-95): 100%|██████████| 53/53 [00:04<00:00, 11.33it/s]"
     ]
    },
    {
     "name": "stdout",
     "output_type": "stream",
     "text": [
      "                   all       1683       1483      0.991      0.997      0.995      0.991\n"
     ]
    },
    {
     "name": "stderr",
     "output_type": "stream",
     "text": [
      "\n"
     ]
    },
    {
     "name": "stdout",
     "output_type": "stream",
     "text": [
      "\n",
      "      Epoch    GPU_mem   box_loss   cls_loss   dfl_loss  Instances       Size\n"
     ]
    },
    {
     "name": "stderr",
     "output_type": "stream",
     "text": [
      "    160/300     0.424G     0.6307     0.3485      1.598         17        128: 100%|██████████| 421/421 [00:36<00:00, 11.42it/s]\n",
      "                 Class     Images  Instances      Box(P          R      mAP50  mAP50-95): 100%|██████████| 53/53 [00:04<00:00, 11.46it/s]"
     ]
    },
    {
     "name": "stdout",
     "output_type": "stream",
     "text": [
      "                   all       1683       1483      0.989          1      0.995      0.991\n"
     ]
    },
    {
     "name": "stderr",
     "output_type": "stream",
     "text": [
      "\n"
     ]
    },
    {
     "name": "stdout",
     "output_type": "stream",
     "text": [
      "\n",
      "      Epoch    GPU_mem   box_loss   cls_loss   dfl_loss  Instances       Size\n"
     ]
    },
    {
     "name": "stderr",
     "output_type": "stream",
     "text": [
      "    161/300     0.424G     0.6258     0.3392      1.596         14        128: 100%|██████████| 421/421 [00:36<00:00, 11.46it/s]\n",
      "                 Class     Images  Instances      Box(P          R      mAP50  mAP50-95): 100%|██████████| 53/53 [00:04<00:00, 11.36it/s]"
     ]
    },
    {
     "name": "stdout",
     "output_type": "stream",
     "text": [
      "                   all       1683       1483      0.989          1      0.995      0.991\n"
     ]
    },
    {
     "name": "stderr",
     "output_type": "stream",
     "text": [
      "\n"
     ]
    },
    {
     "name": "stdout",
     "output_type": "stream",
     "text": [
      "\n",
      "      Epoch    GPU_mem   box_loss   cls_loss   dfl_loss  Instances       Size\n"
     ]
    },
    {
     "name": "stderr",
     "output_type": "stream",
     "text": [
      "    162/300     0.426G     0.6292     0.3435      1.599         13        128: 100%|██████████| 421/421 [00:36<00:00, 11.59it/s]\n",
      "                 Class     Images  Instances      Box(P          R      mAP50  mAP50-95): 100%|██████████| 53/53 [00:04<00:00, 11.51it/s]"
     ]
    },
    {
     "name": "stdout",
     "output_type": "stream",
     "text": [
      "                   all       1683       1483      0.988          1      0.995      0.991\n"
     ]
    },
    {
     "name": "stderr",
     "output_type": "stream",
     "text": [
      "\n"
     ]
    },
    {
     "name": "stdout",
     "output_type": "stream",
     "text": [
      "\n",
      "      Epoch    GPU_mem   box_loss   cls_loss   dfl_loss  Instances       Size\n"
     ]
    },
    {
     "name": "stderr",
     "output_type": "stream",
     "text": [
      "    163/300     0.426G     0.6148     0.3449      1.595         14        128: 100%|██████████| 421/421 [00:36<00:00, 11.64it/s]\n",
      "                 Class     Images  Instances      Box(P          R      mAP50  mAP50-95): 100%|██████████| 53/53 [00:04<00:00, 11.31it/s]"
     ]
    },
    {
     "name": "stdout",
     "output_type": "stream",
     "text": [
      "                   all       1683       1483       0.99      0.997      0.995      0.991\n"
     ]
    },
    {
     "name": "stderr",
     "output_type": "stream",
     "text": [
      "\n"
     ]
    },
    {
     "name": "stdout",
     "output_type": "stream",
     "text": [
      "\n",
      "      Epoch    GPU_mem   box_loss   cls_loss   dfl_loss  Instances       Size\n"
     ]
    },
    {
     "name": "stderr",
     "output_type": "stream",
     "text": [
      "    164/300     0.424G     0.6132     0.3376      1.595         20        128: 100%|██████████| 421/421 [00:36<00:00, 11.62it/s]\n",
      "                 Class     Images  Instances      Box(P          R      mAP50  mAP50-95): 100%|██████████| 53/53 [00:04<00:00, 11.34it/s]"
     ]
    },
    {
     "name": "stdout",
     "output_type": "stream",
     "text": [
      "                   all       1683       1483      0.989      0.999      0.995      0.991\n"
     ]
    },
    {
     "name": "stderr",
     "output_type": "stream",
     "text": [
      "\n"
     ]
    },
    {
     "name": "stdout",
     "output_type": "stream",
     "text": [
      "\n",
      "      Epoch    GPU_mem   box_loss   cls_loss   dfl_loss  Instances       Size\n"
     ]
    },
    {
     "name": "stderr",
     "output_type": "stream",
     "text": [
      "    165/300     0.424G     0.6117     0.3399      1.599         15        128: 100%|██████████| 421/421 [00:36<00:00, 11.43it/s]\n",
      "                 Class     Images  Instances      Box(P          R      mAP50  mAP50-95): 100%|██████████| 53/53 [00:04<00:00, 11.28it/s]"
     ]
    },
    {
     "name": "stdout",
     "output_type": "stream",
     "text": [
      "                   all       1683       1483      0.988          1      0.995      0.991\n"
     ]
    },
    {
     "name": "stderr",
     "output_type": "stream",
     "text": [
      "\n"
     ]
    },
    {
     "name": "stdout",
     "output_type": "stream",
     "text": [
      "\n",
      "      Epoch    GPU_mem   box_loss   cls_loss   dfl_loss  Instances       Size\n"
     ]
    },
    {
     "name": "stderr",
     "output_type": "stream",
     "text": [
      "    166/300     0.426G     0.6095     0.3353      1.597         15        128: 100%|██████████| 421/421 [00:36<00:00, 11.43it/s]\n",
      "                 Class     Images  Instances      Box(P          R      mAP50  mAP50-95): 100%|██████████| 53/53 [00:04<00:00, 11.38it/s]"
     ]
    },
    {
     "name": "stdout",
     "output_type": "stream",
     "text": [
      "                   all       1683       1483      0.991      0.998      0.995      0.991\n"
     ]
    },
    {
     "name": "stderr",
     "output_type": "stream",
     "text": [
      "\n"
     ]
    },
    {
     "name": "stdout",
     "output_type": "stream",
     "text": [
      "\n",
      "      Epoch    GPU_mem   box_loss   cls_loss   dfl_loss  Instances       Size\n"
     ]
    },
    {
     "name": "stderr",
     "output_type": "stream",
     "text": [
      "    167/300     0.424G     0.6219      0.344      1.598         10        128: 100%|██████████| 421/421 [00:36<00:00, 11.42it/s]\n",
      "                 Class     Images  Instances      Box(P          R      mAP50  mAP50-95): 100%|██████████| 53/53 [00:04<00:00, 11.49it/s]"
     ]
    },
    {
     "name": "stdout",
     "output_type": "stream",
     "text": [
      "                   all       1683       1483       0.99      0.999      0.995      0.991\n"
     ]
    },
    {
     "name": "stderr",
     "output_type": "stream",
     "text": [
      "\n"
     ]
    },
    {
     "name": "stdout",
     "output_type": "stream",
     "text": [
      "\n",
      "      Epoch    GPU_mem   box_loss   cls_loss   dfl_loss  Instances       Size\n"
     ]
    },
    {
     "name": "stderr",
     "output_type": "stream",
     "text": [
      "    168/300     0.424G     0.5981     0.3342      1.595         13        128: 100%|██████████| 421/421 [00:36<00:00, 11.48it/s]\n",
      "                 Class     Images  Instances      Box(P          R      mAP50  mAP50-95): 100%|██████████| 53/53 [00:04<00:00, 11.55it/s]"
     ]
    },
    {
     "name": "stdout",
     "output_type": "stream",
     "text": [
      "                   all       1683       1483      0.989      0.999      0.995      0.991\n"
     ]
    },
    {
     "name": "stderr",
     "output_type": "stream",
     "text": [
      "\n"
     ]
    },
    {
     "name": "stdout",
     "output_type": "stream",
     "text": [
      "\n",
      "      Epoch    GPU_mem   box_loss   cls_loss   dfl_loss  Instances       Size\n"
     ]
    },
    {
     "name": "stderr",
     "output_type": "stream",
     "text": [
      "    169/300     0.426G     0.6122     0.3499      1.597         14        128: 100%|██████████| 421/421 [00:36<00:00, 11.60it/s]\n",
      "                 Class     Images  Instances      Box(P          R      mAP50  mAP50-95): 100%|██████████| 53/53 [00:04<00:00, 11.46it/s]"
     ]
    },
    {
     "name": "stdout",
     "output_type": "stream",
     "text": [
      "                   all       1683       1483       0.99      0.999      0.995      0.991\n"
     ]
    },
    {
     "name": "stderr",
     "output_type": "stream",
     "text": [
      "\n"
     ]
    },
    {
     "name": "stdout",
     "output_type": "stream",
     "text": [
      "\n",
      "      Epoch    GPU_mem   box_loss   cls_loss   dfl_loss  Instances       Size\n"
     ]
    },
    {
     "name": "stderr",
     "output_type": "stream",
     "text": [
      "    170/300     0.424G     0.6054      0.338      1.601         22        128: 100%|██████████| 421/421 [00:36<00:00, 11.41it/s]\n",
      "                 Class     Images  Instances      Box(P          R      mAP50  mAP50-95): 100%|██████████| 53/53 [00:04<00:00, 11.48it/s]"
     ]
    },
    {
     "name": "stdout",
     "output_type": "stream",
     "text": [
      "                   all       1683       1483      0.992      0.998      0.995      0.991\n"
     ]
    },
    {
     "name": "stderr",
     "output_type": "stream",
     "text": [
      "\n"
     ]
    },
    {
     "name": "stdout",
     "output_type": "stream",
     "text": [
      "\n",
      "      Epoch    GPU_mem   box_loss   cls_loss   dfl_loss  Instances       Size\n"
     ]
    },
    {
     "name": "stderr",
     "output_type": "stream",
     "text": [
      "    171/300     0.424G     0.6086     0.3409      1.597         12        128: 100%|██████████| 421/421 [00:35<00:00, 11.84it/s]\n",
      "                 Class     Images  Instances      Box(P          R      mAP50  mAP50-95): 100%|██████████| 53/53 [00:04<00:00, 11.25it/s]"
     ]
    },
    {
     "name": "stdout",
     "output_type": "stream",
     "text": [
      "                   all       1683       1483       0.99      0.999      0.995      0.991\n"
     ]
    },
    {
     "name": "stderr",
     "output_type": "stream",
     "text": [
      "\n"
     ]
    },
    {
     "name": "stdout",
     "output_type": "stream",
     "text": [
      "\n",
      "      Epoch    GPU_mem   box_loss   cls_loss   dfl_loss  Instances       Size\n"
     ]
    },
    {
     "name": "stderr",
     "output_type": "stream",
     "text": [
      "    172/300     0.424G     0.5989     0.3298      1.596         14        128: 100%|██████████| 421/421 [00:36<00:00, 11.56it/s]\n",
      "                 Class     Images  Instances      Box(P          R      mAP50  mAP50-95): 100%|██████████| 53/53 [00:04<00:00, 11.49it/s]"
     ]
    },
    {
     "name": "stdout",
     "output_type": "stream",
     "text": [
      "                   all       1683       1483       0.99      0.997      0.995      0.991\n"
     ]
    },
    {
     "name": "stderr",
     "output_type": "stream",
     "text": [
      "\n"
     ]
    },
    {
     "name": "stdout",
     "output_type": "stream",
     "text": [
      "\n",
      "      Epoch    GPU_mem   box_loss   cls_loss   dfl_loss  Instances       Size\n"
     ]
    },
    {
     "name": "stderr",
     "output_type": "stream",
     "text": [
      "    173/300     0.424G     0.6106     0.3364      1.595         15        128: 100%|██████████| 421/421 [00:36<00:00, 11.53it/s]\n",
      "                 Class     Images  Instances      Box(P          R      mAP50  mAP50-95): 100%|██████████| 53/53 [00:04<00:00, 11.55it/s]"
     ]
    },
    {
     "name": "stdout",
     "output_type": "stream",
     "text": [
      "                   all       1683       1483      0.991      0.997      0.995      0.991\n"
     ]
    },
    {
     "name": "stderr",
     "output_type": "stream",
     "text": [
      "\n"
     ]
    },
    {
     "name": "stdout",
     "output_type": "stream",
     "text": [
      "\n",
      "      Epoch    GPU_mem   box_loss   cls_loss   dfl_loss  Instances       Size\n"
     ]
    },
    {
     "name": "stderr",
     "output_type": "stream",
     "text": [
      "    174/300     0.424G     0.5957     0.3289      1.592         16        128: 100%|██████████| 421/421 [00:36<00:00, 11.57it/s]\n",
      "                 Class     Images  Instances      Box(P          R      mAP50  mAP50-95): 100%|██████████| 53/53 [00:04<00:00, 11.51it/s]"
     ]
    },
    {
     "name": "stdout",
     "output_type": "stream",
     "text": [
      "                   all       1683       1483       0.99      0.996      0.995      0.991\n"
     ]
    },
    {
     "name": "stderr",
     "output_type": "stream",
     "text": [
      "\n"
     ]
    },
    {
     "name": "stdout",
     "output_type": "stream",
     "text": [
      "\n",
      "      Epoch    GPU_mem   box_loss   cls_loss   dfl_loss  Instances       Size\n"
     ]
    },
    {
     "name": "stderr",
     "output_type": "stream",
     "text": [
      "    175/300     0.426G     0.5964     0.3324      1.593         17        128: 100%|██████████| 421/421 [00:36<00:00, 11.51it/s]\n",
      "                 Class     Images  Instances      Box(P          R      mAP50  mAP50-95): 100%|██████████| 53/53 [00:04<00:00, 11.36it/s]"
     ]
    },
    {
     "name": "stdout",
     "output_type": "stream",
     "text": [
      "                   all       1683       1483      0.991      0.996      0.995      0.991\n"
     ]
    },
    {
     "name": "stderr",
     "output_type": "stream",
     "text": [
      "\n"
     ]
    },
    {
     "name": "stdout",
     "output_type": "stream",
     "text": [
      "\n",
      "      Epoch    GPU_mem   box_loss   cls_loss   dfl_loss  Instances       Size\n"
     ]
    },
    {
     "name": "stderr",
     "output_type": "stream",
     "text": [
      "    176/300     0.424G     0.5871     0.3275      1.597         18        128: 100%|██████████| 421/421 [00:36<00:00, 11.62it/s]\n",
      "                 Class     Images  Instances      Box(P          R      mAP50  mAP50-95): 100%|██████████| 53/53 [00:04<00:00, 11.30it/s]"
     ]
    },
    {
     "name": "stdout",
     "output_type": "stream",
     "text": [
      "                   all       1683       1483      0.992      0.998      0.995      0.991\n"
     ]
    },
    {
     "name": "stderr",
     "output_type": "stream",
     "text": [
      "\n"
     ]
    },
    {
     "name": "stdout",
     "output_type": "stream",
     "text": [
      "\n",
      "      Epoch    GPU_mem   box_loss   cls_loss   dfl_loss  Instances       Size\n"
     ]
    },
    {
     "name": "stderr",
     "output_type": "stream",
     "text": [
      "    177/300     0.424G     0.5873     0.3262      1.594         14        128: 100%|██████████| 421/421 [00:36<00:00, 11.47it/s]\n",
      "                 Class     Images  Instances      Box(P          R      mAP50  mAP50-95): 100%|██████████| 53/53 [00:04<00:00, 11.70it/s]"
     ]
    },
    {
     "name": "stdout",
     "output_type": "stream",
     "text": [
      "                   all       1683       1483      0.991      0.997      0.995      0.991\n"
     ]
    },
    {
     "name": "stderr",
     "output_type": "stream",
     "text": [
      "\n"
     ]
    },
    {
     "name": "stdout",
     "output_type": "stream",
     "text": [
      "\n",
      "      Epoch    GPU_mem   box_loss   cls_loss   dfl_loss  Instances       Size\n"
     ]
    },
    {
     "name": "stderr",
     "output_type": "stream",
     "text": [
      "    178/300     0.426G     0.5972     0.3332      1.596         16        128: 100%|██████████| 421/421 [00:36<00:00, 11.39it/s]\n",
      "                 Class     Images  Instances      Box(P          R      mAP50  mAP50-95): 100%|██████████| 53/53 [00:04<00:00, 11.56it/s]"
     ]
    },
    {
     "name": "stdout",
     "output_type": "stream",
     "text": [
      "                   all       1683       1483      0.991      0.997      0.995      0.991\n"
     ]
    },
    {
     "name": "stderr",
     "output_type": "stream",
     "text": [
      "\n"
     ]
    },
    {
     "name": "stdout",
     "output_type": "stream",
     "text": [
      "\n",
      "      Epoch    GPU_mem   box_loss   cls_loss   dfl_loss  Instances       Size\n"
     ]
    },
    {
     "name": "stderr",
     "output_type": "stream",
     "text": [
      "    179/300     0.426G     0.6015     0.3339      1.598         17        128: 100%|██████████| 421/421 [00:36<00:00, 11.54it/s]\n",
      "                 Class     Images  Instances      Box(P          R      mAP50  mAP50-95): 100%|██████████| 53/53 [00:04<00:00, 11.22it/s]"
     ]
    },
    {
     "name": "stdout",
     "output_type": "stream",
     "text": [
      "                   all       1683       1483       0.99      0.997      0.995      0.991\n"
     ]
    },
    {
     "name": "stderr",
     "output_type": "stream",
     "text": [
      "\n"
     ]
    },
    {
     "name": "stdout",
     "output_type": "stream",
     "text": [
      "\n",
      "      Epoch    GPU_mem   box_loss   cls_loss   dfl_loss  Instances       Size\n"
     ]
    },
    {
     "name": "stderr",
     "output_type": "stream",
     "text": [
      "    180/300     0.424G     0.5926     0.3286      1.597         17        128: 100%|██████████| 421/421 [00:35<00:00, 11.85it/s]\n",
      "                 Class     Images  Instances      Box(P          R      mAP50  mAP50-95): 100%|██████████| 53/53 [00:04<00:00, 11.41it/s]"
     ]
    },
    {
     "name": "stdout",
     "output_type": "stream",
     "text": [
      "                   all       1683       1483      0.989      0.997      0.995      0.991\n"
     ]
    },
    {
     "name": "stderr",
     "output_type": "stream",
     "text": [
      "\n"
     ]
    },
    {
     "name": "stdout",
     "output_type": "stream",
     "text": [
      "\n",
      "      Epoch    GPU_mem   box_loss   cls_loss   dfl_loss  Instances       Size\n"
     ]
    },
    {
     "name": "stderr",
     "output_type": "stream",
     "text": [
      "    181/300     0.426G     0.6014     0.3357      1.593         15        128: 100%|██████████| 421/421 [00:36<00:00, 11.47it/s]\n",
      "                 Class     Images  Instances      Box(P          R      mAP50  mAP50-95): 100%|██████████| 53/53 [00:04<00:00, 11.33it/s]"
     ]
    },
    {
     "name": "stdout",
     "output_type": "stream",
     "text": [
      "                   all       1683       1483      0.988          1      0.995      0.991\n"
     ]
    },
    {
     "name": "stderr",
     "output_type": "stream",
     "text": [
      "\n"
     ]
    },
    {
     "name": "stdout",
     "output_type": "stream",
     "text": [
      "\n",
      "      Epoch    GPU_mem   box_loss   cls_loss   dfl_loss  Instances       Size\n"
     ]
    },
    {
     "name": "stderr",
     "output_type": "stream",
     "text": [
      "    182/300     0.424G     0.5881     0.3258      1.597         15        128: 100%|██████████| 421/421 [00:36<00:00, 11.43it/s]\n",
      "                 Class     Images  Instances      Box(P          R      mAP50  mAP50-95): 100%|██████████| 53/53 [00:04<00:00, 11.53it/s]"
     ]
    },
    {
     "name": "stdout",
     "output_type": "stream",
     "text": [
      "                   all       1683       1483      0.987      0.999      0.995      0.991\n"
     ]
    },
    {
     "name": "stderr",
     "output_type": "stream",
     "text": [
      "\n"
     ]
    },
    {
     "name": "stdout",
     "output_type": "stream",
     "text": [
      "\n",
      "      Epoch    GPU_mem   box_loss   cls_loss   dfl_loss  Instances       Size\n"
     ]
    },
    {
     "name": "stderr",
     "output_type": "stream",
     "text": [
      "    183/300     0.426G     0.5819     0.3252      1.595         12        128: 100%|██████████| 421/421 [00:36<00:00, 11.39it/s]\n",
      "                 Class     Images  Instances      Box(P          R      mAP50  mAP50-95): 100%|██████████| 53/53 [00:04<00:00, 11.61it/s]"
     ]
    },
    {
     "name": "stdout",
     "output_type": "stream",
     "text": [
      "                   all       1683       1483      0.989      0.998      0.995      0.991\n"
     ]
    },
    {
     "name": "stderr",
     "output_type": "stream",
     "text": [
      "\n"
     ]
    },
    {
     "name": "stdout",
     "output_type": "stream",
     "text": [
      "\n",
      "      Epoch    GPU_mem   box_loss   cls_loss   dfl_loss  Instances       Size\n"
     ]
    },
    {
     "name": "stderr",
     "output_type": "stream",
     "text": [
      "    184/300     0.424G     0.5854     0.3219      1.598         14        128: 100%|██████████| 421/421 [00:36<00:00, 11.41it/s]\n",
      "                 Class     Images  Instances      Box(P          R      mAP50  mAP50-95): 100%|██████████| 53/53 [00:04<00:00, 11.54it/s]"
     ]
    },
    {
     "name": "stdout",
     "output_type": "stream",
     "text": [
      "                   all       1683       1483      0.987      0.998      0.995      0.991\n"
     ]
    },
    {
     "name": "stderr",
     "output_type": "stream",
     "text": [
      "\n"
     ]
    },
    {
     "name": "stdout",
     "output_type": "stream",
     "text": [
      "\n",
      "      Epoch    GPU_mem   box_loss   cls_loss   dfl_loss  Instances       Size\n"
     ]
    },
    {
     "name": "stderr",
     "output_type": "stream",
     "text": [
      "    185/300     0.424G     0.5839     0.3298      1.599         19        128: 100%|██████████| 421/421 [00:36<00:00, 11.53it/s]\n",
      "                 Class     Images  Instances      Box(P          R      mAP50  mAP50-95): 100%|██████████| 53/53 [00:04<00:00, 11.53it/s]"
     ]
    },
    {
     "name": "stdout",
     "output_type": "stream",
     "text": [
      "                   all       1683       1483      0.987      0.998      0.995      0.991\n"
     ]
    },
    {
     "name": "stderr",
     "output_type": "stream",
     "text": [
      "\n"
     ]
    },
    {
     "name": "stdout",
     "output_type": "stream",
     "text": [
      "\n",
      "      Epoch    GPU_mem   box_loss   cls_loss   dfl_loss  Instances       Size\n"
     ]
    },
    {
     "name": "stderr",
     "output_type": "stream",
     "text": [
      "    186/300     0.426G     0.5818     0.3229      1.595         18        128: 100%|██████████| 421/421 [00:36<00:00, 11.52it/s]\n",
      "                 Class     Images  Instances      Box(P          R      mAP50  mAP50-95): 100%|██████████| 53/53 [00:04<00:00, 11.44it/s]"
     ]
    },
    {
     "name": "stdout",
     "output_type": "stream",
     "text": [
      "                   all       1683       1483      0.988      0.997      0.995      0.991\n"
     ]
    },
    {
     "name": "stderr",
     "output_type": "stream",
     "text": [
      "\n"
     ]
    },
    {
     "name": "stdout",
     "output_type": "stream",
     "text": [
      "\n",
      "      Epoch    GPU_mem   box_loss   cls_loss   dfl_loss  Instances       Size\n"
     ]
    },
    {
     "name": "stderr",
     "output_type": "stream",
     "text": [
      "    187/300     0.426G     0.5709     0.3198      1.593         19        128: 100%|██████████| 421/421 [00:36<00:00, 11.39it/s]\n",
      "                 Class     Images  Instances      Box(P          R      mAP50  mAP50-95): 100%|██████████| 53/53 [00:04<00:00, 11.49it/s]"
     ]
    },
    {
     "name": "stdout",
     "output_type": "stream",
     "text": [
      "                   all       1683       1483      0.989      0.997      0.995      0.991\n"
     ]
    },
    {
     "name": "stderr",
     "output_type": "stream",
     "text": [
      "\n"
     ]
    },
    {
     "name": "stdout",
     "output_type": "stream",
     "text": [
      "\n",
      "      Epoch    GPU_mem   box_loss   cls_loss   dfl_loss  Instances       Size\n"
     ]
    },
    {
     "name": "stderr",
     "output_type": "stream",
     "text": [
      "    188/300     0.424G     0.5826     0.3183      1.595         17        128: 100%|██████████| 421/421 [00:36<00:00, 11.64it/s]\n",
      "                 Class     Images  Instances      Box(P          R      mAP50  mAP50-95): 100%|██████████| 53/53 [00:04<00:00, 11.57it/s]"
     ]
    },
    {
     "name": "stdout",
     "output_type": "stream",
     "text": [
      "                   all       1683       1483      0.989      0.997      0.995      0.991\n"
     ]
    },
    {
     "name": "stderr",
     "output_type": "stream",
     "text": [
      "\n"
     ]
    },
    {
     "name": "stdout",
     "output_type": "stream",
     "text": [
      "\n",
      "      Epoch    GPU_mem   box_loss   cls_loss   dfl_loss  Instances       Size\n"
     ]
    },
    {
     "name": "stderr",
     "output_type": "stream",
     "text": [
      "    189/300     0.424G     0.5771     0.3166      1.591         12        128: 100%|██████████| 421/421 [00:36<00:00, 11.64it/s]\n",
      "                 Class     Images  Instances      Box(P          R      mAP50  mAP50-95): 100%|██████████| 53/53 [00:04<00:00, 11.52it/s]"
     ]
    },
    {
     "name": "stdout",
     "output_type": "stream",
     "text": [
      "                   all       1683       1483      0.988      0.997      0.995      0.991\n"
     ]
    },
    {
     "name": "stderr",
     "output_type": "stream",
     "text": [
      "\n"
     ]
    },
    {
     "name": "stdout",
     "output_type": "stream",
     "text": [
      "\n",
      "      Epoch    GPU_mem   box_loss   cls_loss   dfl_loss  Instances       Size\n"
     ]
    },
    {
     "name": "stderr",
     "output_type": "stream",
     "text": [
      "    190/300     0.424G     0.5743     0.3169      1.595         19        128: 100%|██████████| 421/421 [00:36<00:00, 11.58it/s]\n",
      "                 Class     Images  Instances      Box(P          R      mAP50  mAP50-95): 100%|██████████| 53/53 [00:04<00:00, 11.36it/s]"
     ]
    },
    {
     "name": "stdout",
     "output_type": "stream",
     "text": [
      "                   all       1683       1483       0.99      0.997      0.995      0.991\n"
     ]
    },
    {
     "name": "stderr",
     "output_type": "stream",
     "text": [
      "\n"
     ]
    },
    {
     "name": "stdout",
     "output_type": "stream",
     "text": [
      "\n",
      "      Epoch    GPU_mem   box_loss   cls_loss   dfl_loss  Instances       Size\n"
     ]
    },
    {
     "name": "stderr",
     "output_type": "stream",
     "text": [
      "    191/300     0.426G     0.5731     0.3197      1.594         14        128: 100%|██████████| 421/421 [00:36<00:00, 11.50it/s]\n",
      "                 Class     Images  Instances      Box(P          R      mAP50  mAP50-95): 100%|██████████| 53/53 [00:04<00:00, 11.56it/s]"
     ]
    },
    {
     "name": "stdout",
     "output_type": "stream",
     "text": [
      "                   all       1683       1483       0.99      0.997      0.995      0.991\n"
     ]
    },
    {
     "name": "stderr",
     "output_type": "stream",
     "text": [
      "\n"
     ]
    },
    {
     "name": "stdout",
     "output_type": "stream",
     "text": [
      "\n",
      "      Epoch    GPU_mem   box_loss   cls_loss   dfl_loss  Instances       Size\n"
     ]
    },
    {
     "name": "stderr",
     "output_type": "stream",
     "text": [
      "    192/300     0.424G     0.5701     0.3228      1.593         17        128: 100%|██████████| 421/421 [00:36<00:00, 11.41it/s]\n",
      "                 Class     Images  Instances      Box(P          R      mAP50  mAP50-95): 100%|██████████| 53/53 [00:04<00:00, 11.45it/s]"
     ]
    },
    {
     "name": "stdout",
     "output_type": "stream",
     "text": [
      "                   all       1683       1483      0.991      0.997      0.995      0.991\n"
     ]
    },
    {
     "name": "stderr",
     "output_type": "stream",
     "text": [
      "\n"
     ]
    },
    {
     "name": "stdout",
     "output_type": "stream",
     "text": [
      "\n",
      "      Epoch    GPU_mem   box_loss   cls_loss   dfl_loss  Instances       Size\n"
     ]
    },
    {
     "name": "stderr",
     "output_type": "stream",
     "text": [
      "    193/300     0.424G     0.5688      0.318      1.595         16        128: 100%|██████████| 421/421 [00:36<00:00, 11.40it/s]\n",
      "                 Class     Images  Instances      Box(P          R      mAP50  mAP50-95): 100%|██████████| 53/53 [00:04<00:00, 11.39it/s]"
     ]
    },
    {
     "name": "stdout",
     "output_type": "stream",
     "text": [
      "                   all       1683       1483      0.991      0.997      0.995      0.991\n"
     ]
    },
    {
     "name": "stderr",
     "output_type": "stream",
     "text": [
      "\n"
     ]
    },
    {
     "name": "stdout",
     "output_type": "stream",
     "text": [
      "\n",
      "      Epoch    GPU_mem   box_loss   cls_loss   dfl_loss  Instances       Size\n"
     ]
    },
    {
     "name": "stderr",
     "output_type": "stream",
     "text": [
      "    194/300     0.424G     0.5629       0.31      1.594         16        128: 100%|██████████| 421/421 [00:36<00:00, 11.53it/s]\n",
      "                 Class     Images  Instances      Box(P          R      mAP50  mAP50-95): 100%|██████████| 53/53 [00:04<00:00, 11.42it/s]"
     ]
    },
    {
     "name": "stdout",
     "output_type": "stream",
     "text": [
      "                   all       1683       1483      0.989      0.997      0.995      0.991\n"
     ]
    },
    {
     "name": "stderr",
     "output_type": "stream",
     "text": [
      "\n"
     ]
    },
    {
     "name": "stdout",
     "output_type": "stream",
     "text": [
      "\n",
      "      Epoch    GPU_mem   box_loss   cls_loss   dfl_loss  Instances       Size\n"
     ]
    },
    {
     "name": "stderr",
     "output_type": "stream",
     "text": [
      "    195/300     0.426G     0.5637     0.3147      1.599         21        128: 100%|██████████| 421/421 [00:36<00:00, 11.46it/s]\n",
      "                 Class     Images  Instances      Box(P          R      mAP50  mAP50-95): 100%|██████████| 53/53 [00:04<00:00, 11.49it/s]"
     ]
    },
    {
     "name": "stdout",
     "output_type": "stream",
     "text": [
      "                   all       1683       1483      0.989      0.996      0.995      0.991\n"
     ]
    },
    {
     "name": "stderr",
     "output_type": "stream",
     "text": [
      "\n"
     ]
    },
    {
     "name": "stdout",
     "output_type": "stream",
     "text": [
      "\n",
      "      Epoch    GPU_mem   box_loss   cls_loss   dfl_loss  Instances       Size\n"
     ]
    },
    {
     "name": "stderr",
     "output_type": "stream",
     "text": [
      "    196/300     0.424G     0.5619     0.3123      1.597         20        128: 100%|██████████| 421/421 [00:36<00:00, 11.44it/s]\n",
      "                 Class     Images  Instances      Box(P          R      mAP50  mAP50-95): 100%|██████████| 53/53 [00:04<00:00, 11.43it/s]"
     ]
    },
    {
     "name": "stdout",
     "output_type": "stream",
     "text": [
      "                   all       1683       1483      0.989      0.997      0.995      0.991\n"
     ]
    },
    {
     "name": "stderr",
     "output_type": "stream",
     "text": [
      "\n"
     ]
    },
    {
     "name": "stdout",
     "output_type": "stream",
     "text": [
      "\n",
      "      Epoch    GPU_mem   box_loss   cls_loss   dfl_loss  Instances       Size\n"
     ]
    },
    {
     "name": "stderr",
     "output_type": "stream",
     "text": [
      "    197/300     0.424G     0.5586     0.3131      1.592         13        128: 100%|██████████| 421/421 [00:35<00:00, 11.91it/s]\n",
      "                 Class     Images  Instances      Box(P          R      mAP50  mAP50-95): 100%|██████████| 53/53 [00:04<00:00, 11.48it/s]"
     ]
    },
    {
     "name": "stdout",
     "output_type": "stream",
     "text": [
      "                   all       1683       1483      0.989      0.997      0.995      0.991\n"
     ]
    },
    {
     "name": "stderr",
     "output_type": "stream",
     "text": [
      "\n"
     ]
    },
    {
     "name": "stdout",
     "output_type": "stream",
     "text": [
      "\n",
      "      Epoch    GPU_mem   box_loss   cls_loss   dfl_loss  Instances       Size\n"
     ]
    },
    {
     "name": "stderr",
     "output_type": "stream",
     "text": [
      "    198/300     0.424G     0.5505     0.3088      1.593          9        128: 100%|██████████| 421/421 [00:36<00:00, 11.57it/s]\n",
      "                 Class     Images  Instances      Box(P          R      mAP50  mAP50-95): 100%|██████████| 53/53 [00:04<00:00, 11.49it/s]"
     ]
    },
    {
     "name": "stdout",
     "output_type": "stream",
     "text": [
      "                   all       1683       1483       0.99      0.997      0.995      0.991\n"
     ]
    },
    {
     "name": "stderr",
     "output_type": "stream",
     "text": [
      "\n"
     ]
    },
    {
     "name": "stdout",
     "output_type": "stream",
     "text": [
      "\n",
      "      Epoch    GPU_mem   box_loss   cls_loss   dfl_loss  Instances       Size\n"
     ]
    },
    {
     "name": "stderr",
     "output_type": "stream",
     "text": [
      "    199/300     0.424G     0.5701     0.3173      1.593         10        128: 100%|██████████| 421/421 [00:36<00:00, 11.59it/s]\n",
      "                 Class     Images  Instances      Box(P          R      mAP50  mAP50-95): 100%|██████████| 53/53 [00:04<00:00, 11.26it/s]"
     ]
    },
    {
     "name": "stdout",
     "output_type": "stream",
     "text": [
      "                   all       1683       1483       0.99      0.997      0.995      0.991\n"
     ]
    },
    {
     "name": "stderr",
     "output_type": "stream",
     "text": [
      "\n"
     ]
    },
    {
     "name": "stdout",
     "output_type": "stream",
     "text": [
      "\n",
      "      Epoch    GPU_mem   box_loss   cls_loss   dfl_loss  Instances       Size\n"
     ]
    },
    {
     "name": "stderr",
     "output_type": "stream",
     "text": [
      "    200/300     0.424G     0.5561     0.3018      1.592          9        128: 100%|██████████| 421/421 [00:36<00:00, 11.58it/s]\n",
      "                 Class     Images  Instances      Box(P          R      mAP50  mAP50-95): 100%|██████████| 53/53 [00:04<00:00, 11.35it/s]"
     ]
    },
    {
     "name": "stdout",
     "output_type": "stream",
     "text": [
      "                   all       1683       1483      0.989      0.997      0.995      0.991\n"
     ]
    },
    {
     "name": "stderr",
     "output_type": "stream",
     "text": [
      "\n"
     ]
    },
    {
     "name": "stdout",
     "output_type": "stream",
     "text": [
      "\n",
      "      Epoch    GPU_mem   box_loss   cls_loss   dfl_loss  Instances       Size\n"
     ]
    },
    {
     "name": "stderr",
     "output_type": "stream",
     "text": [
      "    201/300     0.426G     0.5587     0.3134      1.592         17        128: 100%|██████████| 421/421 [00:36<00:00, 11.51it/s]\n",
      "                 Class     Images  Instances      Box(P          R      mAP50  mAP50-95): 100%|██████████| 53/53 [00:04<00:00, 11.58it/s]"
     ]
    },
    {
     "name": "stdout",
     "output_type": "stream",
     "text": [
      "                   all       1683       1483       0.99      0.997      0.995      0.991\n"
     ]
    },
    {
     "name": "stderr",
     "output_type": "stream",
     "text": [
      "\n"
     ]
    },
    {
     "name": "stdout",
     "output_type": "stream",
     "text": [
      "\n",
      "      Epoch    GPU_mem   box_loss   cls_loss   dfl_loss  Instances       Size\n"
     ]
    },
    {
     "name": "stderr",
     "output_type": "stream",
     "text": [
      "    202/300     0.424G     0.5485     0.3097       1.59         18        128: 100%|██████████| 421/421 [00:36<00:00, 11.45it/s]\n",
      "                 Class     Images  Instances      Box(P          R      mAP50  mAP50-95): 100%|██████████| 53/53 [00:04<00:00, 11.08it/s]"
     ]
    },
    {
     "name": "stdout",
     "output_type": "stream",
     "text": [
      "                   all       1683       1483      0.984          1      0.995      0.992\n"
     ]
    },
    {
     "name": "stderr",
     "output_type": "stream",
     "text": [
      "\n"
     ]
    },
    {
     "name": "stdout",
     "output_type": "stream",
     "text": [
      "\n",
      "      Epoch    GPU_mem   box_loss   cls_loss   dfl_loss  Instances       Size\n"
     ]
    },
    {
     "name": "stderr",
     "output_type": "stream",
     "text": [
      "    203/300     0.426G     0.5471     0.3009       1.59         13        128: 100%|██████████| 421/421 [00:36<00:00, 11.42it/s]\n",
      "                 Class     Images  Instances      Box(P          R      mAP50  mAP50-95): 100%|██████████| 53/53 [00:04<00:00, 11.44it/s]"
     ]
    },
    {
     "name": "stdout",
     "output_type": "stream",
     "text": [
      "                   all       1683       1483      0.989      0.997      0.995      0.992\n"
     ]
    },
    {
     "name": "stderr",
     "output_type": "stream",
     "text": [
      "\n"
     ]
    },
    {
     "name": "stdout",
     "output_type": "stream",
     "text": [
      "\n",
      "      Epoch    GPU_mem   box_loss   cls_loss   dfl_loss  Instances       Size\n"
     ]
    },
    {
     "name": "stderr",
     "output_type": "stream",
     "text": [
      "    204/300     0.424G     0.5427     0.3078       1.59         15        128: 100%|██████████| 421/421 [00:36<00:00, 11.53it/s]\n",
      "                 Class     Images  Instances      Box(P          R      mAP50  mAP50-95): 100%|██████████| 53/53 [00:04<00:00, 11.39it/s]"
     ]
    },
    {
     "name": "stdout",
     "output_type": "stream",
     "text": [
      "                   all       1683       1483      0.991      0.996      0.995      0.992\n"
     ]
    },
    {
     "name": "stderr",
     "output_type": "stream",
     "text": [
      "\n"
     ]
    },
    {
     "name": "stdout",
     "output_type": "stream",
     "text": [
      "\n",
      "      Epoch    GPU_mem   box_loss   cls_loss   dfl_loss  Instances       Size\n"
     ]
    },
    {
     "name": "stderr",
     "output_type": "stream",
     "text": [
      "    205/300     0.424G     0.5455     0.3057       1.59         12        128: 100%|██████████| 421/421 [00:36<00:00, 11.42it/s]\n",
      "                 Class     Images  Instances      Box(P          R      mAP50  mAP50-95): 100%|██████████| 53/53 [00:04<00:00, 11.49it/s]"
     ]
    },
    {
     "name": "stdout",
     "output_type": "stream",
     "text": [
      "                   all       1683       1483       0.99      0.997      0.995      0.992\n"
     ]
    },
    {
     "name": "stderr",
     "output_type": "stream",
     "text": [
      "\n"
     ]
    },
    {
     "name": "stdout",
     "output_type": "stream",
     "text": [
      "\n",
      "      Epoch    GPU_mem   box_loss   cls_loss   dfl_loss  Instances       Size\n"
     ]
    },
    {
     "name": "stderr",
     "output_type": "stream",
     "text": [
      "    206/300     0.426G     0.5437     0.3023      1.593         13        128: 100%|██████████| 421/421 [00:35<00:00, 11.73it/s]\n",
      "                 Class     Images  Instances      Box(P          R      mAP50  mAP50-95): 100%|██████████| 53/53 [00:04<00:00, 11.42it/s]"
     ]
    },
    {
     "name": "stdout",
     "output_type": "stream",
     "text": [
      "                   all       1683       1483      0.989      0.997      0.995      0.991\n"
     ]
    },
    {
     "name": "stderr",
     "output_type": "stream",
     "text": [
      "\n"
     ]
    },
    {
     "name": "stdout",
     "output_type": "stream",
     "text": [
      "\n",
      "      Epoch    GPU_mem   box_loss   cls_loss   dfl_loss  Instances       Size\n"
     ]
    },
    {
     "name": "stderr",
     "output_type": "stream",
     "text": [
      "    207/300     0.424G     0.5462     0.3054      1.595         16        128: 100%|██████████| 421/421 [00:36<00:00, 11.67it/s]\n",
      "                 Class     Images  Instances      Box(P          R      mAP50  mAP50-95): 100%|██████████| 53/53 [00:04<00:00, 11.42it/s]"
     ]
    },
    {
     "name": "stdout",
     "output_type": "stream",
     "text": [
      "                   all       1683       1483       0.99      0.995      0.995      0.992\n"
     ]
    },
    {
     "name": "stderr",
     "output_type": "stream",
     "text": [
      "\n"
     ]
    },
    {
     "name": "stdout",
     "output_type": "stream",
     "text": [
      "\n",
      "      Epoch    GPU_mem   box_loss   cls_loss   dfl_loss  Instances       Size\n"
     ]
    },
    {
     "name": "stderr",
     "output_type": "stream",
     "text": [
      "    208/300     0.424G     0.5387      0.305      1.593         11        128: 100%|██████████| 421/421 [00:36<00:00, 11.43it/s]\n",
      "                 Class     Images  Instances      Box(P          R      mAP50  mAP50-95): 100%|██████████| 53/53 [00:04<00:00, 11.39it/s]"
     ]
    },
    {
     "name": "stdout",
     "output_type": "stream",
     "text": [
      "                   all       1683       1483      0.985      0.999      0.995      0.992\n"
     ]
    },
    {
     "name": "stderr",
     "output_type": "stream",
     "text": [
      "\n"
     ]
    },
    {
     "name": "stdout",
     "output_type": "stream",
     "text": [
      "\n",
      "      Epoch    GPU_mem   box_loss   cls_loss   dfl_loss  Instances       Size\n"
     ]
    },
    {
     "name": "stderr",
     "output_type": "stream",
     "text": [
      "    209/300     0.426G     0.5403     0.3023      1.593          8        128: 100%|██████████| 421/421 [00:37<00:00, 11.33it/s]\n",
      "                 Class     Images  Instances      Box(P          R      mAP50  mAP50-95): 100%|██████████| 53/53 [00:04<00:00, 11.51it/s]"
     ]
    },
    {
     "name": "stdout",
     "output_type": "stream",
     "text": [
      "                   all       1683       1483      0.988      0.997      0.995      0.992\n"
     ]
    },
    {
     "name": "stderr",
     "output_type": "stream",
     "text": [
      "\n"
     ]
    },
    {
     "name": "stdout",
     "output_type": "stream",
     "text": [
      "\n",
      "      Epoch    GPU_mem   box_loss   cls_loss   dfl_loss  Instances       Size\n"
     ]
    },
    {
     "name": "stderr",
     "output_type": "stream",
     "text": [
      "    210/300     0.424G      0.528     0.2979      1.588         16        128: 100%|██████████| 421/421 [00:36<00:00, 11.48it/s]\n",
      "                 Class     Images  Instances      Box(P          R      mAP50  mAP50-95): 100%|██████████| 53/53 [00:04<00:00, 11.47it/s]"
     ]
    },
    {
     "name": "stdout",
     "output_type": "stream",
     "text": [
      "                   all       1683       1483      0.991      0.997      0.995      0.992\n"
     ]
    },
    {
     "name": "stderr",
     "output_type": "stream",
     "text": [
      "\n"
     ]
    },
    {
     "name": "stdout",
     "output_type": "stream",
     "text": [
      "\n",
      "      Epoch    GPU_mem   box_loss   cls_loss   dfl_loss  Instances       Size\n"
     ]
    },
    {
     "name": "stderr",
     "output_type": "stream",
     "text": [
      "    211/300     0.426G     0.5268     0.3014      1.591         11        128: 100%|██████████| 421/421 [00:36<00:00, 11.52it/s]\n",
      "                 Class     Images  Instances      Box(P          R      mAP50  mAP50-95): 100%|██████████| 53/53 [00:04<00:00, 11.27it/s]"
     ]
    },
    {
     "name": "stdout",
     "output_type": "stream",
     "text": [
      "                   all       1683       1483       0.99      0.997      0.995      0.992\n"
     ]
    },
    {
     "name": "stderr",
     "output_type": "stream",
     "text": [
      "\n"
     ]
    },
    {
     "name": "stdout",
     "output_type": "stream",
     "text": [
      "\n",
      "      Epoch    GPU_mem   box_loss   cls_loss   dfl_loss  Instances       Size\n"
     ]
    },
    {
     "name": "stderr",
     "output_type": "stream",
     "text": [
      "    212/300     0.424G     0.5259     0.2963       1.59          8        128: 100%|██████████| 421/421 [00:36<00:00, 11.45it/s]\n",
      "                 Class     Images  Instances      Box(P          R      mAP50  mAP50-95): 100%|██████████| 53/53 [00:04<00:00, 11.41it/s]"
     ]
    },
    {
     "name": "stdout",
     "output_type": "stream",
     "text": [
      "                   all       1683       1483       0.99      0.996      0.995      0.991\n"
     ]
    },
    {
     "name": "stderr",
     "output_type": "stream",
     "text": [
      "\n"
     ]
    },
    {
     "name": "stdout",
     "output_type": "stream",
     "text": [
      "\n",
      "      Epoch    GPU_mem   box_loss   cls_loss   dfl_loss  Instances       Size\n"
     ]
    },
    {
     "name": "stderr",
     "output_type": "stream",
     "text": [
      "    213/300     0.424G     0.5292     0.2991      1.592         11        128: 100%|██████████| 421/421 [00:37<00:00, 11.36it/s]\n",
      "                 Class     Images  Instances      Box(P          R      mAP50  mAP50-95): 100%|██████████| 53/53 [00:04<00:00, 11.29it/s]"
     ]
    },
    {
     "name": "stdout",
     "output_type": "stream",
     "text": [
      "                   all       1683       1483       0.99      0.996      0.995      0.992\n"
     ]
    },
    {
     "name": "stderr",
     "output_type": "stream",
     "text": [
      "\n"
     ]
    },
    {
     "name": "stdout",
     "output_type": "stream",
     "text": [
      "\n",
      "      Epoch    GPU_mem   box_loss   cls_loss   dfl_loss  Instances       Size\n"
     ]
    },
    {
     "name": "stderr",
     "output_type": "stream",
     "text": [
      "    214/300     0.424G     0.5311     0.2989      1.591         20        128: 100%|██████████| 421/421 [00:35<00:00, 11.70it/s]\n",
      "                 Class     Images  Instances      Box(P          R      mAP50  mAP50-95): 100%|██████████| 53/53 [00:04<00:00, 11.41it/s]"
     ]
    },
    {
     "name": "stdout",
     "output_type": "stream",
     "text": [
      "                   all       1683       1483      0.989      0.996      0.995      0.992\n"
     ]
    },
    {
     "name": "stderr",
     "output_type": "stream",
     "text": [
      "\n"
     ]
    },
    {
     "name": "stdout",
     "output_type": "stream",
     "text": [
      "\n",
      "      Epoch    GPU_mem   box_loss   cls_loss   dfl_loss  Instances       Size\n"
     ]
    },
    {
     "name": "stderr",
     "output_type": "stream",
     "text": [
      "    215/300     0.424G     0.5309     0.3005      1.594         11        128: 100%|██████████| 421/421 [00:35<00:00, 11.70it/s]\n",
      "                 Class     Images  Instances      Box(P          R      mAP50  mAP50-95): 100%|██████████| 53/53 [00:04<00:00, 11.61it/s]"
     ]
    },
    {
     "name": "stdout",
     "output_type": "stream",
     "text": [
      "                   all       1683       1483       0.99      0.997      0.995      0.992\n"
     ]
    },
    {
     "name": "stderr",
     "output_type": "stream",
     "text": [
      "\n"
     ]
    },
    {
     "name": "stdout",
     "output_type": "stream",
     "text": [
      "\n",
      "      Epoch    GPU_mem   box_loss   cls_loss   dfl_loss  Instances       Size\n"
     ]
    },
    {
     "name": "stderr",
     "output_type": "stream",
     "text": [
      "    216/300     0.424G     0.5259     0.2948      1.588         14        128: 100%|██████████| 421/421 [00:35<00:00, 11.96it/s]\n",
      "                 Class     Images  Instances      Box(P          R      mAP50  mAP50-95): 100%|██████████| 53/53 [00:04<00:00, 11.76it/s]"
     ]
    },
    {
     "name": "stdout",
     "output_type": "stream",
     "text": [
      "                   all       1683       1483      0.989      0.995      0.995      0.992\n"
     ]
    },
    {
     "name": "stderr",
     "output_type": "stream",
     "text": [
      "\n"
     ]
    },
    {
     "name": "stdout",
     "output_type": "stream",
     "text": [
      "\n",
      "      Epoch    GPU_mem   box_loss   cls_loss   dfl_loss  Instances       Size\n"
     ]
    },
    {
     "name": "stderr",
     "output_type": "stream",
     "text": [
      "    217/300     0.426G     0.5173     0.2914      1.593         15        128: 100%|██████████| 421/421 [00:36<00:00, 11.64it/s]\n",
      "                 Class     Images  Instances      Box(P          R      mAP50  mAP50-95): 100%|██████████| 53/53 [00:04<00:00, 11.68it/s]"
     ]
    },
    {
     "name": "stdout",
     "output_type": "stream",
     "text": [
      "                   all       1683       1483      0.989      0.994      0.995      0.992\n"
     ]
    },
    {
     "name": "stderr",
     "output_type": "stream",
     "text": [
      "\n"
     ]
    },
    {
     "name": "stdout",
     "output_type": "stream",
     "text": [
      "\n",
      "      Epoch    GPU_mem   box_loss   cls_loss   dfl_loss  Instances       Size\n"
     ]
    },
    {
     "name": "stderr",
     "output_type": "stream",
     "text": [
      "    218/300     0.424G     0.5265     0.2942      1.591         17        128: 100%|██████████| 421/421 [00:37<00:00, 11.36it/s]\n",
      "                 Class     Images  Instances      Box(P          R      mAP50  mAP50-95): 100%|██████████| 53/53 [00:04<00:00, 11.67it/s]"
     ]
    },
    {
     "name": "stdout",
     "output_type": "stream",
     "text": [
      "                   all       1683       1483      0.987      0.997      0.995      0.992\n"
     ]
    },
    {
     "name": "stderr",
     "output_type": "stream",
     "text": [
      "\n"
     ]
    },
    {
     "name": "stdout",
     "output_type": "stream",
     "text": [
      "\n",
      "      Epoch    GPU_mem   box_loss   cls_loss   dfl_loss  Instances       Size\n"
     ]
    },
    {
     "name": "stderr",
     "output_type": "stream",
     "text": [
      "    219/300     0.424G     0.5053     0.2886      1.585         15        128: 100%|██████████| 421/421 [00:37<00:00, 11.35it/s]\n",
      "                 Class     Images  Instances      Box(P          R      mAP50  mAP50-95): 100%|██████████| 53/53 [00:04<00:00, 11.30it/s]"
     ]
    },
    {
     "name": "stdout",
     "output_type": "stream",
     "text": [
      "                   all       1683       1483      0.989      0.996      0.995      0.992\n"
     ]
    },
    {
     "name": "stderr",
     "output_type": "stream",
     "text": [
      "\n"
     ]
    },
    {
     "name": "stdout",
     "output_type": "stream",
     "text": [
      "\n",
      "      Epoch    GPU_mem   box_loss   cls_loss   dfl_loss  Instances       Size\n"
     ]
    },
    {
     "name": "stderr",
     "output_type": "stream",
     "text": [
      "    220/300     0.424G     0.5122       0.29      1.588         15        128: 100%|██████████| 421/421 [00:36<00:00, 11.45it/s]\n",
      "                 Class     Images  Instances      Box(P          R      mAP50  mAP50-95): 100%|██████████| 53/53 [00:04<00:00, 11.22it/s]"
     ]
    },
    {
     "name": "stdout",
     "output_type": "stream",
     "text": [
      "                   all       1683       1483      0.988      0.996      0.995      0.992\n"
     ]
    },
    {
     "name": "stderr",
     "output_type": "stream",
     "text": [
      "\n"
     ]
    },
    {
     "name": "stdout",
     "output_type": "stream",
     "text": [
      "\n",
      "      Epoch    GPU_mem   box_loss   cls_loss   dfl_loss  Instances       Size\n"
     ]
    },
    {
     "name": "stderr",
     "output_type": "stream",
     "text": [
      "    221/300     0.424G     0.5161     0.2907      1.588         14        128: 100%|██████████| 421/421 [00:36<00:00, 11.41it/s]\n",
      "                 Class     Images  Instances      Box(P          R      mAP50  mAP50-95): 100%|██████████| 53/53 [00:04<00:00, 11.23it/s]"
     ]
    },
    {
     "name": "stdout",
     "output_type": "stream",
     "text": [
      "                   all       1683       1483      0.993      0.995      0.995      0.992\n"
     ]
    },
    {
     "name": "stderr",
     "output_type": "stream",
     "text": [
      "\n"
     ]
    },
    {
     "name": "stdout",
     "output_type": "stream",
     "text": [
      "\n",
      "      Epoch    GPU_mem   box_loss   cls_loss   dfl_loss  Instances       Size\n"
     ]
    },
    {
     "name": "stderr",
     "output_type": "stream",
     "text": [
      "    222/300     0.424G     0.5144     0.2891      1.591         15        128: 100%|██████████| 421/421 [00:36<00:00, 11.38it/s]\n",
      "                 Class     Images  Instances      Box(P          R      mAP50  mAP50-95): 100%|██████████| 53/53 [00:04<00:00, 11.43it/s]"
     ]
    },
    {
     "name": "stdout",
     "output_type": "stream",
     "text": [
      "                   all       1683       1483       0.99      0.997      0.995      0.992\n"
     ]
    },
    {
     "name": "stderr",
     "output_type": "stream",
     "text": [
      "\n"
     ]
    },
    {
     "name": "stdout",
     "output_type": "stream",
     "text": [
      "\n",
      "      Epoch    GPU_mem   box_loss   cls_loss   dfl_loss  Instances       Size\n"
     ]
    },
    {
     "name": "stderr",
     "output_type": "stream",
     "text": [
      "    223/300     0.424G     0.5111     0.2894      1.587         14        128: 100%|██████████| 421/421 [00:35<00:00, 11.83it/s]\n",
      "                 Class     Images  Instances      Box(P          R      mAP50  mAP50-95): 100%|██████████| 53/53 [00:04<00:00, 11.44it/s]"
     ]
    },
    {
     "name": "stdout",
     "output_type": "stream",
     "text": [
      "                   all       1683       1483      0.991      0.996      0.995      0.992\n"
     ]
    },
    {
     "name": "stderr",
     "output_type": "stream",
     "text": [
      "\n"
     ]
    },
    {
     "name": "stdout",
     "output_type": "stream",
     "text": [
      "\n",
      "      Epoch    GPU_mem   box_loss   cls_loss   dfl_loss  Instances       Size\n"
     ]
    },
    {
     "name": "stderr",
     "output_type": "stream",
     "text": [
      "    224/300     0.424G     0.5122     0.2871      1.589         16        128: 100%|██████████| 421/421 [00:36<00:00, 11.52it/s]\n",
      "                 Class     Images  Instances      Box(P          R      mAP50  mAP50-95): 100%|██████████| 53/53 [00:04<00:00, 11.66it/s]"
     ]
    },
    {
     "name": "stdout",
     "output_type": "stream",
     "text": [
      "                   all       1683       1483      0.993      0.995      0.995      0.992\n"
     ]
    },
    {
     "name": "stderr",
     "output_type": "stream",
     "text": [
      "\n"
     ]
    },
    {
     "name": "stdout",
     "output_type": "stream",
     "text": [
      "\n",
      "      Epoch    GPU_mem   box_loss   cls_loss   dfl_loss  Instances       Size\n"
     ]
    },
    {
     "name": "stderr",
     "output_type": "stream",
     "text": [
      "    225/300     0.424G      0.513     0.2908      1.585         11        128: 100%|██████████| 421/421 [00:36<00:00, 11.61it/s]\n",
      "                 Class     Images  Instances      Box(P          R      mAP50  mAP50-95): 100%|██████████| 53/53 [00:04<00:00, 11.26it/s]"
     ]
    },
    {
     "name": "stdout",
     "output_type": "stream",
     "text": [
      "                   all       1683       1483      0.992      0.995      0.995      0.992\n"
     ]
    },
    {
     "name": "stderr",
     "output_type": "stream",
     "text": [
      "\n"
     ]
    },
    {
     "name": "stdout",
     "output_type": "stream",
     "text": [
      "\n",
      "      Epoch    GPU_mem   box_loss   cls_loss   dfl_loss  Instances       Size\n"
     ]
    },
    {
     "name": "stderr",
     "output_type": "stream",
     "text": [
      "    226/300     0.424G     0.5052     0.2889      1.588         12        128: 100%|██████████| 421/421 [00:36<00:00, 11.48it/s]\n",
      "                 Class     Images  Instances      Box(P          R      mAP50  mAP50-95): 100%|██████████| 53/53 [00:04<00:00, 11.24it/s]"
     ]
    },
    {
     "name": "stdout",
     "output_type": "stream",
     "text": [
      "                   all       1683       1483      0.992      0.996      0.995      0.992\n"
     ]
    },
    {
     "name": "stderr",
     "output_type": "stream",
     "text": [
      "\n"
     ]
    },
    {
     "name": "stdout",
     "output_type": "stream",
     "text": [
      "\n",
      "      Epoch    GPU_mem   box_loss   cls_loss   dfl_loss  Instances       Size\n"
     ]
    },
    {
     "name": "stderr",
     "output_type": "stream",
     "text": [
      "    227/300     0.424G     0.5126     0.2905      1.592         11        128: 100%|██████████| 421/421 [00:36<00:00, 11.41it/s]\n",
      "                 Class     Images  Instances      Box(P          R      mAP50  mAP50-95): 100%|██████████| 53/53 [00:04<00:00, 11.45it/s]"
     ]
    },
    {
     "name": "stdout",
     "output_type": "stream",
     "text": [
      "                   all       1683       1483      0.992      0.995      0.995      0.992\n"
     ]
    },
    {
     "name": "stderr",
     "output_type": "stream",
     "text": [
      "\n"
     ]
    },
    {
     "name": "stdout",
     "output_type": "stream",
     "text": [
      "\n",
      "      Epoch    GPU_mem   box_loss   cls_loss   dfl_loss  Instances       Size\n"
     ]
    },
    {
     "name": "stderr",
     "output_type": "stream",
     "text": [
      "    228/300     0.424G        0.5     0.2815      1.585         12        128: 100%|██████████| 421/421 [00:36<00:00, 11.49it/s]\n",
      "                 Class     Images  Instances      Box(P          R      mAP50  mAP50-95): 100%|██████████| 53/53 [00:04<00:00, 11.24it/s]"
     ]
    },
    {
     "name": "stdout",
     "output_type": "stream",
     "text": [
      "                   all       1683       1483      0.992      0.995      0.995      0.992\n"
     ]
    },
    {
     "name": "stderr",
     "output_type": "stream",
     "text": [
      "\n"
     ]
    },
    {
     "name": "stdout",
     "output_type": "stream",
     "text": [
      "\n",
      "      Epoch    GPU_mem   box_loss   cls_loss   dfl_loss  Instances       Size\n"
     ]
    },
    {
     "name": "stderr",
     "output_type": "stream",
     "text": [
      "    229/300     0.424G     0.5075     0.2867      1.587         16        128: 100%|██████████| 421/421 [00:36<00:00, 11.40it/s]\n",
      "                 Class     Images  Instances      Box(P          R      mAP50  mAP50-95): 100%|██████████| 53/53 [00:04<00:00, 11.47it/s]"
     ]
    },
    {
     "name": "stdout",
     "output_type": "stream",
     "text": [
      "                   all       1683       1483      0.993      0.997      0.995      0.992\n"
     ]
    },
    {
     "name": "stderr",
     "output_type": "stream",
     "text": [
      "\n"
     ]
    },
    {
     "name": "stdout",
     "output_type": "stream",
     "text": [
      "\n",
      "      Epoch    GPU_mem   box_loss   cls_loss   dfl_loss  Instances       Size\n"
     ]
    },
    {
     "name": "stderr",
     "output_type": "stream",
     "text": [
      "    230/300     0.424G     0.5031     0.2871      1.593          9        128: 100%|██████████| 421/421 [00:36<00:00, 11.42it/s]\n",
      "                 Class     Images  Instances      Box(P          R      mAP50  mAP50-95): 100%|██████████| 53/53 [00:04<00:00, 11.44it/s]"
     ]
    },
    {
     "name": "stdout",
     "output_type": "stream",
     "text": [
      "                   all       1683       1483      0.992      0.997      0.995      0.992\n"
     ]
    },
    {
     "name": "stderr",
     "output_type": "stream",
     "text": [
      "\n"
     ]
    },
    {
     "name": "stdout",
     "output_type": "stream",
     "text": [
      "\n",
      "      Epoch    GPU_mem   box_loss   cls_loss   dfl_loss  Instances       Size\n"
     ]
    },
    {
     "name": "stderr",
     "output_type": "stream",
     "text": [
      "    231/300     0.426G     0.5026     0.2874      1.591         11        128: 100%|██████████| 421/421 [00:36<00:00, 11.47it/s]\n",
      "                 Class     Images  Instances      Box(P          R      mAP50  mAP50-95): 100%|██████████| 53/53 [00:04<00:00, 11.58it/s]"
     ]
    },
    {
     "name": "stdout",
     "output_type": "stream",
     "text": [
      "                   all       1683       1483      0.992      0.997      0.995      0.992\n"
     ]
    },
    {
     "name": "stderr",
     "output_type": "stream",
     "text": [
      "\n"
     ]
    },
    {
     "name": "stdout",
     "output_type": "stream",
     "text": [
      "\n",
      "      Epoch    GPU_mem   box_loss   cls_loss   dfl_loss  Instances       Size\n"
     ]
    },
    {
     "name": "stderr",
     "output_type": "stream",
     "text": [
      "    232/300     0.424G     0.4958     0.2859      1.586         20        128: 100%|██████████| 421/421 [00:36<00:00, 11.59it/s]\n",
      "                 Class     Images  Instances      Box(P          R      mAP50  mAP50-95): 100%|██████████| 53/53 [00:04<00:00, 11.38it/s]"
     ]
    },
    {
     "name": "stdout",
     "output_type": "stream",
     "text": [
      "                   all       1683       1483      0.989      0.995      0.995      0.992\n"
     ]
    },
    {
     "name": "stderr",
     "output_type": "stream",
     "text": [
      "\n"
     ]
    },
    {
     "name": "stdout",
     "output_type": "stream",
     "text": [
      "\n",
      "      Epoch    GPU_mem   box_loss   cls_loss   dfl_loss  Instances       Size\n"
     ]
    },
    {
     "name": "stderr",
     "output_type": "stream",
     "text": [
      "    233/300     0.426G     0.4996     0.2835      1.591          9        128: 100%|██████████| 421/421 [00:36<00:00, 11.65it/s]\n",
      "                 Class     Images  Instances      Box(P          R      mAP50  mAP50-95): 100%|██████████| 53/53 [00:04<00:00, 11.46it/s]"
     ]
    },
    {
     "name": "stdout",
     "output_type": "stream",
     "text": [
      "                   all       1683       1483      0.992      0.995      0.995      0.992\n"
     ]
    },
    {
     "name": "stderr",
     "output_type": "stream",
     "text": [
      "\n"
     ]
    },
    {
     "name": "stdout",
     "output_type": "stream",
     "text": [
      "\n",
      "      Epoch    GPU_mem   box_loss   cls_loss   dfl_loss  Instances       Size\n"
     ]
    },
    {
     "name": "stderr",
     "output_type": "stream",
     "text": [
      "    234/300     0.424G     0.4886     0.2796      1.589         14        128: 100%|██████████| 421/421 [00:36<00:00, 11.51it/s]\n",
      "                 Class     Images  Instances      Box(P          R      mAP50  mAP50-95): 100%|██████████| 53/53 [00:04<00:00, 11.50it/s]"
     ]
    },
    {
     "name": "stdout",
     "output_type": "stream",
     "text": [
      "                   all       1683       1483      0.989      0.997      0.995      0.992\n"
     ]
    },
    {
     "name": "stderr",
     "output_type": "stream",
     "text": [
      "\n"
     ]
    },
    {
     "name": "stdout",
     "output_type": "stream",
     "text": [
      "\n",
      "      Epoch    GPU_mem   box_loss   cls_loss   dfl_loss  Instances       Size\n"
     ]
    },
    {
     "name": "stderr",
     "output_type": "stream",
     "text": [
      "    235/300     0.424G     0.4978     0.2796      1.591          6        128: 100%|██████████| 421/421 [00:37<00:00, 11.37it/s]\n",
      "                 Class     Images  Instances      Box(P          R      mAP50  mAP50-95): 100%|██████████| 53/53 [00:04<00:00, 11.49it/s]"
     ]
    },
    {
     "name": "stdout",
     "output_type": "stream",
     "text": [
      "                   all       1683       1483      0.991      0.997      0.995      0.992\n"
     ]
    },
    {
     "name": "stderr",
     "output_type": "stream",
     "text": [
      "\n"
     ]
    },
    {
     "name": "stdout",
     "output_type": "stream",
     "text": [
      "\n",
      "      Epoch    GPU_mem   box_loss   cls_loss   dfl_loss  Instances       Size\n"
     ]
    },
    {
     "name": "stderr",
     "output_type": "stream",
     "text": [
      "    236/300     0.424G     0.4921     0.2802       1.59         13        128: 100%|██████████| 421/421 [00:37<00:00, 11.38it/s]\n",
      "                 Class     Images  Instances      Box(P          R      mAP50  mAP50-95): 100%|██████████| 53/53 [00:04<00:00, 11.42it/s]"
     ]
    },
    {
     "name": "stdout",
     "output_type": "stream",
     "text": [
      "                   all       1683       1483      0.991      0.996      0.995      0.992\n"
     ]
    },
    {
     "name": "stderr",
     "output_type": "stream",
     "text": [
      "\n"
     ]
    },
    {
     "name": "stdout",
     "output_type": "stream",
     "text": [
      "\n",
      "      Epoch    GPU_mem   box_loss   cls_loss   dfl_loss  Instances       Size\n"
     ]
    },
    {
     "name": "stderr",
     "output_type": "stream",
     "text": [
      "    237/300     0.424G      0.486     0.2758      1.588         10        128: 100%|██████████| 421/421 [00:36<00:00, 11.48it/s]\n",
      "                 Class     Images  Instances      Box(P          R      mAP50  mAP50-95): 100%|██████████| 53/53 [00:04<00:00, 11.59it/s]"
     ]
    },
    {
     "name": "stdout",
     "output_type": "stream",
     "text": [
      "                   all       1683       1483      0.992      0.993      0.995      0.992\n"
     ]
    },
    {
     "name": "stderr",
     "output_type": "stream",
     "text": [
      "\n"
     ]
    },
    {
     "name": "stdout",
     "output_type": "stream",
     "text": [
      "\n",
      "      Epoch    GPU_mem   box_loss   cls_loss   dfl_loss  Instances       Size\n"
     ]
    },
    {
     "name": "stderr",
     "output_type": "stream",
     "text": [
      "    238/300     0.424G     0.4863     0.2783      1.587         13        128: 100%|██████████| 421/421 [00:36<00:00, 11.53it/s]\n",
      "                 Class     Images  Instances      Box(P          R      mAP50  mAP50-95): 100%|██████████| 53/53 [00:04<00:00, 11.39it/s]"
     ]
    },
    {
     "name": "stdout",
     "output_type": "stream",
     "text": [
      "                   all       1683       1483      0.993      0.995      0.995      0.992\n"
     ]
    },
    {
     "name": "stderr",
     "output_type": "stream",
     "text": [
      "\n"
     ]
    },
    {
     "name": "stdout",
     "output_type": "stream",
     "text": [
      "\n",
      "      Epoch    GPU_mem   box_loss   cls_loss   dfl_loss  Instances       Size\n"
     ]
    },
    {
     "name": "stderr",
     "output_type": "stream",
     "text": [
      "    239/300     0.424G     0.4831     0.2689      1.587          7        128: 100%|██████████| 421/421 [00:36<00:00, 11.47it/s]\n",
      "                 Class     Images  Instances      Box(P          R      mAP50  mAP50-95): 100%|██████████| 53/53 [00:04<00:00, 11.62it/s]"
     ]
    },
    {
     "name": "stdout",
     "output_type": "stream",
     "text": [
      "                   all       1683       1483      0.992      0.996      0.995      0.992\n"
     ]
    },
    {
     "name": "stderr",
     "output_type": "stream",
     "text": [
      "\n"
     ]
    },
    {
     "name": "stdout",
     "output_type": "stream",
     "text": [
      "\n",
      "      Epoch    GPU_mem   box_loss   cls_loss   dfl_loss  Instances       Size\n"
     ]
    },
    {
     "name": "stderr",
     "output_type": "stream",
     "text": [
      "    240/300     0.424G     0.4856     0.2734      1.588         10        128: 100%|██████████| 421/421 [00:35<00:00, 11.81it/s]\n",
      "                 Class     Images  Instances      Box(P          R      mAP50  mAP50-95): 100%|██████████| 53/53 [00:04<00:00, 11.33it/s]"
     ]
    },
    {
     "name": "stdout",
     "output_type": "stream",
     "text": [
      "                   all       1683       1483      0.993      0.996      0.995      0.992\n"
     ]
    },
    {
     "name": "stderr",
     "output_type": "stream",
     "text": [
      "\n"
     ]
    },
    {
     "name": "stdout",
     "output_type": "stream",
     "text": [
      "\n",
      "      Epoch    GPU_mem   box_loss   cls_loss   dfl_loss  Instances       Size\n"
     ]
    },
    {
     "name": "stderr",
     "output_type": "stream",
     "text": [
      "    241/300     0.424G     0.4836     0.2746      1.579         11        128: 100%|██████████| 421/421 [00:36<00:00, 11.51it/s]\n",
      "                 Class     Images  Instances      Box(P          R      mAP50  mAP50-95): 100%|██████████| 53/53 [00:04<00:00, 11.37it/s]"
     ]
    },
    {
     "name": "stdout",
     "output_type": "stream",
     "text": [
      "                   all       1683       1483      0.991      0.997      0.995      0.992\n"
     ]
    },
    {
     "name": "stderr",
     "output_type": "stream",
     "text": [
      "\n"
     ]
    },
    {
     "name": "stdout",
     "output_type": "stream",
     "text": [
      "\n",
      "      Epoch    GPU_mem   box_loss   cls_loss   dfl_loss  Instances       Size\n"
     ]
    },
    {
     "name": "stderr",
     "output_type": "stream",
     "text": [
      "    242/300     0.424G     0.4871     0.2725      1.589         24        128: 100%|██████████| 421/421 [00:36<00:00, 11.56it/s]\n",
      "                 Class     Images  Instances      Box(P          R      mAP50  mAP50-95): 100%|██████████| 53/53 [00:04<00:00, 11.42it/s]"
     ]
    },
    {
     "name": "stdout",
     "output_type": "stream",
     "text": [
      "                   all       1683       1483      0.991      0.996      0.995      0.992\n"
     ]
    },
    {
     "name": "stderr",
     "output_type": "stream",
     "text": [
      "\n"
     ]
    },
    {
     "name": "stdout",
     "output_type": "stream",
     "text": [
      "\n",
      "      Epoch    GPU_mem   box_loss   cls_loss   dfl_loss  Instances       Size\n"
     ]
    },
    {
     "name": "stderr",
     "output_type": "stream",
     "text": [
      "    243/300     0.424G     0.4808     0.2732      1.588         17        128: 100%|██████████| 421/421 [00:36<00:00, 11.58it/s]\n",
      "                 Class     Images  Instances      Box(P          R      mAP50  mAP50-95): 100%|██████████| 53/53 [00:04<00:00, 11.38it/s]"
     ]
    },
    {
     "name": "stdout",
     "output_type": "stream",
     "text": [
      "                   all       1683       1483      0.991      0.997      0.995      0.993\n"
     ]
    },
    {
     "name": "stderr",
     "output_type": "stream",
     "text": [
      "\n"
     ]
    },
    {
     "name": "stdout",
     "output_type": "stream",
     "text": [
      "\n",
      "      Epoch    GPU_mem   box_loss   cls_loss   dfl_loss  Instances       Size\n"
     ]
    },
    {
     "name": "stderr",
     "output_type": "stream",
     "text": [
      "    244/300     0.424G     0.4744     0.2688       1.59         28        128: 100%|██████████| 421/421 [00:37<00:00, 11.33it/s]\n",
      "                 Class     Images  Instances      Box(P          R      mAP50  mAP50-95): 100%|██████████| 53/53 [00:04<00:00, 11.44it/s]"
     ]
    },
    {
     "name": "stdout",
     "output_type": "stream",
     "text": [
      "                   all       1683       1483      0.992      0.996      0.995      0.992\n"
     ]
    },
    {
     "name": "stderr",
     "output_type": "stream",
     "text": [
      "\n"
     ]
    },
    {
     "name": "stdout",
     "output_type": "stream",
     "text": [
      "\n",
      "      Epoch    GPU_mem   box_loss   cls_loss   dfl_loss  Instances       Size\n"
     ]
    },
    {
     "name": "stderr",
     "output_type": "stream",
     "text": [
      "    245/300     0.424G     0.4768     0.2743      1.592         15        128: 100%|██████████| 421/421 [00:36<00:00, 11.44it/s]\n",
      "                 Class     Images  Instances      Box(P          R      mAP50  mAP50-95): 100%|██████████| 53/53 [00:04<00:00, 11.45it/s]"
     ]
    },
    {
     "name": "stdout",
     "output_type": "stream",
     "text": [
      "                   all       1683       1483      0.991      0.996      0.995      0.993\n"
     ]
    },
    {
     "name": "stderr",
     "output_type": "stream",
     "text": [
      "\n"
     ]
    },
    {
     "name": "stdout",
     "output_type": "stream",
     "text": [
      "\n",
      "      Epoch    GPU_mem   box_loss   cls_loss   dfl_loss  Instances       Size\n"
     ]
    },
    {
     "name": "stderr",
     "output_type": "stream",
     "text": [
      "    246/300     0.424G     0.4722      0.272      1.587         18        128: 100%|██████████| 421/421 [00:36<00:00, 11.46it/s]\n",
      "                 Class     Images  Instances      Box(P          R      mAP50  mAP50-95): 100%|██████████| 53/53 [00:04<00:00, 11.27it/s]"
     ]
    },
    {
     "name": "stdout",
     "output_type": "stream",
     "text": [
      "                   all       1683       1483      0.991      0.997      0.995      0.993\n"
     ]
    },
    {
     "name": "stderr",
     "output_type": "stream",
     "text": [
      "\n"
     ]
    },
    {
     "name": "stdout",
     "output_type": "stream",
     "text": [
      "\n",
      "      Epoch    GPU_mem   box_loss   cls_loss   dfl_loss  Instances       Size\n"
     ]
    },
    {
     "name": "stderr",
     "output_type": "stream",
     "text": [
      "    247/300     0.424G     0.4763     0.2694      1.591          9        128: 100%|██████████| 421/421 [00:36<00:00, 11.48it/s]\n",
      "                 Class     Images  Instances      Box(P          R      mAP50  mAP50-95): 100%|██████████| 53/53 [00:04<00:00, 11.42it/s]"
     ]
    },
    {
     "name": "stdout",
     "output_type": "stream",
     "text": [
      "                   all       1683       1483      0.991      0.997      0.995      0.993\n"
     ]
    },
    {
     "name": "stderr",
     "output_type": "stream",
     "text": [
      "\n"
     ]
    },
    {
     "name": "stdout",
     "output_type": "stream",
     "text": [
      "\n",
      "      Epoch    GPU_mem   box_loss   cls_loss   dfl_loss  Instances       Size\n"
     ]
    },
    {
     "name": "stderr",
     "output_type": "stream",
     "text": [
      "    248/300     0.424G     0.4709     0.2674      1.589         14        128: 100%|██████████| 421/421 [00:36<00:00, 11.60it/s]\n",
      "                 Class     Images  Instances      Box(P          R      mAP50  mAP50-95): 100%|██████████| 53/53 [00:04<00:00, 11.46it/s]"
     ]
    },
    {
     "name": "stdout",
     "output_type": "stream",
     "text": [
      "                   all       1683       1483       0.99      0.997      0.995      0.993\n"
     ]
    },
    {
     "name": "stderr",
     "output_type": "stream",
     "text": [
      "\n"
     ]
    },
    {
     "name": "stdout",
     "output_type": "stream",
     "text": [
      "\n",
      "      Epoch    GPU_mem   box_loss   cls_loss   dfl_loss  Instances       Size\n"
     ]
    },
    {
     "name": "stderr",
     "output_type": "stream",
     "text": [
      "    249/300     0.424G     0.4613     0.2603      1.589         16        128: 100%|██████████| 421/421 [00:35<00:00, 11.78it/s]\n",
      "                 Class     Images  Instances      Box(P          R      mAP50  mAP50-95): 100%|██████████| 53/53 [00:04<00:00, 11.51it/s]"
     ]
    },
    {
     "name": "stdout",
     "output_type": "stream",
     "text": [
      "                   all       1683       1483       0.99      0.997      0.995      0.993\n"
     ]
    },
    {
     "name": "stderr",
     "output_type": "stream",
     "text": [
      "\n"
     ]
    },
    {
     "name": "stdout",
     "output_type": "stream",
     "text": [
      "\n",
      "      Epoch    GPU_mem   box_loss   cls_loss   dfl_loss  Instances       Size\n"
     ]
    },
    {
     "name": "stderr",
     "output_type": "stream",
     "text": [
      "    250/300     0.424G     0.4633     0.2655      1.586         16        128: 100%|██████████| 421/421 [00:36<00:00, 11.57it/s]\n",
      "                 Class     Images  Instances      Box(P          R      mAP50  mAP50-95): 100%|██████████| 53/53 [00:04<00:00, 11.49it/s]"
     ]
    },
    {
     "name": "stdout",
     "output_type": "stream",
     "text": [
      "                   all       1683       1483       0.99      0.998      0.995      0.993\n"
     ]
    },
    {
     "name": "stderr",
     "output_type": "stream",
     "text": [
      "\n"
     ]
    },
    {
     "name": "stdout",
     "output_type": "stream",
     "text": [
      "\n",
      "      Epoch    GPU_mem   box_loss   cls_loss   dfl_loss  Instances       Size\n"
     ]
    },
    {
     "name": "stderr",
     "output_type": "stream",
     "text": [
      "    251/300     0.424G     0.4688      0.262      1.586         12        128: 100%|██████████| 421/421 [00:36<00:00, 11.50it/s]\n",
      "                 Class     Images  Instances      Box(P          R      mAP50  mAP50-95): 100%|██████████| 53/53 [00:04<00:00, 11.03it/s]"
     ]
    },
    {
     "name": "stdout",
     "output_type": "stream",
     "text": [
      "                   all       1683       1483      0.989      0.998      0.995      0.993\n"
     ]
    },
    {
     "name": "stderr",
     "output_type": "stream",
     "text": [
      "\n"
     ]
    },
    {
     "name": "stdout",
     "output_type": "stream",
     "text": [
      "\n",
      "      Epoch    GPU_mem   box_loss   cls_loss   dfl_loss  Instances       Size\n"
     ]
    },
    {
     "name": "stderr",
     "output_type": "stream",
     "text": [
      "    252/300     0.424G     0.4661     0.2656      1.589         13        128: 100%|██████████| 421/421 [00:36<00:00, 11.48it/s]\n",
      "                 Class     Images  Instances      Box(P          R      mAP50  mAP50-95): 100%|██████████| 53/53 [00:04<00:00, 11.61it/s]"
     ]
    },
    {
     "name": "stdout",
     "output_type": "stream",
     "text": [
      "                   all       1683       1483      0.989      0.998      0.995      0.993\n"
     ]
    },
    {
     "name": "stderr",
     "output_type": "stream",
     "text": [
      "\n"
     ]
    },
    {
     "name": "stdout",
     "output_type": "stream",
     "text": [
      "\n",
      "      Epoch    GPU_mem   box_loss   cls_loss   dfl_loss  Instances       Size\n"
     ]
    },
    {
     "name": "stderr",
     "output_type": "stream",
     "text": [
      "    253/300     0.424G     0.4579     0.2628      1.587         16        128: 100%|██████████| 421/421 [00:36<00:00, 11.44it/s]\n",
      "                 Class     Images  Instances      Box(P          R      mAP50  mAP50-95): 100%|██████████| 53/53 [00:04<00:00, 11.44it/s]"
     ]
    },
    {
     "name": "stdout",
     "output_type": "stream",
     "text": [
      "                   all       1683       1483      0.989      0.998      0.995      0.993\n"
     ]
    },
    {
     "name": "stderr",
     "output_type": "stream",
     "text": [
      "\n"
     ]
    },
    {
     "name": "stdout",
     "output_type": "stream",
     "text": [
      "\n",
      "      Epoch    GPU_mem   box_loss   cls_loss   dfl_loss  Instances       Size\n"
     ]
    },
    {
     "name": "stderr",
     "output_type": "stream",
     "text": [
      "    254/300     0.424G     0.4616      0.263      1.586         15        128: 100%|██████████| 421/421 [00:36<00:00, 11.56it/s]\n",
      "                 Class     Images  Instances      Box(P          R      mAP50  mAP50-95): 100%|██████████| 53/53 [00:04<00:00, 11.52it/s]"
     ]
    },
    {
     "name": "stdout",
     "output_type": "stream",
     "text": [
      "                   all       1683       1483       0.99      0.997      0.995      0.993\n"
     ]
    },
    {
     "name": "stderr",
     "output_type": "stream",
     "text": [
      "\n"
     ]
    },
    {
     "name": "stdout",
     "output_type": "stream",
     "text": [
      "\n",
      "      Epoch    GPU_mem   box_loss   cls_loss   dfl_loss  Instances       Size\n"
     ]
    },
    {
     "name": "stderr",
     "output_type": "stream",
     "text": [
      "    255/300     0.426G     0.4559     0.2586      1.583         19        128: 100%|██████████| 421/421 [00:36<00:00, 11.53it/s]\n",
      "                 Class     Images  Instances      Box(P          R      mAP50  mAP50-95): 100%|██████████| 53/53 [00:04<00:00, 11.37it/s]"
     ]
    },
    {
     "name": "stdout",
     "output_type": "stream",
     "text": [
      "                   all       1683       1483       0.99      0.997      0.995      0.993\n"
     ]
    },
    {
     "name": "stderr",
     "output_type": "stream",
     "text": [
      "\n"
     ]
    },
    {
     "name": "stdout",
     "output_type": "stream",
     "text": [
      "\n",
      "      Epoch    GPU_mem   box_loss   cls_loss   dfl_loss  Instances       Size\n"
     ]
    },
    {
     "name": "stderr",
     "output_type": "stream",
     "text": [
      "    256/300     0.424G     0.4577     0.2642      1.584         13        128: 100%|██████████| 421/421 [00:36<00:00, 11.43it/s]\n",
      "                 Class     Images  Instances      Box(P          R      mAP50  mAP50-95): 100%|██████████| 53/53 [00:04<00:00, 11.47it/s]"
     ]
    },
    {
     "name": "stdout",
     "output_type": "stream",
     "text": [
      "                   all       1683       1483       0.99      0.997      0.995      0.993\n"
     ]
    },
    {
     "name": "stderr",
     "output_type": "stream",
     "text": [
      "\n"
     ]
    },
    {
     "name": "stdout",
     "output_type": "stream",
     "text": [
      "\n",
      "      Epoch    GPU_mem   box_loss   cls_loss   dfl_loss  Instances       Size\n"
     ]
    },
    {
     "name": "stderr",
     "output_type": "stream",
     "text": [
      "    257/300     0.424G      0.451     0.2585      1.587         17        128: 100%|██████████| 421/421 [00:36<00:00, 11.64it/s]\n",
      "                 Class     Images  Instances      Box(P          R      mAP50  mAP50-95): 100%|██████████| 53/53 [00:04<00:00, 11.55it/s]"
     ]
    },
    {
     "name": "stdout",
     "output_type": "stream",
     "text": [
      "                   all       1683       1483      0.989      0.997      0.995      0.993\n"
     ]
    },
    {
     "name": "stderr",
     "output_type": "stream",
     "text": [
      "\n"
     ]
    },
    {
     "name": "stdout",
     "output_type": "stream",
     "text": [
      "\n",
      "      Epoch    GPU_mem   box_loss   cls_loss   dfl_loss  Instances       Size\n"
     ]
    },
    {
     "name": "stderr",
     "output_type": "stream",
     "text": [
      "    258/300     0.426G     0.4491     0.2528      1.586         20        128: 100%|██████████| 421/421 [00:36<00:00, 11.59it/s]\n",
      "                 Class     Images  Instances      Box(P          R      mAP50  mAP50-95): 100%|██████████| 53/53 [00:04<00:00, 11.48it/s]"
     ]
    },
    {
     "name": "stdout",
     "output_type": "stream",
     "text": [
      "                   all       1683       1483      0.989      0.998      0.995      0.993\n"
     ]
    },
    {
     "name": "stderr",
     "output_type": "stream",
     "text": [
      "\n"
     ]
    },
    {
     "name": "stdout",
     "output_type": "stream",
     "text": [
      "\n",
      "      Epoch    GPU_mem   box_loss   cls_loss   dfl_loss  Instances       Size\n"
     ]
    },
    {
     "name": "stderr",
     "output_type": "stream",
     "text": [
      "    259/300     0.426G     0.4495     0.2573      1.586         15        128: 100%|██████████| 421/421 [00:36<00:00, 11.50it/s]\n",
      "                 Class     Images  Instances      Box(P          R      mAP50  mAP50-95): 100%|██████████| 53/53 [00:04<00:00, 11.54it/s]"
     ]
    },
    {
     "name": "stdout",
     "output_type": "stream",
     "text": [
      "                   all       1683       1483      0.989      0.998      0.995      0.993\n"
     ]
    },
    {
     "name": "stderr",
     "output_type": "stream",
     "text": [
      "\n"
     ]
    },
    {
     "name": "stdout",
     "output_type": "stream",
     "text": [
      "\n",
      "      Epoch    GPU_mem   box_loss   cls_loss   dfl_loss  Instances       Size\n"
     ]
    },
    {
     "name": "stderr",
     "output_type": "stream",
     "text": [
      "    260/300     0.424G     0.4487     0.2572      1.585         13        128: 100%|██████████| 421/421 [00:36<00:00, 11.45it/s]\n",
      "                 Class     Images  Instances      Box(P          R      mAP50  mAP50-95): 100%|██████████| 53/53 [00:04<00:00, 11.51it/s]"
     ]
    },
    {
     "name": "stdout",
     "output_type": "stream",
     "text": [
      "                   all       1683       1483      0.989      0.998      0.995      0.993\n"
     ]
    },
    {
     "name": "stderr",
     "output_type": "stream",
     "text": [
      "\n"
     ]
    },
    {
     "name": "stdout",
     "output_type": "stream",
     "text": [
      "\n",
      "      Epoch    GPU_mem   box_loss   cls_loss   dfl_loss  Instances       Size\n"
     ]
    },
    {
     "name": "stderr",
     "output_type": "stream",
     "text": [
      "    261/300     0.424G     0.4441     0.2506      1.586         21        128: 100%|██████████| 421/421 [00:36<00:00, 11.44it/s]\n",
      "                 Class     Images  Instances      Box(P          R      mAP50  mAP50-95): 100%|██████████| 53/53 [00:04<00:00, 11.30it/s]"
     ]
    },
    {
     "name": "stdout",
     "output_type": "stream",
     "text": [
      "                   all       1683       1483      0.989      0.998      0.995      0.993\n"
     ]
    },
    {
     "name": "stderr",
     "output_type": "stream",
     "text": [
      "\n"
     ]
    },
    {
     "name": "stdout",
     "output_type": "stream",
     "text": [
      "\n",
      "      Epoch    GPU_mem   box_loss   cls_loss   dfl_loss  Instances       Size\n"
     ]
    },
    {
     "name": "stderr",
     "output_type": "stream",
     "text": [
      "    262/300     0.424G      0.441     0.2568      1.584         23        128: 100%|██████████| 421/421 [00:36<00:00, 11.44it/s]\n",
      "                 Class     Images  Instances      Box(P          R      mAP50  mAP50-95): 100%|██████████| 53/53 [00:04<00:00, 11.48it/s]"
     ]
    },
    {
     "name": "stdout",
     "output_type": "stream",
     "text": [
      "                   all       1683       1483      0.991      0.997      0.995      0.993\n"
     ]
    },
    {
     "name": "stderr",
     "output_type": "stream",
     "text": [
      "\n"
     ]
    },
    {
     "name": "stdout",
     "output_type": "stream",
     "text": [
      "\n",
      "      Epoch    GPU_mem   box_loss   cls_loss   dfl_loss  Instances       Size\n"
     ]
    },
    {
     "name": "stderr",
     "output_type": "stream",
     "text": [
      "    263/300     0.424G     0.4403     0.2525      1.582         17        128: 100%|██████████| 421/421 [00:36<00:00, 11.42it/s]\n",
      "                 Class     Images  Instances      Box(P          R      mAP50  mAP50-95): 100%|██████████| 53/53 [00:04<00:00, 11.36it/s]"
     ]
    },
    {
     "name": "stdout",
     "output_type": "stream",
     "text": [
      "                   all       1683       1483       0.99      0.998      0.995      0.993\n"
     ]
    },
    {
     "name": "stderr",
     "output_type": "stream",
     "text": [
      "\n"
     ]
    },
    {
     "name": "stdout",
     "output_type": "stream",
     "text": [
      "\n",
      "      Epoch    GPU_mem   box_loss   cls_loss   dfl_loss  Instances       Size\n"
     ]
    },
    {
     "name": "stderr",
     "output_type": "stream",
     "text": [
      "    264/300     0.424G     0.4383     0.2533      1.582         10        128: 100%|██████████| 421/421 [00:36<00:00, 11.45it/s]\n",
      "                 Class     Images  Instances      Box(P          R      mAP50  mAP50-95): 100%|██████████| 53/53 [00:04<00:00, 11.56it/s]"
     ]
    },
    {
     "name": "stdout",
     "output_type": "stream",
     "text": [
      "                   all       1683       1483      0.991      0.998      0.995      0.993\n"
     ]
    },
    {
     "name": "stderr",
     "output_type": "stream",
     "text": [
      "\n"
     ]
    },
    {
     "name": "stdout",
     "output_type": "stream",
     "text": [
      "\n",
      "      Epoch    GPU_mem   box_loss   cls_loss   dfl_loss  Instances       Size\n"
     ]
    },
    {
     "name": "stderr",
     "output_type": "stream",
     "text": [
      "    265/300     0.424G      0.444     0.2569      1.588         17        128: 100%|██████████| 421/421 [00:36<00:00, 11.47it/s]\n",
      "                 Class     Images  Instances      Box(P          R      mAP50  mAP50-95): 100%|██████████| 53/53 [00:04<00:00, 11.52it/s]"
     ]
    },
    {
     "name": "stdout",
     "output_type": "stream",
     "text": [
      "                   all       1683       1483      0.992      0.998      0.995      0.993\n"
     ]
    },
    {
     "name": "stderr",
     "output_type": "stream",
     "text": [
      "\n"
     ]
    },
    {
     "name": "stdout",
     "output_type": "stream",
     "text": [
      "\n",
      "      Epoch    GPU_mem   box_loss   cls_loss   dfl_loss  Instances       Size\n"
     ]
    },
    {
     "name": "stderr",
     "output_type": "stream",
     "text": [
      "    266/300     0.424G     0.4299     0.2445      1.586         18        128: 100%|██████████| 421/421 [00:35<00:00, 11.78it/s]\n",
      "                 Class     Images  Instances      Box(P          R      mAP50  mAP50-95): 100%|██████████| 53/53 [00:04<00:00, 11.28it/s]"
     ]
    },
    {
     "name": "stdout",
     "output_type": "stream",
     "text": [
      "                   all       1683       1483      0.992      0.998      0.995      0.993\n"
     ]
    },
    {
     "name": "stderr",
     "output_type": "stream",
     "text": [
      "\n"
     ]
    },
    {
     "name": "stdout",
     "output_type": "stream",
     "text": [
      "\n",
      "      Epoch    GPU_mem   box_loss   cls_loss   dfl_loss  Instances       Size\n"
     ]
    },
    {
     "name": "stderr",
     "output_type": "stream",
     "text": [
      "    267/300     0.424G     0.4384     0.2493      1.581         17        128: 100%|██████████| 421/421 [00:36<00:00, 11.54it/s]\n",
      "                 Class     Images  Instances      Box(P          R      mAP50  mAP50-95): 100%|██████████| 53/53 [00:04<00:00, 11.44it/s]"
     ]
    },
    {
     "name": "stdout",
     "output_type": "stream",
     "text": [
      "                   all       1683       1483      0.992      0.998      0.995      0.993\n"
     ]
    },
    {
     "name": "stderr",
     "output_type": "stream",
     "text": [
      "\n"
     ]
    },
    {
     "name": "stdout",
     "output_type": "stream",
     "text": [
      "\n",
      "      Epoch    GPU_mem   box_loss   cls_loss   dfl_loss  Instances       Size\n"
     ]
    },
    {
     "name": "stderr",
     "output_type": "stream",
     "text": [
      "    268/300     0.424G     0.4275     0.2441      1.584         11        128: 100%|██████████| 421/421 [00:37<00:00, 11.33it/s]\n",
      "                 Class     Images  Instances      Box(P          R      mAP50  mAP50-95): 100%|██████████| 53/53 [00:05<00:00, 10.51it/s]"
     ]
    },
    {
     "name": "stdout",
     "output_type": "stream",
     "text": [
      "                   all       1683       1483       0.99      0.998      0.995      0.993\n"
     ]
    },
    {
     "name": "stderr",
     "output_type": "stream",
     "text": [
      "\n"
     ]
    },
    {
     "name": "stdout",
     "output_type": "stream",
     "text": [
      "\n",
      "      Epoch    GPU_mem   box_loss   cls_loss   dfl_loss  Instances       Size\n"
     ]
    },
    {
     "name": "stderr",
     "output_type": "stream",
     "text": [
      "    269/300     0.424G     0.4348     0.2534      1.586         16        128: 100%|██████████| 421/421 [00:37<00:00, 11.10it/s]\n",
      "                 Class     Images  Instances      Box(P          R      mAP50  mAP50-95): 100%|██████████| 53/53 [00:04<00:00, 10.84it/s]"
     ]
    },
    {
     "name": "stdout",
     "output_type": "stream",
     "text": [
      "                   all       1683       1483      0.989      0.998      0.995      0.993\n"
     ]
    },
    {
     "name": "stderr",
     "output_type": "stream",
     "text": [
      "\n"
     ]
    },
    {
     "name": "stdout",
     "output_type": "stream",
     "text": [
      "\n",
      "      Epoch    GPU_mem   box_loss   cls_loss   dfl_loss  Instances       Size\n"
     ]
    },
    {
     "name": "stderr",
     "output_type": "stream",
     "text": [
      "    270/300     0.424G     0.4316      0.251      1.582         16        128: 100%|██████████| 421/421 [00:37<00:00, 11.27it/s]\n",
      "                 Class     Images  Instances      Box(P          R      mAP50  mAP50-95): 100%|██████████| 53/53 [00:04<00:00, 10.93it/s]"
     ]
    },
    {
     "name": "stdout",
     "output_type": "stream",
     "text": [
      "                   all       1683       1483      0.989      0.998      0.995      0.993\n"
     ]
    },
    {
     "name": "stderr",
     "output_type": "stream",
     "text": [
      "\n"
     ]
    },
    {
     "name": "stdout",
     "output_type": "stream",
     "text": [
      "\n",
      "      Epoch    GPU_mem   box_loss   cls_loss   dfl_loss  Instances       Size\n"
     ]
    },
    {
     "name": "stderr",
     "output_type": "stream",
     "text": [
      "    271/300     0.424G     0.4315     0.2498      1.581         12        128: 100%|██████████| 421/421 [00:37<00:00, 11.38it/s]\n",
      "                 Class     Images  Instances      Box(P          R      mAP50  mAP50-95): 100%|██████████| 53/53 [00:04<00:00, 10.69it/s]"
     ]
    },
    {
     "name": "stdout",
     "output_type": "stream",
     "text": [
      "                   all       1683       1483       0.99      0.998      0.995      0.993\n"
     ]
    },
    {
     "name": "stderr",
     "output_type": "stream",
     "text": [
      "\n"
     ]
    },
    {
     "name": "stdout",
     "output_type": "stream",
     "text": [
      "\n",
      "      Epoch    GPU_mem   box_loss   cls_loss   dfl_loss  Instances       Size\n"
     ]
    },
    {
     "name": "stderr",
     "output_type": "stream",
     "text": [
      "    272/300     0.424G     0.4207     0.2443       1.58         15        128: 100%|██████████| 421/421 [00:37<00:00, 11.24it/s]\n",
      "                 Class     Images  Instances      Box(P          R      mAP50  mAP50-95): 100%|██████████| 53/53 [00:04<00:00, 10.92it/s]"
     ]
    },
    {
     "name": "stdout",
     "output_type": "stream",
     "text": [
      "                   all       1683       1483      0.991      0.998      0.995      0.993\n"
     ]
    },
    {
     "name": "stderr",
     "output_type": "stream",
     "text": [
      "\n"
     ]
    },
    {
     "name": "stdout",
     "output_type": "stream",
     "text": [
      "\n",
      "      Epoch    GPU_mem   box_loss   cls_loss   dfl_loss  Instances       Size\n"
     ]
    },
    {
     "name": "stderr",
     "output_type": "stream",
     "text": [
      "    273/300     0.424G     0.4266      0.244      1.585         13        128: 100%|██████████| 421/421 [00:37<00:00, 11.32it/s]\n",
      "                 Class     Images  Instances      Box(P          R      mAP50  mAP50-95): 100%|██████████| 53/53 [00:04<00:00, 11.32it/s]"
     ]
    },
    {
     "name": "stdout",
     "output_type": "stream",
     "text": [
      "                   all       1683       1483      0.989      0.998      0.995      0.993\n"
     ]
    },
    {
     "name": "stderr",
     "output_type": "stream",
     "text": [
      "\n"
     ]
    },
    {
     "name": "stdout",
     "output_type": "stream",
     "text": [
      "\n",
      "      Epoch    GPU_mem   box_loss   cls_loss   dfl_loss  Instances       Size\n"
     ]
    },
    {
     "name": "stderr",
     "output_type": "stream",
     "text": [
      "    274/300     0.426G     0.4176     0.2399      1.583         14        128: 100%|██████████| 421/421 [00:37<00:00, 11.24it/s]\n",
      "                 Class     Images  Instances      Box(P          R      mAP50  mAP50-95): 100%|██████████| 53/53 [00:04<00:00, 11.12it/s]"
     ]
    },
    {
     "name": "stdout",
     "output_type": "stream",
     "text": [
      "                   all       1683       1483       0.99      0.997      0.995      0.993\n"
     ]
    },
    {
     "name": "stderr",
     "output_type": "stream",
     "text": [
      "\n"
     ]
    },
    {
     "name": "stdout",
     "output_type": "stream",
     "text": [
      "\n",
      "      Epoch    GPU_mem   box_loss   cls_loss   dfl_loss  Instances       Size\n"
     ]
    },
    {
     "name": "stderr",
     "output_type": "stream",
     "text": [
      "    275/300     0.424G     0.4244     0.2451      1.585         16        128: 100%|██████████| 421/421 [00:37<00:00, 11.33it/s]\n",
      "                 Class     Images  Instances      Box(P          R      mAP50  mAP50-95): 100%|██████████| 53/53 [00:04<00:00, 11.26it/s]"
     ]
    },
    {
     "name": "stdout",
     "output_type": "stream",
     "text": [
      "                   all       1683       1483       0.99      0.997      0.995      0.993\n"
     ]
    },
    {
     "name": "stderr",
     "output_type": "stream",
     "text": [
      "\n"
     ]
    },
    {
     "name": "stdout",
     "output_type": "stream",
     "text": [
      "\n",
      "      Epoch    GPU_mem   box_loss   cls_loss   dfl_loss  Instances       Size\n"
     ]
    },
    {
     "name": "stderr",
     "output_type": "stream",
     "text": [
      "    276/300     0.424G     0.4123     0.2441      1.583          8        128: 100%|██████████| 421/421 [00:36<00:00, 11.41it/s]\n",
      "                 Class     Images  Instances      Box(P          R      mAP50  mAP50-95): 100%|██████████| 53/53 [00:04<00:00, 11.12it/s]"
     ]
    },
    {
     "name": "stdout",
     "output_type": "stream",
     "text": [
      "                   all       1683       1483      0.993      0.997      0.995      0.993\n"
     ]
    },
    {
     "name": "stderr",
     "output_type": "stream",
     "text": [
      "\n"
     ]
    },
    {
     "name": "stdout",
     "output_type": "stream",
     "text": [
      "\n",
      "      Epoch    GPU_mem   box_loss   cls_loss   dfl_loss  Instances       Size\n"
     ]
    },
    {
     "name": "stderr",
     "output_type": "stream",
     "text": [
      "    277/300     0.424G     0.4133     0.2395      1.579         21        128: 100%|██████████| 421/421 [00:37<00:00, 11.36it/s]\n",
      "                 Class     Images  Instances      Box(P          R      mAP50  mAP50-95): 100%|██████████| 53/53 [00:04<00:00, 11.02it/s]"
     ]
    },
    {
     "name": "stdout",
     "output_type": "stream",
     "text": [
      "                   all       1683       1483      0.991      0.999      0.995      0.993\n"
     ]
    },
    {
     "name": "stderr",
     "output_type": "stream",
     "text": [
      "\n"
     ]
    },
    {
     "name": "stdout",
     "output_type": "stream",
     "text": [
      "\n",
      "      Epoch    GPU_mem   box_loss   cls_loss   dfl_loss  Instances       Size\n"
     ]
    },
    {
     "name": "stderr",
     "output_type": "stream",
     "text": [
      "    278/300     0.426G     0.4149     0.2389      1.582         17        128: 100%|██████████| 421/421 [00:37<00:00, 11.25it/s]\n",
      "                 Class     Images  Instances      Box(P          R      mAP50  mAP50-95): 100%|██████████| 53/53 [00:04<00:00, 11.22it/s]"
     ]
    },
    {
     "name": "stdout",
     "output_type": "stream",
     "text": [
      "                   all       1683       1483       0.99      0.998      0.995      0.993\n"
     ]
    },
    {
     "name": "stderr",
     "output_type": "stream",
     "text": [
      "\n"
     ]
    },
    {
     "name": "stdout",
     "output_type": "stream",
     "text": [
      "\n",
      "      Epoch    GPU_mem   box_loss   cls_loss   dfl_loss  Instances       Size\n"
     ]
    },
    {
     "name": "stderr",
     "output_type": "stream",
     "text": [
      "    279/300     0.424G     0.4095     0.2404      1.583         13        128: 100%|██████████| 421/421 [00:37<00:00, 11.34it/s]\n",
      "                 Class     Images  Instances      Box(P          R      mAP50  mAP50-95): 100%|██████████| 53/53 [00:04<00:00, 11.34it/s]"
     ]
    },
    {
     "name": "stdout",
     "output_type": "stream",
     "text": [
      "                   all       1683       1483      0.991      0.999      0.995      0.993\n"
     ]
    },
    {
     "name": "stderr",
     "output_type": "stream",
     "text": [
      "\n"
     ]
    },
    {
     "name": "stdout",
     "output_type": "stream",
     "text": [
      "\n",
      "      Epoch    GPU_mem   box_loss   cls_loss   dfl_loss  Instances       Size\n"
     ]
    },
    {
     "name": "stderr",
     "output_type": "stream",
     "text": [
      "    280/300     0.424G     0.4108     0.2415      1.584         18        128: 100%|██████████| 421/421 [00:37<00:00, 11.31it/s]\n",
      "                 Class     Images  Instances      Box(P          R      mAP50  mAP50-95): 100%|██████████| 53/53 [00:04<00:00, 11.07it/s]"
     ]
    },
    {
     "name": "stdout",
     "output_type": "stream",
     "text": [
      "                   all       1683       1483      0.992      0.999      0.995      0.993\n"
     ]
    },
    {
     "name": "stderr",
     "output_type": "stream",
     "text": [
      "\n"
     ]
    },
    {
     "name": "stdout",
     "output_type": "stream",
     "text": [
      "\n",
      "      Epoch    GPU_mem   box_loss   cls_loss   dfl_loss  Instances       Size\n"
     ]
    },
    {
     "name": "stderr",
     "output_type": "stream",
     "text": [
      "    281/300     0.424G     0.4081     0.2365      1.584         13        128: 100%|██████████| 421/421 [00:37<00:00, 11.30it/s]\n",
      "                 Class     Images  Instances      Box(P          R      mAP50  mAP50-95): 100%|██████████| 53/53 [00:04<00:00, 11.04it/s]"
     ]
    },
    {
     "name": "stdout",
     "output_type": "stream",
     "text": [
      "                   all       1683       1483      0.993      0.999      0.995      0.993\n"
     ]
    },
    {
     "name": "stderr",
     "output_type": "stream",
     "text": [
      "\n"
     ]
    },
    {
     "name": "stdout",
     "output_type": "stream",
     "text": [
      "\n",
      "      Epoch    GPU_mem   box_loss   cls_loss   dfl_loss  Instances       Size\n"
     ]
    },
    {
     "name": "stderr",
     "output_type": "stream",
     "text": [
      "    282/300     0.426G     0.4053     0.2309      1.583         18        128: 100%|██████████| 421/421 [00:37<00:00, 11.28it/s]\n",
      "                 Class     Images  Instances      Box(P          R      mAP50  mAP50-95): 100%|██████████| 53/53 [00:05<00:00, 10.57it/s]"
     ]
    },
    {
     "name": "stdout",
     "output_type": "stream",
     "text": [
      "                   all       1683       1483      0.993      0.999      0.995      0.993\n"
     ]
    },
    {
     "name": "stderr",
     "output_type": "stream",
     "text": [
      "\n"
     ]
    },
    {
     "name": "stdout",
     "output_type": "stream",
     "text": [
      "\n",
      "      Epoch    GPU_mem   box_loss   cls_loss   dfl_loss  Instances       Size\n"
     ]
    },
    {
     "name": "stderr",
     "output_type": "stream",
     "text": [
      "    283/300     0.424G     0.4034     0.2315      1.581         14        128: 100%|██████████| 421/421 [00:37<00:00, 11.35it/s]\n",
      "                 Class     Images  Instances      Box(P          R      mAP50  mAP50-95): 100%|██████████| 53/53 [00:04<00:00, 11.12it/s]"
     ]
    },
    {
     "name": "stdout",
     "output_type": "stream",
     "text": [
      "                   all       1683       1483      0.993      0.999      0.995      0.993\n"
     ]
    },
    {
     "name": "stderr",
     "output_type": "stream",
     "text": [
      "\n"
     ]
    },
    {
     "name": "stdout",
     "output_type": "stream",
     "text": [
      "\n",
      "      Epoch    GPU_mem   box_loss   cls_loss   dfl_loss  Instances       Size\n"
     ]
    },
    {
     "name": "stderr",
     "output_type": "stream",
     "text": [
      "    284/300     0.424G     0.4079     0.2372      1.582         21        128: 100%|██████████| 421/421 [00:37<00:00, 11.36it/s]\n",
      "                 Class     Images  Instances      Box(P          R      mAP50  mAP50-95): 100%|██████████| 53/53 [00:04<00:00, 11.27it/s]"
     ]
    },
    {
     "name": "stdout",
     "output_type": "stream",
     "text": [
      "                   all       1683       1483      0.993      0.999      0.995      0.994\n"
     ]
    },
    {
     "name": "stderr",
     "output_type": "stream",
     "text": [
      "\n"
     ]
    },
    {
     "name": "stdout",
     "output_type": "stream",
     "text": [
      "\n",
      "      Epoch    GPU_mem   box_loss   cls_loss   dfl_loss  Instances       Size\n"
     ]
    },
    {
     "name": "stderr",
     "output_type": "stream",
     "text": [
      "    285/300     0.424G     0.3992     0.2329      1.582         16        128: 100%|██████████| 421/421 [00:36<00:00, 11.46it/s]\n",
      "                 Class     Images  Instances      Box(P          R      mAP50  mAP50-95): 100%|██████████| 53/53 [00:04<00:00, 11.38it/s]"
     ]
    },
    {
     "name": "stdout",
     "output_type": "stream",
     "text": [
      "                   all       1683       1483      0.993      0.999      0.995      0.993\n"
     ]
    },
    {
     "name": "stderr",
     "output_type": "stream",
     "text": [
      "\n"
     ]
    },
    {
     "name": "stdout",
     "output_type": "stream",
     "text": [
      "\n",
      "      Epoch    GPU_mem   box_loss   cls_loss   dfl_loss  Instances       Size\n"
     ]
    },
    {
     "name": "stderr",
     "output_type": "stream",
     "text": [
      "    286/300     0.424G     0.3975     0.2337      1.578         20        128: 100%|██████████| 421/421 [00:36<00:00, 11.38it/s]\n",
      "                 Class     Images  Instances      Box(P          R      mAP50  mAP50-95): 100%|██████████| 53/53 [00:04<00:00, 11.30it/s]"
     ]
    },
    {
     "name": "stdout",
     "output_type": "stream",
     "text": [
      "                   all       1683       1483      0.993      0.999      0.995      0.993\n"
     ]
    },
    {
     "name": "stderr",
     "output_type": "stream",
     "text": [
      "\n"
     ]
    },
    {
     "name": "stdout",
     "output_type": "stream",
     "text": [
      "\n",
      "      Epoch    GPU_mem   box_loss   cls_loss   dfl_loss  Instances       Size\n"
     ]
    },
    {
     "name": "stderr",
     "output_type": "stream",
     "text": [
      "    287/300     0.424G     0.4005     0.2297      1.583         17        128: 100%|██████████| 421/421 [00:37<00:00, 11.23it/s]\n",
      "                 Class     Images  Instances      Box(P          R      mAP50  mAP50-95): 100%|██████████| 53/53 [00:04<00:00, 11.14it/s]"
     ]
    },
    {
     "name": "stdout",
     "output_type": "stream",
     "text": [
      "                   all       1683       1483      0.993      0.999      0.995      0.993\n"
     ]
    },
    {
     "name": "stderr",
     "output_type": "stream",
     "text": [
      "\n"
     ]
    },
    {
     "name": "stdout",
     "output_type": "stream",
     "text": [
      "\n",
      "      Epoch    GPU_mem   box_loss   cls_loss   dfl_loss  Instances       Size\n"
     ]
    },
    {
     "name": "stderr",
     "output_type": "stream",
     "text": [
      "    288/300     0.424G     0.3953      0.232      1.584         21        128: 100%|██████████| 421/421 [00:36<00:00, 11.39it/s]\n",
      "                 Class     Images  Instances      Box(P          R      mAP50  mAP50-95): 100%|██████████| 53/53 [00:04<00:00, 10.64it/s]"
     ]
    },
    {
     "name": "stdout",
     "output_type": "stream",
     "text": [
      "                   all       1683       1483      0.993      0.999      0.995      0.993\n"
     ]
    },
    {
     "name": "stderr",
     "output_type": "stream",
     "text": [
      "\n"
     ]
    },
    {
     "name": "stdout",
     "output_type": "stream",
     "text": [
      "\n",
      "      Epoch    GPU_mem   box_loss   cls_loss   dfl_loss  Instances       Size\n"
     ]
    },
    {
     "name": "stderr",
     "output_type": "stream",
     "text": [
      "    289/300     0.424G     0.3996     0.2313      1.581         17        128: 100%|██████████| 421/421 [00:37<00:00, 11.28it/s]\n",
      "                 Class     Images  Instances      Box(P          R      mAP50  mAP50-95): 100%|██████████| 53/53 [00:04<00:00, 11.19it/s]"
     ]
    },
    {
     "name": "stdout",
     "output_type": "stream",
     "text": [
      "                   all       1683       1483       0.99      0.999      0.995      0.993\n"
     ]
    },
    {
     "name": "stderr",
     "output_type": "stream",
     "text": [
      "\n"
     ]
    },
    {
     "name": "stdout",
     "output_type": "stream",
     "text": [
      "\n",
      "      Epoch    GPU_mem   box_loss   cls_loss   dfl_loss  Instances       Size\n"
     ]
    },
    {
     "name": "stderr",
     "output_type": "stream",
     "text": [
      "    290/300     0.426G     0.4001     0.2296      1.585         11        128: 100%|██████████| 421/421 [00:37<00:00, 11.36it/s]\n",
      "                 Class     Images  Instances      Box(P          R      mAP50  mAP50-95): 100%|██████████| 53/53 [00:04<00:00, 11.29it/s]"
     ]
    },
    {
     "name": "stdout",
     "output_type": "stream",
     "text": [
      "                   all       1683       1483      0.993      0.997      0.995      0.993\n"
     ]
    },
    {
     "name": "stderr",
     "output_type": "stream",
     "text": [
      "\n"
     ]
    },
    {
     "name": "stdout",
     "output_type": "stream",
     "text": [
      "Closing dataloader mosaic\n",
      "\n",
      "      Epoch    GPU_mem   box_loss   cls_loss   dfl_loss  Instances       Size\n"
     ]
    },
    {
     "name": "stderr",
     "output_type": "stream",
     "text": [
      "    291/300     0.424G     0.3215     0.1822      1.534          7        128: 100%|██████████| 421/421 [00:37<00:00, 11.30it/s]\n",
      "                 Class     Images  Instances      Box(P          R      mAP50  mAP50-95): 100%|██████████| 53/53 [00:04<00:00, 11.06it/s]"
     ]
    },
    {
     "name": "stdout",
     "output_type": "stream",
     "text": [
      "                   all       1683       1483      0.993      0.998      0.995      0.994\n"
     ]
    },
    {
     "name": "stderr",
     "output_type": "stream",
     "text": [
      "\n"
     ]
    },
    {
     "name": "stdout",
     "output_type": "stream",
     "text": [
      "\n",
      "      Epoch    GPU_mem   box_loss   cls_loss   dfl_loss  Instances       Size\n"
     ]
    },
    {
     "name": "stderr",
     "output_type": "stream",
     "text": [
      "    292/300     0.424G      0.302     0.1723      1.533          7        128: 100%|██████████| 421/421 [00:37<00:00, 11.26it/s]\n",
      "                 Class     Images  Instances      Box(P          R      mAP50  mAP50-95): 100%|██████████| 53/53 [00:04<00:00, 11.10it/s]"
     ]
    },
    {
     "name": "stdout",
     "output_type": "stream",
     "text": [
      "                   all       1683       1483      0.993      0.998      0.995      0.994\n"
     ]
    },
    {
     "name": "stderr",
     "output_type": "stream",
     "text": [
      "\n"
     ]
    },
    {
     "name": "stdout",
     "output_type": "stream",
     "text": [
      "\n",
      "      Epoch    GPU_mem   box_loss   cls_loss   dfl_loss  Instances       Size\n"
     ]
    },
    {
     "name": "stderr",
     "output_type": "stream",
     "text": [
      "    293/300     0.424G     0.2922     0.1684      1.532          7        128: 100%|██████████| 421/421 [00:37<00:00, 11.34it/s]\n",
      "                 Class     Images  Instances      Box(P          R      mAP50  mAP50-95): 100%|██████████| 53/53 [00:04<00:00, 11.12it/s]"
     ]
    },
    {
     "name": "stdout",
     "output_type": "stream",
     "text": [
      "                   all       1683       1483      0.991          1      0.995      0.994\n"
     ]
    },
    {
     "name": "stderr",
     "output_type": "stream",
     "text": [
      "\n"
     ]
    },
    {
     "name": "stdout",
     "output_type": "stream",
     "text": [
      "\n",
      "      Epoch    GPU_mem   box_loss   cls_loss   dfl_loss  Instances       Size\n"
     ]
    },
    {
     "name": "stderr",
     "output_type": "stream",
     "text": [
      "    294/300     0.424G     0.2909     0.1701      1.539          7        128: 100%|██████████| 421/421 [00:37<00:00, 11.29it/s]\n",
      "                 Class     Images  Instances      Box(P          R      mAP50  mAP50-95): 100%|██████████| 53/53 [00:04<00:00, 11.30it/s]"
     ]
    },
    {
     "name": "stdout",
     "output_type": "stream",
     "text": [
      "                   all       1683       1483      0.993      0.999      0.995      0.993\n"
     ]
    },
    {
     "name": "stderr",
     "output_type": "stream",
     "text": [
      "\n"
     ]
    },
    {
     "name": "stdout",
     "output_type": "stream",
     "text": [
      "\n",
      "      Epoch    GPU_mem   box_loss   cls_loss   dfl_loss  Instances       Size\n"
     ]
    },
    {
     "name": "stderr",
     "output_type": "stream",
     "text": [
      "    295/300     0.424G     0.2892     0.1669      1.536          7        128: 100%|██████████| 421/421 [00:37<00:00, 11.18it/s]\n",
      "                 Class     Images  Instances      Box(P          R      mAP50  mAP50-95): 100%|██████████| 53/53 [00:04<00:00, 11.27it/s]"
     ]
    },
    {
     "name": "stdout",
     "output_type": "stream",
     "text": [
      "                   all       1683       1483      0.985          1      0.995      0.993\n"
     ]
    },
    {
     "name": "stderr",
     "output_type": "stream",
     "text": [
      "\n"
     ]
    },
    {
     "name": "stdout",
     "output_type": "stream",
     "text": [
      "\n",
      "      Epoch    GPU_mem   box_loss   cls_loss   dfl_loss  Instances       Size\n"
     ]
    },
    {
     "name": "stderr",
     "output_type": "stream",
     "text": [
      "    296/300     0.424G     0.2787     0.1602      1.531          7        128: 100%|██████████| 421/421 [00:37<00:00, 11.25it/s]\n",
      "                 Class     Images  Instances      Box(P          R      mAP50  mAP50-95): 100%|██████████| 53/53 [00:04<00:00, 10.96it/s]"
     ]
    },
    {
     "name": "stdout",
     "output_type": "stream",
     "text": [
      "                   all       1683       1483      0.993      0.999      0.995      0.993\n"
     ]
    },
    {
     "name": "stderr",
     "output_type": "stream",
     "text": [
      "\n"
     ]
    },
    {
     "name": "stdout",
     "output_type": "stream",
     "text": [
      "\n",
      "      Epoch    GPU_mem   box_loss   cls_loss   dfl_loss  Instances       Size\n"
     ]
    },
    {
     "name": "stderr",
     "output_type": "stream",
     "text": [
      "    297/300     0.424G     0.2811     0.1621      1.532          6        128: 100%|██████████| 421/421 [00:37<00:00, 11.20it/s]\n",
      "                 Class     Images  Instances      Box(P          R      mAP50  mAP50-95): 100%|██████████| 53/53 [00:04<00:00, 11.01it/s]"
     ]
    },
    {
     "name": "stdout",
     "output_type": "stream",
     "text": [
      "                   all       1683       1483      0.993      0.996      0.995      0.993\n"
     ]
    },
    {
     "name": "stderr",
     "output_type": "stream",
     "text": [
      "\n"
     ]
    },
    {
     "name": "stdout",
     "output_type": "stream",
     "text": [
      "\n",
      "      Epoch    GPU_mem   box_loss   cls_loss   dfl_loss  Instances       Size\n"
     ]
    },
    {
     "name": "stderr",
     "output_type": "stream",
     "text": [
      "    298/300     0.424G     0.2801     0.1641      1.535          8        128: 100%|██████████| 421/421 [00:37<00:00, 11.32it/s]\n",
      "                 Class     Images  Instances      Box(P          R      mAP50  mAP50-95): 100%|██████████| 53/53 [00:04<00:00, 11.26it/s]"
     ]
    },
    {
     "name": "stdout",
     "output_type": "stream",
     "text": [
      "                   all       1683       1483      0.987      0.999      0.995      0.994\n"
     ]
    },
    {
     "name": "stderr",
     "output_type": "stream",
     "text": [
      "\n"
     ]
    },
    {
     "name": "stdout",
     "output_type": "stream",
     "text": [
      "\n",
      "      Epoch    GPU_mem   box_loss   cls_loss   dfl_loss  Instances       Size\n"
     ]
    },
    {
     "name": "stderr",
     "output_type": "stream",
     "text": [
      "    299/300     0.426G     0.2709     0.1602      1.529          8        128: 100%|██████████| 421/421 [00:37<00:00, 11.37it/s]\n",
      "                 Class     Images  Instances      Box(P          R      mAP50  mAP50-95): 100%|██████████| 53/53 [00:04<00:00, 11.19it/s]"
     ]
    },
    {
     "name": "stdout",
     "output_type": "stream",
     "text": [
      "                   all       1683       1483      0.988      0.998      0.995      0.993\n"
     ]
    },
    {
     "name": "stderr",
     "output_type": "stream",
     "text": [
      "\n"
     ]
    },
    {
     "name": "stdout",
     "output_type": "stream",
     "text": [
      "\n",
      "      Epoch    GPU_mem   box_loss   cls_loss   dfl_loss  Instances       Size\n"
     ]
    },
    {
     "name": "stderr",
     "output_type": "stream",
     "text": [
      "    300/300     0.424G     0.2726     0.1562      1.531          8        128: 100%|██████████| 421/421 [00:37<00:00, 11.35it/s]\n",
      "                 Class     Images  Instances      Box(P          R      mAP50  mAP50-95): 100%|██████████| 53/53 [00:04<00:00, 11.17it/s]"
     ]
    },
    {
     "name": "stdout",
     "output_type": "stream",
     "text": [
      "                   all       1683       1483      0.991      0.998      0.995      0.993\n"
     ]
    },
    {
     "name": "stderr",
     "output_type": "stream",
     "text": [
      "\n"
     ]
    },
    {
     "name": "stdout",
     "output_type": "stream",
     "text": [
      "\n",
      "300 epochs completed in 4.119 hours.\n",
      "Optimizer stripped from runs\\detect\\train3\\weights\\last.pt, 16.5MB\n",
      "Optimizer stripped from runs\\detect\\train3\\weights\\best.pt, 16.5MB\n",
      "\n",
      "Validating runs\\detect\\train3\\weights\\best.pt...\n",
      "Ultralytics 8.3.18  Python-3.10.15 torch-2.5.0+cu118 CUDA:0 (NVIDIA GeForce RTX 4060 Laptop GPU, 8188MiB)\n",
      "YOLOv10s summary (fused): 293 layers, 8,035,734 parameters, 0 gradients, 24.4 GFLOPs\n"
     ]
    },
    {
     "name": "stderr",
     "output_type": "stream",
     "text": [
      "                 Class     Images  Instances      Box(P          R      mAP50  mAP50-95): 100%|██████████| 53/53 [00:04<00:00, 12.58it/s]\n"
     ]
    },
    {
     "name": "stdout",
     "output_type": "stream",
     "text": [
      "                   all       1683       1483      0.993      0.998      0.995      0.994\n",
      "Speed: 0.0ms preprocess, 0.4ms inference, 0.0ms loss, 0.1ms postprocess per image\n",
      "Results saved to \u001b[1mruns\\detect\\train3\u001b[0m\n"
     ]
    }
   ],
   "source": [
    "import os \n",
    "os.environ[\"KMP_DUPLICATE_LIB_OK\"] = \"TRUE\"\n",
    "\n",
    "from ultralytics import YOLO\n",
    "\n",
    "# Load a model\n",
    "model = YOLO('yolov10s.pt')  # load a pretrained model (recommended for training)\n",
    "# \"C:\\Users\\LAMBDA THETA\\Downloads\\train\\train\\final\\data.yaml\"\n",
    "# Train the model\n",
    "results = model.train(data=\"C:/Users/LAMBDA THETA/Downloads/train/train/final/data.yaml\", epochs=300, patience=30, imgsz=128, lr0=0.0001)"
   ]
  }
 ],
 "metadata": {
  "kernelspec": {
   "display_name": "ypose",
   "language": "python",
   "name": "python3"
  },
  "language_info": {
   "codemirror_mode": {
    "name": "ipython",
    "version": 3
   },
   "file_extension": ".py",
   "mimetype": "text/x-python",
   "name": "python",
   "nbconvert_exporter": "python",
   "pygments_lexer": "ipython3",
   "version": "3.10.15"
  }
 },
 "nbformat": 4,
 "nbformat_minor": 2
}
